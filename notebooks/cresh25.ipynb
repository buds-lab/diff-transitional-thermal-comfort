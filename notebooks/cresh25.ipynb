{
 "cells": [
  {
   "cell_type": "code",
   "execution_count": 1,
   "metadata": {},
   "outputs": [],
   "source": [
    "import pandas as pd\n",
    "import numpy as np\n",
    "from matplotlib import pyplot as plt\n",
    "from matplotlib.backends.backend_agg import FigureCanvasAgg as FigureCanvas\n",
    "from matplotlib.figure import Figure"
   ]
  },
  {
   "cell_type": "code",
   "execution_count": 2,
   "metadata": {},
   "outputs": [],
   "source": [
    "fig = Figure()\n",
    "canvas = FigureCanvas(fig)\n",
    "ax = fig.add_subplot(111)"
   ]
  },
  {
   "cell_type": "code",
   "execution_count": 3,
   "metadata": {},
   "outputs": [],
   "source": [
    "def isNaN(num):\n",
    "    return num != num"
   ]
  },
  {
   "cell_type": "code",
   "execution_count": 4,
   "metadata": {},
   "outputs": [],
   "source": [
    "df = pd.read_csv (\"2019-10-29_cozie_full.csv\", index_col=0)\n",
    "filtered_df = df.drop (columns=['clothing','lat_cozie','lon_cozie','responseSpeed_cozie','Floor','Latitude','Longitude','noise_sensing','voc_sensing','index','comfort_cozie','heartRate_cozie','light_cozie','noise_cozie','co2_sensing','humidity_sensing','light_sensing','temperature_sensing','temperature_mbient'],axis=1)\n",
    "filtered_df['time'] = filtered_df['time'].apply(pd.Timestamp).dt.tz_convert('Asia/Singapore')\n",
    "# Add new column to calculate duration \n",
    "filtered_df['time_duration'] = 0"
   ]
  },
  {
   "cell_type": "code",
   "execution_count": 5,
   "metadata": {},
   "outputs": [],
   "source": [
    "grouped_users = filtered_df.groupby('user_id')\n",
    "\n",
    "all_clusters = [] # Raw data\n",
    "cluster_array = [] \n",
    "filtered_cluster_before = [] # Raw data that are clustered together according to duration\n",
    "filtered_cluster_after = []"
   ]
  },
  {
   "cell_type": "code",
   "execution_count": 6,
   "metadata": {},
   "outputs": [],
   "source": [
    "cresh01_df = grouped_users.get_group('cresh25')\n",
    "thermal_cozie_ticks = [9,10,11]"
   ]
  },
  {
   "cell_type": "code",
   "execution_count": 7,
   "metadata": {},
   "outputs": [],
   "source": [
    "# Gather all data relevant to specific user \n",
    "for index, datapoint in cresh01_df.iterrows():\n",
    "    # print (data.time)\n",
    "    if cluster_array == []:\n",
    "        cluster_array.append(datapoint)\n",
    "    else:\n",
    "        if datapoint.time < last_time + pd.Timedelta(minutes=30):\n",
    "            cluster_array.append(datapoint) \n",
    "        else:\n",
    "            all_clusters.append(cluster_array)\n",
    "            cluster_array = []\n",
    "            cluster_array.append(datapoint)\n",
    "\n",
    "    \n",
    "    last_time = datapoint.time\n",
    "#print (all_clusters)"
   ]
  },
  {
   "cell_type": "markdown",
   "metadata": {},
   "source": [
    "# Keep clusters with more than a certain amount of data points"
   ]
  },
  {
   "cell_type": "code",
   "execution_count": 8,
   "metadata": {},
   "outputs": [
    {
     "name": "stdout",
     "output_type": "stream",
     "text": [
      "[[time             2019-10-23 10:12:23.460000+08:00\n",
      "thermal_cozie                                  11\n",
      "user_id                                   cresh25\n",
      "Space_id                                       45\n",
      "room                                     BUDS_LAB\n",
      "time_duration                                   0\n",
      "Name: 3064, dtype: object, time             2019-10-23 10:31:02.112000+08:00\n",
      "thermal_cozie                                  11\n",
      "user_id                                   cresh25\n",
      "Space_id                                       45\n",
      "room                                     BUDS_LAB\n",
      "time_duration                                   0\n",
      "Name: 3067, dtype: object, time             2019-10-23 10:47:31.272000+08:00\n",
      "thermal_cozie                                  10\n",
      "user_id                                   cresh25\n",
      "Space_id                                       45\n",
      "room                       BUILDING_MATERIALS_LAB\n",
      "time_duration                                   0\n",
      "Name: 3076, dtype: object, time             2019-10-23 11:03:07.656000+08:00\n",
      "thermal_cozie                                  10\n",
      "user_id                                   cresh25\n",
      "Space_id                                       45\n",
      "room                       BUILDING_MATERIALS_LAB\n",
      "time_duration                                   0\n",
      "Name: 3080, dtype: object, time             2019-10-23 11:18:27.272000+08:00\n",
      "thermal_cozie                                   9\n",
      "user_id                                   cresh25\n",
      "Space_id                                       45\n",
      "room                       BUILDING_MATERIALS_LAB\n",
      "time_duration                                   0\n",
      "Name: 3084, dtype: object, time             2019-10-23 11:33:54.609000+08:00\n",
      "thermal_cozie                                   9\n",
      "user_id                                   cresh25\n",
      "Space_id                                       45\n",
      "room                       BUILDING_MATERIALS_LAB\n",
      "time_duration                                   0\n",
      "Name: 3090, dtype: object, time             2019-10-23 11:49:43.421000+08:00\n",
      "thermal_cozie                                  10\n",
      "user_id                                   cresh25\n",
      "Space_id                                       45\n",
      "room                       BUILDING_MATERIALS_LAB\n",
      "time_duration                                   0\n",
      "Name: 3095, dtype: object, time             2019-10-23 12:06:02.272000+08:00\n",
      "thermal_cozie                                   9\n",
      "user_id                                   cresh25\n",
      "Space_id                                       45\n",
      "room                       BUILDING_MATERIALS_LAB\n",
      "time_duration                                   0\n",
      "Name: 3103, dtype: object, time             2019-10-23 12:23:36.388000+08:00\n",
      "thermal_cozie                                   9\n",
      "user_id                                   cresh25\n",
      "Space_id                                       45\n",
      "room                       BUILDING_MATERIALS_LAB\n",
      "time_duration                                   0\n",
      "Name: 3110, dtype: object, time             2019-10-23 12:38:52.931000+08:00\n",
      "thermal_cozie                                   9\n",
      "user_id                                   cresh25\n",
      "Space_id                                       45\n",
      "room                       BUILDING_MATERIALS_LAB\n",
      "time_duration                                   0\n",
      "Name: 3114, dtype: object, time             2019-10-23 13:00:59.757000+08:00\n",
      "thermal_cozie                                   9\n",
      "user_id                                   cresh25\n",
      "Space_id                                       45\n",
      "room                       BUILDING_MATERIALS_LAB\n",
      "time_duration                                   0\n",
      "Name: 3119, dtype: object, time             2019-10-23 13:16:07.109000+08:00\n",
      "thermal_cozie                                  10\n",
      "user_id                                   cresh25\n",
      "Space_id                                      NaN\n",
      "room                                          NaN\n",
      "time_duration                                   0\n",
      "Name: 3129, dtype: object, time             2019-10-23 13:31:21.167000+08:00\n",
      "thermal_cozie                                  11\n",
      "user_id                                   cresh25\n",
      "Space_id                                       45\n",
      "room                       BUILDING_MATERIALS_LAB\n",
      "time_duration                                   0\n",
      "Name: 3138, dtype: object, time             2019-10-23 13:46:14.585000+08:00\n",
      "thermal_cozie                                  10\n",
      "user_id                                   cresh25\n",
      "Space_id                                       45\n",
      "room                       BUILDING_MATERIALS_LAB\n",
      "time_duration                                   0\n",
      "Name: 3140, dtype: object, time             2019-10-23 14:01:37.374000+08:00\n",
      "thermal_cozie                                  10\n",
      "user_id                                   cresh25\n",
      "Space_id                                       45\n",
      "room                       BUILDING_MATERIALS_LAB\n",
      "time_duration                                   0\n",
      "Name: 3150, dtype: object, time             2019-10-23 14:17:27.982000+08:00\n",
      "thermal_cozie                                   9\n",
      "user_id                                   cresh25\n",
      "Space_id                                       45\n",
      "room                       BUILDING_MATERIALS_LAB\n",
      "time_duration                                   0\n",
      "Name: 3154, dtype: object, time             2019-10-23 14:31:42.464000+08:00\n",
      "thermal_cozie                                  11\n",
      "user_id                                   cresh25\n",
      "Space_id                                        1\n",
      "room                                         CAFE\n",
      "time_duration                                   0\n",
      "Name: 3159, dtype: object, time             2019-10-23 14:47:25.492000+08:00\n",
      "thermal_cozie                                  10\n",
      "user_id                                   cresh25\n",
      "Space_id                                        1\n",
      "room                                         CAFE\n",
      "time_duration                                   0\n",
      "Name: 3164, dtype: object, time             2019-10-23 15:02:56.872000+08:00\n",
      "thermal_cozie                                  10\n",
      "user_id                                   cresh25\n",
      "Space_id                                        1\n",
      "room                                         CAFE\n",
      "time_duration                                   0\n",
      "Name: 3172, dtype: object, time             2019-10-23 15:18:12.739000+08:00\n",
      "thermal_cozie                                  10\n",
      "user_id                                   cresh25\n",
      "Space_id                                        1\n",
      "room                                         CAFE\n",
      "time_duration                                   0\n",
      "Name: 3178, dtype: object, time             2019-10-23 15:33:29.551000+08:00\n",
      "thermal_cozie                                  10\n",
      "user_id                                   cresh25\n",
      "Space_id                                        1\n",
      "room                                         CAFE\n",
      "time_duration                                   0\n",
      "Name: 3185, dtype: object, time             2019-10-23 15:49:02.368000+08:00\n",
      "thermal_cozie                                  10\n",
      "user_id                                   cresh25\n",
      "Space_id                                        1\n",
      "room                                         CAFE\n",
      "time_duration                                   0\n",
      "Name: 3188, dtype: object, time             2019-10-23 16:03:26.219000+08:00\n",
      "thermal_cozie                                  10\n",
      "user_id                                   cresh25\n",
      "Space_id                                        1\n",
      "room                                         CAFE\n",
      "time_duration                                   0\n",
      "Name: 3195, dtype: object, time             2019-10-23 16:18:52.900000+08:00\n",
      "thermal_cozie                                  10\n",
      "user_id                                   cresh25\n",
      "Space_id                                        1\n",
      "room                                         CAFE\n",
      "time_duration                                   0\n",
      "Name: 3200, dtype: object, time             2019-10-23 16:35:04.124000+08:00\n",
      "thermal_cozie                                  10\n",
      "user_id                                   cresh25\n",
      "Space_id                                        0\n",
      "room                      OPEN_EXHIBITION_SPACE_2\n",
      "time_duration                                   0\n",
      "Name: 3204, dtype: object, time             2019-10-23 16:51:29.131000+08:00\n",
      "thermal_cozie                                  10\n",
      "user_id                                   cresh25\n",
      "Space_id                                        1\n",
      "room                                         CAFE\n",
      "time_duration                                   0\n",
      "Name: 3215, dtype: object, time             2019-10-23 17:06:33.132000+08:00\n",
      "thermal_cozie                                  10\n",
      "user_id                                   cresh25\n",
      "Space_id                                        1\n",
      "room                                         CAFE\n",
      "time_duration                                   0\n",
      "Name: 3223, dtype: object, time             2019-10-23 17:13:53.918000+08:00\n",
      "thermal_cozie                                  10\n",
      "user_id                                   cresh25\n",
      "Space_id                                        1\n",
      "room                                         CAFE\n",
      "time_duration                                   0\n",
      "Name: 3227, dtype: object, time             2019-10-23 17:32:56.828000+08:00\n",
      "thermal_cozie                                  11\n",
      "user_id                                   cresh25\n",
      "Space_id                                      NaN\n",
      "room                                          NaN\n",
      "time_duration                                   0\n",
      "Name: 3239, dtype: object, time             2019-10-23 17:55:47.515000+08:00\n",
      "thermal_cozie                                  11\n",
      "user_id                                   cresh25\n",
      "Space_id                                      NaN\n",
      "room                                          NaN\n",
      "time_duration                                   0\n",
      "Name: 3250, dtype: object, time             2019-10-23 18:17:02.124000+08:00\n",
      "thermal_cozie                                  10\n",
      "user_id                                   cresh25\n",
      "Space_id                                      NaN\n",
      "room                                          NaN\n",
      "time_duration                                   0\n",
      "Name: 3256, dtype: object, time             2019-10-23 18:40:41.532000+08:00\n",
      "thermal_cozie                                  11\n",
      "user_id                                   cresh25\n",
      "Space_id                                      NaN\n",
      "room                                          NaN\n",
      "time_duration                                   0\n",
      "Name: 3261, dtype: object], [time             2019-10-24 09:04:51.408000+08:00\n",
      "thermal_cozie                                  10\n",
      "user_id                                   cresh25\n",
      "Space_id                                      NaN\n",
      "room                                          NaN\n",
      "time_duration                                   0\n",
      "Name: 3338, dtype: object, time             2019-10-24 09:29:29.397000+08:00\n",
      "thermal_cozie                                  11\n",
      "user_id                                   cresh25\n",
      "Space_id                                      NaN\n",
      "room                                          NaN\n",
      "time_duration                                   0\n",
      "Name: 3345, dtype: object], [time             2019-10-24 10:49:28.584000+08:00\n",
      "thermal_cozie                                  10\n",
      "user_id                                   cresh25\n",
      "Space_id                                      NaN\n",
      "room                                          NaN\n",
      "time_duration                                   0\n",
      "Name: 3362, dtype: object, time             2019-10-24 11:18:29.178000+08:00\n",
      "thermal_cozie                                  10\n",
      "user_id                                   cresh25\n",
      "Space_id                                      NaN\n",
      "room                                          NaN\n",
      "time_duration                                   0\n",
      "Name: 3373, dtype: object], [time             2019-10-24 13:18:36.292000+08:00\n",
      "thermal_cozie                                  10\n",
      "user_id                                   cresh25\n",
      "Space_id                                      NaN\n",
      "room                                          NaN\n",
      "time_duration                                   0\n",
      "Name: 3422, dtype: object, time             2019-10-24 13:41:49.394000+08:00\n",
      "thermal_cozie                                  11\n",
      "user_id                                   cresh25\n",
      "Space_id                                      NaN\n",
      "room                                          NaN\n",
      "time_duration                                   0\n",
      "Name: 3430, dtype: object], [time             2019-10-24 19:36:24.696000+08:00\n",
      "thermal_cozie                                  11\n",
      "user_id                                   cresh25\n",
      "Space_id                                      NaN\n",
      "room                                          NaN\n",
      "time_duration                                   0\n",
      "Name: 3535, dtype: object, time             2019-10-24 19:50:36.308000+08:00\n",
      "thermal_cozie                                  10\n",
      "user_id                                   cresh25\n",
      "Space_id                                      NaN\n",
      "room                                          NaN\n",
      "time_duration                                   0\n",
      "Name: 3538, dtype: object], [time             2019-10-25 13:58:58.229000+08:00\n",
      "thermal_cozie                                  10\n",
      "user_id                                   cresh25\n",
      "Space_id                                        2\n",
      "room                                 ENERGY_LAB_1\n",
      "time_duration                                   0\n",
      "Name: 3614, dtype: object, time             2019-10-25 14:17:38.979000+08:00\n",
      "thermal_cozie                                  11\n",
      "user_id                                   cresh25\n",
      "Space_id                                      NaN\n",
      "room                                          NaN\n",
      "time_duration                                   0\n",
      "Name: 3620, dtype: object, time             2019-10-25 14:32:57.463000+08:00\n",
      "thermal_cozie                                  11\n",
      "user_id                                   cresh25\n",
      "Space_id                                      NaN\n",
      "room                                          NaN\n",
      "time_duration                                   0\n",
      "Name: 3622, dtype: object, time             2019-10-25 14:48:13.301000+08:00\n",
      "thermal_cozie                                  11\n",
      "user_id                                   cresh25\n",
      "Space_id                                        0\n",
      "room                      OPEN_EXHIBITION_SPACE_2\n",
      "time_duration                                   0\n",
      "Name: 3625, dtype: object, time             2019-10-25 15:03:47.506000+08:00\n",
      "thermal_cozie                                  11\n",
      "user_id                                   cresh25\n",
      "Space_id                                       -1\n",
      "room                      OPEN_EXHIBITION_SPACE_2\n",
      "time_duration                                   0\n",
      "Name: 3630, dtype: object, time             2019-10-25 15:19:48.152000+08:00\n",
      "thermal_cozie                                  11\n",
      "user_id                                   cresh25\n",
      "Space_id                                        0\n",
      "room                                          NaN\n",
      "time_duration                                   0\n",
      "Name: 3634, dtype: object, time             2019-10-25 15:33:12.594000+08:00\n",
      "thermal_cozie                                  10\n",
      "user_id                                   cresh25\n",
      "Space_id                                       20\n",
      "room                                IRC_LIBRARY_1\n",
      "time_duration                                   0\n",
      "Name: 3639, dtype: object, time             2019-10-25 15:45:44.908000+08:00\n",
      "thermal_cozie                                  10\n",
      "user_id                                   cresh25\n",
      "Space_id                                       20\n",
      "room                                IRC_LIBRARY_1\n",
      "time_duration                                   0\n",
      "Name: 3640, dtype: object, time             2019-10-25 16:01:28.812000+08:00\n",
      "thermal_cozie                                  10\n",
      "user_id                                   cresh25\n",
      "Space_id                                       20\n",
      "room                                IRC_LIBRARY_1\n",
      "time_duration                                   0\n",
      "Name: 3643, dtype: object, time             2019-10-25 16:16:31.697000+08:00\n",
      "thermal_cozie                                  10\n",
      "user_id                                   cresh25\n",
      "Space_id                                       20\n",
      "room                                IRC_LIBRARY_1\n",
      "time_duration                                   0\n",
      "Name: 3646, dtype: object, time             2019-10-25 16:31:53.168000+08:00\n",
      "thermal_cozie                                  10\n",
      "user_id                                   cresh25\n",
      "Space_id                                       20\n",
      "room                                IRC_LIBRARY_1\n",
      "time_duration                                   0\n",
      "Name: 3650, dtype: object, time             2019-10-25 16:47:07.457000+08:00\n",
      "thermal_cozie                                   9\n",
      "user_id                                   cresh25\n",
      "Space_id                                       20\n",
      "room                                IRC_LIBRARY_1\n",
      "time_duration                                   0\n",
      "Name: 3653, dtype: object, time             2019-10-25 17:05:42.916000+08:00\n",
      "thermal_cozie                                   9\n",
      "user_id                                   cresh25\n",
      "Space_id                                      NaN\n",
      "room                                          NaN\n",
      "time_duration                                   0\n",
      "Name: 3657, dtype: object, time             2019-10-25 17:20:40.617000+08:00\n",
      "thermal_cozie                                   9\n",
      "user_id                                   cresh25\n",
      "Space_id                                       20\n",
      "room                                IRC_LIBRARY_1\n",
      "time_duration                                   0\n",
      "Name: 3661, dtype: object, time             2019-10-25 17:36:05.164000+08:00\n",
      "thermal_cozie                                   9\n",
      "user_id                                   cresh25\n",
      "Space_id                                       20\n",
      "room                                IRC_LIBRARY_1\n",
      "time_duration                                   0\n",
      "Name: 3664, dtype: object, time             2019-10-25 17:51:13.165000+08:00\n",
      "thermal_cozie                                   9\n",
      "user_id                                   cresh25\n",
      "Space_id                                       20\n",
      "room                                IRC_LIBRARY_1\n",
      "time_duration                                   0\n",
      "Name: 3667, dtype: object, time             2019-10-25 18:14:05.559000+08:00\n",
      "thermal_cozie                                   9\n",
      "user_id                                   cresh25\n",
      "Space_id                                       20\n",
      "room                                IRC_LIBRARY_1\n",
      "time_duration                                   0\n",
      "Name: 3670, dtype: object]]\n"
     ]
    }
   ],
   "source": [
    "# Split the cluster up according to their timing\n",
    "for i in range(len(all_clusters)):\n",
    "    if (len(all_clusters[i]) > 1):\n",
    "        # If have more than 1 datapoint\n",
    "        tempList = all_clusters[i] # Store into tempList for splitting\n",
    "        tempList2 = [] # Store all relevant datapoints in a cluster together before pushing into flitered_cluster\n",
    "        nextDataPoint = []\n",
    "         # Check if current datapoint is part of the cluster and room is not null\n",
    "        for j in range(len(tempList)):\n",
    "            space = tempList[j].Space_id\n",
    "\n",
    "            if (j == 0):\n",
    "                tempList2.append(tempList[j])\n",
    "                last_time = tempList[j].time\n",
    "\n",
    "            elif (tempList[j].time < last_time + pd.Timedelta(minutes=30)):\n",
    "                tempList2.append(tempList[j])\n",
    "                last_time = tempList[j].time\n",
    "\n",
    "        filtered_cluster_before.append(tempList2)\n",
    "print(filtered_cluster_before)    "
   ]
  },
  {
   "cell_type": "markdown",
   "metadata": {},
   "source": [
    "# Keep clusters with more than a certain amount of data points and remove NaN"
   ]
  },
  {
   "cell_type": "code",
   "execution_count": 9,
   "metadata": {},
   "outputs": [
    {
     "name": "stdout",
     "output_type": "stream",
     "text": [
      "[[time             2019-10-23 10:12:23.460000+08:00\n",
      "thermal_cozie                                  11\n",
      "user_id                                   cresh25\n",
      "Space_id                                       45\n",
      "room                                     BUDS_LAB\n",
      "time_duration                                   0\n",
      "Name: 3064, dtype: object, time             2019-10-23 10:31:02.112000+08:00\n",
      "thermal_cozie                                  11\n",
      "user_id                                   cresh25\n",
      "Space_id                                       45\n",
      "room                                     BUDS_LAB\n",
      "time_duration                                   0\n",
      "Name: 3067, dtype: object, time             2019-10-23 10:47:31.272000+08:00\n",
      "thermal_cozie                                  10\n",
      "user_id                                   cresh25\n",
      "Space_id                                       45\n",
      "room                       BUILDING_MATERIALS_LAB\n",
      "time_duration                                   0\n",
      "Name: 3076, dtype: object, time             2019-10-23 11:03:07.656000+08:00\n",
      "thermal_cozie                                  10\n",
      "user_id                                   cresh25\n",
      "Space_id                                       45\n",
      "room                       BUILDING_MATERIALS_LAB\n",
      "time_duration                                   0\n",
      "Name: 3080, dtype: object, time             2019-10-23 11:18:27.272000+08:00\n",
      "thermal_cozie                                   9\n",
      "user_id                                   cresh25\n",
      "Space_id                                       45\n",
      "room                       BUILDING_MATERIALS_LAB\n",
      "time_duration                                   0\n",
      "Name: 3084, dtype: object, time             2019-10-23 11:33:54.609000+08:00\n",
      "thermal_cozie                                   9\n",
      "user_id                                   cresh25\n",
      "Space_id                                       45\n",
      "room                       BUILDING_MATERIALS_LAB\n",
      "time_duration                                   0\n",
      "Name: 3090, dtype: object, time             2019-10-23 11:49:43.421000+08:00\n",
      "thermal_cozie                                  10\n",
      "user_id                                   cresh25\n",
      "Space_id                                       45\n",
      "room                       BUILDING_MATERIALS_LAB\n",
      "time_duration                                   0\n",
      "Name: 3095, dtype: object, time             2019-10-23 12:06:02.272000+08:00\n",
      "thermal_cozie                                   9\n",
      "user_id                                   cresh25\n",
      "Space_id                                       45\n",
      "room                       BUILDING_MATERIALS_LAB\n",
      "time_duration                                   0\n",
      "Name: 3103, dtype: object, time             2019-10-23 12:23:36.388000+08:00\n",
      "thermal_cozie                                   9\n",
      "user_id                                   cresh25\n",
      "Space_id                                       45\n",
      "room                       BUILDING_MATERIALS_LAB\n",
      "time_duration                                   0\n",
      "Name: 3110, dtype: object, time             2019-10-23 12:38:52.931000+08:00\n",
      "thermal_cozie                                   9\n",
      "user_id                                   cresh25\n",
      "Space_id                                       45\n",
      "room                       BUILDING_MATERIALS_LAB\n",
      "time_duration                                   0\n",
      "Name: 3114, dtype: object, time             2019-10-23 13:00:59.757000+08:00\n",
      "thermal_cozie                                   9\n",
      "user_id                                   cresh25\n",
      "Space_id                                       45\n",
      "room                       BUILDING_MATERIALS_LAB\n",
      "time_duration                                   0\n",
      "Name: 3119, dtype: object], [], [], [], [], [time             2019-10-25 13:58:58.229000+08:00\n",
      "thermal_cozie                                  10\n",
      "user_id                                   cresh25\n",
      "Space_id                                        2\n",
      "room                                 ENERGY_LAB_1\n",
      "time_duration                                   0\n",
      "Name: 3614, dtype: object]]\n"
     ]
    }
   ],
   "source": [
    "# Split the cluster up according to their timing\n",
    "for i in range(len(all_clusters)):\n",
    "    if (len(all_clusters[i]) > 1):\n",
    "        # If have more than 1 datapoint\n",
    "        tempList = all_clusters[i] # Store into tempList for splitting\n",
    "        tempList2 = [] # Store all relevant datapoints in a cluster together before pushing into flitered_cluster\n",
    "        nextDataPoint = []\n",
    "         # Check if current datapoint is part of the cluster and room is not null\n",
    "        for j in range(len(tempList)):\n",
    "            space = tempList[j].Space_id\n",
    "            \n",
    "            if(isNaN(space) == False):    \n",
    "                if (j == 0):\n",
    "                    tempList2.append(tempList[j])\n",
    "                    last_time = tempList[j].time\n",
    "\n",
    "                elif (tempList[j].time < last_time + pd.Timedelta(minutes=30)):\n",
    "                    tempList2.append(tempList[j])\n",
    "                    last_time = tempList[j].time\n",
    "\n",
    "        filtered_cluster_after.append(tempList2)\n",
    "print(filtered_cluster_after)   "
   ]
  },
  {
   "cell_type": "markdown",
   "metadata": {},
   "source": [
    "# Show how many datapoints are in each cluster prior to removing"
   ]
  },
  {
   "cell_type": "code",
   "execution_count": 10,
   "metadata": {},
   "outputs": [
    {
     "name": "stdout",
     "output_type": "stream",
     "text": [
      "0:32 \n",
      "1:2 \n",
      "2:2 \n",
      "3:2 \n",
      "4:2 \n",
      "5:17 \n"
     ]
    }
   ],
   "source": [
    "for i in range(len(filtered_cluster_before)):\n",
    "    print(\"{0}:{1} \".format(i,(len(filtered_cluster_before[i]))))"
   ]
  },
  {
   "cell_type": "markdown",
   "metadata": {},
   "source": [
    "# Add in values to the duration difference column"
   ]
  },
  {
   "cell_type": "code",
   "execution_count": 11,
   "metadata": {},
   "outputs": [],
   "source": [
    "for i in range(len(filtered_cluster_before)):\n",
    "    # First variable have no time difference, thus 0.0s\n",
    "    timeDifferenceList = [0.0]\n",
    "    for j in range(len(filtered_cluster_before[i])):\n",
    "        if (j == 0):\n",
    "            last_time = filtered_cluster_before[i][j].time\n",
    "        else:\n",
    "            timeDiff = filtered_cluster_before[i][j].time - last_time\n",
    "            filtered_cluster_before[i][j].time_duration = (timeDiff.total_seconds()/60)\n",
    "            # Set the last time as the current one\n",
    "            last_time = filtered_cluster_before[i][j].time\n",
    "            \n",
    "for i in range(len(filtered_cluster_after)):\n",
    "    # First variable have no time difference, thus 0.0s\n",
    "    timeDifferenceList = [0.0]\n",
    "    for j in range(len(filtered_cluster_after[i])):\n",
    "        if (j == 0):\n",
    "            last_time = filtered_cluster_after[i][j].time\n",
    "        else:\n",
    "            timeDiff = filtered_cluster_after[i][j].time - last_time\n",
    "            filtered_cluster_after[i][j].time_duration = (timeDiff.total_seconds()/60)\n",
    "            # Set the last time as the current one\n",
    "            last_time = filtered_cluster_after[i][j].time"
   ]
  },
  {
   "cell_type": "markdown",
   "metadata": {},
   "source": [
    "# Plot all graph before removal of NaN"
   ]
  },
  {
   "cell_type": "code",
   "execution_count": 12,
   "metadata": {},
   "outputs": [
    {
     "data": {
      "image/png": "[encoded data removed]",
      "text/plain": [
       "<Figure size 432x288 with 1 Axes>"
      ]
     },
     "metadata": {
      "needs_background": "light"
     },
     "output_type": "display_data"
    }
   ],
   "source": [
    "# Plot all clusters into ONE graph\n",
    "thermal = []\n",
    "duration = []\n",
    "base = 0.0\n",
    "\n",
    "for i in range(len(filtered_cluster_before)):\n",
    "    for j in range(len(filtered_cluster_before[i])):\n",
    "        base += filtered_cluster_before[i][j].time_duration\n",
    "        thermal.append(filtered_cluster_before[i][j].thermal_cozie)\n",
    "        duration.append(base)\n",
    "        \n",
    "    plt.plot(duration,thermal)\n",
    "    plt.xlabel(\"Duration\")\n",
    "    plt.ylabel(\"Thermal Cozie\")\n",
    "    plt.ylim(9,11)\n",
    "    \n",
    "    # Re-init to remove previous cluster data\n",
    "    base = 0.0\n",
    "    thermal = []\n",
    "    duration = []"
   ]
  },
  {
   "cell_type": "markdown",
   "metadata": {},
   "source": [
    "# Plot all graph seperately before removal of NaN"
   ]
  },
  {
   "cell_type": "code",
   "execution_count": 13,
   "metadata": {},
   "outputs": [
    {
     "data": {
      "image/png": "[encoded data removed]",
      "text/plain": [
       "<Figure size 432x288 with 1 Axes>"
      ]
     },
     "metadata": {
      "needs_background": "light"
     },
     "output_type": "display_data"
    },
    {
     "data": {
      "image/png": "[encoded data removed]",
      "text/plain": [
       "<Figure size 432x288 with 1 Axes>"
      ]
     },
     "metadata": {
      "needs_background": "light"
     },
     "output_type": "display_data"
    },
    {
     "data": {
      "image/png": "[encoded data removed]",
      "text/plain": [
       "<Figure size 432x288 with 1 Axes>"
      ]
     },
     "metadata": {
      "needs_background": "light"
     },
     "output_type": "display_data"
    },
    {
     "data": {
      "image/png": "[encoded data removed]",
      "text/plain": [
       "<Figure size 432x288 with 1 Axes>"
      ]
     },
     "metadata": {
      "needs_background": "light"
     },
     "output_type": "display_data"
    },
    {
     "data": {
      "image/png": "[encoded data removed]",
      "text/plain": [
       "<Figure size 432x288 with 1 Axes>"
      ]
     },
     "metadata": {
      "needs_background": "light"
     },
     "output_type": "display_data"
    },
    {
     "data": {
      "image/png": "[encoded data removed]",
      "text/plain": [
       "<Figure size 432x288 with 1 Axes>"
      ]
     },
     "metadata": {
      "needs_background": "light"
     },
     "output_type": "display_data"
    }
   ],
   "source": [
    "# Plot all clusters into ONE graph\n",
    "thermal = []\n",
    "duration = []\n",
    "base = 0.0\n",
    "\n",
    "for i in range(len(filtered_cluster_before)):\n",
    "    for j in range(len(filtered_cluster_before[i])):\n",
    "        base += filtered_cluster_before[i][j].time_duration\n",
    "        thermal.append(filtered_cluster_before[i][j].thermal_cozie)\n",
    "        duration.append(base)\n",
    "    \n",
    "    plt.figure()\n",
    "    plt.scatter(duration,thermal)\n",
    "    plt.plot(duration,thermal)\n",
    "    plt.xlabel(\"Duration\")\n",
    "    plt.ylabel(\"Thermal Cozie\")\n",
    "    plt.yticks(thermal_cozie_ticks)\n",
    "    \n",
    "    # Re-init to remove previous cluster data\n",
    "    base = 0.0\n",
    "    thermal = []\n",
    "    duration = []"
   ]
  },
  {
   "cell_type": "markdown",
   "metadata": {},
   "source": [
    "# Remove list with zero elements inside filtered_cluster_after"
   ]
  },
  {
   "cell_type": "code",
   "execution_count": 14,
   "metadata": {},
   "outputs": [
    {
     "name": "stdout",
     "output_type": "stream",
     "text": [
      "[[time             2019-10-23 10:12:23.460000+08:00\n",
      "thermal_cozie                                  11\n",
      "user_id                                   cresh25\n",
      "Space_id                                       45\n",
      "room                                     BUDS_LAB\n",
      "time_duration                                   0\n",
      "Name: 3064, dtype: object, time             2019-10-23 10:31:02.112000+08:00\n",
      "thermal_cozie                                  11\n",
      "user_id                                   cresh25\n",
      "Space_id                                       45\n",
      "room                                     BUDS_LAB\n",
      "time_duration                             18.6442\n",
      "Name: 3067, dtype: object, time             2019-10-23 10:47:31.272000+08:00\n",
      "thermal_cozie                                  10\n",
      "user_id                                   cresh25\n",
      "Space_id                                       45\n",
      "room                       BUILDING_MATERIALS_LAB\n",
      "time_duration                              16.486\n",
      "Name: 3076, dtype: object, time             2019-10-23 11:03:07.656000+08:00\n",
      "thermal_cozie                                  10\n",
      "user_id                                   cresh25\n",
      "Space_id                                       45\n",
      "room                       BUILDING_MATERIALS_LAB\n",
      "time_duration                             15.6064\n",
      "Name: 3080, dtype: object, time             2019-10-23 11:18:27.272000+08:00\n",
      "thermal_cozie                                   9\n",
      "user_id                                   cresh25\n",
      "Space_id                                       45\n",
      "room                       BUILDING_MATERIALS_LAB\n",
      "time_duration                             15.3269\n",
      "Name: 3084, dtype: object, time             2019-10-23 11:33:54.609000+08:00\n",
      "thermal_cozie                                   9\n",
      "user_id                                   cresh25\n",
      "Space_id                                       45\n",
      "room                       BUILDING_MATERIALS_LAB\n",
      "time_duration                             15.4556\n",
      "Name: 3090, dtype: object, time             2019-10-23 11:49:43.421000+08:00\n",
      "thermal_cozie                                  10\n",
      "user_id                                   cresh25\n",
      "Space_id                                       45\n",
      "room                       BUILDING_MATERIALS_LAB\n",
      "time_duration                             15.8135\n",
      "Name: 3095, dtype: object, time             2019-10-23 12:06:02.272000+08:00\n",
      "thermal_cozie                                   9\n",
      "user_id                                   cresh25\n",
      "Space_id                                       45\n",
      "room                       BUILDING_MATERIALS_LAB\n",
      "time_duration                             16.3142\n",
      "Name: 3103, dtype: object, time             2019-10-23 12:23:36.388000+08:00\n",
      "thermal_cozie                                   9\n",
      "user_id                                   cresh25\n",
      "Space_id                                       45\n",
      "room                       BUILDING_MATERIALS_LAB\n",
      "time_duration                             17.5686\n",
      "Name: 3110, dtype: object, time             2019-10-23 12:38:52.931000+08:00\n",
      "thermal_cozie                                   9\n",
      "user_id                                   cresh25\n",
      "Space_id                                       45\n",
      "room                       BUILDING_MATERIALS_LAB\n",
      "time_duration                             15.2757\n",
      "Name: 3114, dtype: object, time             2019-10-23 13:00:59.757000+08:00\n",
      "thermal_cozie                                   9\n",
      "user_id                                   cresh25\n",
      "Space_id                                       45\n",
      "room                       BUILDING_MATERIALS_LAB\n",
      "time_duration                             22.1138\n",
      "Name: 3119, dtype: object]]\n"
     ]
    }
   ],
   "source": [
    "tempList3 = []\n",
    "for i in range(len(filtered_cluster_after)):\n",
    "    if (len(filtered_cluster_after[i]) > 1):\n",
    "        tempList3.append(filtered_cluster_after[i])\n",
    "\n",
    "filtered_cluster_after = tempList3\n",
    "print(filtered_cluster_after)"
   ]
  },
  {
   "cell_type": "markdown",
   "metadata": {},
   "source": [
    "# Show how many datapoint are in each cluster after filtering NaN and zero element"
   ]
  },
  {
   "cell_type": "code",
   "execution_count": 15,
   "metadata": {},
   "outputs": [
    {
     "name": "stdout",
     "output_type": "stream",
     "text": [
      "0:11 \n"
     ]
    }
   ],
   "source": [
    "for i in range(len(filtered_cluster_after)):\n",
    "    print(\"{0}:{1} \".format(i,(len(filtered_cluster_after[i]))))"
   ]
  },
  {
   "cell_type": "markdown",
   "metadata": {},
   "source": [
    "# Plot all cluster into one graph"
   ]
  },
  {
   "cell_type": "code",
   "execution_count": 16,
   "metadata": {},
   "outputs": [
    {
     "data": {
      "image/png": "[encoded data removed]",
      "text/plain": [
       "<Figure size 432x288 with 1 Axes>"
      ]
     },
     "metadata": {
      "needs_background": "light"
     },
     "output_type": "display_data"
    }
   ],
   "source": [
    "# Plot all clusters into ONE graph\n",
    "thermal = []\n",
    "duration = []\n",
    "base = 0.0\n",
    "\n",
    "for i in range(len(filtered_cluster_after)):\n",
    "    for j in range(len(filtered_cluster_after[i])):\n",
    "        base += filtered_cluster_after[i][j].time_duration\n",
    "        thermal.append(filtered_cluster_after[i][j].thermal_cozie)\n",
    "        duration.append(base)\n",
    "        \n",
    "    plt.plot(duration,thermal)\n",
    "    plt.xlabel(\"Duration\")\n",
    "    plt.ylabel(\"Thermal Cozie\")\n",
    "    plt.yticks(thermal_cozie_ticks)\n",
    "    \n",
    "    # Re-init to remove previous cluster data\n",
    "    base = 0.0\n",
    "    thermal = []\n",
    "    duration = []"
   ]
  },
  {
   "cell_type": "markdown",
   "metadata": {},
   "source": [
    "# Plot all cluster into separate graphs"
   ]
  },
  {
   "cell_type": "code",
   "execution_count": 17,
   "metadata": {},
   "outputs": [
    {
     "data": {
      "image/png": "[encoded data removed]",
      "text/plain": [
       "<Figure size 432x288 with 1 Axes>"
      ]
     },
     "metadata": {
      "needs_background": "light"
     },
     "output_type": "display_data"
    }
   ],
   "source": [
    "# Plot all clusters into ONE graph\n",
    "thermal = []\n",
    "duration = []\n",
    "base = 0.0\n",
    "\n",
    "for i in range(len(filtered_cluster_after)):\n",
    "    for j in range(len(filtered_cluster_after[i])):\n",
    "        base += filtered_cluster_after[i][j].time_duration\n",
    "        thermal.append(filtered_cluster_after[i][j].thermal_cozie)\n",
    "        duration.append(base)\n",
    "    \n",
    "    plt.figure()\n",
    "    plt.scatter(duration,thermal)\n",
    "    plt.plot(duration,thermal)\n",
    "    plt.xlabel(\"Duration\")\n",
    "    plt.ylabel(\"Thermal Cozie\")\n",
    "    plt.yticks(thermal_cozie_ticks)\n",
    "    \n",
    "    # Re-init to remove previous cluster data\n",
    "    base = 0.0\n",
    "    thermal = []\n",
    "    duration = []"
   ]
  },
  {
   "cell_type": "markdown",
   "metadata": {},
   "source": [
    "# Plot test with vertical dotted lines"
   ]
  },
  {
   "cell_type": "code",
   "execution_count": 18,
   "metadata": {
    "scrolled": true
   },
   "outputs": [
    {
     "data": {
      "image/png": "[encoded data removed]",
      "text/plain": [
       "<Figure size 432x288 with 1 Axes>"
      ]
     },
     "metadata": {
      "needs_background": "light"
     },
     "output_type": "display_data"
    }
   ],
   "source": [
    "# Plot all clusters into ONE graph\n",
    "thermal = []\n",
    "duration = []\n",
    "base = 0.0\n",
    "dotted_lines = []\n",
    "\n",
    "for i in range(len(filtered_cluster_after)):\n",
    "    tempList = []\n",
    "    for j in range(len(filtered_cluster_after[i])):\n",
    "        if (j > 1):\n",
    "            prev = filtered_cluster_after[i][j-1].room\n",
    "            curr = filtered_cluster_after[i][j].room\n",
    "            \n",
    "            if (prev != curr):\n",
    "                tempList.append(j)\n",
    "                \n",
    "    dotted_lines.append(tempList)\n",
    "\n",
    "#print(dotted_lines)\n",
    "    \n",
    "for i in range(len(filtered_cluster_after)):\n",
    "    lines = []\n",
    "    for j in range(len(filtered_cluster_after[i])):\n",
    "        base += filtered_cluster_after[i][j].time_duration\n",
    "        thermal.append(filtered_cluster_after[i][j].thermal_cozie)\n",
    "        duration.append(base)\n",
    "        \n",
    "    if(len(dotted_lines[i]) > 0):\n",
    "        while(len(dotted_lines[i]) > 0):\n",
    "            index = dotted_lines[i].pop()\n",
    "            xValue = duration[index]\n",
    "            plt.axvline(x = xValue, linestyle = '--', color = 'r')\n",
    "        \n",
    "        \n",
    "    plt.scatter(duration,thermal)\n",
    "    plt.plot(duration,thermal)\n",
    "    plt.xlabel(\"Duration\")\n",
    "    plt.ylabel(\"Thermal Cozie\")\n",
    "    plt.yticks(thermal_cozie_ticks)\n",
    "    plt.show()\n",
    "    \n",
    "    #print(filtered_cluster_after[0])\n",
    "    #print(duration)\n",
    "    \n",
    "    # Re-init to remove previous cluster data\n",
    "    base = 0.0\n",
    "    thermal = []\n",
    "    duration = []\n",
    "    "
   ]
  }
 ],
 "metadata": {
  "kernelspec": {
   "display_name": "Python 3",
   "language": "python",
   "name": "python3"
  },
  "language_info": {
   "codemirror_mode": {
    "name": "ipython",
    "version": 3
   },
   "file_extension": ".py",
   "mimetype": "text/x-python",
   "name": "python",
   "nbconvert_exporter": "python",
   "pygments_lexer": "ipython3",
   "version": "3.7.4"
  }
 },
 "nbformat": 4,
 "nbformat_minor": 4
}
