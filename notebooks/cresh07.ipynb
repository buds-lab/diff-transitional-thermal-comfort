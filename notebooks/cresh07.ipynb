{
 "cells": [
  {
   "cell_type": "code",
   "execution_count": 1,
   "metadata": {},
   "outputs": [],
   "source": [
    "import pandas as pd\n",
    "import numpy as np\n",
    "from matplotlib import pyplot as plt\n",
    "from matplotlib.backends.backend_agg import FigureCanvasAgg as FigureCanvas\n",
    "from matplotlib.figure import Figure"
   ]
  },
  {
   "cell_type": "code",
   "execution_count": 2,
   "metadata": {},
   "outputs": [],
   "source": [
    "fig = Figure()\n",
    "canvas = FigureCanvas(fig)\n",
    "ax = fig.add_subplot(111)"
   ]
  },
  {
   "cell_type": "code",
   "execution_count": 3,
   "metadata": {},
   "outputs": [],
   "source": [
    "def isNaN(num):\n",
    "    return num != num"
   ]
  },
  {
   "cell_type": "code",
   "execution_count": 4,
   "metadata": {},
   "outputs": [],
   "source": [
    "df = pd.read_csv (\"2019-10-29_cozie_full.csv\", index_col=0)\n",
    "filtered_df = df.drop (columns=['clothing','lat_cozie','lon_cozie','responseSpeed_cozie','Floor','Latitude','Longitude','noise_sensing','voc_sensing','index','comfort_cozie','heartRate_cozie','light_cozie','noise_cozie','co2_sensing','humidity_sensing','light_sensing','temperature_sensing','temperature_mbient'],axis=1)\n",
    "filtered_df['time'] = filtered_df['time'].apply(pd.Timestamp).dt.tz_convert('Asia/Singapore')\n",
    "# Add new column to calculate duration \n",
    "filtered_df['time_duration'] = 0"
   ]
  },
  {
   "cell_type": "code",
   "execution_count": 5,
   "metadata": {},
   "outputs": [],
   "source": [
    "grouped_users = filtered_df.groupby('user_id')\n",
    "\n",
    "all_clusters = [] # Raw data\n",
    "cluster_array = [] \n",
    "filtered_cluster_before = [] # Raw data that are clustered together according to duration\n",
    "filtered_cluster_after = []"
   ]
  },
  {
   "cell_type": "code",
   "execution_count": 6,
   "metadata": {},
   "outputs": [],
   "source": [
    "cresh01_df = grouped_users.get_group('cresh07')\n",
    "thermal_cozie_ticks = [9,10,11]"
   ]
  },
  {
   "cell_type": "code",
   "execution_count": 7,
   "metadata": {},
   "outputs": [],
   "source": [
    "# Gather all data relevant to specific user \n",
    "for index, datapoint in cresh01_df.iterrows():\n",
    "    # print (data.time)\n",
    "    if cluster_array == []:\n",
    "        cluster_array.append(datapoint)\n",
    "    else:\n",
    "        if datapoint.time < last_time + pd.Timedelta(minutes=30):\n",
    "            cluster_array.append(datapoint) \n",
    "        else:\n",
    "            all_clusters.append(cluster_array)\n",
    "            cluster_array = []\n",
    "            cluster_array.append(datapoint)\n",
    "\n",
    "    \n",
    "    last_time = datapoint.time\n",
    "#print (all_clusters)"
   ]
  },
  {
   "cell_type": "markdown",
   "metadata": {},
   "source": [
    "# Keep clusters with more than a certain amount of data points"
   ]
  },
  {
   "cell_type": "code",
   "execution_count": 8,
   "metadata": {},
   "outputs": [
    {
     "name": "stdout",
     "output_type": "stream",
     "text": [
      "[[time             2019-10-04 13:20:19.351000+08:00\n",
      "thermal_cozie                                  10\n",
      "user_id                                   cresh07\n",
      "Space_id                                       45\n",
      "room                       BUILDING_MATERIALS_LAB\n",
      "time_duration                                   0\n",
      "Name: 118, dtype: object, time             2019-10-04 13:30:27.209000+08:00\n",
      "thermal_cozie                                  10\n",
      "user_id                                   cresh07\n",
      "Space_id                                       45\n",
      "room                       BUILDING_MATERIALS_LAB\n",
      "time_duration                                   0\n",
      "Name: 122, dtype: object, time             2019-10-04 13:51:17.360000+08:00\n",
      "thermal_cozie                                  10\n",
      "user_id                                   cresh07\n",
      "Space_id                                       45\n",
      "room                       BUILDING_MATERIALS_LAB\n",
      "time_duration                                   0\n",
      "Name: 124, dtype: object, time             2019-10-04 14:04:18.331000+08:00\n",
      "thermal_cozie                                  10\n",
      "user_id                                   cresh07\n",
      "Space_id                                       45\n",
      "room                       BUILDING_MATERIALS_LAB\n",
      "time_duration                                   0\n",
      "Name: 128, dtype: object, time             2019-10-04 14:21:26.812000+08:00\n",
      "thermal_cozie                                  11\n",
      "user_id                                   cresh07\n",
      "Space_id                                        0\n",
      "room                                          NaN\n",
      "time_duration                                   0\n",
      "Name: 133, dtype: object, time             2019-10-04 14:35:38.733000+08:00\n",
      "thermal_cozie                                  11\n",
      "user_id                                   cresh07\n",
      "Space_id                                       -1\n",
      "room                      OPEN_EXHIBITION_SPACE_2\n",
      "time_duration                                   0\n",
      "Name: 137, dtype: object, time             2019-10-04 14:49:57.670000+08:00\n",
      "thermal_cozie                                  11\n",
      "user_id                                   cresh07\n",
      "Space_id                                        2\n",
      "room                                 ENERGY_LAB_1\n",
      "time_duration                                   0\n",
      "Name: 140, dtype: object, time             2019-10-04 15:11:09.503000+08:00\n",
      "thermal_cozie                                  11\n",
      "user_id                                   cresh07\n",
      "Space_id                                       -1\n",
      "room                      OPEN_EXHIBITION_SPACE_2\n",
      "time_duration                                   0\n",
      "Name: 148, dtype: object, time             2019-10-04 15:18:44.556000+08:00\n",
      "thermal_cozie                                  10\n",
      "user_id                                   cresh07\n",
      "Space_id                                        1\n",
      "room                                         CAFE\n",
      "time_duration                                   0\n",
      "Name: 149, dtype: object, time             2019-10-04 15:35:04.716000+08:00\n",
      "thermal_cozie                                  11\n",
      "user_id                                   cresh07\n",
      "Space_id                                      NaN\n",
      "room                                          NaN\n",
      "time_duration                                   0\n",
      "Name: 152, dtype: object, time             2019-10-04 15:52:45.697000+08:00\n",
      "thermal_cozie                                  10\n",
      "user_id                                   cresh07\n",
      "Space_id                                        2\n",
      "room                                 ENERGY_LAB_1\n",
      "time_duration                                   0\n",
      "Name: 158, dtype: object, time             2019-10-04 16:12:24.772000+08:00\n",
      "thermal_cozie                                  10\n",
      "user_id                                   cresh07\n",
      "Space_id                                       -1\n",
      "room                                          NaN\n",
      "time_duration                                   0\n",
      "Name: 162, dtype: object, time             2019-10-04 16:39:43.142000+08:00\n",
      "thermal_cozie                                  11\n",
      "user_id                                   cresh07\n",
      "Space_id                                        2\n",
      "room                                 ENERGY_LAB_1\n",
      "time_duration                                   0\n",
      "Name: 168, dtype: object, time             2019-10-04 17:04:48.520000+08:00\n",
      "thermal_cozie                                  11\n",
      "user_id                                   cresh07\n",
      "Space_id                                      NaN\n",
      "room                                          NaN\n",
      "time_duration                                   0\n",
      "Name: 171, dtype: object, time             2019-10-04 17:12:23.144000+08:00\n",
      "thermal_cozie                                  10\n",
      "user_id                                   cresh07\n",
      "Space_id                                      NaN\n",
      "room                                          NaN\n",
      "time_duration                                   0\n",
      "Name: 176, dtype: object, time             2019-10-04 17:20:35.546000+08:00\n",
      "thermal_cozie                                  10\n",
      "user_id                                   cresh07\n",
      "Space_id                                      NaN\n",
      "room                                          NaN\n",
      "time_duration                                   0\n",
      "Name: 182, dtype: object], [time             2019-10-07 08:04:12.856000+08:00\n",
      "thermal_cozie                                 NaN\n",
      "user_id                                   cresh07\n",
      "Space_id                                      NaN\n",
      "room                                          NaN\n",
      "time_duration                                   0\n",
      "Name: 249, dtype: object, time             2019-10-07 08:31:55.464000+08:00\n",
      "thermal_cozie                                  10\n",
      "user_id                                   cresh07\n",
      "Space_id                                      NaN\n",
      "room                                          NaN\n",
      "time_duration                                   0\n",
      "Name: 250, dtype: object, time             2019-10-07 08:48:55.630000+08:00\n",
      "thermal_cozie                                  10\n",
      "user_id                                   cresh07\n",
      "Space_id                                      NaN\n",
      "room                                          NaN\n",
      "time_duration                                   0\n",
      "Name: 251, dtype: object, time             2019-10-07 09:05:25.972000+08:00\n",
      "thermal_cozie                                  10\n",
      "user_id                                   cresh07\n",
      "Space_id                                      NaN\n",
      "room                                          NaN\n",
      "time_duration                                   0\n",
      "Name: 255, dtype: object, time             2019-10-07 09:09:31.457000+08:00\n",
      "thermal_cozie                                  10\n",
      "user_id                                   cresh07\n",
      "Space_id                                      NaN\n",
      "room                                          NaN\n",
      "time_duration                                   0\n",
      "Name: 256, dtype: object, time             2019-10-07 09:18:08.427000+08:00\n",
      "thermal_cozie                                  10\n",
      "user_id                                   cresh07\n",
      "Space_id                                      NaN\n",
      "room                                          NaN\n",
      "time_duration                                   0\n",
      "Name: 259, dtype: object, time             2019-10-07 09:43:51.750000+08:00\n",
      "thermal_cozie                                  10\n",
      "user_id                                   cresh07\n",
      "Space_id                                      NaN\n",
      "room                                          NaN\n",
      "time_duration                                   0\n",
      "Name: 267, dtype: object, time             2019-10-07 09:54:42.768000+08:00\n",
      "thermal_cozie                                  10\n",
      "user_id                                   cresh07\n",
      "Space_id                                      NaN\n",
      "room                                          NaN\n",
      "time_duration                                   0\n",
      "Name: 271, dtype: object], [time             2019-10-07 11:58:55.838000+08:00\n",
      "thermal_cozie                                  10\n",
      "user_id                                   cresh07\n",
      "Space_id                                      NaN\n",
      "room                                          NaN\n",
      "time_duration                                   0\n",
      "Name: 296, dtype: object, time             2019-10-07 12:25:24.768000+08:00\n",
      "thermal_cozie                                  10\n",
      "user_id                                   cresh07\n",
      "Space_id                                      NaN\n",
      "room                                          NaN\n",
      "time_duration                                   0\n",
      "Name: 301, dtype: object], [time             2019-10-07 13:09:34.782000+08:00\n",
      "thermal_cozie                                  10\n",
      "user_id                                   cresh07\n",
      "Space_id                                      NaN\n",
      "room                                          NaN\n",
      "time_duration                                   0\n",
      "Name: 311, dtype: object, time             2019-10-07 13:27:36.561000+08:00\n",
      "thermal_cozie                                  10\n",
      "user_id                                   cresh07\n",
      "Space_id                                      NaN\n",
      "room                                          NaN\n",
      "time_duration                                   0\n",
      "Name: 318, dtype: object, time             2019-10-07 13:49:53.203000+08:00\n",
      "thermal_cozie                                  10\n",
      "user_id                                   cresh07\n",
      "Space_id                                      NaN\n",
      "room                                          NaN\n",
      "time_duration                                   0\n",
      "Name: 326, dtype: object], [time             2019-10-07 14:49:01.491000+08:00\n",
      "thermal_cozie                                  10\n",
      "user_id                                   cresh07\n",
      "Space_id                                      NaN\n",
      "room                                          NaN\n",
      "time_duration                                   0\n",
      "Name: 347, dtype: object, time             2019-10-07 15:09:30.992000+08:00\n",
      "thermal_cozie                                  10\n",
      "user_id                                   cresh07\n",
      "Space_id                                      NaN\n",
      "room                                          NaN\n",
      "time_duration                                   0\n",
      "Name: 358, dtype: object], [time             2019-10-07 17:17:17.604000+08:00\n",
      "thermal_cozie                                  10\n",
      "user_id                                   cresh07\n",
      "Space_id                                      NaN\n",
      "room                                          NaN\n",
      "time_duration                                   0\n",
      "Name: 407, dtype: object, time             2019-10-07 17:35:43.444000+08:00\n",
      "thermal_cozie                                  10\n",
      "user_id                                   cresh07\n",
      "Space_id                                      NaN\n",
      "room                                          NaN\n",
      "time_duration                                   0\n",
      "Name: 413, dtype: object], [time             2019-10-07 18:06:03.025000+08:00\n",
      "thermal_cozie                                  10\n",
      "user_id                                   cresh07\n",
      "Space_id                                      NaN\n",
      "room                                          NaN\n",
      "time_duration                                   0\n",
      "Name: 420, dtype: object, time             2019-10-07 18:35:17.532000+08:00\n",
      "thermal_cozie                                   9\n",
      "user_id                                   cresh07\n",
      "Space_id                                      NaN\n",
      "room                                          NaN\n",
      "time_duration                                   0\n",
      "Name: 424, dtype: object], [time             2019-10-08 09:50:31.706000+08:00\n",
      "thermal_cozie                                  10\n",
      "user_id                                   cresh07\n",
      "Space_id                                      NaN\n",
      "room                                          NaN\n",
      "time_duration                                   0\n",
      "Name: 483, dtype: object, time             2019-10-08 10:10:43.775000+08:00\n",
      "thermal_cozie                                  10\n",
      "user_id                                   cresh07\n",
      "Space_id                                      NaN\n",
      "room                                          NaN\n",
      "time_duration                                   0\n",
      "Name: 489, dtype: object, time             2019-10-08 10:33:30.767000+08:00\n",
      "thermal_cozie                                  10\n",
      "user_id                                   cresh07\n",
      "Space_id                                      NaN\n",
      "room                                          NaN\n",
      "time_duration                                   0\n",
      "Name: 497, dtype: object, time             2019-10-08 10:51:34.829000+08:00\n",
      "thermal_cozie                                  10\n",
      "user_id                                   cresh07\n",
      "Space_id                                      NaN\n",
      "room                                          NaN\n",
      "time_duration                                   0\n",
      "Name: 503, dtype: object, time             2019-10-08 11:09:19.151000+08:00\n",
      "thermal_cozie                                   9\n",
      "user_id                                   cresh07\n",
      "Space_id                                      NaN\n",
      "room                                          NaN\n",
      "time_duration                                   0\n",
      "Name: 507, dtype: object, time             2019-10-08 11:12:24.480000+08:00\n",
      "thermal_cozie                                  10\n",
      "user_id                                   cresh07\n",
      "Space_id                                      NaN\n",
      "room                                          NaN\n",
      "time_duration                                   0\n",
      "Name: 510, dtype: object], [time             2019-10-08 12:50:11.232000+08:00\n",
      "thermal_cozie                                  10\n",
      "user_id                                   cresh07\n",
      "Space_id                                      NaN\n",
      "room                                          NaN\n",
      "time_duration                                   0\n",
      "Name: 543, dtype: object, time             2019-10-08 13:08:01.991000+08:00\n",
      "thermal_cozie                                   9\n",
      "user_id                                   cresh07\n",
      "Space_id                                      NaN\n",
      "room                                          NaN\n",
      "time_duration                                   0\n",
      "Name: 551, dtype: object, time             2019-10-08 13:12:20.572000+08:00\n",
      "thermal_cozie                                   9\n",
      "user_id                                   cresh07\n",
      "Space_id                                      NaN\n",
      "room                                          NaN\n",
      "time_duration                                   0\n",
      "Name: 556, dtype: object], [time             2019-10-08 16:28:28.660000+08:00\n",
      "thermal_cozie                                   9\n",
      "user_id                                   cresh07\n",
      "Space_id                                      NaN\n",
      "room                                          NaN\n",
      "time_duration                                   0\n",
      "Name: 637, dtype: object, time             2019-10-08 16:50:18.473000+08:00\n",
      "thermal_cozie                                  10\n",
      "user_id                                   cresh07\n",
      "Space_id                                      NaN\n",
      "room                                          NaN\n",
      "time_duration                                   0\n",
      "Name: 645, dtype: object, time             2019-10-08 17:13:22.953000+08:00\n",
      "thermal_cozie                                  10\n",
      "user_id                                   cresh07\n",
      "Space_id                                      NaN\n",
      "room                                          NaN\n",
      "time_duration                                   0\n",
      "Name: 655, dtype: object], [time             2019-10-08 17:43:42.456000+08:00\n",
      "thermal_cozie                                  10\n",
      "user_id                                   cresh07\n",
      "Space_id                                      NaN\n",
      "room                                          NaN\n",
      "time_duration                                   0\n",
      "Name: 664, dtype: object, time             2019-10-08 17:50:07.496000+08:00\n",
      "thermal_cozie                                  10\n",
      "user_id                                   cresh07\n",
      "Space_id                                      NaN\n",
      "room                                          NaN\n",
      "time_duration                                   0\n",
      "Name: 666, dtype: object], [time                    2019-10-08 19:39:27.144000+08:00\n",
      "thermal_cozie                                         10\n",
      "user_id                                          cresh07\n",
      "Space_id                                               6\n",
      "room             HOT_DESKING_ARCHITECTURE_STUDIO_SPACE_1\n",
      "time_duration                                          0\n",
      "Name: 692, dtype: object, time             2019-10-08 19:51:15.368000+08:00\n",
      "thermal_cozie                                  10\n",
      "user_id                                   cresh07\n",
      "Space_id                                      NaN\n",
      "room                                          NaN\n",
      "time_duration                                   0\n",
      "Name: 695, dtype: object, time             2019-10-08 20:02:41.854000+08:00\n",
      "thermal_cozie                                  10\n",
      "user_id                                   cresh07\n",
      "Space_id                                       20\n",
      "room                                IRC_LIBRARY_1\n",
      "time_duration                                   0\n",
      "Name: 697, dtype: object, time             2019-10-08 20:22:52.546000+08:00\n",
      "thermal_cozie                                  11\n",
      "user_id                                   cresh07\n",
      "Space_id                                       20\n",
      "room                                IRC_LIBRARY_1\n",
      "time_duration                                   0\n",
      "Name: 703, dtype: object, time             2019-10-08 20:34:33.382000+08:00\n",
      "thermal_cozie                                  10\n",
      "user_id                                   cresh07\n",
      "Space_id                                       20\n",
      "room                                IRC_LIBRARY_1\n",
      "time_duration                                   0\n",
      "Name: 706, dtype: object, time             2019-10-08 20:49:44.228000+08:00\n",
      "thermal_cozie                                  10\n",
      "user_id                                   cresh07\n",
      "Space_id                                       20\n",
      "room                                IRC_LIBRARY_1\n",
      "time_duration                                   0\n",
      "Name: 712, dtype: object, time             2019-10-08 21:02:23.584000+08:00\n",
      "thermal_cozie                                  10\n",
      "user_id                                   cresh07\n",
      "Space_id                                      NaN\n",
      "room                                          NaN\n",
      "time_duration                                   0\n",
      "Name: 715, dtype: object], [time             2019-10-08 21:37:13.427000+08:00\n",
      "thermal_cozie                                  10\n",
      "user_id                                   cresh07\n",
      "Space_id                                      NaN\n",
      "room                                          NaN\n",
      "time_duration                                   0\n",
      "Name: 721, dtype: object, time             2019-10-08 21:54:37.530000+08:00\n",
      "thermal_cozie                                  10\n",
      "user_id                                   cresh07\n",
      "Space_id                                      NaN\n",
      "room                                          NaN\n",
      "time_duration                                   0\n",
      "Name: 723, dtype: object], [time             2019-10-09 10:05:55.790000+08:00\n",
      "thermal_cozie                                  10\n",
      "user_id                                   cresh07\n",
      "Space_id                                        0\n",
      "room                      OPEN_EXHIBITION_SPACE_2\n",
      "time_duration                                   0\n",
      "Name: 792, dtype: object, time             2019-10-09 10:20:34.943000+08:00\n",
      "thermal_cozie                                  10\n",
      "user_id                                   cresh07\n",
      "Space_id                                        0\n",
      "room                      OPEN_EXHIBITION_SPACE_2\n",
      "time_duration                                   0\n",
      "Name: 798, dtype: object, time             2019-10-09 10:35:41.507000+08:00\n",
      "thermal_cozie                                  10\n",
      "user_id                                   cresh07\n",
      "Space_id                                        0\n",
      "room                      OPEN_EXHIBITION_SPACE_2\n",
      "time_duration                                   0\n",
      "Name: 803, dtype: object, time             2019-10-09 10:50:49.187000+08:00\n",
      "thermal_cozie                                  10\n",
      "user_id                                   cresh07\n",
      "Space_id                                        1\n",
      "room                                         CAFE\n",
      "time_duration                                   0\n",
      "Name: 807, dtype: object, time             2019-10-09 11:06:17.553000+08:00\n",
      "thermal_cozie                                  10\n",
      "user_id                                   cresh07\n",
      "Space_id                                        1\n",
      "room                                         CAFE\n",
      "time_duration                                   0\n",
      "Name: 814, dtype: object, time             2019-10-09 11:18:36.114000+08:00\n",
      "thermal_cozie                                  10\n",
      "user_id                                   cresh07\n",
      "Space_id                                        1\n",
      "room                                         CAFE\n",
      "time_duration                                   0\n",
      "Name: 825, dtype: object], [time             2019-10-09 11:50:18.253000+08:00\n",
      "thermal_cozie                                  10\n",
      "user_id                                   cresh07\n",
      "Space_id                                       -1\n",
      "room                      OPEN_EXHIBITION_SPACE_2\n",
      "time_duration                                   0\n",
      "Name: 838, dtype: object, time             2019-10-09 12:06:37.640000+08:00\n",
      "thermal_cozie                                  10\n",
      "user_id                                   cresh07\n",
      "Space_id                                        1\n",
      "room                                         CAFE\n",
      "time_duration                                   0\n",
      "Name: 843, dtype: object, time             2019-10-09 12:13:46.772000+08:00\n",
      "thermal_cozie                                  10\n",
      "user_id                                   cresh07\n",
      "Space_id                                        0\n",
      "room                      OPEN_EXHIBITION_SPACE_2\n",
      "time_duration                                   0\n",
      "Name: 846, dtype: object, time             2019-10-09 12:32:48.493000+08:00\n",
      "thermal_cozie                                  10\n",
      "user_id                                   cresh07\n",
      "Space_id                                        1\n",
      "room                                         CAFE\n",
      "time_duration                                   0\n",
      "Name: 853, dtype: object, time             2019-10-09 12:44:26.543000+08:00\n",
      "thermal_cozie                                  10\n",
      "user_id                                   cresh07\n",
      "Space_id                                        1\n",
      "room                                         CAFE\n",
      "time_duration                                   0\n",
      "Name: 857, dtype: object, time             2019-10-09 13:01:07.680000+08:00\n",
      "thermal_cozie                                  10\n",
      "user_id                                   cresh07\n",
      "Space_id                                       -1\n",
      "room                      OPEN_EXHIBITION_SPACE_2\n",
      "time_duration                                   0\n",
      "Name: 864, dtype: object, time             2019-10-09 13:16:53.175000+08:00\n",
      "thermal_cozie                                  10\n",
      "user_id                                   cresh07\n",
      "Space_id                                       -1\n",
      "room                                          NaN\n",
      "time_duration                                   0\n",
      "Name: 874, dtype: object, time             2019-10-09 13:34:31.918000+08:00\n",
      "thermal_cozie                                  10\n",
      "user_id                                   cresh07\n",
      "Space_id                                        2\n",
      "room                                 ENERGY_LAB_1\n",
      "time_duration                                   0\n",
      "Name: 883, dtype: object]]\n"
     ]
    }
   ],
   "source": [
    "# Split the cluster up according to their timing\n",
    "for i in range(len(all_clusters)):\n",
    "    if (len(all_clusters[i]) > 1):\n",
    "        # If have more than 1 datapoint\n",
    "        tempList = all_clusters[i] # Store into tempList for splitting\n",
    "        tempList2 = [] # Store all relevant datapoints in a cluster together before pushing into flitered_cluster\n",
    "        nextDataPoint = []\n",
    "         # Check if current datapoint is part of the cluster and room is not null\n",
    "        for j in range(len(tempList)):\n",
    "            space = tempList[j].Space_id\n",
    "\n",
    "            if (j == 0):\n",
    "                tempList2.append(tempList[j])\n",
    "                last_time = tempList[j].time\n",
    "\n",
    "            elif (tempList[j].time < last_time + pd.Timedelta(minutes=30)):\n",
    "                tempList2.append(tempList[j])\n",
    "                last_time = tempList[j].time\n",
    "\n",
    "        filtered_cluster_before.append(tempList2)\n",
    "print(filtered_cluster_before)    "
   ]
  },
  {
   "cell_type": "markdown",
   "metadata": {},
   "source": [
    "# Keep clusters with more than a certain amount of data points and remove NaN"
   ]
  },
  {
   "cell_type": "code",
   "execution_count": 9,
   "metadata": {},
   "outputs": [
    {
     "name": "stdout",
     "output_type": "stream",
     "text": [
      "[[time             2019-10-04 13:20:19.351000+08:00\n",
      "thermal_cozie                                  10\n",
      "user_id                                   cresh07\n",
      "Space_id                                       45\n",
      "room                       BUILDING_MATERIALS_LAB\n",
      "time_duration                                   0\n",
      "Name: 118, dtype: object, time             2019-10-04 13:30:27.209000+08:00\n",
      "thermal_cozie                                  10\n",
      "user_id                                   cresh07\n",
      "Space_id                                       45\n",
      "room                       BUILDING_MATERIALS_LAB\n",
      "time_duration                                   0\n",
      "Name: 122, dtype: object, time             2019-10-04 13:51:17.360000+08:00\n",
      "thermal_cozie                                  10\n",
      "user_id                                   cresh07\n",
      "Space_id                                       45\n",
      "room                       BUILDING_MATERIALS_LAB\n",
      "time_duration                                   0\n",
      "Name: 124, dtype: object, time             2019-10-04 14:04:18.331000+08:00\n",
      "thermal_cozie                                  10\n",
      "user_id                                   cresh07\n",
      "Space_id                                       45\n",
      "room                       BUILDING_MATERIALS_LAB\n",
      "time_duration                                   0\n",
      "Name: 128, dtype: object, time             2019-10-04 14:21:26.812000+08:00\n",
      "thermal_cozie                                  11\n",
      "user_id                                   cresh07\n",
      "Space_id                                        0\n",
      "room                                          NaN\n",
      "time_duration                                   0\n",
      "Name: 133, dtype: object, time             2019-10-04 14:35:38.733000+08:00\n",
      "thermal_cozie                                  11\n",
      "user_id                                   cresh07\n",
      "Space_id                                       -1\n",
      "room                      OPEN_EXHIBITION_SPACE_2\n",
      "time_duration                                   0\n",
      "Name: 137, dtype: object, time             2019-10-04 14:49:57.670000+08:00\n",
      "thermal_cozie                                  11\n",
      "user_id                                   cresh07\n",
      "Space_id                                        2\n",
      "room                                 ENERGY_LAB_1\n",
      "time_duration                                   0\n",
      "Name: 140, dtype: object, time             2019-10-04 15:11:09.503000+08:00\n",
      "thermal_cozie                                  11\n",
      "user_id                                   cresh07\n",
      "Space_id                                       -1\n",
      "room                      OPEN_EXHIBITION_SPACE_2\n",
      "time_duration                                   0\n",
      "Name: 148, dtype: object, time             2019-10-04 15:18:44.556000+08:00\n",
      "thermal_cozie                                  10\n",
      "user_id                                   cresh07\n",
      "Space_id                                        1\n",
      "room                                         CAFE\n",
      "time_duration                                   0\n",
      "Name: 149, dtype: object], [], [], [], [], [], [], [], [], [], [], [time                    2019-10-08 19:39:27.144000+08:00\n",
      "thermal_cozie                                         10\n",
      "user_id                                          cresh07\n",
      "Space_id                                               6\n",
      "room             HOT_DESKING_ARCHITECTURE_STUDIO_SPACE_1\n",
      "time_duration                                          0\n",
      "Name: 692, dtype: object, time             2019-10-08 20:02:41.854000+08:00\n",
      "thermal_cozie                                  10\n",
      "user_id                                   cresh07\n",
      "Space_id                                       20\n",
      "room                                IRC_LIBRARY_1\n",
      "time_duration                                   0\n",
      "Name: 697, dtype: object, time             2019-10-08 20:22:52.546000+08:00\n",
      "thermal_cozie                                  11\n",
      "user_id                                   cresh07\n",
      "Space_id                                       20\n",
      "room                                IRC_LIBRARY_1\n",
      "time_duration                                   0\n",
      "Name: 703, dtype: object, time             2019-10-08 20:34:33.382000+08:00\n",
      "thermal_cozie                                  10\n",
      "user_id                                   cresh07\n",
      "Space_id                                       20\n",
      "room                                IRC_LIBRARY_1\n",
      "time_duration                                   0\n",
      "Name: 706, dtype: object, time             2019-10-08 20:49:44.228000+08:00\n",
      "thermal_cozie                                  10\n",
      "user_id                                   cresh07\n",
      "Space_id                                       20\n",
      "room                                IRC_LIBRARY_1\n",
      "time_duration                                   0\n",
      "Name: 712, dtype: object], [], [time             2019-10-09 10:05:55.790000+08:00\n",
      "thermal_cozie                                  10\n",
      "user_id                                   cresh07\n",
      "Space_id                                        0\n",
      "room                      OPEN_EXHIBITION_SPACE_2\n",
      "time_duration                                   0\n",
      "Name: 792, dtype: object, time             2019-10-09 10:20:34.943000+08:00\n",
      "thermal_cozie                                  10\n",
      "user_id                                   cresh07\n",
      "Space_id                                        0\n",
      "room                      OPEN_EXHIBITION_SPACE_2\n",
      "time_duration                                   0\n",
      "Name: 798, dtype: object, time             2019-10-09 10:35:41.507000+08:00\n",
      "thermal_cozie                                  10\n",
      "user_id                                   cresh07\n",
      "Space_id                                        0\n",
      "room                      OPEN_EXHIBITION_SPACE_2\n",
      "time_duration                                   0\n",
      "Name: 803, dtype: object, time             2019-10-09 10:50:49.187000+08:00\n",
      "thermal_cozie                                  10\n",
      "user_id                                   cresh07\n",
      "Space_id                                        1\n",
      "room                                         CAFE\n",
      "time_duration                                   0\n",
      "Name: 807, dtype: object, time             2019-10-09 11:06:17.553000+08:00\n",
      "thermal_cozie                                  10\n",
      "user_id                                   cresh07\n",
      "Space_id                                        1\n",
      "room                                         CAFE\n",
      "time_duration                                   0\n",
      "Name: 814, dtype: object, time             2019-10-09 11:18:36.114000+08:00\n",
      "thermal_cozie                                  10\n",
      "user_id                                   cresh07\n",
      "Space_id                                        1\n",
      "room                                         CAFE\n",
      "time_duration                                   0\n",
      "Name: 825, dtype: object], [time             2019-10-09 11:50:18.253000+08:00\n",
      "thermal_cozie                                  10\n",
      "user_id                                   cresh07\n",
      "Space_id                                       -1\n",
      "room                      OPEN_EXHIBITION_SPACE_2\n",
      "time_duration                                   0\n",
      "Name: 838, dtype: object, time             2019-10-09 12:06:37.640000+08:00\n",
      "thermal_cozie                                  10\n",
      "user_id                                   cresh07\n",
      "Space_id                                        1\n",
      "room                                         CAFE\n",
      "time_duration                                   0\n",
      "Name: 843, dtype: object, time             2019-10-09 12:13:46.772000+08:00\n",
      "thermal_cozie                                  10\n",
      "user_id                                   cresh07\n",
      "Space_id                                        0\n",
      "room                      OPEN_EXHIBITION_SPACE_2\n",
      "time_duration                                   0\n",
      "Name: 846, dtype: object, time             2019-10-09 12:32:48.493000+08:00\n",
      "thermal_cozie                                  10\n",
      "user_id                                   cresh07\n",
      "Space_id                                        1\n",
      "room                                         CAFE\n",
      "time_duration                                   0\n",
      "Name: 853, dtype: object, time             2019-10-09 12:44:26.543000+08:00\n",
      "thermal_cozie                                  10\n",
      "user_id                                   cresh07\n",
      "Space_id                                        1\n",
      "room                                         CAFE\n",
      "time_duration                                   0\n",
      "Name: 857, dtype: object, time             2019-10-09 13:01:07.680000+08:00\n",
      "thermal_cozie                                  10\n",
      "user_id                                   cresh07\n",
      "Space_id                                       -1\n",
      "room                      OPEN_EXHIBITION_SPACE_2\n",
      "time_duration                                   0\n",
      "Name: 864, dtype: object, time             2019-10-09 13:16:53.175000+08:00\n",
      "thermal_cozie                                  10\n",
      "user_id                                   cresh07\n",
      "Space_id                                       -1\n",
      "room                                          NaN\n",
      "time_duration                                   0\n",
      "Name: 874, dtype: object, time             2019-10-09 13:34:31.918000+08:00\n",
      "thermal_cozie                                  10\n",
      "user_id                                   cresh07\n",
      "Space_id                                        2\n",
      "room                                 ENERGY_LAB_1\n",
      "time_duration                                   0\n",
      "Name: 883, dtype: object]]\n"
     ]
    }
   ],
   "source": [
    "# Split the cluster up according to their timing\n",
    "for i in range(len(all_clusters)):\n",
    "    if (len(all_clusters[i]) > 1):\n",
    "        # If have more than 1 datapoint\n",
    "        tempList = all_clusters[i] # Store into tempList for splitting\n",
    "        tempList2 = [] # Store all relevant datapoints in a cluster together before pushing into flitered_cluster\n",
    "        nextDataPoint = []\n",
    "         # Check if current datapoint is part of the cluster and room is not null\n",
    "        for j in range(len(tempList)):\n",
    "            space = tempList[j].Space_id\n",
    "            \n",
    "            if(isNaN(space) == False):    \n",
    "                if (j == 0):\n",
    "                    tempList2.append(tempList[j])\n",
    "                    last_time = tempList[j].time\n",
    "\n",
    "                elif (tempList[j].time < last_time + pd.Timedelta(minutes=30)):\n",
    "                    tempList2.append(tempList[j])\n",
    "                    last_time = tempList[j].time\n",
    "\n",
    "        filtered_cluster_after.append(tempList2)\n",
    "print(filtered_cluster_after)   "
   ]
  },
  {
   "cell_type": "markdown",
   "metadata": {},
   "source": [
    "# Show how many datapoints are in each cluster prior to removing"
   ]
  },
  {
   "cell_type": "code",
   "execution_count": 10,
   "metadata": {},
   "outputs": [
    {
     "name": "stdout",
     "output_type": "stream",
     "text": [
      "0:16 \n",
      "1:8 \n",
      "2:2 \n",
      "3:3 \n",
      "4:2 \n",
      "5:2 \n",
      "6:2 \n",
      "7:6 \n",
      "8:3 \n",
      "9:3 \n",
      "10:2 \n",
      "11:7 \n",
      "12:2 \n",
      "13:6 \n",
      "14:8 \n"
     ]
    }
   ],
   "source": [
    "for i in range(len(filtered_cluster_before)):\n",
    "    print(\"{0}:{1} \".format(i,(len(filtered_cluster_before[i]))))"
   ]
  },
  {
   "cell_type": "markdown",
   "metadata": {},
   "source": [
    "# Add in values to the duration difference column"
   ]
  },
  {
   "cell_type": "code",
   "execution_count": 11,
   "metadata": {},
   "outputs": [],
   "source": [
    "for i in range(len(filtered_cluster_before)):\n",
    "    # First variable have no time difference, thus 0.0s\n",
    "    timeDifferenceList = [0.0]\n",
    "    for j in range(len(filtered_cluster_before[i])):\n",
    "        if (j == 0):\n",
    "            last_time = filtered_cluster_before[i][j].time\n",
    "        else:\n",
    "            timeDiff = filtered_cluster_before[i][j].time - last_time\n",
    "            filtered_cluster_before[i][j].time_duration = (timeDiff.total_seconds()/60)\n",
    "            # Set the last time as the current one\n",
    "            last_time = filtered_cluster_before[i][j].time\n",
    "            \n",
    "for i in range(len(filtered_cluster_after)):\n",
    "    # First variable have no time difference, thus 0.0s\n",
    "    timeDifferenceList = [0.0]\n",
    "    for j in range(len(filtered_cluster_after[i])):\n",
    "        if (j == 0):\n",
    "            last_time = filtered_cluster_after[i][j].time\n",
    "        else:\n",
    "            timeDiff = filtered_cluster_after[i][j].time - last_time\n",
    "            filtered_cluster_after[i][j].time_duration = (timeDiff.total_seconds()/60)\n",
    "            # Set the last time as the current one\n",
    "            last_time = filtered_cluster_after[i][j].time"
   ]
  },
  {
   "cell_type": "markdown",
   "metadata": {},
   "source": [
    "# Plot all graph before removal of NaN"
   ]
  },
  {
   "cell_type": "code",
   "execution_count": 12,
   "metadata": {},
   "outputs": [
    {
     "data": {
      "image/png": "[encoded data removed]",
      "text/plain": [
       "<Figure size 432x288 with 1 Axes>"
      ]
     },
     "metadata": {
      "needs_background": "light"
     },
     "output_type": "display_data"
    }
   ],
   "source": [
    "# Plot all clusters into ONE graph\n",
    "thermal = []\n",
    "duration = []\n",
    "base = 0.0\n",
    "\n",
    "for i in range(len(filtered_cluster_before)):\n",
    "    for j in range(len(filtered_cluster_before[i])):\n",
    "        base += filtered_cluster_before[i][j].time_duration\n",
    "        thermal.append(filtered_cluster_before[i][j].thermal_cozie)\n",
    "        duration.append(base)\n",
    "        \n",
    "    plt.plot(duration,thermal)\n",
    "    plt.xlabel(\"Duration\")\n",
    "    plt.ylabel(\"Thermal Cozie\")\n",
    "    plt.ylim(9,11)\n",
    "    \n",
    "    # Re-init to remove previous cluster data\n",
    "    base = 0.0\n",
    "    thermal = []\n",
    "    duration = []"
   ]
  },
  {
   "cell_type": "markdown",
   "metadata": {},
   "source": [
    "# Plot all graph seperately before removal of NaN"
   ]
  },
  {
   "cell_type": "code",
   "execution_count": 13,
   "metadata": {},
   "outputs": [
    {
     "data": {
      "image/png": "[encoded data removed]",
      "text/plain": [
       "<Figure size 432x288 with 1 Axes>"
      ]
     },
     "metadata": {
      "needs_background": "light"
     },
     "output_type": "display_data"
    },
    {
     "data": {
      "image/png": "[encoded data removed]",
      "text/plain": [
       "<Figure size 432x288 with 1 Axes>"
      ]
     },
     "metadata": {
      "needs_background": "light"
     },
     "output_type": "display_data"
    },
    {
     "data": {
      "image/png": "[encoded data removed]",
      "text/plain": [
       "<Figure size 432x288 with 1 Axes>"
      ]
     },
     "metadata": {
      "needs_background": "light"
     },
     "output_type": "display_data"
    },
    {
     "data": {
      "image/png": "[encoded data removed]",
      "text/plain": [
       "<Figure size 432x288 with 1 Axes>"
      ]
     },
     "metadata": {
      "needs_background": "light"
     },
     "output_type": "display_data"
    },
    {
     "data": {
      "image/png": "[encoded data removed]",
      "text/plain": [
       "<Figure size 432x288 with 1 Axes>"
      ]
     },
     "metadata": {
      "needs_background": "light"
     },
     "output_type": "display_data"
    },
    {
     "data": {
      "image/png": "[encoded data removed]",
      "text/plain": [
       "<Figure size 432x288 with 1 Axes>"
      ]
     },
     "metadata": {
      "needs_background": "light"
     },
     "output_type": "display_data"
    },
    {
     "data": {
      "image/png": "[encoded data removed]",
      "text/plain": [
       "<Figure size 432x288 with 1 Axes>"
      ]
     },
     "metadata": {
      "needs_background": "light"
     },
     "output_type": "display_data"
    },
    {
     "data": {
      "image/png": "[encoded data removed]",
      "text/plain": [
       "<Figure size 432x288 with 1 Axes>"
      ]
     },
     "metadata": {
      "needs_background": "light"
     },
     "output_type": "display_data"
    },
    {
     "data": {
      "image/png": "[encoded data removed]",
      "text/plain": [
       "<Figure size 432x288 with 1 Axes>"
      ]
     },
     "metadata": {
      "needs_background": "light"
     },
     "output_type": "display_data"
    },
    {
     "data": {
      "image/png": "[encoded data removed]",
      "text/plain": [
       "<Figure size 432x288 with 1 Axes>"
      ]
     },
     "metadata": {
      "needs_background": "light"
     },
     "output_type": "display_data"
    },
    {
     "data": {
      "image/png": "[encoded data removed]",
      "text/plain": [
       "<Figure size 432x288 with 1 Axes>"
      ]
     },
     "metadata": {
      "needs_background": "light"
     },
     "output_type": "display_data"
    },
    {
     "data": {
      "image/png": "[encoded data removed]",
      "text/plain": [
       "<Figure size 432x288 with 1 Axes>"
      ]
     },
     "metadata": {
      "needs_background": "light"
     },
     "output_type": "display_data"
    },
    {
     "data": {
      "image/png": "[encoded data removed]",
      "text/plain": [
       "<Figure size 432x288 with 1 Axes>"
      ]
     },
     "metadata": {
      "needs_background": "light"
     },
     "output_type": "display_data"
    },
    {
     "data": {
      "image/png": "[encoded data removed]",
      "text/plain": [
       "<Figure size 432x288 with 1 Axes>"
      ]
     },
     "metadata": {
      "needs_background": "light"
     },
     "output_type": "display_data"
    },
    {
     "data": {
      "image/png": "[encoded data removed]",
      "text/plain": [
       "<Figure size 432x288 with 1 Axes>"
      ]
     },
     "metadata": {
      "needs_background": "light"
     },
     "output_type": "display_data"
    }
   ],
   "source": [
    "# Plot all clusters into ONE graph\n",
    "thermal = []\n",
    "duration = []\n",
    "base = 0.0\n",
    "\n",
    "for i in range(len(filtered_cluster_before)):\n",
    "    for j in range(len(filtered_cluster_before[i])):\n",
    "        base += filtered_cluster_before[i][j].time_duration\n",
    "        thermal.append(filtered_cluster_before[i][j].thermal_cozie)\n",
    "        duration.append(base)\n",
    "    \n",
    "    plt.figure()\n",
    "    plt.scatter(duration,thermal)\n",
    "    plt.plot(duration,thermal)\n",
    "    plt.xlabel(\"Duration\")\n",
    "    plt.ylabel(\"Thermal Cozie\")\n",
    "    plt.yticks(thermal_cozie_ticks)\n",
    "    \n",
    "    # Re-init to remove previous cluster data\n",
    "    base = 0.0\n",
    "    thermal = []\n",
    "    duration = []"
   ]
  },
  {
   "cell_type": "markdown",
   "metadata": {},
   "source": [
    "# Remove list with zero elements inside filtered_cluster_after"
   ]
  },
  {
   "cell_type": "code",
   "execution_count": 14,
   "metadata": {},
   "outputs": [
    {
     "name": "stdout",
     "output_type": "stream",
     "text": [
      "[[time             2019-10-04 13:20:19.351000+08:00\n",
      "thermal_cozie                                  10\n",
      "user_id                                   cresh07\n",
      "Space_id                                       45\n",
      "room                       BUILDING_MATERIALS_LAB\n",
      "time_duration                                   0\n",
      "Name: 118, dtype: object, time             2019-10-04 13:30:27.209000+08:00\n",
      "thermal_cozie                                  10\n",
      "user_id                                   cresh07\n",
      "Space_id                                       45\n",
      "room                       BUILDING_MATERIALS_LAB\n",
      "time_duration                              10.131\n",
      "Name: 122, dtype: object, time             2019-10-04 13:51:17.360000+08:00\n",
      "thermal_cozie                                  10\n",
      "user_id                                   cresh07\n",
      "Space_id                                       45\n",
      "room                       BUILDING_MATERIALS_LAB\n",
      "time_duration                             20.8359\n",
      "Name: 124, dtype: object, time             2019-10-04 14:04:18.331000+08:00\n",
      "thermal_cozie                                  10\n",
      "user_id                                   cresh07\n",
      "Space_id                                       45\n",
      "room                       BUILDING_MATERIALS_LAB\n",
      "time_duration                             13.0162\n",
      "Name: 128, dtype: object, time             2019-10-04 14:21:26.812000+08:00\n",
      "thermal_cozie                                  11\n",
      "user_id                                   cresh07\n",
      "Space_id                                        0\n",
      "room                                          NaN\n",
      "time_duration                             17.1413\n",
      "Name: 133, dtype: object, time             2019-10-04 14:35:38.733000+08:00\n",
      "thermal_cozie                                  11\n",
      "user_id                                   cresh07\n",
      "Space_id                                       -1\n",
      "room                      OPEN_EXHIBITION_SPACE_2\n",
      "time_duration                             14.1987\n",
      "Name: 137, dtype: object, time             2019-10-04 14:49:57.670000+08:00\n",
      "thermal_cozie                                  11\n",
      "user_id                                   cresh07\n",
      "Space_id                                        2\n",
      "room                                 ENERGY_LAB_1\n",
      "time_duration                             14.3156\n",
      "Name: 140, dtype: object, time             2019-10-04 15:11:09.503000+08:00\n",
      "thermal_cozie                                  11\n",
      "user_id                                   cresh07\n",
      "Space_id                                       -1\n",
      "room                      OPEN_EXHIBITION_SPACE_2\n",
      "time_duration                             21.1972\n",
      "Name: 148, dtype: object, time             2019-10-04 15:18:44.556000+08:00\n",
      "thermal_cozie                                  10\n",
      "user_id                                   cresh07\n",
      "Space_id                                        1\n",
      "room                                         CAFE\n",
      "time_duration                             7.58422\n",
      "Name: 149, dtype: object], [time                    2019-10-08 19:39:27.144000+08:00\n",
      "thermal_cozie                                         10\n",
      "user_id                                          cresh07\n",
      "Space_id                                               6\n",
      "room             HOT_DESKING_ARCHITECTURE_STUDIO_SPACE_1\n",
      "time_duration                                          0\n",
      "Name: 692, dtype: object, time             2019-10-08 20:02:41.854000+08:00\n",
      "thermal_cozie                                  10\n",
      "user_id                                   cresh07\n",
      "Space_id                                       20\n",
      "room                                IRC_LIBRARY_1\n",
      "time_duration                             23.2452\n",
      "Name: 697, dtype: object, time             2019-10-08 20:22:52.546000+08:00\n",
      "thermal_cozie                                  11\n",
      "user_id                                   cresh07\n",
      "Space_id                                       20\n",
      "room                                IRC_LIBRARY_1\n",
      "time_duration                             20.1782\n",
      "Name: 703, dtype: object, time             2019-10-08 20:34:33.382000+08:00\n",
      "thermal_cozie                                  10\n",
      "user_id                                   cresh07\n",
      "Space_id                                       20\n",
      "room                                IRC_LIBRARY_1\n",
      "time_duration                             11.6806\n",
      "Name: 706, dtype: object, time             2019-10-08 20:49:44.228000+08:00\n",
      "thermal_cozie                                  10\n",
      "user_id                                   cresh07\n",
      "Space_id                                       20\n",
      "room                                IRC_LIBRARY_1\n",
      "time_duration                             15.1808\n",
      "Name: 712, dtype: object], [time             2019-10-09 10:05:55.790000+08:00\n",
      "thermal_cozie                                  10\n",
      "user_id                                   cresh07\n",
      "Space_id                                        0\n",
      "room                      OPEN_EXHIBITION_SPACE_2\n",
      "time_duration                                   0\n",
      "Name: 792, dtype: object, time             2019-10-09 10:20:34.943000+08:00\n",
      "thermal_cozie                                  10\n",
      "user_id                                   cresh07\n",
      "Space_id                                        0\n",
      "room                      OPEN_EXHIBITION_SPACE_2\n",
      "time_duration                             14.6525\n",
      "Name: 798, dtype: object, time             2019-10-09 10:35:41.507000+08:00\n",
      "thermal_cozie                                  10\n",
      "user_id                                   cresh07\n",
      "Space_id                                        0\n",
      "room                      OPEN_EXHIBITION_SPACE_2\n",
      "time_duration                             15.1094\n",
      "Name: 803, dtype: object, time             2019-10-09 10:50:49.187000+08:00\n",
      "thermal_cozie                                  10\n",
      "user_id                                   cresh07\n",
      "Space_id                                        1\n",
      "room                                         CAFE\n",
      "time_duration                              15.128\n",
      "Name: 807, dtype: object, time             2019-10-09 11:06:17.553000+08:00\n",
      "thermal_cozie                                  10\n",
      "user_id                                   cresh07\n",
      "Space_id                                        1\n",
      "room                                         CAFE\n",
      "time_duration                             15.4728\n",
      "Name: 814, dtype: object, time             2019-10-09 11:18:36.114000+08:00\n",
      "thermal_cozie                                  10\n",
      "user_id                                   cresh07\n",
      "Space_id                                        1\n",
      "room                                         CAFE\n",
      "time_duration                             12.3094\n",
      "Name: 825, dtype: object], [time             2019-10-09 11:50:18.253000+08:00\n",
      "thermal_cozie                                  10\n",
      "user_id                                   cresh07\n",
      "Space_id                                       -1\n",
      "room                      OPEN_EXHIBITION_SPACE_2\n",
      "time_duration                                   0\n",
      "Name: 838, dtype: object, time             2019-10-09 12:06:37.640000+08:00\n",
      "thermal_cozie                                  10\n",
      "user_id                                   cresh07\n",
      "Space_id                                        1\n",
      "room                                         CAFE\n",
      "time_duration                             16.3231\n",
      "Name: 843, dtype: object, time             2019-10-09 12:13:46.772000+08:00\n",
      "thermal_cozie                                  10\n",
      "user_id                                   cresh07\n",
      "Space_id                                        0\n",
      "room                      OPEN_EXHIBITION_SPACE_2\n",
      "time_duration                              7.1522\n",
      "Name: 846, dtype: object, time             2019-10-09 12:32:48.493000+08:00\n",
      "thermal_cozie                                  10\n",
      "user_id                                   cresh07\n",
      "Space_id                                        1\n",
      "room                                         CAFE\n",
      "time_duration                             19.0287\n",
      "Name: 853, dtype: object, time             2019-10-09 12:44:26.543000+08:00\n",
      "thermal_cozie                                  10\n",
      "user_id                                   cresh07\n",
      "Space_id                                        1\n",
      "room                                         CAFE\n",
      "time_duration                             11.6342\n",
      "Name: 857, dtype: object, time             2019-10-09 13:01:07.680000+08:00\n",
      "thermal_cozie                                  10\n",
      "user_id                                   cresh07\n",
      "Space_id                                       -1\n",
      "room                      OPEN_EXHIBITION_SPACE_2\n",
      "time_duration                             16.6856\n",
      "Name: 864, dtype: object, time             2019-10-09 13:16:53.175000+08:00\n",
      "thermal_cozie                                  10\n",
      "user_id                                   cresh07\n",
      "Space_id                                       -1\n",
      "room                                          NaN\n",
      "time_duration                             15.7583\n",
      "Name: 874, dtype: object, time             2019-10-09 13:34:31.918000+08:00\n",
      "thermal_cozie                                  10\n",
      "user_id                                   cresh07\n",
      "Space_id                                        2\n",
      "room                                 ENERGY_LAB_1\n",
      "time_duration                             17.6457\n",
      "Name: 883, dtype: object]]\n"
     ]
    }
   ],
   "source": [
    "tempList3 = []\n",
    "for i in range(len(filtered_cluster_after)):\n",
    "    if (len(filtered_cluster_after[i]) > 1):\n",
    "        tempList3.append(filtered_cluster_after[i])\n",
    "\n",
    "filtered_cluster_after = tempList3\n",
    "print(filtered_cluster_after)"
   ]
  },
  {
   "cell_type": "markdown",
   "metadata": {},
   "source": [
    "# Show how many datapoint are in each cluster after filtering NaN and zero element"
   ]
  },
  {
   "cell_type": "code",
   "execution_count": 15,
   "metadata": {},
   "outputs": [
    {
     "name": "stdout",
     "output_type": "stream",
     "text": [
      "0:9 \n",
      "1:5 \n",
      "2:6 \n",
      "3:8 \n"
     ]
    }
   ],
   "source": [
    "for i in range(len(filtered_cluster_after)):\n",
    "    print(\"{0}:{1} \".format(i,(len(filtered_cluster_after[i]))))"
   ]
  },
  {
   "cell_type": "markdown",
   "metadata": {},
   "source": [
    "# Plot all cluster into one graph"
   ]
  },
  {
   "cell_type": "code",
   "execution_count": 16,
   "metadata": {},
   "outputs": [
    {
     "data": {
      "image/png": "[encoded data removed]",
      "text/plain": [
       "<Figure size 432x288 with 1 Axes>"
      ]
     },
     "metadata": {
      "needs_background": "light"
     },
     "output_type": "display_data"
    }
   ],
   "source": [
    "# Plot all clusters into ONE graph\n",
    "thermal = []\n",
    "duration = []\n",
    "base = 0.0\n",
    "\n",
    "for i in range(len(filtered_cluster_after)):\n",
    "    for j in range(len(filtered_cluster_after[i])):\n",
    "        base += filtered_cluster_after[i][j].time_duration\n",
    "        thermal.append(filtered_cluster_after[i][j].thermal_cozie)\n",
    "        duration.append(base)\n",
    "        \n",
    "    plt.plot(duration,thermal)\n",
    "    plt.xlabel(\"Duration\")\n",
    "    plt.ylabel(\"Thermal Cozie\")\n",
    "    plt.yticks(thermal_cozie_ticks)\n",
    "    \n",
    "    # Re-init to remove previous cluster data\n",
    "    base = 0.0\n",
    "    thermal = []\n",
    "    duration = []"
   ]
  },
  {
   "cell_type": "markdown",
   "metadata": {},
   "source": [
    "# Plot all cluster into separate graphs"
   ]
  },
  {
   "cell_type": "code",
   "execution_count": 17,
   "metadata": {},
   "outputs": [
    {
     "data": {
      "image/png": "[encoded data removed]",
      "text/plain": [
       "<Figure size 432x288 with 1 Axes>"
      ]
     },
     "metadata": {
      "needs_background": "light"
     },
     "output_type": "display_data"
    },
    {
     "data": {
      "image/png": "[encoded data removed]",
      "text/plain": [
       "<Figure size 432x288 with 1 Axes>"
      ]
     },
     "metadata": {
      "needs_background": "light"
     },
     "output_type": "display_data"
    },
    {
     "data": {
      "image/png": "[encoded data removed]",
      "text/plain": [
       "<Figure size 432x288 with 1 Axes>"
      ]
     },
     "metadata": {
      "needs_background": "light"
     },
     "output_type": "display_data"
    },
    {
     "data": {
      "image/png": "[encoded data removed]",
      "text/plain": [
       "<Figure size 432x288 with 1 Axes>"
      ]
     },
     "metadata": {
      "needs_background": "light"
     },
     "output_type": "display_data"
    }
   ],
   "source": [
    "# Plot all clusters into ONE graph\n",
    "thermal = []\n",
    "duration = []\n",
    "base = 0.0\n",
    "\n",
    "for i in range(len(filtered_cluster_after)):\n",
    "    for j in range(len(filtered_cluster_after[i])):\n",
    "        base += filtered_cluster_after[i][j].time_duration\n",
    "        thermal.append(filtered_cluster_after[i][j].thermal_cozie)\n",
    "        duration.append(base)\n",
    "    \n",
    "    plt.figure()\n",
    "    plt.scatter(duration,thermal)\n",
    "    plt.plot(duration,thermal)\n",
    "    plt.xlabel(\"Duration\")\n",
    "    plt.ylabel(\"Thermal Cozie\")\n",
    "    plt.yticks(thermal_cozie_ticks)\n",
    "    \n",
    "    # Re-init to remove previous cluster data\n",
    "    base = 0.0\n",
    "    thermal = []\n",
    "    duration = []"
   ]
  },
  {
   "cell_type": "markdown",
   "metadata": {},
   "source": [
    "# Plot test with vertical dotted lines"
   ]
  },
  {
   "cell_type": "code",
   "execution_count": 18,
   "metadata": {},
   "outputs": [
    {
     "data": {
      "image/png": "[encoded data removed]",
      "text/plain": [
       "<Figure size 432x288 with 1 Axes>"
      ]
     },
     "metadata": {
      "needs_background": "light"
     },
     "output_type": "display_data"
    },
    {
     "data": {
      "image/png": "[encoded data removed]",
      "text/plain": [
       "<Figure size 432x288 with 1 Axes>"
      ]
     },
     "metadata": {
      "needs_background": "light"
     },
     "output_type": "display_data"
    },
    {
     "data": {
      "image/png": "[encoded data removed]",
      "text/plain": [
       "<Figure size 432x288 with 1 Axes>"
      ]
     },
     "metadata": {
      "needs_background": "light"
     },
     "output_type": "display_data"
    },
    {
     "data": {
      "image/png": "[encoded data removed]",
      "text/plain": [
       "<Figure size 432x288 with 1 Axes>"
      ]
     },
     "metadata": {
      "needs_background": "light"
     },
     "output_type": "display_data"
    }
   ],
   "source": [
    "# Plot all clusters into ONE graph\n",
    "thermal = []\n",
    "duration = []\n",
    "base = 0.0\n",
    "dotted_lines = []\n",
    "\n",
    "for i in range(len(filtered_cluster_after)):\n",
    "    tempList = []\n",
    "    for j in range(len(filtered_cluster_after[i])):\n",
    "        if (j > 1):\n",
    "            prev = filtered_cluster_after[i][j-1].room\n",
    "            curr = filtered_cluster_after[i][j].room\n",
    "            \n",
    "            if (prev != curr):\n",
    "                tempList.append(j)\n",
    "                \n",
    "    dotted_lines.append(tempList)\n",
    "\n",
    "#print(dotted_lines)\n",
    "    \n",
    "for i in range(len(filtered_cluster_after)):\n",
    "    lines = []\n",
    "    for j in range(len(filtered_cluster_after[i])):\n",
    "        base += filtered_cluster_after[i][j].time_duration\n",
    "        thermal.append(filtered_cluster_after[i][j].thermal_cozie)\n",
    "        duration.append(base)\n",
    "        \n",
    "    if(len(dotted_lines[i]) > 0):\n",
    "        while(len(dotted_lines[i]) > 0):\n",
    "            index = dotted_lines[i].pop()\n",
    "            xValue = duration[index]\n",
    "            plt.axvline(x = xValue, linestyle = '--', color = 'r')\n",
    "        \n",
    "        \n",
    "    plt.scatter(duration,thermal)\n",
    "    plt.plot(duration,thermal)\n",
    "    plt.xlabel(\"Duration\")\n",
    "    plt.ylabel(\"Thermal Cozie\")\n",
    "    plt.yticks(thermal_cozie_ticks)\n",
    "    plt.show()\n",
    "    \n",
    "    #print(filtered_cluster_after[0])\n",
    "    #print(duration)\n",
    "    \n",
    "    # Re-init to remove previous cluster data\n",
    "    base = 0.0\n",
    "    thermal = []\n",
    "    duration = []\n",
    "    "
   ]
  }
 ],
 "metadata": {
  "kernelspec": {
   "display_name": "Python 3",
   "language": "python",
   "name": "python3"
  },
  "language_info": {
   "codemirror_mode": {
    "name": "ipython",
    "version": 3
   },
   "file_extension": ".py",
   "mimetype": "text/x-python",
   "name": "python",
   "nbconvert_exporter": "python",
   "pygments_lexer": "ipython3",
   "version": "3.7.4"
  }
 },
 "nbformat": 4,
 "nbformat_minor": 4
}
