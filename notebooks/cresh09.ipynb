{
 "cells": [
  {
   "cell_type": "code",
   "execution_count": 1,
   "metadata": {},
   "outputs": [],
   "source": [
    "import pandas as pd\n",
    "import numpy as np\n",
    "from matplotlib import pyplot as plt\n",
    "from matplotlib.backends.backend_agg import FigureCanvasAgg as FigureCanvas\n",
    "from matplotlib.figure import Figure"
   ]
  },
  {
   "cell_type": "code",
   "execution_count": 2,
   "metadata": {},
   "outputs": [],
   "source": [
    "fig = Figure()\n",
    "canvas = FigureCanvas(fig)\n",
    "ax = fig.add_subplot(111)"
   ]
  },
  {
   "cell_type": "code",
   "execution_count": 3,
   "metadata": {},
   "outputs": [],
   "source": [
    "def isNaN(num):\n",
    "    return num != num"
   ]
  },
  {
   "cell_type": "code",
   "execution_count": 4,
   "metadata": {},
   "outputs": [],
   "source": [
    "df = pd.read_csv (\"2019-10-29_cozie_full.csv\", index_col=0)\n",
    "filtered_df = df.drop (columns=['clothing','lat_cozie','lon_cozie','responseSpeed_cozie','Floor','Latitude','Longitude','noise_sensing','voc_sensing','index','comfort_cozie','heartRate_cozie','light_cozie','noise_cozie','co2_sensing','humidity_sensing','light_sensing','temperature_sensing','temperature_mbient'],axis=1)\n",
    "filtered_df['time'] = filtered_df['time'].apply(pd.Timestamp).dt.tz_convert('Asia/Singapore')\n",
    "# Add new column to calculate duration \n",
    "filtered_df['time_duration'] = 0"
   ]
  },
  {
   "cell_type": "code",
   "execution_count": 5,
   "metadata": {},
   "outputs": [],
   "source": [
    "grouped_users = filtered_df.groupby('user_id')\n",
    "\n",
    "all_clusters = [] # Raw data\n",
    "cluster_array = [] \n",
    "filtered_cluster_before = [] # Raw data that are clustered together according to duration\n",
    "filtered_cluster_after = []"
   ]
  },
  {
   "cell_type": "code",
   "execution_count": 6,
   "metadata": {},
   "outputs": [],
   "source": [
    "cresh01_df = grouped_users.get_group('cresh09')\n",
    "thermal_cozie_ticks = [9,10,11]"
   ]
  },
  {
   "cell_type": "code",
   "execution_count": 7,
   "metadata": {},
   "outputs": [],
   "source": [
    "# Gather all data relevant to specific user \n",
    "for index, datapoint in cresh01_df.iterrows():\n",
    "    # print (data.time)\n",
    "    if cluster_array == []:\n",
    "        cluster_array.append(datapoint)\n",
    "    else:\n",
    "        if datapoint.time < last_time + pd.Timedelta(minutes=30):\n",
    "            cluster_array.append(datapoint) \n",
    "        else:\n",
    "            all_clusters.append(cluster_array)\n",
    "            cluster_array = []\n",
    "            cluster_array.append(datapoint)\n",
    "\n",
    "    \n",
    "    last_time = datapoint.time\n",
    "#print (all_clusters)"
   ]
  },
  {
   "cell_type": "markdown",
   "metadata": {},
   "source": [
    "# Keep clusters with more than a certain amount of data points"
   ]
  },
  {
   "cell_type": "code",
   "execution_count": 8,
   "metadata": {},
   "outputs": [
    {
     "name": "stdout",
     "output_type": "stream",
     "text": [
      "[[time             2019-10-04 15:46:34.482000+08:00\n",
      "thermal_cozie                                  10\n",
      "user_id                                   cresh09\n",
      "Space_id                                       45\n",
      "room                                     BUDS_LAB\n",
      "time_duration                                   0\n",
      "Name: 153, dtype: object, time             2019-10-04 15:47:57.243000+08:00\n",
      "thermal_cozie                                  11\n",
      "user_id                                   cresh09\n",
      "Space_id                                       45\n",
      "room                                     BUDS_LAB\n",
      "time_duration                                   0\n",
      "Name: 155, dtype: object, time             2019-10-04 15:59:09.723000+08:00\n",
      "thermal_cozie                                  11\n",
      "user_id                                   cresh09\n",
      "Space_id                                       45\n",
      "room                                     BUDS_LAB\n",
      "time_duration                                   0\n",
      "Name: 159, dtype: object], [time             2019-10-07 10:52:36.121000+08:00\n",
      "thermal_cozie                                 NaN\n",
      "user_id                                   cresh09\n",
      "Space_id                                      NaN\n",
      "room                                          NaN\n",
      "time_duration                                   0\n",
      "Name: 280, dtype: object, time             2019-10-07 11:06:02.832000+08:00\n",
      "thermal_cozie                                  10\n",
      "user_id                                   cresh09\n",
      "Space_id                                      NaN\n",
      "room                                          NaN\n",
      "time_duration                                   0\n",
      "Name: 285, dtype: object], [time             2019-10-08 15:18:45.358000+08:00\n",
      "thermal_cozie                                  11\n",
      "user_id                                   cresh09\n",
      "Space_id                                        0\n",
      "room                      OPEN_EXHIBITION_SPACE_2\n",
      "time_duration                                   0\n",
      "Name: 605, dtype: object, time             2019-10-08 15:19:58.339000+08:00\n",
      "thermal_cozie                                  11\n",
      "user_id                                   cresh09\n",
      "Space_id                                       -1\n",
      "room                                     CORRIDOR\n",
      "time_duration                                   0\n",
      "Name: 607, dtype: object], [time             2019-10-11 12:51:22.164000+08:00\n",
      "thermal_cozie                                  11\n",
      "user_id                                   cresh09\n",
      "Space_id                                      NaN\n",
      "room                                          NaN\n",
      "time_duration                                   0\n",
      "Name: 1371, dtype: object, time             2019-10-11 13:04:49.996000+08:00\n",
      "thermal_cozie                                  11\n",
      "user_id                                   cresh09\n",
      "Space_id                                      NaN\n",
      "room                                          NaN\n",
      "time_duration                                   0\n",
      "Name: 1379, dtype: object], [time             2019-10-11 15:04:50.457000+08:00\n",
      "thermal_cozie                                  10\n",
      "user_id                                   cresh09\n",
      "Space_id                                      NaN\n",
      "room                                          NaN\n",
      "time_duration                                   0\n",
      "Name: 1464, dtype: object, time             2019-10-11 15:34:45.118000+08:00\n",
      "thermal_cozie                                  11\n",
      "user_id                                   cresh09\n",
      "Space_id                                       45\n",
      "room                                     BUDS_LAB\n",
      "time_duration                                   0\n",
      "Name: 1483, dtype: object, time             2019-10-11 15:58:33.269000+08:00\n",
      "thermal_cozie                                  10\n",
      "user_id                                   cresh09\n",
      "Space_id                                       45\n",
      "room                                     BUDS_LAB\n",
      "time_duration                                   0\n",
      "Name: 1498, dtype: object], [time             2019-10-15 17:07:46.477000+08:00\n",
      "thermal_cozie                                  11\n",
      "user_id                                   cresh09\n",
      "Space_id                                      NaN\n",
      "room                                          NaN\n",
      "time_duration                                   0\n",
      "Name: 1906, dtype: object, time             2019-10-15 17:18:19.822000+08:00\n",
      "thermal_cozie                                 NaN\n",
      "user_id                                   cresh09\n",
      "Space_id                                      NaN\n",
      "room                                          NaN\n",
      "time_duration                                   0\n",
      "Name: 1916, dtype: object], [time             2019-10-16 11:07:42.414000+08:00\n",
      "thermal_cozie                                  10\n",
      "user_id                                   cresh09\n",
      "Space_id                                      NaN\n",
      "room                                          NaN\n",
      "time_duration                                   0\n",
      "Name: 1959, dtype: object, time             2019-10-16 11:16:20.500000+08:00\n",
      "thermal_cozie                                  11\n",
      "user_id                                   cresh09\n",
      "Space_id                                      NaN\n",
      "room                                          NaN\n",
      "time_duration                                   0\n",
      "Name: 1962, dtype: object, time             2019-10-16 11:40:49.268000+08:00\n",
      "thermal_cozie                                  10\n",
      "user_id                                   cresh09\n",
      "Space_id                                      NaN\n",
      "room                                          NaN\n",
      "time_duration                                   0\n",
      "Name: 1971, dtype: object, time             2019-10-16 11:58:10.579000+08:00\n",
      "thermal_cozie                                  11\n",
      "user_id                                   cresh09\n",
      "Space_id                                        0\n",
      "room                      OPEN_EXHIBITION_SPACE_2\n",
      "time_duration                                   0\n",
      "Name: 1979, dtype: object, time             2019-10-16 12:19:55.744000+08:00\n",
      "thermal_cozie                                  11\n",
      "user_id                                   cresh09\n",
      "Space_id                                       -1\n",
      "room                      OPEN_EXHIBITION_SPACE_2\n",
      "time_duration                                   0\n",
      "Name: 1986, dtype: object, time             2019-10-16 12:37:26.193000+08:00\n",
      "thermal_cozie                                  10\n",
      "user_id                                   cresh09\n",
      "Space_id                                        0\n",
      "room                      OPEN_EXHIBITION_SPACE_2\n",
      "time_duration                                   0\n",
      "Name: 1991, dtype: object, time             2019-10-16 12:55:32.564000+08:00\n",
      "thermal_cozie                                  10\n",
      "user_id                                   cresh09\n",
      "Space_id                                       -1\n",
      "room                                     CORRIDOR\n",
      "time_duration                                   0\n",
      "Name: 1995, dtype: object, time             2019-10-16 13:12:32.645000+08:00\n",
      "thermal_cozie                                  11\n",
      "user_id                                   cresh09\n",
      "Space_id                                        0\n",
      "room                      OPEN_EXHIBITION_SPACE_2\n",
      "time_duration                                   0\n",
      "Name: 2004, dtype: object, time             2019-10-16 13:34:56.812000+08:00\n",
      "thermal_cozie                                  11\n",
      "user_id                                   cresh09\n",
      "Space_id                                        1\n",
      "room                                         CAFE\n",
      "time_duration                                   0\n",
      "Name: 2014, dtype: object, time             2019-10-16 13:54:54.766000+08:00\n",
      "thermal_cozie                                  11\n",
      "user_id                                   cresh09\n",
      "Space_id                                        1\n",
      "room                                         CAFE\n",
      "time_duration                                   0\n",
      "Name: 2024, dtype: object, time             2019-10-16 14:14:57.742000+08:00\n",
      "thermal_cozie                                  10\n",
      "user_id                                   cresh09\n",
      "Space_id                                        1\n",
      "room                                         CAFE\n",
      "time_duration                                   0\n",
      "Name: 2031, dtype: object, time             2019-10-16 14:35:26.596000+08:00\n",
      "thermal_cozie                                  11\n",
      "user_id                                   cresh09\n",
      "Space_id                                        1\n",
      "room                                         CAFE\n",
      "time_duration                                   0\n",
      "Name: 2039, dtype: object, time             2019-10-16 14:55:43.914000+08:00\n",
      "thermal_cozie                                  11\n",
      "user_id                                   cresh09\n",
      "Space_id                                        1\n",
      "room                                         CAFE\n",
      "time_duration                                   0\n",
      "Name: 2046, dtype: object, time             2019-10-16 15:15:16.426000+08:00\n",
      "thermal_cozie                                  10\n",
      "user_id                                   cresh09\n",
      "Space_id                                        1\n",
      "room                                         CAFE\n",
      "time_duration                                   0\n",
      "Name: 2058, dtype: object, time             2019-10-16 15:35:13.493000+08:00\n",
      "thermal_cozie                                  10\n",
      "user_id                                   cresh09\n",
      "Space_id                                        1\n",
      "room                                         CAFE\n",
      "time_duration                                   0\n",
      "Name: 2069, dtype: object, time             2019-10-16 15:55:19.505000+08:00\n",
      "thermal_cozie                                  10\n",
      "user_id                                   cresh09\n",
      "Space_id                                        1\n",
      "room                                         CAFE\n",
      "time_duration                                   0\n",
      "Name: 2073, dtype: object, time             2019-10-16 16:15:22.250000+08:00\n",
      "thermal_cozie                                  11\n",
      "user_id                                   cresh09\n",
      "Space_id                                        1\n",
      "room                                         CAFE\n",
      "time_duration                                   0\n",
      "Name: 2075, dtype: object, time             2019-10-16 16:35:31.861000+08:00\n",
      "thermal_cozie                                  11\n",
      "user_id                                   cresh09\n",
      "Space_id                                        1\n",
      "room                                         CAFE\n",
      "time_duration                                   0\n",
      "Name: 2081, dtype: object, time             2019-10-16 16:55:45.639000+08:00\n",
      "thermal_cozie                                  11\n",
      "user_id                                   cresh09\n",
      "Space_id                                        1\n",
      "room                                         CAFE\n",
      "time_duration                                   0\n",
      "Name: 2088, dtype: object, time             2019-10-16 17:15:41.116000+08:00\n",
      "thermal_cozie                                  11\n",
      "user_id                                   cresh09\n",
      "Space_id                                        0\n",
      "room                      OPEN_EXHIBITION_SPACE_2\n",
      "time_duration                                   0\n",
      "Name: 2103, dtype: object, time             2019-10-16 17:16:23.667000+08:00\n",
      "thermal_cozie                                  11\n",
      "user_id                                   cresh09\n",
      "Space_id                                        0\n",
      "room                      OPEN_EXHIBITION_SPACE_2\n",
      "time_duration                                   0\n",
      "Name: 2104, dtype: object, time             2019-10-16 17:36:19.167000+08:00\n",
      "thermal_cozie                                  11\n",
      "user_id                                   cresh09\n",
      "Space_id                                      NaN\n",
      "room                                          NaN\n",
      "time_duration                                   0\n",
      "Name: 2109, dtype: object, time             2019-10-16 17:55:55.832000+08:00\n",
      "thermal_cozie                                   9\n",
      "user_id                                   cresh09\n",
      "Space_id                                      NaN\n",
      "room                                          NaN\n",
      "time_duration                                   0\n",
      "Name: 2111, dtype: object, time             2019-10-16 18:15:52.013000+08:00\n",
      "thermal_cozie                                  10\n",
      "user_id                                   cresh09\n",
      "Space_id                                      NaN\n",
      "room                                          NaN\n",
      "time_duration                                   0\n",
      "Name: 2113, dtype: object], [time             2019-10-17 11:45:53.114000+08:00\n",
      "thermal_cozie                                  10\n",
      "user_id                                   cresh09\n",
      "Space_id                                       22\n",
      "room                                IRC_LIBRARY_1\n",
      "time_duration                                   0\n",
      "Name: 2168, dtype: object, time             2019-10-17 12:04:20.717000+08:00\n",
      "thermal_cozie                                  10\n",
      "user_id                                   cresh09\n",
      "Space_id                                       20\n",
      "room                                IRC_LIBRARY_1\n",
      "time_duration                                   0\n",
      "Name: 2171, dtype: object, time             2019-10-17 12:25:10.380000+08:00\n",
      "thermal_cozie                                  11\n",
      "user_id                                   cresh09\n",
      "Space_id                                      NaN\n",
      "room                                          NaN\n",
      "time_duration                                   0\n",
      "Name: 2174, dtype: object, time             2019-10-17 12:45:43.888000+08:00\n",
      "thermal_cozie                                  11\n",
      "user_id                                   cresh09\n",
      "Space_id                                        0\n",
      "room                      OPEN_EXHIBITION_SPACE_2\n",
      "time_duration                                   0\n",
      "Name: 2177, dtype: object, time             2019-10-17 13:07:53.601000+08:00\n",
      "thermal_cozie                                  11\n",
      "user_id                                   cresh09\n",
      "Space_id                                        0\n",
      "room                      OPEN_EXHIBITION_SPACE_2\n",
      "time_duration                                   0\n",
      "Name: 2182, dtype: object, time             2019-10-17 13:22:47.388000+08:00\n",
      "thermal_cozie                                  11\n",
      "user_id                                   cresh09\n",
      "Space_id                                        0\n",
      "room                      OPEN_EXHIBITION_SPACE_2\n",
      "time_duration                                   0\n",
      "Name: 2188, dtype: object, time             2019-10-17 13:44:30.096000+08:00\n",
      "thermal_cozie                                  10\n",
      "user_id                                   cresh09\n",
      "Space_id                                       20\n",
      "room                                IRC_LIBRARY_1\n",
      "time_duration                                   0\n",
      "Name: 2208, dtype: object, time             2019-10-17 14:03:21.486000+08:00\n",
      "thermal_cozie                                  10\n",
      "user_id                                   cresh09\n",
      "Space_id                                       20\n",
      "room                                IRC_LIBRARY_1\n",
      "time_duration                                   0\n",
      "Name: 2211, dtype: object, time             2019-10-17 14:24:47.651000+08:00\n",
      "thermal_cozie                                  11\n",
      "user_id                                   cresh09\n",
      "Space_id                                       20\n",
      "room                                IRC_LIBRARY_1\n",
      "time_duration                                   0\n",
      "Name: 2215, dtype: object, time             2019-10-17 14:44:54.156000+08:00\n",
      "thermal_cozie                                  10\n",
      "user_id                                   cresh09\n",
      "Space_id                                       20\n",
      "room                                IRC_LIBRARY_1\n",
      "time_duration                                   0\n",
      "Name: 2218, dtype: object, time             2019-10-17 15:05:01.107000+08:00\n",
      "thermal_cozie                                  10\n",
      "user_id                                   cresh09\n",
      "Space_id                                       20\n",
      "room                                IRC_LIBRARY_1\n",
      "time_duration                                   0\n",
      "Name: 2221, dtype: object, time             2019-10-17 15:23:51.120000+08:00\n",
      "thermal_cozie                                  10\n",
      "user_id                                   cresh09\n",
      "Space_id                                       20\n",
      "room                                IRC_LIBRARY_1\n",
      "time_duration                                   0\n",
      "Name: 2228, dtype: object, time             2019-10-17 15:44:12.109000+08:00\n",
      "thermal_cozie                                  10\n",
      "user_id                                   cresh09\n",
      "Space_id                                       20\n",
      "room                                IRC_LIBRARY_1\n",
      "time_duration                                   0\n",
      "Name: 2233, dtype: object, time             2019-10-17 16:04:19.323000+08:00\n",
      "thermal_cozie                                  10\n",
      "user_id                                   cresh09\n",
      "Space_id                                       20\n",
      "room                                IRC_LIBRARY_1\n",
      "time_duration                                   0\n",
      "Name: 2238, dtype: object, time             2019-10-17 16:27:24.198000+08:00\n",
      "thermal_cozie                                  11\n",
      "user_id                                   cresh09\n",
      "Space_id                                       20\n",
      "room                                IRC_LIBRARY_1\n",
      "time_duration                                   0\n",
      "Name: 2243, dtype: object, time             2019-10-17 16:44:26.111000+08:00\n",
      "thermal_cozie                                  10\n",
      "user_id                                   cresh09\n",
      "Space_id                                       20\n",
      "room                                IRC_LIBRARY_1\n",
      "time_duration                                   0\n",
      "Name: 2245, dtype: object, time             2019-10-17 17:06:35.196000+08:00\n",
      "thermal_cozie                                  11\n",
      "user_id                                   cresh09\n",
      "Space_id                                       20\n",
      "room                                IRC_LIBRARY_1\n",
      "time_duration                                   0\n",
      "Name: 2253, dtype: object, time             2019-10-17 17:24:35.901000+08:00\n",
      "thermal_cozie                                  10\n",
      "user_id                                   cresh09\n",
      "Space_id                                       20\n",
      "room                                IRC_LIBRARY_1\n",
      "time_duration                                   0\n",
      "Name: 2265, dtype: object, time             2019-10-17 17:44:39.887000+08:00\n",
      "thermal_cozie                                  10\n",
      "user_id                                   cresh09\n",
      "Space_id                                       20\n",
      "room                                IRC_LIBRARY_1\n",
      "time_duration                                   0\n",
      "Name: 2268, dtype: object, time             2019-10-17 18:04:36.124000+08:00\n",
      "thermal_cozie                                  10\n",
      "user_id                                   cresh09\n",
      "Space_id                                       20\n",
      "room                                IRC_LIBRARY_1\n",
      "time_duration                                   0\n",
      "Name: 2274, dtype: object], [time             2019-10-17 18:43:03.783000+08:00\n",
      "thermal_cozie                                  10\n",
      "user_id                                   cresh09\n",
      "Space_id                                        2\n",
      "room                                 ENERGY_LAB_1\n",
      "time_duration                                   0\n",
      "Name: 2283, dtype: object, time             2019-10-17 19:03:28.867000+08:00\n",
      "thermal_cozie                                  10\n",
      "user_id                                   cresh09\n",
      "Space_id                                        2\n",
      "room                                 ENERGY_LAB_1\n",
      "time_duration                                   0\n",
      "Name: 2287, dtype: object, time             2019-10-17 19:20:17.994000+08:00\n",
      "thermal_cozie                                  10\n",
      "user_id                                   cresh09\n",
      "Space_id                                        2\n",
      "room                                 ENERGY_LAB_1\n",
      "time_duration                                   0\n",
      "Name: 2291, dtype: object], [time             2019-10-18 12:23:47.882000+08:00\n",
      "thermal_cozie                                  10\n",
      "user_id                                   cresh09\n",
      "Space_id                                      NaN\n",
      "room                                          NaN\n",
      "time_duration                                   0\n",
      "Name: 2367, dtype: object, time             2019-10-18 12:41:25.697000+08:00\n",
      "thermal_cozie                                  10\n",
      "user_id                                   cresh09\n",
      "Space_id                                      NaN\n",
      "room                                          NaN\n",
      "time_duration                                   0\n",
      "Name: 2372, dtype: object], [time             2019-10-18 13:11:28.869000+08:00\n",
      "thermal_cozie                                  10\n",
      "user_id                                   cresh09\n",
      "Space_id                                      NaN\n",
      "room                                          NaN\n",
      "time_duration                                   0\n",
      "Name: 2383, dtype: object, time             2019-10-18 13:16:27.780000+08:00\n",
      "thermal_cozie                                  10\n",
      "user_id                                   cresh09\n",
      "Space_id                                      NaN\n",
      "room                                          NaN\n",
      "time_duration                                   0\n",
      "Name: 2386, dtype: object, time             2019-10-18 13:36:39.174000+08:00\n",
      "thermal_cozie                                  10\n",
      "user_id                                   cresh09\n",
      "Space_id                                      NaN\n",
      "room                                          NaN\n",
      "time_duration                                   0\n",
      "Name: 2393, dtype: object, time             2019-10-18 13:56:50.144000+08:00\n",
      "thermal_cozie                                  11\n",
      "user_id                                   cresh09\n",
      "Space_id                                       45\n",
      "room                       BUILDING_MATERIALS_LAB\n",
      "time_duration                                   0\n",
      "Name: 2399, dtype: object, time             2019-10-18 14:16:53.223000+08:00\n",
      "thermal_cozie                                  10\n",
      "user_id                                   cresh09\n",
      "Space_id                                       45\n",
      "room                       BUILDING_MATERIALS_LAB\n",
      "time_duration                                   0\n",
      "Name: 2411, dtype: object, time             2019-10-18 14:37:03.313000+08:00\n",
      "thermal_cozie                                  10\n",
      "user_id                                   cresh09\n",
      "Space_id                                       45\n",
      "room                                     BUDS_LAB\n",
      "time_duration                                   0\n",
      "Name: 2416, dtype: object, time             2019-10-18 14:56:50.898000+08:00\n",
      "thermal_cozie                                   9\n",
      "user_id                                   cresh09\n",
      "Space_id                                       45\n",
      "room                       BUILDING_MATERIALS_LAB\n",
      "time_duration                                   0\n",
      "Name: 2423, dtype: object, time             2019-10-18 15:16:30.812000+08:00\n",
      "thermal_cozie                                  10\n",
      "user_id                                   cresh09\n",
      "Space_id                                       45\n",
      "room                       BUILDING_MATERIALS_LAB\n",
      "time_duration                                   0\n",
      "Name: 2438, dtype: object]]\n"
     ]
    }
   ],
   "source": [
    "# Split the cluster up according to their timing\n",
    "for i in range(len(all_clusters)):\n",
    "    if (len(all_clusters[i]) > 1):\n",
    "        # If have more than 1 datapoint\n",
    "        tempList = all_clusters[i] # Store into tempList for splitting\n",
    "        tempList2 = [] # Store all relevant datapoints in a cluster together before pushing into flitered_cluster\n",
    "        nextDataPoint = []\n",
    "         # Check if current datapoint is part of the cluster and room is not null\n",
    "        for j in range(len(tempList)):\n",
    "            space = tempList[j].Space_id\n",
    "\n",
    "            if (j == 0):\n",
    "                tempList2.append(tempList[j])\n",
    "                last_time = tempList[j].time\n",
    "\n",
    "            elif (tempList[j].time < last_time + pd.Timedelta(minutes=30)):\n",
    "                tempList2.append(tempList[j])\n",
    "                last_time = tempList[j].time\n",
    "\n",
    "        filtered_cluster_before.append(tempList2)\n",
    "print(filtered_cluster_before)    "
   ]
  },
  {
   "cell_type": "markdown",
   "metadata": {},
   "source": [
    "# Keep clusters with more than a certain amount of data points and remove NaN"
   ]
  },
  {
   "cell_type": "code",
   "execution_count": 9,
   "metadata": {},
   "outputs": [
    {
     "name": "stdout",
     "output_type": "stream",
     "text": [
      "[[time             2019-10-04 15:46:34.482000+08:00\n",
      "thermal_cozie                                  10\n",
      "user_id                                   cresh09\n",
      "Space_id                                       45\n",
      "room                                     BUDS_LAB\n",
      "time_duration                                   0\n",
      "Name: 153, dtype: object, time             2019-10-04 15:47:57.243000+08:00\n",
      "thermal_cozie                                  11\n",
      "user_id                                   cresh09\n",
      "Space_id                                       45\n",
      "room                                     BUDS_LAB\n",
      "time_duration                                   0\n",
      "Name: 155, dtype: object, time             2019-10-04 15:59:09.723000+08:00\n",
      "thermal_cozie                                  11\n",
      "user_id                                   cresh09\n",
      "Space_id                                       45\n",
      "room                                     BUDS_LAB\n",
      "time_duration                                   0\n",
      "Name: 159, dtype: object], [], [time             2019-10-08 15:18:45.358000+08:00\n",
      "thermal_cozie                                  11\n",
      "user_id                                   cresh09\n",
      "Space_id                                        0\n",
      "room                      OPEN_EXHIBITION_SPACE_2\n",
      "time_duration                                   0\n",
      "Name: 605, dtype: object, time             2019-10-08 15:19:58.339000+08:00\n",
      "thermal_cozie                                  11\n",
      "user_id                                   cresh09\n",
      "Space_id                                       -1\n",
      "room                                     CORRIDOR\n",
      "time_duration                                   0\n",
      "Name: 607, dtype: object], [], [], [], [], [time             2019-10-17 11:45:53.114000+08:00\n",
      "thermal_cozie                                  10\n",
      "user_id                                   cresh09\n",
      "Space_id                                       22\n",
      "room                                IRC_LIBRARY_1\n",
      "time_duration                                   0\n",
      "Name: 2168, dtype: object, time             2019-10-17 12:04:20.717000+08:00\n",
      "thermal_cozie                                  10\n",
      "user_id                                   cresh09\n",
      "Space_id                                       20\n",
      "room                                IRC_LIBRARY_1\n",
      "time_duration                                   0\n",
      "Name: 2171, dtype: object], [time             2019-10-17 18:43:03.783000+08:00\n",
      "thermal_cozie                                  10\n",
      "user_id                                   cresh09\n",
      "Space_id                                        2\n",
      "room                                 ENERGY_LAB_1\n",
      "time_duration                                   0\n",
      "Name: 2283, dtype: object, time             2019-10-17 19:03:28.867000+08:00\n",
      "thermal_cozie                                  10\n",
      "user_id                                   cresh09\n",
      "Space_id                                        2\n",
      "room                                 ENERGY_LAB_1\n",
      "time_duration                                   0\n",
      "Name: 2287, dtype: object, time             2019-10-17 19:20:17.994000+08:00\n",
      "thermal_cozie                                  10\n",
      "user_id                                   cresh09\n",
      "Space_id                                        2\n",
      "room                                 ENERGY_LAB_1\n",
      "time_duration                                   0\n",
      "Name: 2291, dtype: object], [], []]\n"
     ]
    }
   ],
   "source": [
    "# Split the cluster up according to their timing\n",
    "for i in range(len(all_clusters)):\n",
    "    if (len(all_clusters[i]) > 1):\n",
    "        # If have more than 1 datapoint\n",
    "        tempList = all_clusters[i] # Store into tempList for splitting\n",
    "        tempList2 = [] # Store all relevant datapoints in a cluster together before pushing into flitered_cluster\n",
    "        nextDataPoint = []\n",
    "         # Check if current datapoint is part of the cluster and room is not null\n",
    "        for j in range(len(tempList)):\n",
    "            space = tempList[j].Space_id\n",
    "            \n",
    "            if(isNaN(space) == False):    \n",
    "                if (j == 0):\n",
    "                    tempList2.append(tempList[j])\n",
    "                    last_time = tempList[j].time\n",
    "\n",
    "                elif (tempList[j].time < last_time + pd.Timedelta(minutes=30)):\n",
    "                    tempList2.append(tempList[j])\n",
    "                    last_time = tempList[j].time\n",
    "\n",
    "        filtered_cluster_after.append(tempList2)\n",
    "print(filtered_cluster_after)   "
   ]
  },
  {
   "cell_type": "markdown",
   "metadata": {},
   "source": [
    "# Show how many datapoints are in each cluster prior to removing"
   ]
  },
  {
   "cell_type": "code",
   "execution_count": 10,
   "metadata": {},
   "outputs": [
    {
     "name": "stdout",
     "output_type": "stream",
     "text": [
      "0:3 \n",
      "1:2 \n",
      "2:2 \n",
      "3:2 \n",
      "4:3 \n",
      "5:2 \n",
      "6:24 \n",
      "7:20 \n",
      "8:3 \n",
      "9:2 \n",
      "10:8 \n"
     ]
    }
   ],
   "source": [
    "for i in range(len(filtered_cluster_before)):\n",
    "    print(\"{0}:{1} \".format(i,(len(filtered_cluster_before[i]))))"
   ]
  },
  {
   "cell_type": "markdown",
   "metadata": {},
   "source": [
    "# Add in values to the duration difference column"
   ]
  },
  {
   "cell_type": "code",
   "execution_count": 11,
   "metadata": {},
   "outputs": [],
   "source": [
    "for i in range(len(filtered_cluster_before)):\n",
    "    # First variable have no time difference, thus 0.0s\n",
    "    timeDifferenceList = [0.0]\n",
    "    for j in range(len(filtered_cluster_before[i])):\n",
    "        if (j == 0):\n",
    "            last_time = filtered_cluster_before[i][j].time\n",
    "        else:\n",
    "            timeDiff = filtered_cluster_before[i][j].time - last_time\n",
    "            filtered_cluster_before[i][j].time_duration = (timeDiff.total_seconds()/60)\n",
    "            # Set the last time as the current one\n",
    "            last_time = filtered_cluster_before[i][j].time\n",
    "            \n",
    "for i in range(len(filtered_cluster_after)):\n",
    "    # First variable have no time difference, thus 0.0s\n",
    "    timeDifferenceList = [0.0]\n",
    "    for j in range(len(filtered_cluster_after[i])):\n",
    "        if (j == 0):\n",
    "            last_time = filtered_cluster_after[i][j].time\n",
    "        else:\n",
    "            timeDiff = filtered_cluster_after[i][j].time - last_time\n",
    "            filtered_cluster_after[i][j].time_duration = (timeDiff.total_seconds()/60)\n",
    "            # Set the last time as the current one\n",
    "            last_time = filtered_cluster_after[i][j].time"
   ]
  },
  {
   "cell_type": "markdown",
   "metadata": {},
   "source": [
    "# Plot all graph before removal of NaN"
   ]
  },
  {
   "cell_type": "code",
   "execution_count": 12,
   "metadata": {},
   "outputs": [
    {
     "data": {
      "image/png": "[encoded data removed]",
      "text/plain": [
       "<Figure size 432x288 with 1 Axes>"
      ]
     },
     "metadata": {
      "needs_background": "light"
     },
     "output_type": "display_data"
    }
   ],
   "source": [
    "# Plot all clusters into ONE graph\n",
    "thermal = []\n",
    "duration = []\n",
    "base = 0.0\n",
    "\n",
    "for i in range(len(filtered_cluster_before)):\n",
    "    for j in range(len(filtered_cluster_before[i])):\n",
    "        base += filtered_cluster_before[i][j].time_duration\n",
    "        thermal.append(filtered_cluster_before[i][j].thermal_cozie)\n",
    "        duration.append(base)\n",
    "        \n",
    "    plt.plot(duration,thermal)\n",
    "    plt.xlabel(\"Duration\")\n",
    "    plt.ylabel(\"Thermal Cozie\")\n",
    "    plt.ylim(9,11)\n",
    "    \n",
    "    # Re-init to remove previous cluster data\n",
    "    base = 0.0\n",
    "    thermal = []\n",
    "    duration = []"
   ]
  },
  {
   "cell_type": "markdown",
   "metadata": {},
   "source": [
    "# Plot all graph seperately before removal of NaN"
   ]
  },
  {
   "cell_type": "code",
   "execution_count": 13,
   "metadata": {},
   "outputs": [
    {
     "data": {
      "image/png": "[encoded data removed]",
      "text/plain": [
       "<Figure size 432x288 with 1 Axes>"
      ]
     },
     "metadata": {
      "needs_background": "light"
     },
     "output_type": "display_data"
    },
    {
     "data": {
      "image/png": "[encoded data removed]",
      "text/plain": [
       "<Figure size 432x288 with 1 Axes>"
      ]
     },
     "metadata": {
      "needs_background": "light"
     },
     "output_type": "display_data"
    },
    {
     "data": {
      "image/png": "[encoded data removed]",
      "text/plain": [
       "<Figure size 432x288 with 1 Axes>"
      ]
     },
     "metadata": {
      "needs_background": "light"
     },
     "output_type": "display_data"
    },
    {
     "data": {
      "image/png": "[encoded data removed]",
      "text/plain": [
       "<Figure size 432x288 with 1 Axes>"
      ]
     },
     "metadata": {
      "needs_background": "light"
     },
     "output_type": "display_data"
    },
    {
     "data": {
      "image/png": "[encoded data removed]",
      "text/plain": [
       "<Figure size 432x288 with 1 Axes>"
      ]
     },
     "metadata": {
      "needs_background": "light"
     },
     "output_type": "display_data"
    },
    {
     "data": {
      "image/png": "[encoded data removed]",
      "text/plain": [
       "<Figure size 432x288 with 1 Axes>"
      ]
     },
     "metadata": {
      "needs_background": "light"
     },
     "output_type": "display_data"
    },
    {
     "data": {
      "image/png": "[encoded data removed]",
      "text/plain": [
       "<Figure size 432x288 with 1 Axes>"
      ]
     },
     "metadata": {
      "needs_background": "light"
     },
     "output_type": "display_data"
    },
    {
     "data": {
      "image/png": "[encoded data removed]",
      "text/plain": [
       "<Figure size 432x288 with 1 Axes>"
      ]
     },
     "metadata": {
      "needs_background": "light"
     },
     "output_type": "display_data"
    },
    {
     "data": {
      "image/png": "[encoded data removed]",
      "text/plain": [
       "<Figure size 432x288 with 1 Axes>"
      ]
     },
     "metadata": {
      "needs_background": "light"
     },
     "output_type": "display_data"
    },
    {
     "data": {
      "image/png": "[encoded data removed]",
      "text/plain": [
       "<Figure size 432x288 with 1 Axes>"
      ]
     },
     "metadata": {
      "needs_background": "light"
     },
     "output_type": "display_data"
    },
    {
     "data": {
      "image/png": "[encoded data removed]",
      "text/plain": [
       "<Figure size 432x288 with 1 Axes>"
      ]
     },
     "metadata": {
      "needs_background": "light"
     },
     "output_type": "display_data"
    }
   ],
   "source": [
    "# Plot all clusters into ONE graph\n",
    "thermal = []\n",
    "duration = []\n",
    "base = 0.0\n",
    "\n",
    "for i in range(len(filtered_cluster_before)):\n",
    "    for j in range(len(filtered_cluster_before[i])):\n",
    "        base += filtered_cluster_before[i][j].time_duration\n",
    "        thermal.append(filtered_cluster_before[i][j].thermal_cozie)\n",
    "        duration.append(base)\n",
    "    \n",
    "    plt.figure()\n",
    "    plt.scatter(duration,thermal)\n",
    "    plt.plot(duration,thermal)\n",
    "    plt.xlabel(\"Duration\")\n",
    "    plt.ylabel(\"Thermal Cozie\")\n",
    "    plt.yticks(thermal_cozie_ticks)\n",
    "    \n",
    "    # Re-init to remove previous cluster data\n",
    "    base = 0.0\n",
    "    thermal = []\n",
    "    duration = []"
   ]
  },
  {
   "cell_type": "markdown",
   "metadata": {},
   "source": [
    "# Remove list with zero elements inside filtered_cluster_after"
   ]
  },
  {
   "cell_type": "code",
   "execution_count": 14,
   "metadata": {},
   "outputs": [
    {
     "name": "stdout",
     "output_type": "stream",
     "text": [
      "[[time             2019-10-04 15:46:34.482000+08:00\n",
      "thermal_cozie                                  10\n",
      "user_id                                   cresh09\n",
      "Space_id                                       45\n",
      "room                                     BUDS_LAB\n",
      "time_duration                                   0\n",
      "Name: 153, dtype: object, time             2019-10-04 15:47:57.243000+08:00\n",
      "thermal_cozie                                  11\n",
      "user_id                                   cresh09\n",
      "Space_id                                       45\n",
      "room                                     BUDS_LAB\n",
      "time_duration                             1.37935\n",
      "Name: 155, dtype: object, time             2019-10-04 15:59:09.723000+08:00\n",
      "thermal_cozie                                  11\n",
      "user_id                                   cresh09\n",
      "Space_id                                       45\n",
      "room                                     BUDS_LAB\n",
      "time_duration                              11.208\n",
      "Name: 159, dtype: object], [time             2019-10-08 15:18:45.358000+08:00\n",
      "thermal_cozie                                  11\n",
      "user_id                                   cresh09\n",
      "Space_id                                        0\n",
      "room                      OPEN_EXHIBITION_SPACE_2\n",
      "time_duration                                   0\n",
      "Name: 605, dtype: object, time             2019-10-08 15:19:58.339000+08:00\n",
      "thermal_cozie                                  11\n",
      "user_id                                   cresh09\n",
      "Space_id                                       -1\n",
      "room                                     CORRIDOR\n",
      "time_duration                             1.21635\n",
      "Name: 607, dtype: object], [time             2019-10-17 11:45:53.114000+08:00\n",
      "thermal_cozie                                  10\n",
      "user_id                                   cresh09\n",
      "Space_id                                       22\n",
      "room                                IRC_LIBRARY_1\n",
      "time_duration                                   0\n",
      "Name: 2168, dtype: object, time             2019-10-17 12:04:20.717000+08:00\n",
      "thermal_cozie                                  10\n",
      "user_id                                   cresh09\n",
      "Space_id                                       20\n",
      "room                                IRC_LIBRARY_1\n",
      "time_duration                             18.4601\n",
      "Name: 2171, dtype: object], [time             2019-10-17 18:43:03.783000+08:00\n",
      "thermal_cozie                                  10\n",
      "user_id                                   cresh09\n",
      "Space_id                                        2\n",
      "room                                 ENERGY_LAB_1\n",
      "time_duration                                   0\n",
      "Name: 2283, dtype: object, time             2019-10-17 19:03:28.867000+08:00\n",
      "thermal_cozie                                  10\n",
      "user_id                                   cresh09\n",
      "Space_id                                        2\n",
      "room                                 ENERGY_LAB_1\n",
      "time_duration                             20.4181\n",
      "Name: 2287, dtype: object, time             2019-10-17 19:20:17.994000+08:00\n",
      "thermal_cozie                                  10\n",
      "user_id                                   cresh09\n",
      "Space_id                                        2\n",
      "room                                 ENERGY_LAB_1\n",
      "time_duration                             16.8188\n",
      "Name: 2291, dtype: object]]\n"
     ]
    }
   ],
   "source": [
    "tempList3 = []\n",
    "for i in range(len(filtered_cluster_after)):\n",
    "    if (len(filtered_cluster_after[i]) > 1):\n",
    "        tempList3.append(filtered_cluster_after[i])\n",
    "\n",
    "filtered_cluster_after = tempList3\n",
    "print(filtered_cluster_after)"
   ]
  },
  {
   "cell_type": "markdown",
   "metadata": {},
   "source": [
    "# Show how many datapoint are in each cluster after filtering NaN and zero element"
   ]
  },
  {
   "cell_type": "code",
   "execution_count": 15,
   "metadata": {},
   "outputs": [
    {
     "name": "stdout",
     "output_type": "stream",
     "text": [
      "0:3 \n",
      "1:2 \n",
      "2:2 \n",
      "3:3 \n"
     ]
    }
   ],
   "source": [
    "for i in range(len(filtered_cluster_after)):\n",
    "    print(\"{0}:{1} \".format(i,(len(filtered_cluster_after[i]))))"
   ]
  },
  {
   "cell_type": "markdown",
   "metadata": {},
   "source": [
    "# Plot all cluster into one graph"
   ]
  },
  {
   "cell_type": "code",
   "execution_count": 16,
   "metadata": {},
   "outputs": [
    {
     "data": {
      "image/png": "[encoded data removed]",
      "text/plain": [
       "<Figure size 432x288 with 1 Axes>"
      ]
     },
     "metadata": {
      "needs_background": "light"
     },
     "output_type": "display_data"
    }
   ],
   "source": [
    "# Plot all clusters into ONE graph\n",
    "thermal = []\n",
    "duration = []\n",
    "base = 0.0\n",
    "\n",
    "for i in range(len(filtered_cluster_after)):\n",
    "    for j in range(len(filtered_cluster_after[i])):\n",
    "        base += filtered_cluster_after[i][j].time_duration\n",
    "        thermal.append(filtered_cluster_after[i][j].thermal_cozie)\n",
    "        duration.append(base)\n",
    "        \n",
    "    plt.plot(duration,thermal)\n",
    "    plt.xlabel(\"Duration\")\n",
    "    plt.ylabel(\"Thermal Cozie\")\n",
    "    plt.yticks(thermal_cozie_ticks)\n",
    "    \n",
    "    # Re-init to remove previous cluster data\n",
    "    base = 0.0\n",
    "    thermal = []\n",
    "    duration = []"
   ]
  },
  {
   "cell_type": "markdown",
   "metadata": {},
   "source": [
    "# Plot all cluster into separate graphs"
   ]
  },
  {
   "cell_type": "code",
   "execution_count": 17,
   "metadata": {},
   "outputs": [
    {
     "data": {
      "image/png": "[encoded data removed]",
      "text/plain": [
       "<Figure size 432x288 with 1 Axes>"
      ]
     },
     "metadata": {
      "needs_background": "light"
     },
     "output_type": "display_data"
    },
    {
     "data": {
      "image/png": "[encoded data removed]",
      "text/plain": [
       "<Figure size 432x288 with 1 Axes>"
      ]
     },
     "metadata": {
      "needs_background": "light"
     },
     "output_type": "display_data"
    },
    {
     "data": {
      "image/png": "[encoded data removed]",
      "text/plain": [
       "<Figure size 432x288 with 1 Axes>"
      ]
     },
     "metadata": {
      "needs_background": "light"
     },
     "output_type": "display_data"
    },
    {
     "data": {
      "image/png": "[encoded data removed]",
      "text/plain": [
       "<Figure size 432x288 with 1 Axes>"
      ]
     },
     "metadata": {
      "needs_background": "light"
     },
     "output_type": "display_data"
    }
   ],
   "source": [
    "# Plot all clusters into ONE graph\n",
    "thermal = []\n",
    "duration = []\n",
    "base = 0.0\n",
    "\n",
    "for i in range(len(filtered_cluster_after)):\n",
    "    for j in range(len(filtered_cluster_after[i])):\n",
    "        base += filtered_cluster_after[i][j].time_duration\n",
    "        thermal.append(filtered_cluster_after[i][j].thermal_cozie)\n",
    "        duration.append(base)\n",
    "    \n",
    "    plt.figure()\n",
    "    plt.scatter(duration,thermal)\n",
    "    plt.plot(duration,thermal)\n",
    "    plt.xlabel(\"Duration\")\n",
    "    plt.ylabel(\"Thermal Cozie\")\n",
    "    plt.yticks(thermal_cozie_ticks)\n",
    "    \n",
    "    # Re-init to remove previous cluster data\n",
    "    base = 0.0\n",
    "    thermal = []\n",
    "    duration = []"
   ]
  },
  {
   "cell_type": "markdown",
   "metadata": {},
   "source": [
    "# Plot test with vertical dotted lines"
   ]
  },
  {
   "cell_type": "code",
   "execution_count": 19,
   "metadata": {},
   "outputs": [
    {
     "data": {
      "image/png": "[encoded data removed]",
      "text/plain": [
       "<Figure size 432x288 with 1 Axes>"
      ]
     },
     "metadata": {
      "needs_background": "light"
     },
     "output_type": "display_data"
    },
    {
     "data": {
      "image/png": "[encoded data removed]",
      "text/plain": [
       "<Figure size 432x288 with 1 Axes>"
      ]
     },
     "metadata": {
      "needs_background": "light"
     },
     "output_type": "display_data"
    },
    {
     "data": {
      "image/png": "[encoded data removed]",
      "text/plain": [
       "<Figure size 432x288 with 1 Axes>"
      ]
     },
     "metadata": {
      "needs_background": "light"
     },
     "output_type": "display_data"
    },
    {
     "data": {
      "image/png": "[encoded data removed]",
      "text/plain": [
       "<Figure size 432x288 with 1 Axes>"
      ]
     },
     "metadata": {
      "needs_background": "light"
     },
     "output_type": "display_data"
    }
   ],
   "source": [
    "# Plot all clusters into ONE graph\n",
    "thermal = []\n",
    "duration = []\n",
    "base = 0.0\n",
    "dotted_lines = []\n",
    "\n",
    "for i in range(len(filtered_cluster_after)):\n",
    "    tempList = []\n",
    "    for j in range(len(filtered_cluster_after[i])):\n",
    "        if (j > 1):\n",
    "            prev = filtered_cluster_after[i][j-1].room\n",
    "            curr = filtered_cluster_after[i][j].room\n",
    "            \n",
    "            if (prev != curr):\n",
    "                tempList.append(j)\n",
    "                \n",
    "    dotted_lines.append(tempList)\n",
    "\n",
    "#print(dotted_lines)\n",
    "    \n",
    "for i in range(len(filtered_cluster_after)):\n",
    "    lines = []\n",
    "    for j in range(len(filtered_cluster_after[i])):\n",
    "        base += filtered_cluster_after[i][j].time_duration\n",
    "        thermal.append(filtered_cluster_after[i][j].thermal_cozie)\n",
    "        duration.append(base)\n",
    "        \n",
    "    if(len(dotted_lines[i]) > 0):\n",
    "        while(len(dotted_lines[i]) > 0):\n",
    "            index = dotted_lines[i].pop()\n",
    "            xValue = duration[index]\n",
    "            plt.axvline(x = xValue, linestyle = '--', color = 'r')\n",
    "        \n",
    "        \n",
    "    plt.scatter(duration,thermal)\n",
    "    plt.plot(duration,thermal)\n",
    "    plt.xlabel(\"Duration\")\n",
    "    plt.ylabel(\"Thermal Cozie\")\n",
    "    plt.yticks(thermal_cozie_ticks)\n",
    "    plt.show()\n",
    "    \n",
    "    #print(filtered_cluster_after[0])\n",
    "    #print(duration)\n",
    "    \n",
    "    # Re-init to remove previous cluster data\n",
    "    base = 0.0\n",
    "    thermal = []\n",
    "    duration = []\n",
    "    "
   ]
  },
  {
   "cell_type": "code",
   "execution_count": null,
   "metadata": {},
   "outputs": [],
   "source": []
  }
 ],
 "metadata": {
  "kernelspec": {
   "display_name": "Python 3",
   "language": "python",
   "name": "python3"
  },
  "language_info": {
   "codemirror_mode": {
    "name": "ipython",
    "version": 3
   },
   "file_extension": ".py",
   "mimetype": "text/x-python",
   "name": "python",
   "nbconvert_exporter": "python",
   "pygments_lexer": "ipython3",
   "version": "3.7.4"
  }
 },
 "nbformat": 4,
 "nbformat_minor": 4
}
