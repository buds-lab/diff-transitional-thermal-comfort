{
 "cells": [
  {
   "cell_type": "code",
   "execution_count": 1,
   "metadata": {},
   "outputs": [],
   "source": [
    "import pandas as pd\n",
    "import numpy as np\n",
    "from matplotlib import pyplot as plt\n",
    "from matplotlib.backends.backend_agg import FigureCanvasAgg as FigureCanvas\n",
    "from matplotlib.figure import Figure"
   ]
  },
  {
   "cell_type": "code",
   "execution_count": 2,
   "metadata": {},
   "outputs": [],
   "source": [
    "fig = Figure()\n",
    "canvas = FigureCanvas(fig)\n",
    "ax = fig.add_subplot(111)"
   ]
  },
  {
   "cell_type": "code",
   "execution_count": 3,
   "metadata": {},
   "outputs": [],
   "source": [
    "def isNaN(num):\n",
    "    return num != num"
   ]
  },
  {
   "cell_type": "code",
   "execution_count": 4,
   "metadata": {},
   "outputs": [],
   "source": [
    "df = pd.read_csv (\"2019-10-29_cozie_full.csv\", index_col=0)\n",
    "filtered_df = df.drop (columns=['clothing','lat_cozie','lon_cozie','responseSpeed_cozie','Floor','Latitude','Longitude','noise_sensing','voc_sensing','index','comfort_cozie','heartRate_cozie','light_cozie','noise_cozie','co2_sensing','humidity_sensing','light_sensing','temperature_sensing','temperature_mbient'],axis=1)\n",
    "filtered_df['time'] = filtered_df['time'].apply(pd.Timestamp).dt.tz_convert('Asia/Singapore')\n",
    "# Add new column to calculate duration \n",
    "filtered_df['time_duration'] = 0"
   ]
  },
  {
   "cell_type": "code",
   "execution_count": 5,
   "metadata": {},
   "outputs": [],
   "source": [
    "grouped_users = filtered_df.groupby('user_id')\n",
    "\n",
    "all_clusters = [] # Raw data\n",
    "cluster_array = [] \n",
    "filtered_cluster_before = [] # Raw data that are clustered together according to duration\n",
    "filtered_cluster_after = []"
   ]
  },
  {
   "cell_type": "code",
   "execution_count": 6,
   "metadata": {},
   "outputs": [],
   "source": [
    "cresh01_df = grouped_users.get_group('cresh24')\n",
    "thermal_cozie_ticks = [9,10,11]"
   ]
  },
  {
   "cell_type": "code",
   "execution_count": 7,
   "metadata": {},
   "outputs": [],
   "source": [
    "# Gather all data relevant to specific user \n",
    "for index, datapoint in cresh01_df.iterrows():\n",
    "    # print (data.time)\n",
    "    if cluster_array == []:\n",
    "        cluster_array.append(datapoint)\n",
    "    else:\n",
    "        if datapoint.time < last_time + pd.Timedelta(minutes=30):\n",
    "            cluster_array.append(datapoint) \n",
    "        else:\n",
    "            all_clusters.append(cluster_array)\n",
    "            cluster_array = []\n",
    "            cluster_array.append(datapoint)\n",
    "\n",
    "    \n",
    "    last_time = datapoint.time\n",
    "#print (all_clusters)"
   ]
  },
  {
   "cell_type": "markdown",
   "metadata": {},
   "source": [
    "# Keep clusters with more than a certain amount of data points"
   ]
  },
  {
   "cell_type": "code",
   "execution_count": 8,
   "metadata": {},
   "outputs": [
    {
     "name": "stdout",
     "output_type": "stream",
     "text": [
      "[[time             2019-10-21 14:06:49.086000+08:00\n",
      "thermal_cozie                                  10\n",
      "user_id                                   cresh24\n",
      "Space_id                                      NaN\n",
      "room                                          NaN\n",
      "time_duration                                   0\n",
      "Name: 2647, dtype: object, time             2019-10-21 14:20:16.508000+08:00\n",
      "thermal_cozie                                  10\n",
      "user_id                                   cresh24\n",
      "Space_id                                       45\n",
      "room                       BUILDING_MATERIALS_LAB\n",
      "time_duration                                   0\n",
      "Name: 2648, dtype: object, time             2019-10-21 14:41:25.236000+08:00\n",
      "thermal_cozie                                  10\n",
      "user_id                                   cresh24\n",
      "Space_id                                       23\n",
      "room                                      GIS_LAB\n",
      "time_duration                                   0\n",
      "Name: 2657, dtype: object, time             2019-10-21 14:57:29.851000+08:00\n",
      "thermal_cozie                                  10\n",
      "user_id                                   cresh24\n",
      "Space_id                                       20\n",
      "room                                IRC_LIBRARY_1\n",
      "time_duration                                   0\n",
      "Name: 2663, dtype: object, time             2019-10-21 15:15:05.686000+08:00\n",
      "thermal_cozie                                  10\n",
      "user_id                                   cresh24\n",
      "Space_id                                      NaN\n",
      "room                                          NaN\n",
      "time_duration                                   0\n",
      "Name: 2673, dtype: object, time             2019-10-21 15:30:48.443000+08:00\n",
      "thermal_cozie                                  10\n",
      "user_id                                   cresh24\n",
      "Space_id                                       20\n",
      "room                                IRC_LIBRARY_1\n",
      "time_duration                                   0\n",
      "Name: 2684, dtype: object, time             2019-10-21 15:46:17.532000+08:00\n",
      "thermal_cozie                                  10\n",
      "user_id                                   cresh24\n",
      "Space_id                                       20\n",
      "room                                IRC_LIBRARY_1\n",
      "time_duration                                   0\n",
      "Name: 2691, dtype: object, time             2019-10-21 16:01:39.651000+08:00\n",
      "thermal_cozie                                  10\n",
      "user_id                                   cresh24\n",
      "Space_id                                       20\n",
      "room                                IRC_LIBRARY_1\n",
      "time_duration                                   0\n",
      "Name: 2695, dtype: object, time             2019-10-21 16:18:18.444000+08:00\n",
      "thermal_cozie                                  10\n",
      "user_id                                   cresh24\n",
      "Space_id                                       20\n",
      "room                                IRC_LIBRARY_1\n",
      "time_duration                                   0\n",
      "Name: 2703, dtype: object, time             2019-10-21 16:34:09.336000+08:00\n",
      "thermal_cozie                                  11\n",
      "user_id                                   cresh24\n",
      "Space_id                                       22\n",
      "room                                          NaN\n",
      "time_duration                                   0\n",
      "Name: 2710, dtype: object, time             2019-10-21 16:49:50.209000+08:00\n",
      "thermal_cozie                                  10\n",
      "user_id                                   cresh24\n",
      "Space_id                                       20\n",
      "room                                IRC_LIBRARY_1\n",
      "time_duration                                   0\n",
      "Name: 2716, dtype: object, time             2019-10-21 17:05:47.571000+08:00\n",
      "thermal_cozie                                  10\n",
      "user_id                                   cresh24\n",
      "Space_id                                       20\n",
      "room                                IRC_LIBRARY_1\n",
      "time_duration                                   0\n",
      "Name: 2725, dtype: object, time             2019-10-21 17:21:21.441000+08:00\n",
      "thermal_cozie                                  10\n",
      "user_id                                   cresh24\n",
      "Space_id                                       20\n",
      "room                                IRC_LIBRARY_1\n",
      "time_duration                                   0\n",
      "Name: 2736, dtype: object, time             2019-10-21 17:36:48.740000+08:00\n",
      "thermal_cozie                                  10\n",
      "user_id                                   cresh24\n",
      "Space_id                                       20\n",
      "room                                IRC_LIBRARY_1\n",
      "time_duration                                   0\n",
      "Name: 2743, dtype: object, time             2019-10-21 17:52:29.499000+08:00\n",
      "thermal_cozie                                  10\n",
      "user_id                                   cresh24\n",
      "Space_id                                       20\n",
      "room                                IRC_LIBRARY_1\n",
      "time_duration                                   0\n",
      "Name: 2749, dtype: object, time             2019-10-21 18:07:55.134000+08:00\n",
      "thermal_cozie                                  10\n",
      "user_id                                   cresh24\n",
      "Space_id                                       20\n",
      "room                                IRC_LIBRARY_1\n",
      "time_duration                                   0\n",
      "Name: 2753, dtype: object, time             2019-10-21 18:24:17.648000+08:00\n",
      "thermal_cozie                                  10\n",
      "user_id                                   cresh24\n",
      "Space_id                                       20\n",
      "room                                IRC_LIBRARY_1\n",
      "time_duration                                   0\n",
      "Name: 2763, dtype: object, time             2019-10-21 18:39:40.301000+08:00\n",
      "thermal_cozie                                  10\n",
      "user_id                                   cresh24\n",
      "Space_id                                       20\n",
      "room                                IRC_LIBRARY_1\n",
      "time_duration                                   0\n",
      "Name: 2770, dtype: object, time             2019-10-21 18:55:20.628000+08:00\n",
      "thermal_cozie                                  10\n",
      "user_id                                   cresh24\n",
      "Space_id                                       20\n",
      "room                                IRC_LIBRARY_1\n",
      "time_duration                                   0\n",
      "Name: 2774, dtype: object, time             2019-10-21 19:10:44.280000+08:00\n",
      "thermal_cozie                                  10\n",
      "user_id                                   cresh24\n",
      "Space_id                                       20\n",
      "room                                IRC_LIBRARY_1\n",
      "time_duration                                   0\n",
      "Name: 2778, dtype: object, time             2019-10-21 19:26:26.148000+08:00\n",
      "thermal_cozie                                  10\n",
      "user_id                                   cresh24\n",
      "Space_id                                       20\n",
      "room                                IRC_LIBRARY_1\n",
      "time_duration                                   0\n",
      "Name: 2780, dtype: object, time             2019-10-21 19:42:52.263000+08:00\n",
      "thermal_cozie                                  10\n",
      "user_id                                   cresh24\n",
      "Space_id                                       20\n",
      "room                                IRC_LIBRARY_1\n",
      "time_duration                                   0\n",
      "Name: 2785, dtype: object, time             2019-10-21 19:58:18.732000+08:00\n",
      "thermal_cozie                                  10\n",
      "user_id                                   cresh24\n",
      "Space_id                                       20\n",
      "room                                IRC_LIBRARY_1\n",
      "time_duration                                   0\n",
      "Name: 2786, dtype: object, time             2019-10-21 20:24:24.212000+08:00\n",
      "thermal_cozie                                  11\n",
      "user_id                                   cresh24\n",
      "Space_id                                      NaN\n",
      "room                                          NaN\n",
      "time_duration                                   0\n",
      "Name: 2789, dtype: object, time             2019-10-21 20:40:02.263000+08:00\n",
      "thermal_cozie                                  11\n",
      "user_id                                   cresh24\n",
      "Space_id                                      NaN\n",
      "room                                          NaN\n",
      "time_duration                                   0\n",
      "Name: 2791, dtype: object, time             2019-10-21 20:58:34.851000+08:00\n",
      "thermal_cozie                                  10\n",
      "user_id                                   cresh24\n",
      "Space_id                                      NaN\n",
      "room                                          NaN\n",
      "time_duration                                   0\n",
      "Name: 2795, dtype: object], [time             2019-10-22 10:05:48.710000+08:00\n",
      "thermal_cozie                                   9\n",
      "user_id                                   cresh24\n",
      "Space_id                                      NaN\n",
      "room                                          NaN\n",
      "time_duration                                   0\n",
      "Name: 2831, dtype: object, time             2019-10-22 10:21:39.192000+08:00\n",
      "thermal_cozie                                   9\n",
      "user_id                                   cresh24\n",
      "Space_id                                      NaN\n",
      "room                                          NaN\n",
      "time_duration                                   0\n",
      "Name: 2832, dtype: object, time             2019-10-22 10:37:18.786000+08:00\n",
      "thermal_cozie                                   9\n",
      "user_id                                   cresh24\n",
      "Space_id                                      NaN\n",
      "room                                          NaN\n",
      "time_duration                                   0\n",
      "Name: 2836, dtype: object, time             2019-10-22 11:02:38.494000+08:00\n",
      "thermal_cozie                                   9\n",
      "user_id                                   cresh24\n",
      "Space_id                                      NaN\n",
      "room                                          NaN\n",
      "time_duration                                   0\n",
      "Name: 2844, dtype: object, time             2019-10-22 11:17:58.028000+08:00\n",
      "thermal_cozie                                   9\n",
      "user_id                                   cresh24\n",
      "Space_id                                      NaN\n",
      "room                                          NaN\n",
      "time_duration                                   0\n",
      "Name: 2850, dtype: object, time             2019-10-22 11:33:45.125000+08:00\n",
      "thermal_cozie                                  10\n",
      "user_id                                   cresh24\n",
      "Space_id                                      NaN\n",
      "room                                          NaN\n",
      "time_duration                                   0\n",
      "Name: 2856, dtype: object], [time             2019-10-22 14:05:11.424000+08:00\n",
      "thermal_cozie                                  11\n",
      "user_id                                   cresh24\n",
      "Space_id                                      NaN\n",
      "room                                          NaN\n",
      "time_duration                                   0\n",
      "Name: 2890, dtype: object, time             2019-10-22 14:31:48.491000+08:00\n",
      "thermal_cozie                                  10\n",
      "user_id                                   cresh24\n",
      "Space_id                                      NaN\n",
      "room                                          NaN\n",
      "time_duration                                   0\n",
      "Name: 2897, dtype: object, time             2019-10-22 14:50:36.138000+08:00\n",
      "thermal_cozie                                  10\n",
      "user_id                                   cresh24\n",
      "Space_id                                      NaN\n",
      "room                                          NaN\n",
      "time_duration                                   0\n",
      "Name: 2900, dtype: object], [time             2019-10-22 16:40:32.546000+08:00\n",
      "thermal_cozie                                  10\n",
      "user_id                                   cresh24\n",
      "Space_id                                       42\n",
      "room                     EXECUTIVE_SEMINAR_ROOM_A\n",
      "time_duration                                   0\n",
      "Name: 2933, dtype: object, time             2019-10-22 16:56:04.654000+08:00\n",
      "thermal_cozie                                   9\n",
      "user_id                                   cresh24\n",
      "Space_id                                       42\n",
      "room                     EXECUTIVE_SEMINAR_ROOM_A\n",
      "time_duration                                   0\n",
      "Name: 2938, dtype: object, time             2019-10-22 17:11:42.907000+08:00\n",
      "thermal_cozie                                   9\n",
      "user_id                                   cresh24\n",
      "Space_id                                       42\n",
      "room                     EXECUTIVE_SEMINAR_ROOM_A\n",
      "time_duration                                   0\n",
      "Name: 2949, dtype: object, time             2019-10-22 17:25:53.190000+08:00\n",
      "thermal_cozie                                   9\n",
      "user_id                                   cresh24\n",
      "Space_id                                       42\n",
      "room                     EXECUTIVE_SEMINAR_ROOM_A\n",
      "time_duration                                   0\n",
      "Name: 2955, dtype: object, time             2019-10-22 17:42:02.154000+08:00\n",
      "thermal_cozie                                   9\n",
      "user_id                                   cresh24\n",
      "Space_id                                        0\n",
      "room                      OPEN_EXHIBITION_SPACE_2\n",
      "time_duration                                   0\n",
      "Name: 2961, dtype: object, time             2019-10-22 17:57:29.095000+08:00\n",
      "thermal_cozie                                   9\n",
      "user_id                                   cresh24\n",
      "Space_id                                        0\n",
      "room                      OPEN_EXHIBITION_SPACE_2\n",
      "time_duration                                   0\n",
      "Name: 2964, dtype: object, time             2019-10-22 18:12:45.476000+08:00\n",
      "thermal_cozie                                   9\n",
      "user_id                                   cresh24\n",
      "Space_id                                        0\n",
      "room                      OPEN_EXHIBITION_SPACE_2\n",
      "time_duration                                   0\n",
      "Name: 2971, dtype: object], [time             2019-10-22 18:44:15.648000+08:00\n",
      "thermal_cozie                                   9\n",
      "user_id                                   cresh24\n",
      "Space_id                                        0\n",
      "room                      OPEN_EXHIBITION_SPACE_2\n",
      "time_duration                                   0\n",
      "Name: 2979, dtype: object, time             2019-10-22 19:01:11.568000+08:00\n",
      "thermal_cozie                                  10\n",
      "user_id                                   cresh24\n",
      "Space_id                                        0\n",
      "room                      OPEN_EXHIBITION_SPACE_2\n",
      "time_duration                                   0\n",
      "Name: 2983, dtype: object, time             2019-10-22 19:16:57.450000+08:00\n",
      "thermal_cozie                                  10\n",
      "user_id                                   cresh24\n",
      "Space_id                                        0\n",
      "room                      OPEN_EXHIBITION_SPACE_2\n",
      "time_duration                                   0\n",
      "Name: 2987, dtype: object, time             2019-10-22 19:32:29.916000+08:00\n",
      "thermal_cozie                                  10\n",
      "user_id                                   cresh24\n",
      "Space_id                                        0\n",
      "room                      OPEN_EXHIBITION_SPACE_2\n",
      "time_duration                                   0\n",
      "Name: 2993, dtype: object, time             2019-10-22 19:47:54.269000+08:00\n",
      "thermal_cozie                                  10\n",
      "user_id                                   cresh24\n",
      "Space_id                                        0\n",
      "room                      OPEN_EXHIBITION_SPACE_2\n",
      "time_duration                                   0\n",
      "Name: 2998, dtype: object, time             2019-10-22 20:03:12.900000+08:00\n",
      "thermal_cozie                                   9\n",
      "user_id                                   cresh24\n",
      "Space_id                                        0\n",
      "room                      OPEN_EXHIBITION_SPACE_2\n",
      "time_duration                                   0\n",
      "Name: 3002, dtype: object, time             2019-10-22 20:18:34.305000+08:00\n",
      "thermal_cozie                                  10\n",
      "user_id                                   cresh24\n",
      "Space_id                                        0\n",
      "room                      OPEN_EXHIBITION_SPACE_2\n",
      "time_duration                                   0\n",
      "Name: 3004, dtype: object, time             2019-10-22 20:33:53.716000+08:00\n",
      "thermal_cozie                                   9\n",
      "user_id                                   cresh24\n",
      "Space_id                                        0\n",
      "room                      OPEN_EXHIBITION_SPACE_2\n",
      "time_duration                                   0\n",
      "Name: 3007, dtype: object, time             2019-10-22 20:49:18.003000+08:00\n",
      "thermal_cozie                                  10\n",
      "user_id                                   cresh24\n",
      "Space_id                                        0\n",
      "room                      OPEN_EXHIBITION_SPACE_2\n",
      "time_duration                                   0\n",
      "Name: 3013, dtype: object, time             2019-10-22 21:06:16.647000+08:00\n",
      "thermal_cozie                                  10\n",
      "user_id                                   cresh24\n",
      "Space_id                                        0\n",
      "room                      OPEN_EXHIBITION_SPACE_2\n",
      "time_duration                                   0\n",
      "Name: 3016, dtype: object, time             2019-10-22 21:22:10.440000+08:00\n",
      "thermal_cozie                                  10\n",
      "user_id                                   cresh24\n",
      "Space_id                                       -1\n",
      "room                                     CORRIDOR\n",
      "time_duration                                   0\n",
      "Name: 3019, dtype: object, time             2019-10-22 21:37:43.413000+08:00\n",
      "thermal_cozie                                  10\n",
      "user_id                                   cresh24\n",
      "Space_id                                        0\n",
      "room                      OPEN_EXHIBITION_SPACE_2\n",
      "time_duration                                   0\n",
      "Name: 3020, dtype: object, time             2019-10-22 21:56:22.912000+08:00\n",
      "thermal_cozie                                  10\n",
      "user_id                                   cresh24\n",
      "Space_id                                      NaN\n",
      "room                                          NaN\n",
      "time_duration                                   0\n",
      "Name: 3024, dtype: object, time             2019-10-22 22:13:52.823000+08:00\n",
      "thermal_cozie                                  10\n",
      "user_id                                   cresh24\n",
      "Space_id                                        0\n",
      "room                      OPEN_EXHIBITION_SPACE_2\n",
      "time_duration                                   0\n",
      "Name: 3025, dtype: object, time             2019-10-22 22:30:31.793000+08:00\n",
      "thermal_cozie                                  10\n",
      "user_id                                   cresh24\n",
      "Space_id                                        0\n",
      "room                      OPEN_EXHIBITION_SPACE_2\n",
      "time_duration                                   0\n",
      "Name: 3027, dtype: object], [time             2019-10-22 23:38:28.114000+08:00\n",
      "thermal_cozie                                  10\n",
      "user_id                                   cresh24\n",
      "Space_id                                      NaN\n",
      "room                                          NaN\n",
      "time_duration                                   0\n",
      "Name: 3037, dtype: object, time             2019-10-23 00:02:01.677000+08:00\n",
      "thermal_cozie                                   9\n",
      "user_id                                   cresh24\n",
      "Space_id                                      NaN\n",
      "room                                          NaN\n",
      "time_duration                                   0\n",
      "Name: 3041, dtype: object], [time             2019-10-23 12:17:19.279000+08:00\n",
      "thermal_cozie                                  11\n",
      "user_id                                   cresh24\n",
      "Space_id                                      NaN\n",
      "room                                          NaN\n",
      "time_duration                                   0\n",
      "Name: 3105, dtype: object, time             2019-10-23 12:35:51.144000+08:00\n",
      "thermal_cozie                                  11\n",
      "user_id                                   cresh24\n",
      "Space_id                                      NaN\n",
      "room                                          NaN\n",
      "time_duration                                   0\n",
      "Name: 3112, dtype: object], [time             2019-10-23 16:41:42.102000+08:00\n",
      "thermal_cozie                                  10\n",
      "user_id                                   cresh24\n",
      "Space_id                                      NaN\n",
      "room                                          NaN\n",
      "time_duration                                   0\n",
      "Name: 3207, dtype: object, time             2019-10-23 16:50:17.621000+08:00\n",
      "thermal_cozie                                  10\n",
      "user_id                                   cresh24\n",
      "Space_id                                      NaN\n",
      "room                                          NaN\n",
      "time_duration                                   0\n",
      "Name: 3214, dtype: object, time             2019-10-23 17:07:21.181000+08:00\n",
      "thermal_cozie                                  10\n",
      "user_id                                   cresh24\n",
      "Space_id                                      NaN\n",
      "room                                          NaN\n",
      "time_duration                                   0\n",
      "Name: 3224, dtype: object], [time             2019-10-23 17:38:53.116000+08:00\n",
      "thermal_cozie                                  10\n",
      "user_id                                   cresh24\n",
      "Space_id                                      NaN\n",
      "room                                          NaN\n",
      "time_duration                                   0\n",
      "Name: 3243, dtype: object, time             2019-10-23 17:50:29+08:00\n",
      "thermal_cozie                            9\n",
      "user_id                            cresh24\n",
      "Space_id                               NaN\n",
      "room                                   NaN\n",
      "time_duration                            0\n",
      "Name: 3247, dtype: object], [time             2019-10-25 16:31:37.726000+08:00\n",
      "thermal_cozie                                  10\n",
      "user_id                                   cresh24\n",
      "Space_id                                      NaN\n",
      "room                                          NaN\n",
      "time_duration                                   0\n",
      "Name: 3649, dtype: object, time             2019-10-25 16:46:51.724000+08:00\n",
      "thermal_cozie                                  10\n",
      "user_id                                   cresh24\n",
      "Space_id                                      NaN\n",
      "room                                          NaN\n",
      "time_duration                                   0\n",
      "Name: 3652, dtype: object], [time             2019-10-25 18:33:20.108000+08:00\n",
      "thermal_cozie                                  10\n",
      "user_id                                   cresh24\n",
      "Space_id                                      NaN\n",
      "room                                          NaN\n",
      "time_duration                                   0\n",
      "Name: 3672, dtype: object, time             2019-10-25 18:53:53.857000+08:00\n",
      "thermal_cozie                                  10\n",
      "user_id                                   cresh24\n",
      "Space_id                                      NaN\n",
      "room                                          NaN\n",
      "time_duration                                   0\n",
      "Name: 3673, dtype: object], [time             2019-10-25 21:02:24.112000+08:00\n",
      "thermal_cozie                                  10\n",
      "user_id                                   cresh24\n",
      "Space_id                                      NaN\n",
      "room                                          NaN\n",
      "time_duration                                   0\n",
      "Name: 3680, dtype: object, time             2019-10-25 21:26:38.137000+08:00\n",
      "thermal_cozie                                  11\n",
      "user_id                                   cresh24\n",
      "Space_id                                      NaN\n",
      "room                                          NaN\n",
      "time_duration                                   0\n",
      "Name: 3682, dtype: object, time             2019-10-25 21:41:55.785000+08:00\n",
      "thermal_cozie                                  10\n",
      "user_id                                   cresh24\n",
      "Space_id                                      NaN\n",
      "room                                          NaN\n",
      "time_duration                                   0\n",
      "Name: 3684, dtype: object, time             2019-10-25 21:57:13.895000+08:00\n",
      "thermal_cozie                                  10\n",
      "user_id                                   cresh24\n",
      "Space_id                                      NaN\n",
      "room                                          NaN\n",
      "time_duration                                   0\n",
      "Name: 3685, dtype: object, time             2019-10-25 22:12:28.760000+08:00\n",
      "thermal_cozie                                  10\n",
      "user_id                                   cresh24\n",
      "Space_id                                      NaN\n",
      "room                                          NaN\n",
      "time_duration                                   0\n",
      "Name: 3686, dtype: object, time             2019-10-25 22:27:37.780000+08:00\n",
      "thermal_cozie                                  10\n",
      "user_id                                   cresh24\n",
      "Space_id                                      NaN\n",
      "room                                          NaN\n",
      "time_duration                                   0\n",
      "Name: 3687, dtype: object, time             2019-10-25 22:43:00.907000+08:00\n",
      "thermal_cozie                                  10\n",
      "user_id                                   cresh24\n",
      "Space_id                                      NaN\n",
      "room                                          NaN\n",
      "time_duration                                   0\n",
      "Name: 3689, dtype: object, time             2019-10-25 22:58:27.396000+08:00\n",
      "thermal_cozie                                  10\n",
      "user_id                                   cresh24\n",
      "Space_id                                      NaN\n",
      "room                                          NaN\n",
      "time_duration                                   0\n",
      "Name: 3690, dtype: object, time             2019-10-25 23:13:56.137000+08:00\n",
      "thermal_cozie                                  11\n",
      "user_id                                   cresh24\n",
      "Space_id                                      NaN\n",
      "room                                          NaN\n",
      "time_duration                                   0\n",
      "Name: 3691, dtype: object, time             2019-10-25 23:29:15.639000+08:00\n",
      "thermal_cozie                                  10\n",
      "user_id                                   cresh24\n",
      "Space_id                                      NaN\n",
      "room                                          NaN\n",
      "time_duration                                   0\n",
      "Name: 3692, dtype: object, time             2019-10-25 23:44:34.665000+08:00\n",
      "thermal_cozie                                  11\n",
      "user_id                                   cresh24\n",
      "Space_id                                      NaN\n",
      "room                                          NaN\n",
      "time_duration                                   0\n",
      "Name: 3693, dtype: object, time             2019-10-26 00:01:03.869000+08:00\n",
      "thermal_cozie                                  11\n",
      "user_id                                   cresh24\n",
      "Space_id                                      NaN\n",
      "room                                          NaN\n",
      "time_duration                                   0\n",
      "Name: 3694, dtype: object, time             2019-10-26 00:17:48.928000+08:00\n",
      "thermal_cozie                                  11\n",
      "user_id                                   cresh24\n",
      "Space_id                                      NaN\n",
      "room                                          NaN\n",
      "time_duration                                   0\n",
      "Name: 3695, dtype: object, time             2019-10-26 00:35:31.944000+08:00\n",
      "thermal_cozie                                  10\n",
      "user_id                                   cresh24\n",
      "Space_id                                      NaN\n",
      "room                                          NaN\n",
      "time_duration                                   0\n",
      "Name: 3696, dtype: object, time             2019-10-26 00:50:50.118000+08:00\n",
      "thermal_cozie                                  10\n",
      "user_id                                   cresh24\n",
      "Space_id                                      NaN\n",
      "room                                          NaN\n",
      "time_duration                                   0\n",
      "Name: 3697, dtype: object, time             2019-10-26 01:06:22.135000+08:00\n",
      "thermal_cozie                                   9\n",
      "user_id                                   cresh24\n",
      "Space_id                                      NaN\n",
      "room                                          NaN\n",
      "time_duration                                   0\n",
      "Name: 3698, dtype: object], [time             2019-10-26 12:17:29.332000+08:00\n",
      "thermal_cozie                                 NaN\n",
      "user_id                                   cresh24\n",
      "Space_id                                      NaN\n",
      "room                                          NaN\n",
      "time_duration                                   0\n",
      "Name: 3703, dtype: object, time             2019-10-26 12:33:30.524000+08:00\n",
      "thermal_cozie                                   9\n",
      "user_id                                   cresh24\n",
      "Space_id                                      NaN\n",
      "room                                          NaN\n",
      "time_duration                                   0\n",
      "Name: 3704, dtype: object, time             2019-10-26 12:50:32.305000+08:00\n",
      "thermal_cozie                                  10\n",
      "user_id                                   cresh24\n",
      "Space_id                                      NaN\n",
      "room                                          NaN\n",
      "time_duration                                   0\n",
      "Name: 3705, dtype: object, time             2019-10-26 13:06:09.768000+08:00\n",
      "thermal_cozie                                  11\n",
      "user_id                                   cresh24\n",
      "Space_id                                      NaN\n",
      "room                                          NaN\n",
      "time_duration                                   0\n",
      "Name: 3706, dtype: object, time             2019-10-26 13:28:45.236000+08:00\n",
      "thermal_cozie                                  10\n",
      "user_id                                   cresh24\n",
      "Space_id                                      NaN\n",
      "room                                          NaN\n",
      "time_duration                                   0\n",
      "Name: 3707, dtype: object, time             2019-10-26 13:44:08.812000+08:00\n",
      "thermal_cozie                                  10\n",
      "user_id                                   cresh24\n",
      "Space_id                                      NaN\n",
      "room                                          NaN\n",
      "time_duration                                   0\n",
      "Name: 3708, dtype: object], [time             2019-10-26 14:25:57.357000+08:00\n",
      "thermal_cozie                                  10\n",
      "user_id                                   cresh24\n",
      "Space_id                                      NaN\n",
      "room                                          NaN\n",
      "time_duration                                   0\n",
      "Name: 3710, dtype: object, time             2019-10-26 14:41:09.264000+08:00\n",
      "thermal_cozie                                  11\n",
      "user_id                                   cresh24\n",
      "Space_id                                      NaN\n",
      "room                                          NaN\n",
      "time_duration                                   0\n",
      "Name: 3711, dtype: object, time             2019-10-26 14:56:22.107000+08:00\n",
      "thermal_cozie                                  10\n",
      "user_id                                   cresh24\n",
      "Space_id                                      NaN\n",
      "room                                          NaN\n",
      "time_duration                                   0\n",
      "Name: 3712, dtype: object, time             2019-10-26 15:13:23.474000+08:00\n",
      "thermal_cozie                                  11\n",
      "user_id                                   cresh24\n",
      "Space_id                                      NaN\n",
      "room                                          NaN\n",
      "time_duration                                   0\n",
      "Name: 3714, dtype: object, time             2019-10-26 15:30:38.660000+08:00\n",
      "thermal_cozie                                  10\n",
      "user_id                                   cresh24\n",
      "Space_id                                      NaN\n",
      "room                                          NaN\n",
      "time_duration                                   0\n",
      "Name: 3716, dtype: object, time             2019-10-26 15:45:55.397000+08:00\n",
      "thermal_cozie                                  10\n",
      "user_id                                   cresh24\n",
      "Space_id                                      NaN\n",
      "room                                          NaN\n",
      "time_duration                                   0\n",
      "Name: 3717, dtype: object, time             2019-10-26 16:01:34.921000+08:00\n",
      "thermal_cozie                                  10\n",
      "user_id                                   cresh24\n",
      "Space_id                                      NaN\n",
      "room                                          NaN\n",
      "time_duration                                   0\n",
      "Name: 3718, dtype: object]]\n"
     ]
    }
   ],
   "source": [
    "# Split the cluster up according to their timing\n",
    "for i in range(len(all_clusters)):\n",
    "    if (len(all_clusters[i]) > 1):\n",
    "        # If have more than 1 datapoint\n",
    "        tempList = all_clusters[i] # Store into tempList for splitting\n",
    "        tempList2 = [] # Store all relevant datapoints in a cluster together before pushing into flitered_cluster\n",
    "        nextDataPoint = []\n",
    "         # Check if current datapoint is part of the cluster and room is not null\n",
    "        for j in range(len(tempList)):\n",
    "            space = tempList[j].Space_id\n",
    "\n",
    "            if (j == 0):\n",
    "                tempList2.append(tempList[j])\n",
    "                last_time = tempList[j].time\n",
    "\n",
    "            elif (tempList[j].time < last_time + pd.Timedelta(minutes=30)):\n",
    "                tempList2.append(tempList[j])\n",
    "                last_time = tempList[j].time\n",
    "\n",
    "        filtered_cluster_before.append(tempList2)\n",
    "print(filtered_cluster_before)    "
   ]
  },
  {
   "cell_type": "markdown",
   "metadata": {},
   "source": [
    "# Keep clusters with more than a certain amount of data points and remove NaN"
   ]
  },
  {
   "cell_type": "code",
   "execution_count": 9,
   "metadata": {},
   "outputs": [
    {
     "name": "stdout",
     "output_type": "stream",
     "text": [
      "[[time             2019-10-21 14:20:16.508000+08:00\n",
      "thermal_cozie                                  10\n",
      "user_id                                   cresh24\n",
      "Space_id                                       45\n",
      "room                       BUILDING_MATERIALS_LAB\n",
      "time_duration                                   0\n",
      "Name: 2648, dtype: object, time             2019-10-21 14:41:25.236000+08:00\n",
      "thermal_cozie                                  10\n",
      "user_id                                   cresh24\n",
      "Space_id                                       23\n",
      "room                                      GIS_LAB\n",
      "time_duration                                   0\n",
      "Name: 2657, dtype: object, time             2019-10-21 14:57:29.851000+08:00\n",
      "thermal_cozie                                  10\n",
      "user_id                                   cresh24\n",
      "Space_id                                       20\n",
      "room                                IRC_LIBRARY_1\n",
      "time_duration                                   0\n",
      "Name: 2663, dtype: object], [], [], [time             2019-10-22 16:40:32.546000+08:00\n",
      "thermal_cozie                                  10\n",
      "user_id                                   cresh24\n",
      "Space_id                                       42\n",
      "room                     EXECUTIVE_SEMINAR_ROOM_A\n",
      "time_duration                                   0\n",
      "Name: 2933, dtype: object, time             2019-10-22 16:56:04.654000+08:00\n",
      "thermal_cozie                                   9\n",
      "user_id                                   cresh24\n",
      "Space_id                                       42\n",
      "room                     EXECUTIVE_SEMINAR_ROOM_A\n",
      "time_duration                                   0\n",
      "Name: 2938, dtype: object, time             2019-10-22 17:11:42.907000+08:00\n",
      "thermal_cozie                                   9\n",
      "user_id                                   cresh24\n",
      "Space_id                                       42\n",
      "room                     EXECUTIVE_SEMINAR_ROOM_A\n",
      "time_duration                                   0\n",
      "Name: 2949, dtype: object, time             2019-10-22 17:25:53.190000+08:00\n",
      "thermal_cozie                                   9\n",
      "user_id                                   cresh24\n",
      "Space_id                                       42\n",
      "room                     EXECUTIVE_SEMINAR_ROOM_A\n",
      "time_duration                                   0\n",
      "Name: 2955, dtype: object, time             2019-10-22 17:42:02.154000+08:00\n",
      "thermal_cozie                                   9\n",
      "user_id                                   cresh24\n",
      "Space_id                                        0\n",
      "room                      OPEN_EXHIBITION_SPACE_2\n",
      "time_duration                                   0\n",
      "Name: 2961, dtype: object, time             2019-10-22 17:57:29.095000+08:00\n",
      "thermal_cozie                                   9\n",
      "user_id                                   cresh24\n",
      "Space_id                                        0\n",
      "room                      OPEN_EXHIBITION_SPACE_2\n",
      "time_duration                                   0\n",
      "Name: 2964, dtype: object, time             2019-10-22 18:12:45.476000+08:00\n",
      "thermal_cozie                                   9\n",
      "user_id                                   cresh24\n",
      "Space_id                                        0\n",
      "room                      OPEN_EXHIBITION_SPACE_2\n",
      "time_duration                                   0\n",
      "Name: 2971, dtype: object], [time             2019-10-22 18:44:15.648000+08:00\n",
      "thermal_cozie                                   9\n",
      "user_id                                   cresh24\n",
      "Space_id                                        0\n",
      "room                      OPEN_EXHIBITION_SPACE_2\n",
      "time_duration                                   0\n",
      "Name: 2979, dtype: object, time             2019-10-22 19:01:11.568000+08:00\n",
      "thermal_cozie                                  10\n",
      "user_id                                   cresh24\n",
      "Space_id                                        0\n",
      "room                      OPEN_EXHIBITION_SPACE_2\n",
      "time_duration                                   0\n",
      "Name: 2983, dtype: object, time             2019-10-22 19:16:57.450000+08:00\n",
      "thermal_cozie                                  10\n",
      "user_id                                   cresh24\n",
      "Space_id                                        0\n",
      "room                      OPEN_EXHIBITION_SPACE_2\n",
      "time_duration                                   0\n",
      "Name: 2987, dtype: object, time             2019-10-22 19:32:29.916000+08:00\n",
      "thermal_cozie                                  10\n",
      "user_id                                   cresh24\n",
      "Space_id                                        0\n",
      "room                      OPEN_EXHIBITION_SPACE_2\n",
      "time_duration                                   0\n",
      "Name: 2993, dtype: object, time             2019-10-22 19:47:54.269000+08:00\n",
      "thermal_cozie                                  10\n",
      "user_id                                   cresh24\n",
      "Space_id                                        0\n",
      "room                      OPEN_EXHIBITION_SPACE_2\n",
      "time_duration                                   0\n",
      "Name: 2998, dtype: object, time             2019-10-22 20:03:12.900000+08:00\n",
      "thermal_cozie                                   9\n",
      "user_id                                   cresh24\n",
      "Space_id                                        0\n",
      "room                      OPEN_EXHIBITION_SPACE_2\n",
      "time_duration                                   0\n",
      "Name: 3002, dtype: object, time             2019-10-22 20:18:34.305000+08:00\n",
      "thermal_cozie                                  10\n",
      "user_id                                   cresh24\n",
      "Space_id                                        0\n",
      "room                      OPEN_EXHIBITION_SPACE_2\n",
      "time_duration                                   0\n",
      "Name: 3004, dtype: object, time             2019-10-22 20:33:53.716000+08:00\n",
      "thermal_cozie                                   9\n",
      "user_id                                   cresh24\n",
      "Space_id                                        0\n",
      "room                      OPEN_EXHIBITION_SPACE_2\n",
      "time_duration                                   0\n",
      "Name: 3007, dtype: object, time             2019-10-22 20:49:18.003000+08:00\n",
      "thermal_cozie                                  10\n",
      "user_id                                   cresh24\n",
      "Space_id                                        0\n",
      "room                      OPEN_EXHIBITION_SPACE_2\n",
      "time_duration                                   0\n",
      "Name: 3013, dtype: object, time             2019-10-22 21:06:16.647000+08:00\n",
      "thermal_cozie                                  10\n",
      "user_id                                   cresh24\n",
      "Space_id                                        0\n",
      "room                      OPEN_EXHIBITION_SPACE_2\n",
      "time_duration                                   0\n",
      "Name: 3016, dtype: object, time             2019-10-22 21:22:10.440000+08:00\n",
      "thermal_cozie                                  10\n",
      "user_id                                   cresh24\n",
      "Space_id                                       -1\n",
      "room                                     CORRIDOR\n",
      "time_duration                                   0\n",
      "Name: 3019, dtype: object, time             2019-10-22 21:37:43.413000+08:00\n",
      "thermal_cozie                                  10\n",
      "user_id                                   cresh24\n",
      "Space_id                                        0\n",
      "room                      OPEN_EXHIBITION_SPACE_2\n",
      "time_duration                                   0\n",
      "Name: 3020, dtype: object], [], [], [], [], [], [], [], [], []]\n"
     ]
    }
   ],
   "source": [
    "# Split the cluster up according to their timing\n",
    "for i in range(len(all_clusters)):\n",
    "    if (len(all_clusters[i]) > 1):\n",
    "        # If have more than 1 datapoint\n",
    "        tempList = all_clusters[i] # Store into tempList for splitting\n",
    "        tempList2 = [] # Store all relevant datapoints in a cluster together before pushing into flitered_cluster\n",
    "        nextDataPoint = []\n",
    "         # Check if current datapoint is part of the cluster and room is not null\n",
    "        for j in range(len(tempList)):\n",
    "            space = tempList[j].Space_id\n",
    "            \n",
    "            if(isNaN(space) == False):    \n",
    "                if (j == 0):\n",
    "                    tempList2.append(tempList[j])\n",
    "                    last_time = tempList[j].time\n",
    "\n",
    "                elif (tempList[j].time < last_time + pd.Timedelta(minutes=30)):\n",
    "                    tempList2.append(tempList[j])\n",
    "                    last_time = tempList[j].time\n",
    "\n",
    "        filtered_cluster_after.append(tempList2)\n",
    "print(filtered_cluster_after)   "
   ]
  },
  {
   "cell_type": "markdown",
   "metadata": {},
   "source": [
    "# Show how many datapoints are in each cluster prior to removing"
   ]
  },
  {
   "cell_type": "code",
   "execution_count": 10,
   "metadata": {},
   "outputs": [
    {
     "name": "stdout",
     "output_type": "stream",
     "text": [
      "0:26 \n",
      "1:6 \n",
      "2:3 \n",
      "3:7 \n",
      "4:15 \n",
      "5:2 \n",
      "6:2 \n",
      "7:3 \n",
      "8:2 \n",
      "9:2 \n",
      "10:2 \n",
      "11:16 \n",
      "12:6 \n",
      "13:7 \n"
     ]
    }
   ],
   "source": [
    "for i in range(len(filtered_cluster_before)):\n",
    "    print(\"{0}:{1} \".format(i,(len(filtered_cluster_before[i]))))"
   ]
  },
  {
   "cell_type": "markdown",
   "metadata": {},
   "source": [
    "# Add in values to the duration difference column"
   ]
  },
  {
   "cell_type": "code",
   "execution_count": 11,
   "metadata": {},
   "outputs": [],
   "source": [
    "for i in range(len(filtered_cluster_before)):\n",
    "    # First variable have no time difference, thus 0.0s\n",
    "    timeDifferenceList = [0.0]\n",
    "    for j in range(len(filtered_cluster_before[i])):\n",
    "        if (j == 0):\n",
    "            last_time = filtered_cluster_before[i][j].time\n",
    "        else:\n",
    "            timeDiff = filtered_cluster_before[i][j].time - last_time\n",
    "            filtered_cluster_before[i][j].time_duration = (timeDiff.total_seconds()/60)\n",
    "            # Set the last time as the current one\n",
    "            last_time = filtered_cluster_before[i][j].time\n",
    "            \n",
    "for i in range(len(filtered_cluster_after)):\n",
    "    # First variable have no time difference, thus 0.0s\n",
    "    timeDifferenceList = [0.0]\n",
    "    for j in range(len(filtered_cluster_after[i])):\n",
    "        if (j == 0):\n",
    "            last_time = filtered_cluster_after[i][j].time\n",
    "        else:\n",
    "            timeDiff = filtered_cluster_after[i][j].time - last_time\n",
    "            filtered_cluster_after[i][j].time_duration = (timeDiff.total_seconds()/60)\n",
    "            # Set the last time as the current one\n",
    "            last_time = filtered_cluster_after[i][j].time"
   ]
  },
  {
   "cell_type": "markdown",
   "metadata": {},
   "source": [
    "# Plot all graph before removal of NaN"
   ]
  },
  {
   "cell_type": "code",
   "execution_count": 12,
   "metadata": {},
   "outputs": [
    {
     "data": {
      "image/png": "[encoded data removed]",
      "text/plain": [
       "<Figure size 432x288 with 1 Axes>"
      ]
     },
     "metadata": {
      "needs_background": "light"
     },
     "output_type": "display_data"
    }
   ],
   "source": [
    "# Plot all clusters into ONE graph\n",
    "thermal = []\n",
    "duration = []\n",
    "base = 0.0\n",
    "\n",
    "for i in range(len(filtered_cluster_before)):\n",
    "    for j in range(len(filtered_cluster_before[i])):\n",
    "        base += filtered_cluster_before[i][j].time_duration\n",
    "        thermal.append(filtered_cluster_before[i][j].thermal_cozie)\n",
    "        duration.append(base)\n",
    "        \n",
    "    plt.plot(duration,thermal)\n",
    "    plt.xlabel(\"Duration\")\n",
    "    plt.ylabel(\"Thermal Cozie\")\n",
    "    plt.ylim(9,11)\n",
    "    \n",
    "    # Re-init to remove previous cluster data\n",
    "    base = 0.0\n",
    "    thermal = []\n",
    "    duration = []"
   ]
  },
  {
   "cell_type": "markdown",
   "metadata": {},
   "source": [
    "# Plot all graph seperately before removal of NaN"
   ]
  },
  {
   "cell_type": "code",
   "execution_count": 13,
   "metadata": {},
   "outputs": [
    {
     "data": {
      "image/png": "[encoded data removed]",
      "text/plain": [
       "<Figure size 432x288 with 1 Axes>"
      ]
     },
     "metadata": {
      "needs_background": "light"
     },
     "output_type": "display_data"
    },
    {
     "data": {
      "image/png": "[encoded data removed]",
      "text/plain": [
       "<Figure size 432x288 with 1 Axes>"
      ]
     },
     "metadata": {
      "needs_background": "light"
     },
     "output_type": "display_data"
    },
    {
     "data": {
      "image/png": "[encoded data removed]",
      "text/plain": [
       "<Figure size 432x288 with 1 Axes>"
      ]
     },
     "metadata": {
      "needs_background": "light"
     },
     "output_type": "display_data"
    },
    {
     "data": {
      "image/png": "[encoded data removed]",
      "text/plain": [
       "<Figure size 432x288 with 1 Axes>"
      ]
     },
     "metadata": {
      "needs_background": "light"
     },
     "output_type": "display_data"
    },
    {
     "data": {
      "image/png": "[encoded data removed]",
      "text/plain": [
       "<Figure size 432x288 with 1 Axes>"
      ]
     },
     "metadata": {
      "needs_background": "light"
     },
     "output_type": "display_data"
    },
    {
     "data": {
      "image/png": "[encoded data removed]",
      "text/plain": [
       "<Figure size 432x288 with 1 Axes>"
      ]
     },
     "metadata": {
      "needs_background": "light"
     },
     "output_type": "display_data"
    },
    {
     "data": {
      "image/png": "[encoded data removed]",
      "text/plain": [
       "<Figure size 432x288 with 1 Axes>"
      ]
     },
     "metadata": {
      "needs_background": "light"
     },
     "output_type": "display_data"
    },
    {
     "data": {
      "image/png": "[encoded data removed]",
      "text/plain": [
       "<Figure size 432x288 with 1 Axes>"
      ]
     },
     "metadata": {
      "needs_background": "light"
     },
     "output_type": "display_data"
    },
    {
     "data": {
      "image/png": "[encoded data removed]",
      "text/plain": [
       "<Figure size 432x288 with 1 Axes>"
      ]
     },
     "metadata": {
      "needs_background": "light"
     },
     "output_type": "display_data"
    },
    {
     "data": {
      "image/png": "[encoded data removed]",
      "text/plain": [
       "<Figure size 432x288 with 1 Axes>"
      ]
     },
     "metadata": {
      "needs_background": "light"
     },
     "output_type": "display_data"
    },
    {
     "data": {
      "image/png": "[encoded data removed]",
      "text/plain": [
       "<Figure size 432x288 with 1 Axes>"
      ]
     },
     "metadata": {
      "needs_background": "light"
     },
     "output_type": "display_data"
    },
    {
     "data": {
      "image/png": "[encoded data removed]",
      "text/plain": [
       "<Figure size 432x288 with 1 Axes>"
      ]
     },
     "metadata": {
      "needs_background": "light"
     },
     "output_type": "display_data"
    },
    {
     "data": {
      "image/png": "[encoded data removed]",
      "text/plain": [
       "<Figure size 432x288 with 1 Axes>"
      ]
     },
     "metadata": {
      "needs_background": "light"
     },
     "output_type": "display_data"
    },
    {
     "data": {
      "image/png": "[encoded data removed]",
      "text/plain": [
       "<Figure size 432x288 with 1 Axes>"
      ]
     },
     "metadata": {
      "needs_background": "light"
     },
     "output_type": "display_data"
    }
   ],
   "source": [
    "# Plot all clusters into ONE graph\n",
    "thermal = []\n",
    "duration = []\n",
    "base = 0.0\n",
    "\n",
    "for i in range(len(filtered_cluster_before)):\n",
    "    for j in range(len(filtered_cluster_before[i])):\n",
    "        base += filtered_cluster_before[i][j].time_duration\n",
    "        thermal.append(filtered_cluster_before[i][j].thermal_cozie)\n",
    "        duration.append(base)\n",
    "    \n",
    "    plt.figure()\n",
    "    plt.scatter(duration,thermal)\n",
    "    plt.plot(duration,thermal)\n",
    "    plt.xlabel(\"Duration\")\n",
    "    plt.ylabel(\"Thermal Cozie\")\n",
    "    plt.yticks(thermal_cozie_ticks)\n",
    "    \n",
    "    # Re-init to remove previous cluster data\n",
    "    base = 0.0\n",
    "    thermal = []\n",
    "    duration = []"
   ]
  },
  {
   "cell_type": "markdown",
   "metadata": {},
   "source": [
    "# Remove list with zero elements inside filtered_cluster_after"
   ]
  },
  {
   "cell_type": "code",
   "execution_count": 14,
   "metadata": {},
   "outputs": [
    {
     "name": "stdout",
     "output_type": "stream",
     "text": [
      "[[time             2019-10-21 14:20:16.508000+08:00\n",
      "thermal_cozie                                  10\n",
      "user_id                                   cresh24\n",
      "Space_id                                       45\n",
      "room                       BUILDING_MATERIALS_LAB\n",
      "time_duration                              13.457\n",
      "Name: 2648, dtype: object, time             2019-10-21 14:41:25.236000+08:00\n",
      "thermal_cozie                                  10\n",
      "user_id                                   cresh24\n",
      "Space_id                                       23\n",
      "room                                      GIS_LAB\n",
      "time_duration                             21.1455\n",
      "Name: 2657, dtype: object, time             2019-10-21 14:57:29.851000+08:00\n",
      "thermal_cozie                                  10\n",
      "user_id                                   cresh24\n",
      "Space_id                                       20\n",
      "room                                IRC_LIBRARY_1\n",
      "time_duration                             16.0769\n",
      "Name: 2663, dtype: object], [time             2019-10-22 16:40:32.546000+08:00\n",
      "thermal_cozie                                  10\n",
      "user_id                                   cresh24\n",
      "Space_id                                       42\n",
      "room                     EXECUTIVE_SEMINAR_ROOM_A\n",
      "time_duration                                   0\n",
      "Name: 2933, dtype: object, time             2019-10-22 16:56:04.654000+08:00\n",
      "thermal_cozie                                   9\n",
      "user_id                                   cresh24\n",
      "Space_id                                       42\n",
      "room                     EXECUTIVE_SEMINAR_ROOM_A\n",
      "time_duration                             15.5351\n",
      "Name: 2938, dtype: object, time             2019-10-22 17:11:42.907000+08:00\n",
      "thermal_cozie                                   9\n",
      "user_id                                   cresh24\n",
      "Space_id                                       42\n",
      "room                     EXECUTIVE_SEMINAR_ROOM_A\n",
      "time_duration                             15.6376\n",
      "Name: 2949, dtype: object, time             2019-10-22 17:25:53.190000+08:00\n",
      "thermal_cozie                                   9\n",
      "user_id                                   cresh24\n",
      "Space_id                                       42\n",
      "room                     EXECUTIVE_SEMINAR_ROOM_A\n",
      "time_duration                             14.1714\n",
      "Name: 2955, dtype: object, time             2019-10-22 17:42:02.154000+08:00\n",
      "thermal_cozie                                   9\n",
      "user_id                                   cresh24\n",
      "Space_id                                        0\n",
      "room                      OPEN_EXHIBITION_SPACE_2\n",
      "time_duration                             16.1494\n",
      "Name: 2961, dtype: object, time             2019-10-22 17:57:29.095000+08:00\n",
      "thermal_cozie                                   9\n",
      "user_id                                   cresh24\n",
      "Space_id                                        0\n",
      "room                      OPEN_EXHIBITION_SPACE_2\n",
      "time_duration                              15.449\n",
      "Name: 2964, dtype: object, time             2019-10-22 18:12:45.476000+08:00\n",
      "thermal_cozie                                   9\n",
      "user_id                                   cresh24\n",
      "Space_id                                        0\n",
      "room                      OPEN_EXHIBITION_SPACE_2\n",
      "time_duration                              15.273\n",
      "Name: 2971, dtype: object], [time             2019-10-22 18:44:15.648000+08:00\n",
      "thermal_cozie                                   9\n",
      "user_id                                   cresh24\n",
      "Space_id                                        0\n",
      "room                      OPEN_EXHIBITION_SPACE_2\n",
      "time_duration                                   0\n",
      "Name: 2979, dtype: object, time             2019-10-22 19:01:11.568000+08:00\n",
      "thermal_cozie                                  10\n",
      "user_id                                   cresh24\n",
      "Space_id                                        0\n",
      "room                      OPEN_EXHIBITION_SPACE_2\n",
      "time_duration                              16.932\n",
      "Name: 2983, dtype: object, time             2019-10-22 19:16:57.450000+08:00\n",
      "thermal_cozie                                  10\n",
      "user_id                                   cresh24\n",
      "Space_id                                        0\n",
      "room                      OPEN_EXHIBITION_SPACE_2\n",
      "time_duration                             15.7647\n",
      "Name: 2987, dtype: object, time             2019-10-22 19:32:29.916000+08:00\n",
      "thermal_cozie                                  10\n",
      "user_id                                   cresh24\n",
      "Space_id                                        0\n",
      "room                      OPEN_EXHIBITION_SPACE_2\n",
      "time_duration                             15.5411\n",
      "Name: 2993, dtype: object, time             2019-10-22 19:47:54.269000+08:00\n",
      "thermal_cozie                                  10\n",
      "user_id                                   cresh24\n",
      "Space_id                                        0\n",
      "room                      OPEN_EXHIBITION_SPACE_2\n",
      "time_duration                             15.4059\n",
      "Name: 2998, dtype: object, time             2019-10-22 20:03:12.900000+08:00\n",
      "thermal_cozie                                   9\n",
      "user_id                                   cresh24\n",
      "Space_id                                        0\n",
      "room                      OPEN_EXHIBITION_SPACE_2\n",
      "time_duration                             15.3105\n",
      "Name: 3002, dtype: object, time             2019-10-22 20:18:34.305000+08:00\n",
      "thermal_cozie                                  10\n",
      "user_id                                   cresh24\n",
      "Space_id                                        0\n",
      "room                      OPEN_EXHIBITION_SPACE_2\n",
      "time_duration                             15.3567\n",
      "Name: 3004, dtype: object, time             2019-10-22 20:33:53.716000+08:00\n",
      "thermal_cozie                                   9\n",
      "user_id                                   cresh24\n",
      "Space_id                                        0\n",
      "room                      OPEN_EXHIBITION_SPACE_2\n",
      "time_duration                             15.3235\n",
      "Name: 3007, dtype: object, time             2019-10-22 20:49:18.003000+08:00\n",
      "thermal_cozie                                  10\n",
      "user_id                                   cresh24\n",
      "Space_id                                        0\n",
      "room                      OPEN_EXHIBITION_SPACE_2\n",
      "time_duration                             15.4048\n",
      "Name: 3013, dtype: object, time             2019-10-22 21:06:16.647000+08:00\n",
      "thermal_cozie                                  10\n",
      "user_id                                   cresh24\n",
      "Space_id                                        0\n",
      "room                      OPEN_EXHIBITION_SPACE_2\n",
      "time_duration                             16.9774\n",
      "Name: 3016, dtype: object, time             2019-10-22 21:22:10.440000+08:00\n",
      "thermal_cozie                                  10\n",
      "user_id                                   cresh24\n",
      "Space_id                                       -1\n",
      "room                                     CORRIDOR\n",
      "time_duration                             15.8965\n",
      "Name: 3019, dtype: object, time             2019-10-22 21:37:43.413000+08:00\n",
      "thermal_cozie                                  10\n",
      "user_id                                   cresh24\n",
      "Space_id                                        0\n",
      "room                      OPEN_EXHIBITION_SPACE_2\n",
      "time_duration                             15.5495\n",
      "Name: 3020, dtype: object]]\n"
     ]
    }
   ],
   "source": [
    "tempList3 = []\n",
    "for i in range(len(filtered_cluster_after)):\n",
    "    if (len(filtered_cluster_after[i]) > 1):\n",
    "        tempList3.append(filtered_cluster_after[i])\n",
    "\n",
    "filtered_cluster_after = tempList3\n",
    "print(filtered_cluster_after)"
   ]
  },
  {
   "cell_type": "markdown",
   "metadata": {},
   "source": [
    "# Show how many datapoint are in each cluster after filtering NaN and zero element"
   ]
  },
  {
   "cell_type": "code",
   "execution_count": 15,
   "metadata": {},
   "outputs": [
    {
     "name": "stdout",
     "output_type": "stream",
     "text": [
      "0:3 \n",
      "1:7 \n",
      "2:12 \n"
     ]
    }
   ],
   "source": [
    "for i in range(len(filtered_cluster_after)):\n",
    "    print(\"{0}:{1} \".format(i,(len(filtered_cluster_after[i]))))"
   ]
  },
  {
   "cell_type": "markdown",
   "metadata": {},
   "source": [
    "# Plot all cluster into one graph"
   ]
  },
  {
   "cell_type": "code",
   "execution_count": 16,
   "metadata": {},
   "outputs": [
    {
     "data": {
      "image/png": "[encoded data removed]",
      "text/plain": [
       "<Figure size 432x288 with 1 Axes>"
      ]
     },
     "metadata": {
      "needs_background": "light"
     },
     "output_type": "display_data"
    }
   ],
   "source": [
    "# Plot all clusters into ONE graph\n",
    "thermal = []\n",
    "duration = []\n",
    "base = 0.0\n",
    "\n",
    "for i in range(len(filtered_cluster_after)):\n",
    "    for j in range(len(filtered_cluster_after[i])):\n",
    "        base += filtered_cluster_after[i][j].time_duration\n",
    "        thermal.append(filtered_cluster_after[i][j].thermal_cozie)\n",
    "        duration.append(base)\n",
    "        \n",
    "    plt.plot(duration,thermal)\n",
    "    plt.xlabel(\"Duration\")\n",
    "    plt.ylabel(\"Thermal Cozie\")\n",
    "    plt.yticks(thermal_cozie_ticks)\n",
    "    \n",
    "    # Re-init to remove previous cluster data\n",
    "    base = 0.0\n",
    "    thermal = []\n",
    "    duration = []"
   ]
  },
  {
   "cell_type": "markdown",
   "metadata": {},
   "source": [
    "# Plot all cluster into separate graphs"
   ]
  },
  {
   "cell_type": "code",
   "execution_count": 17,
   "metadata": {},
   "outputs": [
    {
     "data": {
      "image/png": "[encoded data removed]",
      "text/plain": [
       "<Figure size 432x288 with 1 Axes>"
      ]
     },
     "metadata": {
      "needs_background": "light"
     },
     "output_type": "display_data"
    },
    {
     "data": {
      "image/png": "[encoded data removed]",
      "text/plain": [
       "<Figure size 432x288 with 1 Axes>"
      ]
     },
     "metadata": {
      "needs_background": "light"
     },
     "output_type": "display_data"
    },
    {
     "data": {
      "image/png": "[encoded data removed]",
      "text/plain": [
       "<Figure size 432x288 with 1 Axes>"
      ]
     },
     "metadata": {
      "needs_background": "light"
     },
     "output_type": "display_data"
    }
   ],
   "source": [
    "# Plot all clusters into ONE graph\n",
    "thermal = []\n",
    "duration = []\n",
    "base = 0.0\n",
    "\n",
    "for i in range(len(filtered_cluster_after)):\n",
    "    for j in range(len(filtered_cluster_after[i])):\n",
    "        base += filtered_cluster_after[i][j].time_duration\n",
    "        thermal.append(filtered_cluster_after[i][j].thermal_cozie)\n",
    "        duration.append(base)\n",
    "    \n",
    "    plt.figure()\n",
    "    plt.scatter(duration,thermal)\n",
    "    plt.plot(duration,thermal)\n",
    "    plt.xlabel(\"Duration\")\n",
    "    plt.ylabel(\"Thermal Cozie\")\n",
    "    plt.yticks(thermal_cozie_ticks)\n",
    "    \n",
    "    # Re-init to remove previous cluster data\n",
    "    base = 0.0\n",
    "    thermal = []\n",
    "    duration = []"
   ]
  },
  {
   "cell_type": "markdown",
   "metadata": {},
   "source": [
    "# Plot test with vertical dotted lines"
   ]
  },
  {
   "cell_type": "code",
   "execution_count": 18,
   "metadata": {
    "scrolled": true
   },
   "outputs": [
    {
     "data": {
      "image/png": "[encoded data removed]",
      "text/plain": [
       "<Figure size 432x288 with 1 Axes>"
      ]
     },
     "metadata": {
      "needs_background": "light"
     },
     "output_type": "display_data"
    },
    {
     "data": {
      "image/png": "[encoded data removed]",
      "text/plain": [
       "<Figure size 432x288 with 1 Axes>"
      ]
     },
     "metadata": {
      "needs_background": "light"
     },
     "output_type": "display_data"
    },
    {
     "data": {
      "image/png": "[encoded data removed]",
      "text/plain": [
       "<Figure size 432x288 with 1 Axes>"
      ]
     },
     "metadata": {
      "needs_background": "light"
     },
     "output_type": "display_data"
    }
   ],
   "source": [
    "# Plot all clusters into ONE graph\n",
    "thermal = []\n",
    "duration = []\n",
    "base = 0.0\n",
    "dotted_lines = []\n",
    "\n",
    "for i in range(len(filtered_cluster_after)):\n",
    "    tempList = []\n",
    "    for j in range(len(filtered_cluster_after[i])):\n",
    "        if (j > 1):\n",
    "            prev = filtered_cluster_after[i][j-1].room\n",
    "            curr = filtered_cluster_after[i][j].room\n",
    "            \n",
    "            if (prev != curr):\n",
    "                tempList.append(j)\n",
    "                \n",
    "    dotted_lines.append(tempList)\n",
    "\n",
    "#print(dotted_lines)\n",
    "    \n",
    "for i in range(len(filtered_cluster_after)):\n",
    "    lines = []\n",
    "    for j in range(len(filtered_cluster_after[i])):\n",
    "        base += filtered_cluster_after[i][j].time_duration\n",
    "        thermal.append(filtered_cluster_after[i][j].thermal_cozie)\n",
    "        duration.append(base)\n",
    "        \n",
    "    if(len(dotted_lines[i]) > 0):\n",
    "        while(len(dotted_lines[i]) > 0):\n",
    "            index = dotted_lines[i].pop()\n",
    "            xValue = duration[index]\n",
    "            plt.axvline(x = xValue, linestyle = '--', color = 'r')\n",
    "        \n",
    "        \n",
    "    plt.scatter(duration,thermal)\n",
    "    plt.plot(duration,thermal)\n",
    "    plt.xlabel(\"Duration\")\n",
    "    plt.ylabel(\"Thermal Cozie\")\n",
    "    plt.yticks(thermal_cozie_ticks)\n",
    "    plt.show()\n",
    "    \n",
    "    #print(filtered_cluster_after[0])\n",
    "    #print(duration)\n",
    "    \n",
    "    # Re-init to remove previous cluster data\n",
    "    base = 0.0\n",
    "    thermal = []\n",
    "    duration = []\n",
    "    "
   ]
  }
 ],
 "metadata": {
  "kernelspec": {
   "display_name": "Python 3",
   "language": "python",
   "name": "python3"
  },
  "language_info": {
   "codemirror_mode": {
    "name": "ipython",
    "version": 3
   },
   "file_extension": ".py",
   "mimetype": "text/x-python",
   "name": "python",
   "nbconvert_exporter": "python",
   "pygments_lexer": "ipython3",
   "version": "3.7.4"
  }
 },
 "nbformat": 4,
 "nbformat_minor": 4
}
