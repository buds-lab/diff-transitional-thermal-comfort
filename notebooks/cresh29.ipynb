{
 "cells": [
  {
   "cell_type": "code",
   "execution_count": 1,
   "metadata": {},
   "outputs": [],
   "source": [
    "import pandas as pd\n",
    "import numpy as np\n",
    "from matplotlib import pyplot as plt\n",
    "from matplotlib.backends.backend_agg import FigureCanvasAgg as FigureCanvas\n",
    "from matplotlib.figure import Figure"
   ]
  },
  {
   "cell_type": "code",
   "execution_count": 2,
   "metadata": {},
   "outputs": [],
   "source": [
    "fig = Figure()\n",
    "canvas = FigureCanvas(fig)\n",
    "ax = fig.add_subplot(111)"
   ]
  },
  {
   "cell_type": "code",
   "execution_count": 3,
   "metadata": {},
   "outputs": [],
   "source": [
    "def isNaN(num):\n",
    "    return num != num"
   ]
  },
  {
   "cell_type": "code",
   "execution_count": 4,
   "metadata": {},
   "outputs": [],
   "source": [
    "df = pd.read_csv (\"2019-10-29_cozie_full.csv\", index_col=0)\n",
    "filtered_df = df.drop (columns=['clothing','lat_cozie','lon_cozie','responseSpeed_cozie','Floor','Latitude','Longitude','noise_sensing','voc_sensing','index','comfort_cozie','heartRate_cozie','light_cozie','noise_cozie','co2_sensing','humidity_sensing','light_sensing','temperature_sensing','temperature_mbient'],axis=1)\n",
    "filtered_df['time'] = filtered_df['time'].apply(pd.Timestamp).dt.tz_convert('Asia/Singapore')\n",
    "# Add new column to calculate duration \n",
    "filtered_df['time_duration'] = 0"
   ]
  },
  {
   "cell_type": "code",
   "execution_count": 5,
   "metadata": {},
   "outputs": [],
   "source": [
    "grouped_users = filtered_df.groupby('user_id')\n",
    "\n",
    "all_clusters = [] # Raw data\n",
    "cluster_array = [] \n",
    "filtered_cluster_before = [] # Raw data that are clustered together according to duration\n",
    "filtered_cluster_after = []"
   ]
  },
  {
   "cell_type": "code",
   "execution_count": 6,
   "metadata": {},
   "outputs": [],
   "source": [
    "cresh01_df = grouped_users.get_group('cresh29')\n",
    "thermal_cozie_ticks = [9,10,11]"
   ]
  },
  {
   "cell_type": "code",
   "execution_count": 7,
   "metadata": {},
   "outputs": [],
   "source": [
    "# Gather all data relevant to specific user \n",
    "for index, datapoint in cresh01_df.iterrows():\n",
    "    # print (data.time)\n",
    "    if cluster_array == []:\n",
    "        cluster_array.append(datapoint)\n",
    "    else:\n",
    "        if datapoint.time < last_time + pd.Timedelta(minutes=30):\n",
    "            cluster_array.append(datapoint) \n",
    "        else:\n",
    "            all_clusters.append(cluster_array)\n",
    "            cluster_array = []\n",
    "            cluster_array.append(datapoint)\n",
    "\n",
    "    \n",
    "    last_time = datapoint.time\n",
    "#print (all_clusters)"
   ]
  },
  {
   "cell_type": "markdown",
   "metadata": {},
   "source": [
    "# Keep clusters with more than a certain amount of data points"
   ]
  },
  {
   "cell_type": "code",
   "execution_count": 8,
   "metadata": {},
   "outputs": [
    {
     "name": "stdout",
     "output_type": "stream",
     "text": [
      "[[time             2019-10-17 17:06:07.564000+08:00\n",
      "thermal_cozie                                  11\n",
      "user_id                                   cresh29\n",
      "Space_id                                      NaN\n",
      "room                                          NaN\n",
      "time_duration                                   0\n",
      "Name: 2251, dtype: object, time             2019-10-17 17:07:16.546000+08:00\n",
      "thermal_cozie                                  11\n",
      "user_id                                   cresh29\n",
      "Space_id                                      NaN\n",
      "room                                          NaN\n",
      "time_duration                                   0\n",
      "Name: 2254, dtype: object, time             2019-10-17 17:08:20.940000+08:00\n",
      "thermal_cozie                                  11\n",
      "user_id                                   cresh29\n",
      "Space_id                                      NaN\n",
      "room                                          NaN\n",
      "time_duration                                   0\n",
      "Name: 2256, dtype: object, time             2019-10-17 17:09:10.964000+08:00\n",
      "thermal_cozie                                  11\n",
      "user_id                                   cresh29\n",
      "Space_id                                      NaN\n",
      "room                                          NaN\n",
      "time_duration                                   0\n",
      "Name: 2257, dtype: object, time             2019-10-17 17:35:57.152000+08:00\n",
      "thermal_cozie                                  10\n",
      "user_id                                   cresh29\n",
      "Space_id                                       45\n",
      "room                                          NaN\n",
      "time_duration                                   0\n",
      "Name: 2266, dtype: object], [time             2019-10-17 18:15:30.504000+08:00\n",
      "thermal_cozie                                   9\n",
      "user_id                                   cresh29\n",
      "Space_id                                      NaN\n",
      "room                                          NaN\n",
      "time_duration                                   0\n",
      "Name: 2277, dtype: object, time             2019-10-17 18:16:08.416000+08:00\n",
      "thermal_cozie                                   9\n",
      "user_id                                   cresh29\n",
      "Space_id                                      NaN\n",
      "room                                          NaN\n",
      "time_duration                                   0\n",
      "Name: 2279, dtype: object, time             2019-10-17 18:40:14.428000+08:00\n",
      "thermal_cozie                                  10\n",
      "user_id                                   cresh29\n",
      "Space_id                                      NaN\n",
      "room                                          NaN\n",
      "time_duration                                   0\n",
      "Name: 2281, dtype: object], [time             2019-10-17 22:31:36.568000+08:00\n",
      "thermal_cozie                                  10\n",
      "user_id                                   cresh29\n",
      "Space_id                                      NaN\n",
      "room                                          NaN\n",
      "time_duration                                   0\n",
      "Name: 2309, dtype: object, time             2019-10-17 22:32:09.230000+08:00\n",
      "thermal_cozie                                  10\n",
      "user_id                                   cresh29\n",
      "Space_id                                      NaN\n",
      "room                                          NaN\n",
      "time_duration                                   0\n",
      "Name: 2310, dtype: object], [time             2019-10-18 08:43:56.125000+08:00\n",
      "thermal_cozie                                   9\n",
      "user_id                                   cresh29\n",
      "Space_id                                      NaN\n",
      "room                                          NaN\n",
      "time_duration                                   0\n",
      "Name: 2320, dtype: object, time             2019-10-18 09:00:41.280000+08:00\n",
      "thermal_cozie                                  10\n",
      "user_id                                   cresh29\n",
      "Space_id                                      NaN\n",
      "room                                          NaN\n",
      "time_duration                                   0\n",
      "Name: 2321, dtype: object, time             2019-10-18 09:16:56.701000+08:00\n",
      "thermal_cozie                                  10\n",
      "user_id                                   cresh29\n",
      "Space_id                                      NaN\n",
      "room                                          NaN\n",
      "time_duration                                   0\n",
      "Name: 2323, dtype: object, time             2019-10-18 09:31:53.424000+08:00\n",
      "thermal_cozie                                  10\n",
      "user_id                                   cresh29\n",
      "Space_id                                      NaN\n",
      "room                                          NaN\n",
      "time_duration                                   0\n",
      "Name: 2325, dtype: object], [time             2019-10-18 10:06:13.100000+08:00\n",
      "thermal_cozie                                  10\n",
      "user_id                                   cresh29\n",
      "Space_id                                      NaN\n",
      "room                                          NaN\n",
      "time_duration                                   0\n",
      "Name: 2330, dtype: object, time             2019-10-18 10:07:12.879000+08:00\n",
      "thermal_cozie                                  10\n",
      "user_id                                   cresh29\n",
      "Space_id                                      NaN\n",
      "room                                          NaN\n",
      "time_duration                                   0\n",
      "Name: 2331, dtype: object, time             2019-10-18 10:07:52.708000+08:00\n",
      "thermal_cozie                                  10\n",
      "user_id                                   cresh29\n",
      "Space_id                                      NaN\n",
      "room                                          NaN\n",
      "time_duration                                   0\n",
      "Name: 2332, dtype: object, time             2019-10-18 10:09:31.612000+08:00\n",
      "thermal_cozie                                  10\n",
      "user_id                                   cresh29\n",
      "Space_id                                      NaN\n",
      "room                                          NaN\n",
      "time_duration                                   0\n",
      "Name: 2333, dtype: object, time             2019-10-18 10:22:47.280000+08:00\n",
      "thermal_cozie                                  10\n",
      "user_id                                   cresh29\n",
      "Space_id                                      NaN\n",
      "room                                          NaN\n",
      "time_duration                                   0\n",
      "Name: 2336, dtype: object, time             2019-10-18 10:24:07.650000+08:00\n",
      "thermal_cozie                                  10\n",
      "user_id                                   cresh29\n",
      "Space_id                                      NaN\n",
      "room                                          NaN\n",
      "time_duration                                   0\n",
      "Name: 2337, dtype: object, time             2019-10-18 10:27:08.563000+08:00\n",
      "thermal_cozie                                  10\n",
      "user_id                                   cresh29\n",
      "Space_id                                       20\n",
      "room                                IRC_LIBRARY_1\n",
      "time_duration                                   0\n",
      "Name: 2339, dtype: object, time             2019-10-18 10:44:22.152000+08:00\n",
      "thermal_cozie                                  10\n",
      "user_id                                   cresh29\n",
      "Space_id                                       22\n",
      "room                                          NaN\n",
      "time_duration                                   0\n",
      "Name: 2344, dtype: object, time             2019-10-18 10:59:25.588000+08:00\n",
      "thermal_cozie                                  10\n",
      "user_id                                   cresh29\n",
      "Space_id                                       22\n",
      "room                                          NaN\n",
      "time_duration                                   0\n",
      "Name: 2349, dtype: object, time             2019-10-18 11:14:29.815000+08:00\n",
      "thermal_cozie                                  10\n",
      "user_id                                   cresh29\n",
      "Space_id                                       -1\n",
      "room                                IRC_LIBRARY_1\n",
      "time_duration                                   0\n",
      "Name: 2353, dtype: object, time             2019-10-18 11:30:02.315000+08:00\n",
      "thermal_cozie                                  10\n",
      "user_id                                   cresh29\n",
      "Space_id                                      NaN\n",
      "room                                          NaN\n",
      "time_duration                                   0\n",
      "Name: 2357, dtype: object, time             2019-10-18 11:48:25.124000+08:00\n",
      "thermal_cozie                                  10\n",
      "user_id                                   cresh29\n",
      "Space_id                                      NaN\n",
      "room                                          NaN\n",
      "time_duration                                   0\n",
      "Name: 2360, dtype: object], [time             2019-10-18 12:34:06.400000+08:00\n",
      "thermal_cozie                                  10\n",
      "user_id                                   cresh29\n",
      "Space_id                                      NaN\n",
      "room                                          NaN\n",
      "time_duration                                   0\n",
      "Name: 2369, dtype: object, time             2019-10-18 12:51:17.911000+08:00\n",
      "thermal_cozie                                  10\n",
      "user_id                                   cresh29\n",
      "Space_id                                      NaN\n",
      "room                                          NaN\n",
      "time_duration                                   0\n",
      "Name: 2374, dtype: object, time             2019-10-18 13:03:10.276000+08:00\n",
      "thermal_cozie                                  10\n",
      "user_id                                   cresh29\n",
      "Space_id                                      NaN\n",
      "room                                          NaN\n",
      "time_duration                                   0\n",
      "Name: 2378, dtype: object], [time             2019-10-18 14:05:08.872000+08:00\n",
      "thermal_cozie                                  10\n",
      "user_id                                   cresh29\n",
      "Space_id                                      NaN\n",
      "room                                          NaN\n",
      "time_duration                                   0\n",
      "Name: 2402, dtype: object, time             2019-10-18 14:15:54.720000+08:00\n",
      "thermal_cozie                                  10\n",
      "user_id                                   cresh29\n",
      "Space_id                                      NaN\n",
      "room                                          NaN\n",
      "time_duration                                   0\n",
      "Name: 2409, dtype: object], [time             2019-10-21 06:40:14.579000+08:00\n",
      "thermal_cozie                                  10\n",
      "user_id                                   cresh29\n",
      "Space_id                                      NaN\n",
      "room                                          NaN\n",
      "time_duration                                   0\n",
      "Name: 2538, dtype: object, time             2019-10-21 06:57:19.272000+08:00\n",
      "thermal_cozie                                  10\n",
      "user_id                                   cresh29\n",
      "Space_id                                      NaN\n",
      "room                                          NaN\n",
      "time_duration                                   0\n",
      "Name: 2539, dtype: object, time             2019-10-21 07:12:45.403000+08:00\n",
      "thermal_cozie                                  10\n",
      "user_id                                   cresh29\n",
      "Space_id                                      NaN\n",
      "room                                          NaN\n",
      "time_duration                                   0\n",
      "Name: 2540, dtype: object, time             2019-10-21 07:29:34.611000+08:00\n",
      "thermal_cozie                                  10\n",
      "user_id                                   cresh29\n",
      "Space_id                                      NaN\n",
      "room                                          NaN\n",
      "time_duration                                   0\n",
      "Name: 2541, dtype: object, time             2019-10-21 07:45:30.936000+08:00\n",
      "thermal_cozie                                  10\n",
      "user_id                                   cresh29\n",
      "Space_id                                      NaN\n",
      "room                                          NaN\n",
      "time_duration                                   0\n",
      "Name: 2542, dtype: object, time             2019-10-21 08:00:37.301000+08:00\n",
      "thermal_cozie                                  10\n",
      "user_id                                   cresh29\n",
      "Space_id                                      NaN\n",
      "room                                          NaN\n",
      "time_duration                                   0\n",
      "Name: 2543, dtype: object], [time             2019-10-21 09:13:53.416000+08:00\n",
      "thermal_cozie                                   9\n",
      "user_id                                   cresh29\n",
      "Space_id                                      NaN\n",
      "room                                          NaN\n",
      "time_duration                                   0\n",
      "Name: 2552, dtype: object, time             2019-10-21 09:34:43.520000+08:00\n",
      "thermal_cozie                                  10\n",
      "user_id                                   cresh29\n",
      "Space_id                                      NaN\n",
      "room                                          NaN\n",
      "time_duration                                   0\n",
      "Name: 2555, dtype: object], [time             2019-10-25 08:42:16.573000+08:00\n",
      "thermal_cozie                                  10\n",
      "user_id                                   cresh29\n",
      "Space_id                                      NaN\n",
      "room                                          NaN\n",
      "time_duration                                   0\n",
      "Name: 3559, dtype: object, time             2019-10-25 09:01:06.147000+08:00\n",
      "thermal_cozie                                  10\n",
      "user_id                                   cresh29\n",
      "Space_id                                      NaN\n",
      "room                                          NaN\n",
      "time_duration                                   0\n",
      "Name: 3560, dtype: object, time             2019-10-25 09:16:04.111000+08:00\n",
      "thermal_cozie                                  10\n",
      "user_id                                   cresh29\n",
      "Space_id                                      NaN\n",
      "room                                          NaN\n",
      "time_duration                                   0\n",
      "Name: 3562, dtype: object, time             2019-10-25 09:31:45.596000+08:00\n",
      "thermal_cozie                                  10\n",
      "user_id                                   cresh29\n",
      "Space_id                                      NaN\n",
      "room                                          NaN\n",
      "time_duration                                   0\n",
      "Name: 3563, dtype: object], [time             2019-10-25 10:13:50.591000+08:00\n",
      "thermal_cozie                                  10\n",
      "user_id                                   cresh29\n",
      "Space_id                                       20\n",
      "room                                IRC_LIBRARY_1\n",
      "time_duration                                   0\n",
      "Name: 3567, dtype: object, time             2019-10-25 10:30:27.121000+08:00\n",
      "thermal_cozie                                  10\n",
      "user_id                                   cresh29\n",
      "Space_id                                       -1\n",
      "room                                IRC_LIBRARY_1\n",
      "time_duration                                   0\n",
      "Name: 3569, dtype: object, time             2019-10-25 10:45:44.414000+08:00\n",
      "thermal_cozie                                  10\n",
      "user_id                                   cresh29\n",
      "Space_id                                       -1\n",
      "room                                IRC_LIBRARY_1\n",
      "time_duration                                   0\n",
      "Name: 3570, dtype: object, time             2019-10-25 11:00:41.706000+08:00\n",
      "thermal_cozie                                  10\n",
      "user_id                                   cresh29\n",
      "Space_id                                       20\n",
      "room                                IRC_LIBRARY_1\n",
      "time_duration                                   0\n",
      "Name: 3574, dtype: object, time             2019-10-25 11:15:48.605000+08:00\n",
      "thermal_cozie                                  10\n",
      "user_id                                   cresh29\n",
      "Space_id                                      NaN\n",
      "room                                          NaN\n",
      "time_duration                                   0\n",
      "Name: 3578, dtype: object, time             2019-10-25 11:31:21.969000+08:00\n",
      "thermal_cozie                                  10\n",
      "user_id                                   cresh29\n",
      "Space_id                                      NaN\n",
      "room                                          NaN\n",
      "time_duration                                   0\n",
      "Name: 3581, dtype: object, time             2019-10-25 11:45:59.376000+08:00\n",
      "thermal_cozie                                  10\n",
      "user_id                                   cresh29\n",
      "Space_id                                      NaN\n",
      "room                                          NaN\n",
      "time_duration                                   0\n",
      "Name: 3585, dtype: object, time             2019-10-25 12:01:19.444000+08:00\n",
      "thermal_cozie                                  10\n",
      "user_id                                   cresh29\n",
      "Space_id                                       -1\n",
      "room                                IRC_LIBRARY_1\n",
      "time_duration                                   0\n",
      "Name: 3587, dtype: object, time             2019-10-25 12:18:42.539000+08:00\n",
      "thermal_cozie                                  10\n",
      "user_id                                   cresh29\n",
      "Space_id                                       -1\n",
      "room                                IRC_LIBRARY_1\n",
      "time_duration                                   0\n",
      "Name: 3591, dtype: object, time             2019-10-25 12:29:34.676000+08:00\n",
      "thermal_cozie                                  10\n",
      "user_id                                   cresh29\n",
      "Space_id                                       -1\n",
      "room                                IRC_LIBRARY_1\n",
      "time_duration                                   0\n",
      "Name: 3594, dtype: object, time             2019-10-25 12:45:12.640000+08:00\n",
      "thermal_cozie                                  10\n",
      "user_id                                   cresh29\n",
      "Space_id                                       -1\n",
      "room                                IRC_LIBRARY_1\n",
      "time_duration                                   0\n",
      "Name: 3599, dtype: object, time             2019-10-25 12:59:56.984000+08:00\n",
      "thermal_cozie                                  10\n",
      "user_id                                   cresh29\n",
      "Space_id                                       -1\n",
      "room                                IRC_LIBRARY_1\n",
      "time_duration                                   0\n",
      "Name: 3602, dtype: object, time             2019-10-25 13:15:28.724000+08:00\n",
      "thermal_cozie                                  10\n",
      "user_id                                   cresh29\n",
      "Space_id                                       -1\n",
      "room                                IRC_LIBRARY_1\n",
      "time_duration                                   0\n",
      "Name: 3605, dtype: object, time             2019-10-25 13:30:23.872000+08:00\n",
      "thermal_cozie                                  10\n",
      "user_id                                   cresh29\n",
      "Space_id                                       -1\n",
      "room                                IRC_LIBRARY_1\n",
      "time_duration                                   0\n",
      "Name: 3609, dtype: object, time             2019-10-25 13:45:47.024000+08:00\n",
      "thermal_cozie                                  10\n",
      "user_id                                   cresh29\n",
      "Space_id                                       20\n",
      "room                                IRC_LIBRARY_1\n",
      "time_duration                                   0\n",
      "Name: 3612, dtype: object, time             2019-10-25 14:00:32.808000+08:00\n",
      "thermal_cozie                                  10\n",
      "user_id                                   cresh29\n",
      "Space_id                                       20\n",
      "room                                IRC_LIBRARY_1\n",
      "time_duration                                   0\n",
      "Name: 3615, dtype: object, time             2019-10-25 14:16:10.553000+08:00\n",
      "thermal_cozie                                  10\n",
      "user_id                                   cresh29\n",
      "Space_id                                       20\n",
      "room                                IRC_LIBRARY_1\n",
      "time_duration                                   0\n",
      "Name: 3619, dtype: object, time             2019-10-25 14:31:29.154000+08:00\n",
      "thermal_cozie                                  10\n",
      "user_id                                   cresh29\n",
      "Space_id                                       -1\n",
      "room                                IRC_LIBRARY_1\n",
      "time_duration                                   0\n",
      "Name: 3621, dtype: object, time             2019-10-25 14:46:27.940000+08:00\n",
      "thermal_cozie                                  10\n",
      "user_id                                   cresh29\n",
      "Space_id                                       20\n",
      "room                                IRC_LIBRARY_1\n",
      "time_duration                                   0\n",
      "Name: 3624, dtype: object, time             2019-10-25 15:01:19.172000+08:00\n",
      "thermal_cozie                                  10\n",
      "user_id                                   cresh29\n",
      "Space_id                                       20\n",
      "room                                IRC_LIBRARY_1\n",
      "time_duration                                   0\n",
      "Name: 3629, dtype: object, time             2019-10-25 15:30:33.040000+08:00\n",
      "thermal_cozie                                  10\n",
      "user_id                                   cresh29\n",
      "Space_id                                       -1\n",
      "room                                IRC_LIBRARY_1\n",
      "time_duration                                   0\n",
      "Name: 3637, dtype: object, time             2019-10-25 15:46:04.494000+08:00\n",
      "thermal_cozie                                  10\n",
      "user_id                                   cresh29\n",
      "Space_id                                       -1\n",
      "room                                IRC_LIBRARY_1\n",
      "time_duration                                   0\n",
      "Name: 3641, dtype: object, time             2019-10-25 16:00:56.228000+08:00\n",
      "thermal_cozie                                  10\n",
      "user_id                                   cresh29\n",
      "Space_id                                       -1\n",
      "room                                IRC_LIBRARY_1\n",
      "time_duration                                   0\n",
      "Name: 3642, dtype: object, time             2019-10-25 16:15:37.168000+08:00\n",
      "thermal_cozie                                  10\n",
      "user_id                                   cresh29\n",
      "Space_id                                       -1\n",
      "room                                IRC_LIBRARY_1\n",
      "time_duration                                   0\n",
      "Name: 3645, dtype: object, time             2019-10-25 16:30:55.653000+08:00\n",
      "thermal_cozie                                  10\n",
      "user_id                                   cresh29\n",
      "Space_id                                       -1\n",
      "room                                IRC_LIBRARY_1\n",
      "time_duration                                   0\n",
      "Name: 3648, dtype: object, time             2019-10-25 16:45:47.421000+08:00\n",
      "thermal_cozie                                  10\n",
      "user_id                                   cresh29\n",
      "Space_id                                       -1\n",
      "room                                IRC_LIBRARY_1\n",
      "time_duration                                   0\n",
      "Name: 3651, dtype: object, time             2019-10-25 17:01:01.937000+08:00\n",
      "thermal_cozie                                  10\n",
      "user_id                                   cresh29\n",
      "Space_id                                       -1\n",
      "room                                IRC_LIBRARY_1\n",
      "time_duration                                   0\n",
      "Name: 3654, dtype: object, time             2019-10-25 17:14:42.408000+08:00\n",
      "thermal_cozie                                  10\n",
      "user_id                                   cresh29\n",
      "Space_id                                       -1\n",
      "room                                IRC_LIBRARY_1\n",
      "time_duration                                   0\n",
      "Name: 3659, dtype: object, time             2019-10-25 17:29:38.953000+08:00\n",
      "thermal_cozie                                  10\n",
      "user_id                                   cresh29\n",
      "Space_id                                       -1\n",
      "room                                IRC_LIBRARY_1\n",
      "time_duration                                   0\n",
      "Name: 3662, dtype: object, time             2019-10-25 17:44:41.820000+08:00\n",
      "thermal_cozie                                  10\n",
      "user_id                                   cresh29\n",
      "Space_id                                       -1\n",
      "room                                IRC_LIBRARY_1\n",
      "time_duration                                   0\n",
      "Name: 3666, dtype: object, time             2019-10-25 17:59:48.651000+08:00\n",
      "thermal_cozie                                  10\n",
      "user_id                                   cresh29\n",
      "Space_id                                       -1\n",
      "room                                IRC_LIBRARY_1\n",
      "time_duration                                   0\n",
      "Name: 3668, dtype: object, time             2019-10-25 18:26:32.136000+08:00\n",
      "thermal_cozie                                  10\n",
      "user_id                                   cresh29\n",
      "Space_id                                      NaN\n",
      "room                                          NaN\n",
      "time_duration                                   0\n",
      "Name: 3671, dtype: object], [time             2019-10-25 19:20:12.996000+08:00\n",
      "thermal_cozie                                  10\n",
      "user_id                                   cresh29\n",
      "Space_id                                      NaN\n",
      "room                                          NaN\n",
      "time_duration                                   0\n",
      "Name: 3675, dtype: object, time             2019-10-25 19:39:14.322000+08:00\n",
      "thermal_cozie                                  10\n",
      "user_id                                   cresh29\n",
      "Space_id                                      NaN\n",
      "room                                          NaN\n",
      "time_duration                                   0\n",
      "Name: 3677, dtype: object], [time             2019-10-27 23:12:38.299000+08:00\n",
      "thermal_cozie                                  10\n",
      "user_id                                   cresh29\n",
      "Space_id                                      NaN\n",
      "room                                          NaN\n",
      "time_duration                                   0\n",
      "Name: 3741, dtype: object, time             2019-10-27 23:29:54.999000+08:00\n",
      "thermal_cozie                                  10\n",
      "user_id                                   cresh29\n",
      "Space_id                                      NaN\n",
      "room                                          NaN\n",
      "time_duration                                   0\n",
      "Name: 3742, dtype: object, time             2019-10-27 23:45:23.170000+08:00\n",
      "thermal_cozie                                  10\n",
      "user_id                                   cresh29\n",
      "Space_id                                      NaN\n",
      "room                                          NaN\n",
      "time_duration                                   0\n",
      "Name: 3743, dtype: object, time             2019-10-28 00:03:19.206000+08:00\n",
      "thermal_cozie                                  10\n",
      "user_id                                   cresh29\n",
      "Space_id                                      NaN\n",
      "room                                          NaN\n",
      "time_duration                                   0\n",
      "Name: 3744, dtype: object, time             2019-10-28 00:19:16.875000+08:00\n",
      "thermal_cozie                                  10\n",
      "user_id                                   cresh29\n",
      "Space_id                                      NaN\n",
      "room                                          NaN\n",
      "time_duration                                   0\n",
      "Name: 3745, dtype: object, time             2019-10-28 00:34:27.812000+08:00\n",
      "thermal_cozie                                  10\n",
      "user_id                                   cresh29\n",
      "Space_id                                      NaN\n",
      "room                                          NaN\n",
      "time_duration                                   0\n",
      "Name: 3746, dtype: object, time             2019-10-28 00:49:29.681000+08:00\n",
      "thermal_cozie                                  10\n",
      "user_id                                   cresh29\n",
      "Space_id                                      NaN\n",
      "room                                          NaN\n",
      "time_duration                                   0\n",
      "Name: 3747, dtype: object, time             2019-10-28 01:17:34.551000+08:00\n",
      "thermal_cozie                                  10\n",
      "user_id                                   cresh29\n",
      "Space_id                                      NaN\n",
      "room                                          NaN\n",
      "time_duration                                   0\n",
      "Name: 3748, dtype: object, time             2019-10-28 01:32:29.401000+08:00\n",
      "thermal_cozie                                  10\n",
      "user_id                                   cresh29\n",
      "Space_id                                      NaN\n",
      "room                                          NaN\n",
      "time_duration                                   0\n",
      "Name: 3749, dtype: object, time             2019-10-28 01:48:33.803000+08:00\n",
      "thermal_cozie                                  10\n",
      "user_id                                   cresh29\n",
      "Space_id                                      NaN\n",
      "room                                          NaN\n",
      "time_duration                                   0\n",
      "Name: 3750, dtype: object, time             2019-10-28 02:03:40.678000+08:00\n",
      "thermal_cozie                                  10\n",
      "user_id                                   cresh29\n",
      "Space_id                                      NaN\n",
      "room                                          NaN\n",
      "time_duration                                   0\n",
      "Name: 3751, dtype: object, time             2019-10-28 02:21:07.576000+08:00\n",
      "thermal_cozie                                  10\n",
      "user_id                                   cresh29\n",
      "Space_id                                      NaN\n",
      "room                                          NaN\n",
      "time_duration                                   0\n",
      "Name: 3752, dtype: object, time             2019-10-28 02:39:50.548000+08:00\n",
      "thermal_cozie                                  10\n",
      "user_id                                   cresh29\n",
      "Space_id                                      NaN\n",
      "room                                          NaN\n",
      "time_duration                                   0\n",
      "Name: 3753, dtype: object, time             2019-10-28 02:59:25.016000+08:00\n",
      "thermal_cozie                                  10\n",
      "user_id                                   cresh29\n",
      "Space_id                                      NaN\n",
      "room                                          NaN\n",
      "time_duration                                   0\n",
      "Name: 3754, dtype: object]]\n"
     ]
    }
   ],
   "source": [
    "# Split the cluster up according to their timing\n",
    "for i in range(len(all_clusters)):\n",
    "    if (len(all_clusters[i]) > 1):\n",
    "        # If have more than 1 datapoint\n",
    "        tempList = all_clusters[i] # Store into tempList for splitting\n",
    "        tempList2 = [] # Store all relevant datapoints in a cluster together before pushing into flitered_cluster\n",
    "        nextDataPoint = []\n",
    "         # Check if current datapoint is part of the cluster and room is not null\n",
    "        for j in range(len(tempList)):\n",
    "            space = tempList[j].Space_id\n",
    "\n",
    "            if (j == 0):\n",
    "                tempList2.append(tempList[j])\n",
    "                last_time = tempList[j].time\n",
    "\n",
    "            elif (tempList[j].time < last_time + pd.Timedelta(minutes=30)):\n",
    "                tempList2.append(tempList[j])\n",
    "                last_time = tempList[j].time\n",
    "\n",
    "        filtered_cluster_before.append(tempList2)\n",
    "print(filtered_cluster_before)    "
   ]
  },
  {
   "cell_type": "markdown",
   "metadata": {},
   "source": [
    "# Keep clusters with more than a certain amount of data points and remove NaN"
   ]
  },
  {
   "cell_type": "code",
   "execution_count": 9,
   "metadata": {},
   "outputs": [
    {
     "name": "stdout",
     "output_type": "stream",
     "text": [
      "[[time             2019-10-17 17:35:57.152000+08:00\n",
      "thermal_cozie                                  10\n",
      "user_id                                   cresh29\n",
      "Space_id                                       45\n",
      "room                                          NaN\n",
      "time_duration                                   0\n",
      "Name: 2266, dtype: object], [], [], [], [], [], [], [], [], [], [time             2019-10-25 10:13:50.591000+08:00\n",
      "thermal_cozie                                  10\n",
      "user_id                                   cresh29\n",
      "Space_id                                       20\n",
      "room                                IRC_LIBRARY_1\n",
      "time_duration                                   0\n",
      "Name: 3567, dtype: object, time             2019-10-25 10:30:27.121000+08:00\n",
      "thermal_cozie                                  10\n",
      "user_id                                   cresh29\n",
      "Space_id                                       -1\n",
      "room                                IRC_LIBRARY_1\n",
      "time_duration                                   0\n",
      "Name: 3569, dtype: object, time             2019-10-25 10:45:44.414000+08:00\n",
      "thermal_cozie                                  10\n",
      "user_id                                   cresh29\n",
      "Space_id                                       -1\n",
      "room                                IRC_LIBRARY_1\n",
      "time_duration                                   0\n",
      "Name: 3570, dtype: object, time             2019-10-25 11:00:41.706000+08:00\n",
      "thermal_cozie                                  10\n",
      "user_id                                   cresh29\n",
      "Space_id                                       20\n",
      "room                                IRC_LIBRARY_1\n",
      "time_duration                                   0\n",
      "Name: 3574, dtype: object], [], []]\n"
     ]
    }
   ],
   "source": [
    "# Split the cluster up according to their timing\n",
    "for i in range(len(all_clusters)):\n",
    "    if (len(all_clusters[i]) > 1):\n",
    "        # If have more than 1 datapoint\n",
    "        tempList = all_clusters[i] # Store into tempList for splitting\n",
    "        tempList2 = [] # Store all relevant datapoints in a cluster together before pushing into flitered_cluster\n",
    "        nextDataPoint = []\n",
    "         # Check if current datapoint is part of the cluster and room is not null\n",
    "        for j in range(len(tempList)):\n",
    "            space = tempList[j].Space_id\n",
    "            \n",
    "            if(isNaN(space) == False):    \n",
    "                if (j == 0):\n",
    "                    tempList2.append(tempList[j])\n",
    "                    last_time = tempList[j].time\n",
    "\n",
    "                elif (tempList[j].time < last_time + pd.Timedelta(minutes=30)):\n",
    "                    tempList2.append(tempList[j])\n",
    "                    last_time = tempList[j].time\n",
    "\n",
    "        filtered_cluster_after.append(tempList2)\n",
    "print(filtered_cluster_after)   "
   ]
  },
  {
   "cell_type": "markdown",
   "metadata": {},
   "source": [
    "# Show how many datapoints are in each cluster prior to removing"
   ]
  },
  {
   "cell_type": "code",
   "execution_count": 10,
   "metadata": {},
   "outputs": [
    {
     "name": "stdout",
     "output_type": "stream",
     "text": [
      "0:5 \n",
      "1:3 \n",
      "2:2 \n",
      "3:4 \n",
      "4:12 \n",
      "5:3 \n",
      "6:2 \n",
      "7:6 \n",
      "8:2 \n",
      "9:4 \n",
      "10:32 \n",
      "11:2 \n",
      "12:14 \n"
     ]
    }
   ],
   "source": [
    "for i in range(len(filtered_cluster_before)):\n",
    "    print(\"{0}:{1} \".format(i,(len(filtered_cluster_before[i]))))"
   ]
  },
  {
   "cell_type": "markdown",
   "metadata": {},
   "source": [
    "# Add in values to the duration difference column"
   ]
  },
  {
   "cell_type": "code",
   "execution_count": 11,
   "metadata": {},
   "outputs": [],
   "source": [
    "for i in range(len(filtered_cluster_before)):\n",
    "    # First variable have no time difference, thus 0.0s\n",
    "    timeDifferenceList = [0.0]\n",
    "    for j in range(len(filtered_cluster_before[i])):\n",
    "        if (j == 0):\n",
    "            last_time = filtered_cluster_before[i][j].time\n",
    "        else:\n",
    "            timeDiff = filtered_cluster_before[i][j].time - last_time\n",
    "            filtered_cluster_before[i][j].time_duration = (timeDiff.total_seconds()/60)\n",
    "            # Set the last time as the current one\n",
    "            last_time = filtered_cluster_before[i][j].time\n",
    "            \n",
    "for i in range(len(filtered_cluster_after)):\n",
    "    # First variable have no time difference, thus 0.0s\n",
    "    timeDifferenceList = [0.0]\n",
    "    for j in range(len(filtered_cluster_after[i])):\n",
    "        if (j == 0):\n",
    "            last_time = filtered_cluster_after[i][j].time\n",
    "        else:\n",
    "            timeDiff = filtered_cluster_after[i][j].time - last_time\n",
    "            filtered_cluster_after[i][j].time_duration = (timeDiff.total_seconds()/60)\n",
    "            # Set the last time as the current one\n",
    "            last_time = filtered_cluster_after[i][j].time"
   ]
  },
  {
   "cell_type": "markdown",
   "metadata": {},
   "source": [
    "# Plot all graph before removal of NaN"
   ]
  },
  {
   "cell_type": "code",
   "execution_count": 12,
   "metadata": {},
   "outputs": [
    {
     "data": {
      "image/png": "[encoded data removed]",
      "text/plain": [
       "<Figure size 432x288 with 1 Axes>"
      ]
     },
     "metadata": {
      "needs_background": "light"
     },
     "output_type": "display_data"
    }
   ],
   "source": [
    "# Plot all clusters into ONE graph\n",
    "thermal = []\n",
    "duration = []\n",
    "base = 0.0\n",
    "\n",
    "for i in range(len(filtered_cluster_before)):\n",
    "    for j in range(len(filtered_cluster_before[i])):\n",
    "        base += filtered_cluster_before[i][j].time_duration\n",
    "        thermal.append(filtered_cluster_before[i][j].thermal_cozie)\n",
    "        duration.append(base)\n",
    "        \n",
    "    plt.plot(duration,thermal)\n",
    "    plt.xlabel(\"Duration\")\n",
    "    plt.ylabel(\"Thermal Cozie\")\n",
    "    plt.ylim(9,11)\n",
    "    \n",
    "    # Re-init to remove previous cluster data\n",
    "    base = 0.0\n",
    "    thermal = []\n",
    "    duration = []"
   ]
  },
  {
   "cell_type": "markdown",
   "metadata": {},
   "source": [
    "# Plot all graph seperately before removal of NaN"
   ]
  },
  {
   "cell_type": "code",
   "execution_count": 13,
   "metadata": {},
   "outputs": [
    {
     "data": {
      "image/png": "[encoded data removed]",
      "text/plain": [
       "<Figure size 432x288 with 1 Axes>"
      ]
     },
     "metadata": {
      "needs_background": "light"
     },
     "output_type": "display_data"
    },
    {
     "data": {
      "image/png": "[encoded data removed]",
      "text/plain": [
       "<Figure size 432x288 with 1 Axes>"
      ]
     },
     "metadata": {
      "needs_background": "light"
     },
     "output_type": "display_data"
    },
    {
     "data": {
      "image/png": "[encoded data removed]",
      "text/plain": [
       "<Figure size 432x288 with 1 Axes>"
      ]
     },
     "metadata": {
      "needs_background": "light"
     },
     "output_type": "display_data"
    },
    {
     "data": {
      "image/png": "[encoded data removed]",
      "text/plain": [
       "<Figure size 432x288 with 1 Axes>"
      ]
     },
     "metadata": {
      "needs_background": "light"
     },
     "output_type": "display_data"
    },
    {
     "data": {
      "image/png": "[encoded data removed]",
      "text/plain": [
       "<Figure size 432x288 with 1 Axes>"
      ]
     },
     "metadata": {
      "needs_background": "light"
     },
     "output_type": "display_data"
    },
    {
     "data": {
      "image/png": "[encoded data removed]",
      "text/plain": [
       "<Figure size 432x288 with 1 Axes>"
      ]
     },
     "metadata": {
      "needs_background": "light"
     },
     "output_type": "display_data"
    },
    {
     "data": {
      "image/png": "[encoded data removed]",
      "text/plain": [
       "<Figure size 432x288 with 1 Axes>"
      ]
     },
     "metadata": {
      "needs_background": "light"
     },
     "output_type": "display_data"
    },
    {
     "data": {
      "image/png": "[encoded data removed]",
      "text/plain": [
       "<Figure size 432x288 with 1 Axes>"
      ]
     },
     "metadata": {
      "needs_background": "light"
     },
     "output_type": "display_data"
    },
    {
     "data": {
      "image/png": "[encoded data removed]",
      "text/plain": [
       "<Figure size 432x288 with 1 Axes>"
      ]
     },
     "metadata": {
      "needs_background": "light"
     },
     "output_type": "display_data"
    },
    {
     "data": {
      "image/png": "[encoded data removed]",
      "text/plain": [
       "<Figure size 432x288 with 1 Axes>"
      ]
     },
     "metadata": {
      "needs_background": "light"
     },
     "output_type": "display_data"
    },
    {
     "data": {
      "image/png": "[encoded data removed]",
      "text/plain": [
       "<Figure size 432x288 with 1 Axes>"
      ]
     },
     "metadata": {
      "needs_background": "light"
     },
     "output_type": "display_data"
    },
    {
     "data": {
      "image/png": "[encoded data removed]",
      "text/plain": [
       "<Figure size 432x288 with 1 Axes>"
      ]
     },
     "metadata": {
      "needs_background": "light"
     },
     "output_type": "display_data"
    },
    {
     "data": {
      "image/png": "[encoded data removed]",
      "text/plain": [
       "<Figure size 432x288 with 1 Axes>"
      ]
     },
     "metadata": {
      "needs_background": "light"
     },
     "output_type": "display_data"
    }
   ],
   "source": [
    "# Plot all clusters into ONE graph\n",
    "thermal = []\n",
    "duration = []\n",
    "base = 0.0\n",
    "\n",
    "for i in range(len(filtered_cluster_before)):\n",
    "    for j in range(len(filtered_cluster_before[i])):\n",
    "        base += filtered_cluster_before[i][j].time_duration\n",
    "        thermal.append(filtered_cluster_before[i][j].thermal_cozie)\n",
    "        duration.append(base)\n",
    "    \n",
    "    plt.figure()\n",
    "    plt.scatter(duration,thermal)\n",
    "    plt.plot(duration,thermal)\n",
    "    plt.xlabel(\"Duration\")\n",
    "    plt.ylabel(\"Thermal Cozie\")\n",
    "    plt.yticks(thermal_cozie_ticks)\n",
    "    \n",
    "    # Re-init to remove previous cluster data\n",
    "    base = 0.0\n",
    "    thermal = []\n",
    "    duration = []"
   ]
  },
  {
   "cell_type": "markdown",
   "metadata": {},
   "source": [
    "# Remove list with zero elements inside filtered_cluster_after"
   ]
  },
  {
   "cell_type": "code",
   "execution_count": 14,
   "metadata": {},
   "outputs": [
    {
     "name": "stdout",
     "output_type": "stream",
     "text": [
      "[[time             2019-10-25 10:13:50.591000+08:00\n",
      "thermal_cozie                                  10\n",
      "user_id                                   cresh29\n",
      "Space_id                                       20\n",
      "room                                IRC_LIBRARY_1\n",
      "time_duration                                   0\n",
      "Name: 3567, dtype: object, time             2019-10-25 10:30:27.121000+08:00\n",
      "thermal_cozie                                  10\n",
      "user_id                                   cresh29\n",
      "Space_id                                       -1\n",
      "room                                IRC_LIBRARY_1\n",
      "time_duration                             16.6088\n",
      "Name: 3569, dtype: object, time             2019-10-25 10:45:44.414000+08:00\n",
      "thermal_cozie                                  10\n",
      "user_id                                   cresh29\n",
      "Space_id                                       -1\n",
      "room                                IRC_LIBRARY_1\n",
      "time_duration                             15.2882\n",
      "Name: 3570, dtype: object, time             2019-10-25 11:00:41.706000+08:00\n",
      "thermal_cozie                                  10\n",
      "user_id                                   cresh29\n",
      "Space_id                                       20\n",
      "room                                IRC_LIBRARY_1\n",
      "time_duration                             14.9549\n",
      "Name: 3574, dtype: object]]\n"
     ]
    }
   ],
   "source": [
    "tempList3 = []\n",
    "for i in range(len(filtered_cluster_after)):\n",
    "    if (len(filtered_cluster_after[i]) > 1):\n",
    "        tempList3.append(filtered_cluster_after[i])\n",
    "\n",
    "filtered_cluster_after = tempList3\n",
    "print(filtered_cluster_after)"
   ]
  },
  {
   "cell_type": "markdown",
   "metadata": {},
   "source": [
    "# Show how many datapoint are in each cluster after filtering NaN and zero element"
   ]
  },
  {
   "cell_type": "code",
   "execution_count": 15,
   "metadata": {},
   "outputs": [
    {
     "name": "stdout",
     "output_type": "stream",
     "text": [
      "0:4 \n"
     ]
    }
   ],
   "source": [
    "for i in range(len(filtered_cluster_after)):\n",
    "    print(\"{0}:{1} \".format(i,(len(filtered_cluster_after[i]))))"
   ]
  },
  {
   "cell_type": "markdown",
   "metadata": {},
   "source": [
    "# Plot all cluster into one graph"
   ]
  },
  {
   "cell_type": "code",
   "execution_count": 16,
   "metadata": {},
   "outputs": [
    {
     "data": {
      "image/png": "[encoded data removed]",
      "text/plain": [
       "<Figure size 432x288 with 1 Axes>"
      ]
     },
     "metadata": {
      "needs_background": "light"
     },
     "output_type": "display_data"
    }
   ],
   "source": [
    "# Plot all clusters into ONE graph\n",
    "thermal = []\n",
    "duration = []\n",
    "base = 0.0\n",
    "\n",
    "for i in range(len(filtered_cluster_after)):\n",
    "    for j in range(len(filtered_cluster_after[i])):\n",
    "        base += filtered_cluster_after[i][j].time_duration\n",
    "        thermal.append(filtered_cluster_after[i][j].thermal_cozie)\n",
    "        duration.append(base)\n",
    "        \n",
    "    plt.plot(duration,thermal)\n",
    "    plt.xlabel(\"Duration\")\n",
    "    plt.ylabel(\"Thermal Cozie\")\n",
    "    plt.yticks(thermal_cozie_ticks)\n",
    "    \n",
    "    # Re-init to remove previous cluster data\n",
    "    base = 0.0\n",
    "    thermal = []\n",
    "    duration = []"
   ]
  },
  {
   "cell_type": "markdown",
   "metadata": {},
   "source": [
    "# Plot all cluster into separate graphs"
   ]
  },
  {
   "cell_type": "code",
   "execution_count": 17,
   "metadata": {},
   "outputs": [
    {
     "data": {
      "image/png": "[encoded data removed]",
      "text/plain": [
       "<Figure size 432x288 with 1 Axes>"
      ]
     },
     "metadata": {
      "needs_background": "light"
     },
     "output_type": "display_data"
    }
   ],
   "source": [
    "# Plot all clusters into ONE graph\n",
    "thermal = []\n",
    "duration = []\n",
    "base = 0.0\n",
    "\n",
    "for i in range(len(filtered_cluster_after)):\n",
    "    for j in range(len(filtered_cluster_after[i])):\n",
    "        base += filtered_cluster_after[i][j].time_duration\n",
    "        thermal.append(filtered_cluster_after[i][j].thermal_cozie)\n",
    "        duration.append(base)\n",
    "    \n",
    "    plt.figure()\n",
    "    plt.scatter(duration,thermal)\n",
    "    plt.plot(duration,thermal)\n",
    "    plt.xlabel(\"Duration\")\n",
    "    plt.ylabel(\"Thermal Cozie\")\n",
    "    plt.yticks(thermal_cozie_ticks)\n",
    "    \n",
    "    # Re-init to remove previous cluster data\n",
    "    base = 0.0\n",
    "    thermal = []\n",
    "    duration = []"
   ]
  },
  {
   "cell_type": "markdown",
   "metadata": {},
   "source": [
    "# Plot test with vertical dotted lines"
   ]
  },
  {
   "cell_type": "code",
   "execution_count": 18,
   "metadata": {
    "scrolled": true
   },
   "outputs": [
    {
     "data": {
      "image/png": "[encoded data removed]",
      "text/plain": [
       "<Figure size 432x288 with 1 Axes>"
      ]
     },
     "metadata": {
      "needs_background": "light"
     },
     "output_type": "display_data"
    }
   ],
   "source": [
    "# Plot all clusters into ONE graph\n",
    "thermal = []\n",
    "duration = []\n",
    "base = 0.0\n",
    "dotted_lines = []\n",
    "\n",
    "for i in range(len(filtered_cluster_after)):\n",
    "    tempList = []\n",
    "    for j in range(len(filtered_cluster_after[i])):\n",
    "        if (j > 1):\n",
    "            prev = filtered_cluster_after[i][j-1].room\n",
    "            curr = filtered_cluster_after[i][j].room\n",
    "            \n",
    "            if (prev != curr):\n",
    "                tempList.append(j)\n",
    "                \n",
    "    dotted_lines.append(tempList)\n",
    "\n",
    "#print(dotted_lines)\n",
    "    \n",
    "for i in range(len(filtered_cluster_after)):\n",
    "    lines = []\n",
    "    for j in range(len(filtered_cluster_after[i])):\n",
    "        base += filtered_cluster_after[i][j].time_duration\n",
    "        thermal.append(filtered_cluster_after[i][j].thermal_cozie)\n",
    "        duration.append(base)\n",
    "        \n",
    "    if(len(dotted_lines[i]) > 0):\n",
    "        while(len(dotted_lines[i]) > 0):\n",
    "            index = dotted_lines[i].pop()\n",
    "            xValue = duration[index]\n",
    "            plt.axvline(x = xValue, linestyle = '--', color = 'r')\n",
    "        \n",
    "        \n",
    "    plt.scatter(duration,thermal)\n",
    "    plt.plot(duration,thermal)\n",
    "    plt.xlabel(\"Duration\")\n",
    "    plt.ylabel(\"Thermal Cozie\")\n",
    "    plt.yticks(thermal_cozie_ticks)\n",
    "    plt.show()\n",
    "    \n",
    "    #print(filtered_cluster_after[0])\n",
    "    #print(duration)\n",
    "    \n",
    "    # Re-init to remove previous cluster data\n",
    "    base = 0.0\n",
    "    thermal = []\n",
    "    duration = []\n",
    "    "
   ]
  }
 ],
 "metadata": {
  "kernelspec": {
   "display_name": "Python 3",
   "language": "python",
   "name": "python3"
  },
  "language_info": {
   "codemirror_mode": {
    "name": "ipython",
    "version": 3
   },
   "file_extension": ".py",
   "mimetype": "text/x-python",
   "name": "python",
   "nbconvert_exporter": "python",
   "pygments_lexer": "ipython3",
   "version": "3.7.4"
  }
 },
 "nbformat": 4,
 "nbformat_minor": 4
}
