{
 "cells": [
  {
   "cell_type": "code",
   "execution_count": 1,
   "metadata": {},
   "outputs": [],
   "source": [
    "import pandas as pd\n",
    "import numpy as np\n",
    "from matplotlib import pyplot as plt\n",
    "from matplotlib.backends.backend_agg import FigureCanvasAgg as FigureCanvas\n",
    "from matplotlib.figure import Figure"
   ]
  },
  {
   "cell_type": "code",
   "execution_count": 2,
   "metadata": {},
   "outputs": [],
   "source": [
    "fig = Figure()\n",
    "canvas = FigureCanvas(fig)\n",
    "ax = fig.add_subplot(111)"
   ]
  },
  {
   "cell_type": "code",
   "execution_count": 3,
   "metadata": {},
   "outputs": [],
   "source": [
    "def isNaN(num):\n",
    "    return num != num"
   ]
  },
  {
   "cell_type": "code",
   "execution_count": 4,
   "metadata": {},
   "outputs": [],
   "source": [
    "df = pd.read_csv (\"2019-10-29_cozie_full.csv\", index_col=0)\n",
    "filtered_df = df.drop (columns=['clothing','lat_cozie','lon_cozie','responseSpeed_cozie','Floor','Latitude','Longitude','noise_sensing','voc_sensing','index','comfort_cozie','heartRate_cozie','light_cozie','noise_cozie','co2_sensing','humidity_sensing','light_sensing','temperature_sensing','temperature_mbient'],axis=1)\n",
    "filtered_df['time'] = filtered_df['time'].apply(pd.Timestamp).dt.tz_convert('Asia/Singapore')\n",
    "# Add new column to calculate duration \n",
    "filtered_df['time_duration'] = 0"
   ]
  },
  {
   "cell_type": "code",
   "execution_count": 5,
   "metadata": {},
   "outputs": [],
   "source": [
    "grouped_users = filtered_df.groupby('user_id')\n",
    "\n",
    "all_clusters = [] # Raw data\n",
    "cluster_array = [] \n",
    "filtered_cluster_before = [] # Raw data that are clustered together according to duration\n",
    "filtered_cluster_after = []"
   ]
  },
  {
   "cell_type": "code",
   "execution_count": 6,
   "metadata": {},
   "outputs": [],
   "source": [
    "cresh01_df = grouped_users.get_group('cresh17')\n",
    "thermal_cozie_ticks = [9,10,11]"
   ]
  },
  {
   "cell_type": "code",
   "execution_count": 7,
   "metadata": {},
   "outputs": [],
   "source": [
    "# Gather all data relevant to specific user \n",
    "for index, datapoint in cresh01_df.iterrows():\n",
    "    # print (data.time)\n",
    "    if cluster_array == []:\n",
    "        cluster_array.append(datapoint)\n",
    "    else:\n",
    "        if datapoint.time < last_time + pd.Timedelta(minutes=30):\n",
    "            cluster_array.append(datapoint) \n",
    "        else:\n",
    "            all_clusters.append(cluster_array)\n",
    "            cluster_array = []\n",
    "            cluster_array.append(datapoint)\n",
    "\n",
    "    \n",
    "    last_time = datapoint.time\n",
    "#print (all_clusters)"
   ]
  },
  {
   "cell_type": "markdown",
   "metadata": {},
   "source": [
    "# Keep clusters with more than a certain amount of data points"
   ]
  },
  {
   "cell_type": "code",
   "execution_count": 8,
   "metadata": {},
   "outputs": [
    {
     "name": "stdout",
     "output_type": "stream",
     "text": [
      "[[time             2019-10-21 13:06:30.888000+08:00\n",
      "thermal_cozie                                  10\n",
      "user_id                                   cresh17\n",
      "Space_id                                      NaN\n",
      "room                                          NaN\n",
      "time_duration                                   0\n",
      "Name: 2614, dtype: object, time             2019-10-21 13:23:32.165000+08:00\n",
      "thermal_cozie                                  10\n",
      "user_id                                   cresh17\n",
      "Space_id                                       45\n",
      "room                       BUILDING_MATERIALS_LAB\n",
      "time_duration                                   0\n",
      "Name: 2627, dtype: object], [time             2019-10-21 15:03:28.230000+08:00\n",
      "thermal_cozie                                  10\n",
      "user_id                                   cresh17\n",
      "Space_id                                      NaN\n",
      "room                                          NaN\n",
      "time_duration                                   0\n",
      "Name: 2665, dtype: object, time             2019-10-21 15:30:10.824000+08:00\n",
      "thermal_cozie                                  10\n",
      "user_id                                   cresh17\n",
      "Space_id                                       42\n",
      "room                     EXECUTIVE_SEMINAR_ROOM_A\n",
      "time_duration                                   0\n",
      "Name: 2681, dtype: object, time             2019-10-21 15:30:26.700000+08:00\n",
      "thermal_cozie                                  10\n",
      "user_id                                   cresh17\n",
      "Space_id                                       42\n",
      "room                     EXECUTIVE_SEMINAR_ROOM_A\n",
      "time_duration                                   0\n",
      "Name: 2683, dtype: object], [time             2019-10-22 10:50:30.834000+08:00\n",
      "thermal_cozie                                   9\n",
      "user_id                                   cresh17\n",
      "Space_id                                      NaN\n",
      "room                                          NaN\n",
      "time_duration                                   0\n",
      "Name: 2837, dtype: object, time             2019-10-22 11:14:12.240000+08:00\n",
      "thermal_cozie                                   9\n",
      "user_id                                   cresh17\n",
      "Space_id                                      NaN\n",
      "room                                          NaN\n",
      "time_duration                                   0\n",
      "Name: 2849, dtype: object, time             2019-10-22 11:26:03.262000+08:00\n",
      "thermal_cozie                                   9\n",
      "user_id                                   cresh17\n",
      "Space_id                                      NaN\n",
      "room                                          NaN\n",
      "time_duration                                   0\n",
      "Name: 2853, dtype: object], [time             2019-10-22 12:44:05.444000+08:00\n",
      "thermal_cozie                                   9\n",
      "user_id                                   cresh17\n",
      "Space_id                                      NaN\n",
      "room                                          NaN\n",
      "time_duration                                   0\n",
      "Name: 2868, dtype: object, time             2019-10-22 12:52:29.002000+08:00\n",
      "thermal_cozie                                   9\n",
      "user_id                                   cresh17\n",
      "Space_id                                      NaN\n",
      "room                                          NaN\n",
      "time_duration                                   0\n",
      "Name: 2873, dtype: object, time             2019-10-22 13:14:11.927000+08:00\n",
      "thermal_cozie                                   9\n",
      "user_id                                   cresh17\n",
      "Space_id                                      NaN\n",
      "room                                          NaN\n",
      "time_duration                                   0\n",
      "Name: 2879, dtype: object], [time             2019-10-22 16:51:59.476000+08:00\n",
      "thermal_cozie                                   9\n",
      "user_id                                   cresh17\n",
      "Space_id                                       42\n",
      "room                     EXECUTIVE_SEMINAR_ROOM_A\n",
      "time_duration                                   0\n",
      "Name: 2937, dtype: object, time             2019-10-22 17:14:34.036000+08:00\n",
      "thermal_cozie                                   9\n",
      "user_id                                   cresh17\n",
      "Space_id                                       42\n",
      "room                     EXECUTIVE_SEMINAR_ROOM_A\n",
      "time_duration                                   0\n",
      "Name: 2950, dtype: object], [time             2019-10-22 18:00:13.872000+08:00\n",
      "thermal_cozie                                   9\n",
      "user_id                                   cresh17\n",
      "Space_id                                       42\n",
      "room                     EXECUTIVE_SEMINAR_ROOM_A\n",
      "time_duration                                   0\n",
      "Name: 2966, dtype: object, time             2019-10-22 18:00:40.594000+08:00\n",
      "thermal_cozie                                   9\n",
      "user_id                                   cresh17\n",
      "Space_id                                       42\n",
      "room                     EXECUTIVE_SEMINAR_ROOM_A\n",
      "time_duration                                   0\n",
      "Name: 2967, dtype: object, time             2019-10-22 18:24:34.885000+08:00\n",
      "thermal_cozie                                   9\n",
      "user_id                                   cresh17\n",
      "Space_id                                       43\n",
      "room                     EXECUTIVE_SEMINAR_ROOM_A\n",
      "time_duration                                   0\n",
      "Name: 2974, dtype: object, time             2019-10-22 18:30:10.956000+08:00\n",
      "thermal_cozie                                   9\n",
      "user_id                                   cresh17\n",
      "Space_id                                       43\n",
      "room                     EXECUTIVE_SEMINAR_ROOM_A\n",
      "time_duration                                   0\n",
      "Name: 2975, dtype: object], [time             2019-10-22 19:16:58.362000+08:00\n",
      "thermal_cozie                                  10\n",
      "user_id                                   cresh17\n",
      "Space_id                                       42\n",
      "room                     EXECUTIVE_SEMINAR_ROOM_A\n",
      "time_duration                                   0\n",
      "Name: 2988, dtype: object, time             2019-10-22 19:31:32.096000+08:00\n",
      "thermal_cozie                                   9\n",
      "user_id                                   cresh17\n",
      "Space_id                                       43\n",
      "room                     EXECUTIVE_SEMINAR_ROOM_B\n",
      "time_duration                                   0\n",
      "Name: 2992, dtype: object, time             2019-10-22 19:32:37.224000+08:00\n",
      "thermal_cozie                                  11\n",
      "user_id                                   cresh17\n",
      "Space_id                                       43\n",
      "room                     EXECUTIVE_SEMINAR_ROOM_B\n",
      "time_duration                                   0\n",
      "Name: 2994, dtype: object], [time             2019-10-24 09:12:54.937000+08:00\n",
      "thermal_cozie                                  11\n",
      "user_id                                   cresh17\n",
      "Space_id                                      NaN\n",
      "room                                          NaN\n",
      "time_duration                                   0\n",
      "Name: 3340, dtype: object, time             2019-10-24 09:14:13.768000+08:00\n",
      "thermal_cozie                                  11\n",
      "user_id                                   cresh17\n",
      "Space_id                                      NaN\n",
      "room                                          NaN\n",
      "time_duration                                   0\n",
      "Name: 3341, dtype: object], [time             2019-10-24 13:10:22.220000+08:00\n",
      "thermal_cozie                                   9\n",
      "user_id                                   cresh17\n",
      "Space_id                                      NaN\n",
      "room                                          NaN\n",
      "time_duration                                   0\n",
      "Name: 3420, dtype: object, time             2019-10-24 13:14:13.211000+08:00\n",
      "thermal_cozie                                   9\n",
      "user_id                                   cresh17\n",
      "Space_id                                       45\n",
      "room                       BUILDING_MATERIALS_LAB\n",
      "time_duration                                   0\n",
      "Name: 3421, dtype: object]]\n"
     ]
    }
   ],
   "source": [
    "# Split the cluster up according to their timing\n",
    "for i in range(len(all_clusters)):\n",
    "    if (len(all_clusters[i]) > 1):\n",
    "        # If have more than 1 datapoint\n",
    "        tempList = all_clusters[i] # Store into tempList for splitting\n",
    "        tempList2 = [] # Store all relevant datapoints in a cluster together before pushing into flitered_cluster\n",
    "        nextDataPoint = []\n",
    "         # Check if current datapoint is part of the cluster and room is not null\n",
    "        for j in range(len(tempList)):\n",
    "            space = tempList[j].Space_id\n",
    "\n",
    "            if (j == 0):\n",
    "                tempList2.append(tempList[j])\n",
    "                last_time = tempList[j].time\n",
    "\n",
    "            elif (tempList[j].time < last_time + pd.Timedelta(minutes=30)):\n",
    "                tempList2.append(tempList[j])\n",
    "                last_time = tempList[j].time\n",
    "\n",
    "        filtered_cluster_before.append(tempList2)\n",
    "print(filtered_cluster_before)    "
   ]
  },
  {
   "cell_type": "markdown",
   "metadata": {},
   "source": [
    "# Keep clusters with more than a certain amount of data points and remove NaN"
   ]
  },
  {
   "cell_type": "code",
   "execution_count": 9,
   "metadata": {},
   "outputs": [
    {
     "name": "stdout",
     "output_type": "stream",
     "text": [
      "[[time             2019-10-21 13:23:32.165000+08:00\n",
      "thermal_cozie                                  10\n",
      "user_id                                   cresh17\n",
      "Space_id                                       45\n",
      "room                       BUILDING_MATERIALS_LAB\n",
      "time_duration                                   0\n",
      "Name: 2627, dtype: object], [], [], [], [time             2019-10-22 16:51:59.476000+08:00\n",
      "thermal_cozie                                   9\n",
      "user_id                                   cresh17\n",
      "Space_id                                       42\n",
      "room                     EXECUTIVE_SEMINAR_ROOM_A\n",
      "time_duration                                   0\n",
      "Name: 2937, dtype: object, time             2019-10-22 17:14:34.036000+08:00\n",
      "thermal_cozie                                   9\n",
      "user_id                                   cresh17\n",
      "Space_id                                       42\n",
      "room                     EXECUTIVE_SEMINAR_ROOM_A\n",
      "time_duration                                   0\n",
      "Name: 2950, dtype: object], [time             2019-10-22 18:00:13.872000+08:00\n",
      "thermal_cozie                                   9\n",
      "user_id                                   cresh17\n",
      "Space_id                                       42\n",
      "room                     EXECUTIVE_SEMINAR_ROOM_A\n",
      "time_duration                                   0\n",
      "Name: 2966, dtype: object, time             2019-10-22 18:00:40.594000+08:00\n",
      "thermal_cozie                                   9\n",
      "user_id                                   cresh17\n",
      "Space_id                                       42\n",
      "room                     EXECUTIVE_SEMINAR_ROOM_A\n",
      "time_duration                                   0\n",
      "Name: 2967, dtype: object, time             2019-10-22 18:24:34.885000+08:00\n",
      "thermal_cozie                                   9\n",
      "user_id                                   cresh17\n",
      "Space_id                                       43\n",
      "room                     EXECUTIVE_SEMINAR_ROOM_A\n",
      "time_duration                                   0\n",
      "Name: 2974, dtype: object, time             2019-10-22 18:30:10.956000+08:00\n",
      "thermal_cozie                                   9\n",
      "user_id                                   cresh17\n",
      "Space_id                                       43\n",
      "room                     EXECUTIVE_SEMINAR_ROOM_A\n",
      "time_duration                                   0\n",
      "Name: 2975, dtype: object], [time             2019-10-22 19:16:58.362000+08:00\n",
      "thermal_cozie                                  10\n",
      "user_id                                   cresh17\n",
      "Space_id                                       42\n",
      "room                     EXECUTIVE_SEMINAR_ROOM_A\n",
      "time_duration                                   0\n",
      "Name: 2988, dtype: object, time             2019-10-22 19:31:32.096000+08:00\n",
      "thermal_cozie                                   9\n",
      "user_id                                   cresh17\n",
      "Space_id                                       43\n",
      "room                     EXECUTIVE_SEMINAR_ROOM_B\n",
      "time_duration                                   0\n",
      "Name: 2992, dtype: object, time             2019-10-22 19:32:37.224000+08:00\n",
      "thermal_cozie                                  11\n",
      "user_id                                   cresh17\n",
      "Space_id                                       43\n",
      "room                     EXECUTIVE_SEMINAR_ROOM_B\n",
      "time_duration                                   0\n",
      "Name: 2994, dtype: object], [], []]\n"
     ]
    }
   ],
   "source": [
    "# Split the cluster up according to their timing\n",
    "for i in range(len(all_clusters)):\n",
    "    if (len(all_clusters[i]) > 1):\n",
    "        # If have more than 1 datapoint\n",
    "        tempList = all_clusters[i] # Store into tempList for splitting\n",
    "        tempList2 = [] # Store all relevant datapoints in a cluster together before pushing into flitered_cluster\n",
    "        nextDataPoint = []\n",
    "         # Check if current datapoint is part of the cluster and room is not null\n",
    "        for j in range(len(tempList)):\n",
    "            space = tempList[j].Space_id\n",
    "            \n",
    "            if(isNaN(space) == False):    \n",
    "                if (j == 0):\n",
    "                    tempList2.append(tempList[j])\n",
    "                    last_time = tempList[j].time\n",
    "\n",
    "                elif (tempList[j].time < last_time + pd.Timedelta(minutes=30)):\n",
    "                    tempList2.append(tempList[j])\n",
    "                    last_time = tempList[j].time\n",
    "\n",
    "        filtered_cluster_after.append(tempList2)\n",
    "print(filtered_cluster_after)   "
   ]
  },
  {
   "cell_type": "markdown",
   "metadata": {},
   "source": [
    "# Show how many datapoints are in each cluster prior to removing"
   ]
  },
  {
   "cell_type": "code",
   "execution_count": 10,
   "metadata": {},
   "outputs": [
    {
     "name": "stdout",
     "output_type": "stream",
     "text": [
      "0:2 \n",
      "1:3 \n",
      "2:3 \n",
      "3:3 \n",
      "4:2 \n",
      "5:4 \n",
      "6:3 \n",
      "7:2 \n",
      "8:2 \n"
     ]
    }
   ],
   "source": [
    "for i in range(len(filtered_cluster_before)):\n",
    "    print(\"{0}:{1} \".format(i,(len(filtered_cluster_before[i]))))"
   ]
  },
  {
   "cell_type": "markdown",
   "metadata": {},
   "source": [
    "# Add in values to the duration difference column"
   ]
  },
  {
   "cell_type": "code",
   "execution_count": 11,
   "metadata": {},
   "outputs": [],
   "source": [
    "for i in range(len(filtered_cluster_before)):\n",
    "    # First variable have no time difference, thus 0.0s\n",
    "    timeDifferenceList = [0.0]\n",
    "    for j in range(len(filtered_cluster_before[i])):\n",
    "        if (j == 0):\n",
    "            last_time = filtered_cluster_before[i][j].time\n",
    "        else:\n",
    "            timeDiff = filtered_cluster_before[i][j].time - last_time\n",
    "            filtered_cluster_before[i][j].time_duration = (timeDiff.total_seconds()/60)\n",
    "            # Set the last time as the current one\n",
    "            last_time = filtered_cluster_before[i][j].time\n",
    "            \n",
    "for i in range(len(filtered_cluster_after)):\n",
    "    # First variable have no time difference, thus 0.0s\n",
    "    timeDifferenceList = [0.0]\n",
    "    for j in range(len(filtered_cluster_after[i])):\n",
    "        if (j == 0):\n",
    "            last_time = filtered_cluster_after[i][j].time\n",
    "        else:\n",
    "            timeDiff = filtered_cluster_after[i][j].time - last_time\n",
    "            filtered_cluster_after[i][j].time_duration = (timeDiff.total_seconds()/60)\n",
    "            # Set the last time as the current one\n",
    "            last_time = filtered_cluster_after[i][j].time"
   ]
  },
  {
   "cell_type": "markdown",
   "metadata": {},
   "source": [
    "# Plot all graph before removal of NaN"
   ]
  },
  {
   "cell_type": "code",
   "execution_count": 12,
   "metadata": {},
   "outputs": [
    {
     "data": {
      "image/png": "[encoded data removed]",
      "text/plain": [
       "<Figure size 432x288 with 1 Axes>"
      ]
     },
     "metadata": {
      "needs_background": "light"
     },
     "output_type": "display_data"
    }
   ],
   "source": [
    "# Plot all clusters into ONE graph\n",
    "thermal = []\n",
    "duration = []\n",
    "base = 0.0\n",
    "\n",
    "for i in range(len(filtered_cluster_before)):\n",
    "    for j in range(len(filtered_cluster_before[i])):\n",
    "        base += filtered_cluster_before[i][j].time_duration\n",
    "        thermal.append(filtered_cluster_before[i][j].thermal_cozie)\n",
    "        duration.append(base)\n",
    "        \n",
    "    plt.plot(duration,thermal)\n",
    "    plt.xlabel(\"Duration\")\n",
    "    plt.ylabel(\"Thermal Cozie\")\n",
    "    plt.ylim(9,11)\n",
    "    \n",
    "    # Re-init to remove previous cluster data\n",
    "    base = 0.0\n",
    "    thermal = []\n",
    "    duration = []"
   ]
  },
  {
   "cell_type": "markdown",
   "metadata": {},
   "source": [
    "# Plot all graph seperately before removal of NaN"
   ]
  },
  {
   "cell_type": "code",
   "execution_count": 13,
   "metadata": {},
   "outputs": [
    {
     "data": {
      "image/png": "[encoded data removed]",
      "text/plain": [
       "<Figure size 432x288 with 1 Axes>"
      ]
     },
     "metadata": {
      "needs_background": "light"
     },
     "output_type": "display_data"
    },
    {
     "data": {
      "image/png": "[encoded data removed]",
      "text/plain": [
       "<Figure size 432x288 with 1 Axes>"
      ]
     },
     "metadata": {
      "needs_background": "light"
     },
     "output_type": "display_data"
    },
    {
     "data": {
      "image/png": "[encoded data removed]",
      "text/plain": [
       "<Figure size 432x288 with 1 Axes>"
      ]
     },
     "metadata": {
      "needs_background": "light"
     },
     "output_type": "display_data"
    },
    {
     "data": {
      "image/png": "[encoded data removed]",
      "text/plain": [
       "<Figure size 432x288 with 1 Axes>"
      ]
     },
     "metadata": {
      "needs_background": "light"
     },
     "output_type": "display_data"
    },
    {
     "data": {
      "image/png": "[encoded data removed]",
      "text/plain": [
       "<Figure size 432x288 with 1 Axes>"
      ]
     },
     "metadata": {
      "needs_background": "light"
     },
     "output_type": "display_data"
    },
    {
     "data": {
      "image/png": "[encoded data removed]",
      "text/plain": [
       "<Figure size 432x288 with 1 Axes>"
      ]
     },
     "metadata": {
      "needs_background": "light"
     },
     "output_type": "display_data"
    },
    {
     "data": {
      "image/png": "[encoded data removed]",
      "text/plain": [
       "<Figure size 432x288 with 1 Axes>"
      ]
     },
     "metadata": {
      "needs_background": "light"
     },
     "output_type": "display_data"
    },
    {
     "data": {
      "image/png": "[encoded data removed]",
      "text/plain": [
       "<Figure size 432x288 with 1 Axes>"
      ]
     },
     "metadata": {
      "needs_background": "light"
     },
     "output_type": "display_data"
    },
    {
     "data": {
      "image/png": "[encoded data removed]",
      "text/plain": [
       "<Figure size 432x288 with 1 Axes>"
      ]
     },
     "metadata": {
      "needs_background": "light"
     },
     "output_type": "display_data"
    }
   ],
   "source": [
    "# Plot all clusters into ONE graph\n",
    "thermal = []\n",
    "duration = []\n",
    "base = 0.0\n",
    "\n",
    "for i in range(len(filtered_cluster_before)):\n",
    "    for j in range(len(filtered_cluster_before[i])):\n",
    "        base += filtered_cluster_before[i][j].time_duration\n",
    "        thermal.append(filtered_cluster_before[i][j].thermal_cozie)\n",
    "        duration.append(base)\n",
    "    \n",
    "    plt.figure()\n",
    "    plt.scatter(duration,thermal)\n",
    "    plt.plot(duration,thermal)\n",
    "    plt.xlabel(\"Duration\")\n",
    "    plt.ylabel(\"Thermal Cozie\")\n",
    "    plt.yticks(thermal_cozie_ticks)\n",
    "    \n",
    "    # Re-init to remove previous cluster data\n",
    "    base = 0.0\n",
    "    thermal = []\n",
    "    duration = []"
   ]
  },
  {
   "cell_type": "markdown",
   "metadata": {},
   "source": [
    "# Remove list with zero elements inside filtered_cluster_after"
   ]
  },
  {
   "cell_type": "code",
   "execution_count": 14,
   "metadata": {},
   "outputs": [
    {
     "name": "stdout",
     "output_type": "stream",
     "text": [
      "[[time             2019-10-22 16:51:59.476000+08:00\n",
      "thermal_cozie                                   9\n",
      "user_id                                   cresh17\n",
      "Space_id                                       42\n",
      "room                     EXECUTIVE_SEMINAR_ROOM_A\n",
      "time_duration                                   0\n",
      "Name: 2937, dtype: object, time             2019-10-22 17:14:34.036000+08:00\n",
      "thermal_cozie                                   9\n",
      "user_id                                   cresh17\n",
      "Space_id                                       42\n",
      "room                     EXECUTIVE_SEMINAR_ROOM_A\n",
      "time_duration                              22.576\n",
      "Name: 2950, dtype: object], [time             2019-10-22 18:00:13.872000+08:00\n",
      "thermal_cozie                                   9\n",
      "user_id                                   cresh17\n",
      "Space_id                                       42\n",
      "room                     EXECUTIVE_SEMINAR_ROOM_A\n",
      "time_duration                                   0\n",
      "Name: 2966, dtype: object, time             2019-10-22 18:00:40.594000+08:00\n",
      "thermal_cozie                                   9\n",
      "user_id                                   cresh17\n",
      "Space_id                                       42\n",
      "room                     EXECUTIVE_SEMINAR_ROOM_A\n",
      "time_duration                            0.445367\n",
      "Name: 2967, dtype: object, time             2019-10-22 18:24:34.885000+08:00\n",
      "thermal_cozie                                   9\n",
      "user_id                                   cresh17\n",
      "Space_id                                       43\n",
      "room                     EXECUTIVE_SEMINAR_ROOM_A\n",
      "time_duration                             23.9048\n",
      "Name: 2974, dtype: object, time             2019-10-22 18:30:10.956000+08:00\n",
      "thermal_cozie                                   9\n",
      "user_id                                   cresh17\n",
      "Space_id                                       43\n",
      "room                     EXECUTIVE_SEMINAR_ROOM_A\n",
      "time_duration                             5.60118\n",
      "Name: 2975, dtype: object], [time             2019-10-22 19:16:58.362000+08:00\n",
      "thermal_cozie                                  10\n",
      "user_id                                   cresh17\n",
      "Space_id                                       42\n",
      "room                     EXECUTIVE_SEMINAR_ROOM_A\n",
      "time_duration                                   0\n",
      "Name: 2988, dtype: object, time             2019-10-22 19:31:32.096000+08:00\n",
      "thermal_cozie                                   9\n",
      "user_id                                   cresh17\n",
      "Space_id                                       43\n",
      "room                     EXECUTIVE_SEMINAR_ROOM_B\n",
      "time_duration                             14.5622\n",
      "Name: 2992, dtype: object, time             2019-10-22 19:32:37.224000+08:00\n",
      "thermal_cozie                                  11\n",
      "user_id                                   cresh17\n",
      "Space_id                                       43\n",
      "room                     EXECUTIVE_SEMINAR_ROOM_B\n",
      "time_duration                             1.08547\n",
      "Name: 2994, dtype: object]]\n"
     ]
    }
   ],
   "source": [
    "tempList3 = []\n",
    "for i in range(len(filtered_cluster_after)):\n",
    "    if (len(filtered_cluster_after[i]) > 1):\n",
    "        tempList3.append(filtered_cluster_after[i])\n",
    "\n",
    "filtered_cluster_after = tempList3\n",
    "print(filtered_cluster_after)"
   ]
  },
  {
   "cell_type": "markdown",
   "metadata": {},
   "source": [
    "# Show how many datapoint are in each cluster after filtering NaN and zero element"
   ]
  },
  {
   "cell_type": "code",
   "execution_count": 15,
   "metadata": {},
   "outputs": [
    {
     "name": "stdout",
     "output_type": "stream",
     "text": [
      "0:2 \n",
      "1:4 \n",
      "2:3 \n"
     ]
    }
   ],
   "source": [
    "for i in range(len(filtered_cluster_after)):\n",
    "    print(\"{0}:{1} \".format(i,(len(filtered_cluster_after[i]))))"
   ]
  },
  {
   "cell_type": "markdown",
   "metadata": {},
   "source": [
    "# Plot all cluster into one graph"
   ]
  },
  {
   "cell_type": "code",
   "execution_count": 16,
   "metadata": {},
   "outputs": [
    {
     "data": {
      "image/png": "[encoded data removed]",
      "text/plain": [
       "<Figure size 432x288 with 1 Axes>"
      ]
     },
     "metadata": {
      "needs_background": "light"
     },
     "output_type": "display_data"
    }
   ],
   "source": [
    "# Plot all clusters into ONE graph\n",
    "thermal = []\n",
    "duration = []\n",
    "base = 0.0\n",
    "\n",
    "for i in range(len(filtered_cluster_after)):\n",
    "    for j in range(len(filtered_cluster_after[i])):\n",
    "        base += filtered_cluster_after[i][j].time_duration\n",
    "        thermal.append(filtered_cluster_after[i][j].thermal_cozie)\n",
    "        duration.append(base)\n",
    "        \n",
    "    plt.plot(duration,thermal)\n",
    "    plt.xlabel(\"Duration\")\n",
    "    plt.ylabel(\"Thermal Cozie\")\n",
    "    plt.yticks(thermal_cozie_ticks)\n",
    "    \n",
    "    # Re-init to remove previous cluster data\n",
    "    base = 0.0\n",
    "    thermal = []\n",
    "    duration = []"
   ]
  },
  {
   "cell_type": "markdown",
   "metadata": {},
   "source": [
    "# Plot all cluster into separate graphs"
   ]
  },
  {
   "cell_type": "code",
   "execution_count": 17,
   "metadata": {},
   "outputs": [
    {
     "data": {
      "image/png": "[encoded data removed]",
      "text/plain": [
       "<Figure size 432x288 with 1 Axes>"
      ]
     },
     "metadata": {
      "needs_background": "light"
     },
     "output_type": "display_data"
    },
    {
     "data": {
      "image/png": "[encoded data removed]",
      "text/plain": [
       "<Figure size 432x288 with 1 Axes>"
      ]
     },
     "metadata": {
      "needs_background": "light"
     },
     "output_type": "display_data"
    },
    {
     "data": {
      "image/png": "[encoded data removed]",
      "text/plain": [
       "<Figure size 432x288 with 1 Axes>"
      ]
     },
     "metadata": {
      "needs_background": "light"
     },
     "output_type": "display_data"
    }
   ],
   "source": [
    "# Plot all clusters into ONE graph\n",
    "thermal = []\n",
    "duration = []\n",
    "base = 0.0\n",
    "\n",
    "for i in range(len(filtered_cluster_after)):\n",
    "    for j in range(len(filtered_cluster_after[i])):\n",
    "        base += filtered_cluster_after[i][j].time_duration\n",
    "        thermal.append(filtered_cluster_after[i][j].thermal_cozie)\n",
    "        duration.append(base)\n",
    "    \n",
    "    plt.figure()\n",
    "    plt.scatter(duration,thermal)\n",
    "    plt.plot(duration,thermal)\n",
    "    plt.xlabel(\"Duration\")\n",
    "    plt.ylabel(\"Thermal Cozie\")\n",
    "    plt.yticks(thermal_cozie_ticks)\n",
    "    \n",
    "    # Re-init to remove previous cluster data\n",
    "    base = 0.0\n",
    "    thermal = []\n",
    "    duration = []"
   ]
  },
  {
   "cell_type": "markdown",
   "metadata": {},
   "source": [
    "# Plot test with vertical dotted lines"
   ]
  },
  {
   "cell_type": "code",
   "execution_count": 18,
   "metadata": {},
   "outputs": [
    {
     "data": {
      "image/png": "[encoded data removed]",
      "text/plain": [
       "<Figure size 432x288 with 1 Axes>"
      ]
     },
     "metadata": {
      "needs_background": "light"
     },
     "output_type": "display_data"
    },
    {
     "data": {
      "image/png": "[encoded data removed]",
      "text/plain": [
       "<Figure size 432x288 with 1 Axes>"
      ]
     },
     "metadata": {
      "needs_background": "light"
     },
     "output_type": "display_data"
    },
    {
     "data": {
      "image/png": "[encoded data removed]",
      "text/plain": [
       "<Figure size 432x288 with 1 Axes>"
      ]
     },
     "metadata": {
      "needs_background": "light"
     },
     "output_type": "display_data"
    }
   ],
   "source": [
    "# Plot all clusters into ONE graph\n",
    "thermal = []\n",
    "duration = []\n",
    "base = 0.0\n",
    "dotted_lines = []\n",
    "\n",
    "for i in range(len(filtered_cluster_after)):\n",
    "    tempList = []\n",
    "    for j in range(len(filtered_cluster_after[i])):\n",
    "        if (j > 1):\n",
    "            prev = filtered_cluster_after[i][j-1].room\n",
    "            curr = filtered_cluster_after[i][j].room\n",
    "            \n",
    "            if (prev != curr):\n",
    "                tempList.append(j)\n",
    "                \n",
    "    dotted_lines.append(tempList)\n",
    "\n",
    "#print(dotted_lines)\n",
    "    \n",
    "for i in range(len(filtered_cluster_after)):\n",
    "    lines = []\n",
    "    for j in range(len(filtered_cluster_after[i])):\n",
    "        base += filtered_cluster_after[i][j].time_duration\n",
    "        thermal.append(filtered_cluster_after[i][j].thermal_cozie)\n",
    "        duration.append(base)\n",
    "        \n",
    "    if(len(dotted_lines[i]) > 0):\n",
    "        while(len(dotted_lines[i]) > 0):\n",
    "            index = dotted_lines[i].pop()\n",
    "            xValue = duration[index]\n",
    "            plt.axvline(x = xValue, linestyle = '--', color = 'r')\n",
    "        \n",
    "        \n",
    "    plt.scatter(duration,thermal)\n",
    "    plt.plot(duration,thermal)\n",
    "    plt.xlabel(\"Duration\")\n",
    "    plt.ylabel(\"Thermal Cozie\")\n",
    "    plt.yticks(thermal_cozie_ticks)\n",
    "    plt.show()\n",
    "    \n",
    "    #print(filtered_cluster_after[0])\n",
    "    #print(duration)\n",
    "    \n",
    "    # Re-init to remove previous cluster data\n",
    "    base = 0.0\n",
    "    thermal = []\n",
    "    duration = []\n",
    "    "
   ]
  }
 ],
 "metadata": {
  "kernelspec": {
   "display_name": "Python 3",
   "language": "python",
   "name": "python3"
  },
  "language_info": {
   "codemirror_mode": {
    "name": "ipython",
    "version": 3
   },
   "file_extension": ".py",
   "mimetype": "text/x-python",
   "name": "python",
   "nbconvert_exporter": "python",
   "pygments_lexer": "ipython3",
   "version": "3.7.4"
  }
 },
 "nbformat": 4,
 "nbformat_minor": 4
}
