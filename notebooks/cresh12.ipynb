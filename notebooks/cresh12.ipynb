{
 "cells": [
  {
   "cell_type": "code",
   "execution_count": 19,
   "metadata": {},
   "outputs": [],
   "source": [
    "import pandas as pd\n",
    "import numpy as np\n",
    "from matplotlib import pyplot as plt\n",
    "from matplotlib.backends.backend_agg import FigureCanvasAgg as FigureCanvas\n",
    "from matplotlib.figure import Figure"
   ]
  },
  {
   "cell_type": "code",
   "execution_count": 20,
   "metadata": {},
   "outputs": [],
   "source": [
    "fig = Figure()\n",
    "canvas = FigureCanvas(fig)\n",
    "ax = fig.add_subplot(111)"
   ]
  },
  {
   "cell_type": "code",
   "execution_count": 21,
   "metadata": {},
   "outputs": [],
   "source": [
    "def isNaN(num):\n",
    "    return num != num"
   ]
  },
  {
   "cell_type": "code",
   "execution_count": 22,
   "metadata": {},
   "outputs": [],
   "source": [
    "df = pd.read_csv (\"2019-10-29_cozie_full.csv\", index_col=0)\n",
    "filtered_df = df.drop (columns=['clothing','lat_cozie','lon_cozie','responseSpeed_cozie','Floor','Latitude','Longitude','noise_sensing','voc_sensing','index','comfort_cozie','heartRate_cozie','light_cozie','noise_cozie','co2_sensing','humidity_sensing','light_sensing','temperature_sensing','temperature_mbient'],axis=1)\n",
    "filtered_df['time'] = filtered_df['time'].apply(pd.Timestamp).dt.tz_convert('Asia/Singapore')\n",
    "# Add new column to calculate duration \n",
    "filtered_df['time_duration'] = 0"
   ]
  },
  {
   "cell_type": "code",
   "execution_count": 23,
   "metadata": {},
   "outputs": [],
   "source": [
    "grouped_users = filtered_df.groupby('user_id')\n",
    "\n",
    "all_clusters = [] # Raw data\n",
    "cluster_array = [] \n",
    "filtered_cluster_before = [] # Raw data that are clustered together according to duration\n",
    "filtered_cluster_after = []"
   ]
  },
  {
   "cell_type": "code",
   "execution_count": 24,
   "metadata": {},
   "outputs": [],
   "source": [
    "cresh01_df = grouped_users.get_group('cresh12')\n",
    "thermal_cozie_ticks = [9,10,11]"
   ]
  },
  {
   "cell_type": "code",
   "execution_count": 25,
   "metadata": {},
   "outputs": [],
   "source": [
    "# Gather all data relevant to specific user \n",
    "for index, datapoint in cresh01_df.iterrows():\n",
    "    # print (data.time)\n",
    "    if cluster_array == []:\n",
    "        cluster_array.append(datapoint)\n",
    "    else:\n",
    "        if datapoint.time < last_time + pd.Timedelta(minutes=30):\n",
    "            cluster_array.append(datapoint) \n",
    "        else:\n",
    "            all_clusters.append(cluster_array)\n",
    "            cluster_array = []\n",
    "            cluster_array.append(datapoint)\n",
    "\n",
    "    \n",
    "    last_time = datapoint.time\n",
    "#print (all_clusters)"
   ]
  },
  {
   "cell_type": "markdown",
   "metadata": {},
   "source": [
    "# Keep clusters with more than a certain amount of data points"
   ]
  },
  {
   "cell_type": "code",
   "execution_count": 26,
   "metadata": {},
   "outputs": [
    {
     "name": "stdout",
     "output_type": "stream",
     "text": [
      "[[time             2019-10-04 14:31:57.272000+08:00\n",
      "thermal_cozie                                 NaN\n",
      "user_id                                   cresh12\n",
      "Space_id                                       45\n",
      "room                       BUILDING_MATERIALS_LAB\n",
      "time_duration                                   0\n",
      "Name: 135, dtype: object, time             2019-10-04 14:43:16.147000+08:00\n",
      "thermal_cozie                                  11\n",
      "user_id                                   cresh12\n",
      "Space_id                                       45\n",
      "room                       BUILDING_MATERIALS_LAB\n",
      "time_duration                                   0\n",
      "Name: 138, dtype: object, time             2019-10-04 14:48:32.368000+08:00\n",
      "thermal_cozie                                  11\n",
      "user_id                                   cresh12\n",
      "Space_id                                       45\n",
      "room                       BUILDING_MATERIALS_LAB\n",
      "time_duration                                   0\n",
      "Name: 139, dtype: object, time             2019-10-04 15:08:34.135000+08:00\n",
      "thermal_cozie                                  11\n",
      "user_id                                   cresh12\n",
      "Space_id                                       45\n",
      "room                       BUILDING_MATERIALS_LAB\n",
      "time_duration                                   0\n",
      "Name: 146, dtype: object, time             2019-10-04 15:29:45.920000+08:00\n",
      "thermal_cozie                                  11\n",
      "user_id                                   cresh12\n",
      "Space_id                                       45\n",
      "room                       BUILDING_MATERIALS_LAB\n",
      "time_duration                                   0\n",
      "Name: 151, dtype: object, time             2019-10-04 15:46:39.713000+08:00\n",
      "thermal_cozie                                  11\n",
      "user_id                                   cresh12\n",
      "Space_id                                       45\n",
      "room                       BUILDING_MATERIALS_LAB\n",
      "time_duration                                   0\n",
      "Name: 154, dtype: object, time             2019-10-04 16:01:32.670000+08:00\n",
      "thermal_cozie                                  11\n",
      "user_id                                   cresh12\n",
      "Space_id                                       45\n",
      "room                       BUILDING_MATERIALS_LAB\n",
      "time_duration                                   0\n",
      "Name: 161, dtype: object, time             2019-10-04 16:20:19.216000+08:00\n",
      "thermal_cozie                                  11\n",
      "user_id                                   cresh12\n",
      "Space_id                                       45\n",
      "room                                     BUDS_LAB\n",
      "time_duration                                   0\n",
      "Name: 164, dtype: object, time             2019-10-04 16:33:26.025000+08:00\n",
      "thermal_cozie                                  11\n",
      "user_id                                   cresh12\n",
      "Space_id                                       45\n",
      "room                                     BUDS_LAB\n",
      "time_duration                                   0\n",
      "Name: 167, dtype: object, time             2019-10-04 16:55:41.589000+08:00\n",
      "thermal_cozie                                  11\n",
      "user_id                                   cresh12\n",
      "Space_id                                      NaN\n",
      "room                                          NaN\n",
      "time_duration                                   0\n",
      "Name: 170, dtype: object, time             2019-10-04 17:17:28.566000+08:00\n",
      "thermal_cozie                                  10\n",
      "user_id                                   cresh12\n",
      "Space_id                                      NaN\n",
      "room                                          NaN\n",
      "time_duration                                   0\n",
      "Name: 179, dtype: object], [time             2019-10-04 19:50:49.007000+08:00\n",
      "thermal_cozie                                  10\n",
      "user_id                                   cresh12\n",
      "Space_id                                      NaN\n",
      "room                                          NaN\n",
      "time_duration                                   0\n",
      "Name: 191, dtype: object, time             2019-10-04 20:05:56.912000+08:00\n",
      "thermal_cozie                                  10\n",
      "user_id                                   cresh12\n",
      "Space_id                                      NaN\n",
      "room                                          NaN\n",
      "time_duration                                   0\n",
      "Name: 192, dtype: object, time             2019-10-04 20:15:48.049000+08:00\n",
      "thermal_cozie                                  10\n",
      "user_id                                   cresh12\n",
      "Space_id                                      NaN\n",
      "room                                          NaN\n",
      "time_duration                                   0\n",
      "Name: 193, dtype: object], [time             2019-10-04 20:50:29.750000+08:00\n",
      "thermal_cozie                                  11\n",
      "user_id                                   cresh12\n",
      "Space_id                                      NaN\n",
      "room                                          NaN\n",
      "time_duration                                   0\n",
      "Name: 195, dtype: object, time             2019-10-04 21:03:45.720000+08:00\n",
      "thermal_cozie                                  10\n",
      "user_id                                   cresh12\n",
      "Space_id                                      NaN\n",
      "room                                          NaN\n",
      "time_duration                                   0\n",
      "Name: 196, dtype: object, time             2019-10-04 21:12:12.660000+08:00\n",
      "thermal_cozie                                  10\n",
      "user_id                                   cresh12\n",
      "Space_id                                      NaN\n",
      "room                                          NaN\n",
      "time_duration                                   0\n",
      "Name: 198, dtype: object, time             2019-10-04 21:31:13.562000+08:00\n",
      "thermal_cozie                                  10\n",
      "user_id                                   cresh12\n",
      "Space_id                                      NaN\n",
      "room                                          NaN\n",
      "time_duration                                   0\n",
      "Name: 200, dtype: object, time             2019-10-04 21:51:40.957000+08:00\n",
      "thermal_cozie                                  10\n",
      "user_id                                   cresh12\n",
      "Space_id                                      NaN\n",
      "room                                          NaN\n",
      "time_duration                                   0\n",
      "Name: 202, dtype: object, time             2019-10-04 22:14:47.344000+08:00\n",
      "thermal_cozie                                  11\n",
      "user_id                                   cresh12\n",
      "Space_id                                      NaN\n",
      "room                                          NaN\n",
      "time_duration                                   0\n",
      "Name: 204, dtype: object, time             2019-10-04 22:40:26.972000+08:00\n",
      "thermal_cozie                                  11\n",
      "user_id                                   cresh12\n",
      "Space_id                                      NaN\n",
      "room                                          NaN\n",
      "time_duration                                   0\n",
      "Name: 206, dtype: object, time             2019-10-04 23:06:25.187000+08:00\n",
      "thermal_cozie                                  10\n",
      "user_id                                   cresh12\n",
      "Space_id                                      NaN\n",
      "room                                          NaN\n",
      "time_duration                                   0\n",
      "Name: 208, dtype: object, time             2019-10-04 23:15:18.671000+08:00\n",
      "thermal_cozie                                  10\n",
      "user_id                                   cresh12\n",
      "Space_id                                      NaN\n",
      "room                                          NaN\n",
      "time_duration                                   0\n",
      "Name: 209, dtype: object], [time             2019-10-07 09:01:51.139000+08:00\n",
      "thermal_cozie                                  10\n",
      "user_id                                   cresh12\n",
      "Space_id                                      NaN\n",
      "room                                          NaN\n",
      "time_duration                                   0\n",
      "Name: 253, dtype: object, time             2019-10-07 09:13:01.288000+08:00\n",
      "thermal_cozie                                  10\n",
      "user_id                                   cresh12\n",
      "Space_id                                      NaN\n",
      "room                                          NaN\n",
      "time_duration                                   0\n",
      "Name: 258, dtype: object, time             2019-10-07 09:28:46.161000+08:00\n",
      "thermal_cozie                                  10\n",
      "user_id                                   cresh12\n",
      "Space_id                                      NaN\n",
      "room                                          NaN\n",
      "time_duration                                   0\n",
      "Name: 262, dtype: object, time             2019-10-07 09:53:22.184000+08:00\n",
      "thermal_cozie                                  11\n",
      "user_id                                   cresh12\n",
      "Space_id                                      NaN\n",
      "room                                          NaN\n",
      "time_duration                                   0\n",
      "Name: 270, dtype: object, time             2019-10-07 10:10:22.800000+08:00\n",
      "thermal_cozie                                  11\n",
      "user_id                                   cresh12\n",
      "Space_id                                      NaN\n",
      "room                                          NaN\n",
      "time_duration                                   0\n",
      "Name: 274, dtype: object, time             2019-10-07 10:31:32.324000+08:00\n",
      "thermal_cozie                                  11\n",
      "user_id                                   cresh12\n",
      "Space_id                                      NaN\n",
      "room                                          NaN\n",
      "time_duration                                   0\n",
      "Name: 277, dtype: object], [time             2019-10-07 13:11:28.012000+08:00\n",
      "thermal_cozie                                  11\n",
      "user_id                                   cresh12\n",
      "Space_id                                      NaN\n",
      "room                                          NaN\n",
      "time_duration                                   0\n",
      "Name: 312, dtype: object, time             2019-10-07 13:25:29.176000+08:00\n",
      "thermal_cozie                                  10\n",
      "user_id                                   cresh12\n",
      "Space_id                                      NaN\n",
      "room                                          NaN\n",
      "time_duration                                   0\n",
      "Name: 317, dtype: object], [time             2019-10-07 14:51:05.084000+08:00\n",
      "thermal_cozie                                  10\n",
      "user_id                                   cresh12\n",
      "Space_id                                      NaN\n",
      "room                                          NaN\n",
      "time_duration                                   0\n",
      "Name: 349, dtype: object, time             2019-10-07 15:11:23.519000+08:00\n",
      "thermal_cozie                                  10\n",
      "user_id                                   cresh12\n",
      "Space_id                                      NaN\n",
      "room                                          NaN\n",
      "time_duration                                   0\n",
      "Name: 361, dtype: object], [time             2019-10-08 12:50:09.861000+08:00\n",
      "thermal_cozie                                 NaN\n",
      "user_id                                   cresh12\n",
      "Space_id                                      NaN\n",
      "room                                          NaN\n",
      "time_duration                                   0\n",
      "Name: 541, dtype: object, time             2019-10-08 13:11:25.322000+08:00\n",
      "thermal_cozie                                  10\n",
      "user_id                                   cresh12\n",
      "Space_id                                      NaN\n",
      "room                                          NaN\n",
      "time_duration                                   0\n",
      "Name: 554, dtype: object], [time             2019-10-09 16:35:08.171000+08:00\n",
      "thermal_cozie                                  11\n",
      "user_id                                   cresh12\n",
      "Space_id                                       20\n",
      "room                                IRC_LIBRARY_1\n",
      "time_duration                                   0\n",
      "Name: 970, dtype: object, time             2019-10-09 16:50:53.548000+08:00\n",
      "thermal_cozie                                  11\n",
      "user_id                                   cresh12\n",
      "Space_id                                      NaN\n",
      "room                                          NaN\n",
      "time_duration                                   0\n",
      "Name: 975, dtype: object, time             2019-10-09 17:06:04.119000+08:00\n",
      "thermal_cozie                                  11\n",
      "user_id                                   cresh12\n",
      "Space_id                                      NaN\n",
      "room                                          NaN\n",
      "time_duration                                   0\n",
      "Name: 982, dtype: object, time             2019-10-09 17:13:05.528000+08:00\n",
      "thermal_cozie                                  10\n",
      "user_id                                   cresh12\n",
      "Space_id                                      NaN\n",
      "room                                          NaN\n",
      "time_duration                                   0\n",
      "Name: 985, dtype: object], [time             2019-10-09 17:43:17.457000+08:00\n",
      "thermal_cozie                                  10\n",
      "user_id                                   cresh12\n",
      "Space_id                                       20\n",
      "room                                IRC_LIBRARY_1\n",
      "time_duration                                   0\n",
      "Name: 996, dtype: object, time             2019-10-09 17:56:40.622000+08:00\n",
      "thermal_cozie                                  10\n",
      "user_id                                   cresh12\n",
      "Space_id                                       20\n",
      "room                                IRC_LIBRARY_1\n",
      "time_duration                                   0\n",
      "Name: 1005, dtype: object, time             2019-10-09 18:15:24.515000+08:00\n",
      "thermal_cozie                                  10\n",
      "user_id                                   cresh12\n",
      "Space_id                                       20\n",
      "room                                IRC_LIBRARY_1\n",
      "time_duration                                   0\n",
      "Name: 1012, dtype: object], [time             2019-10-09 18:54:55.268000+08:00\n",
      "thermal_cozie                                  10\n",
      "user_id                                   cresh12\n",
      "Space_id                                        1\n",
      "room                                         CAFE\n",
      "time_duration                                   0\n",
      "Name: 1019, dtype: object, time             2019-10-09 19:07:46.298000+08:00\n",
      "thermal_cozie                                  10\n",
      "user_id                                   cresh12\n",
      "Space_id                                      NaN\n",
      "room                                          NaN\n",
      "time_duration                                   0\n",
      "Name: 1023, dtype: object], [time             2019-10-09 19:40:11.440000+08:00\n",
      "thermal_cozie                                  11\n",
      "user_id                                   cresh12\n",
      "Space_id                                        0\n",
      "room                      OPEN_EXHIBITION_SPACE_2\n",
      "time_duration                                   0\n",
      "Name: 1027, dtype: object, time             2019-10-09 19:59:09.512000+08:00\n",
      "thermal_cozie                                  11\n",
      "user_id                                   cresh12\n",
      "Space_id                                      NaN\n",
      "room                                          NaN\n",
      "time_duration                                   0\n",
      "Name: 1030, dtype: object, time             2019-10-09 20:15:49.476000+08:00\n",
      "thermal_cozie                                  11\n",
      "user_id                                   cresh12\n",
      "Space_id                                      NaN\n",
      "room                                          NaN\n",
      "time_duration                                   0\n",
      "Name: 1033, dtype: object, time             2019-10-09 20:33:01.561000+08:00\n",
      "thermal_cozie                                  11\n",
      "user_id                                   cresh12\n",
      "Space_id                                      NaN\n",
      "room                                          NaN\n",
      "time_duration                                   0\n",
      "Name: 1035, dtype: object, time             2019-10-09 20:55:47.928000+08:00\n",
      "thermal_cozie                                  11\n",
      "user_id                                   cresh12\n",
      "Space_id                                      NaN\n",
      "room                                          NaN\n",
      "time_duration                                   0\n",
      "Name: 1039, dtype: object, time             2019-10-09 21:11:05.815000+08:00\n",
      "thermal_cozie                                  11\n",
      "user_id                                   cresh12\n",
      "Space_id                                      NaN\n",
      "room                                          NaN\n",
      "time_duration                                   0\n",
      "Name: 1042, dtype: object], [time             2019-10-10 09:57:06.996000+08:00\n",
      "thermal_cozie                                  10\n",
      "user_id                                   cresh12\n",
      "Space_id                                      NaN\n",
      "room                                          NaN\n",
      "time_duration                                   0\n",
      "Name: 1057, dtype: object, time             2019-10-10 10:17:16.868000+08:00\n",
      "thermal_cozie                                  10\n",
      "user_id                                   cresh12\n",
      "Space_id                                      NaN\n",
      "room                                          NaN\n",
      "time_duration                                   0\n",
      "Name: 1063, dtype: object], [time             2019-10-10 10:50:08.500000+08:00\n",
      "thermal_cozie                                  10\n",
      "user_id                                   cresh12\n",
      "Space_id                                      NaN\n",
      "room                                          NaN\n",
      "time_duration                                   0\n",
      "Name: 1069, dtype: object, time             2019-10-10 11:13:04.415000+08:00\n",
      "thermal_cozie                                  11\n",
      "user_id                                   cresh12\n",
      "Space_id                                      NaN\n",
      "room                                          NaN\n",
      "time_duration                                   0\n",
      "Name: 1078, dtype: object, time             2019-10-10 11:38:58.096000+08:00\n",
      "thermal_cozie                                  10\n",
      "user_id                                   cresh12\n",
      "Space_id                                      NaN\n",
      "room                                          NaN\n",
      "time_duration                                   0\n",
      "Name: 1085, dtype: object, time             2019-10-10 11:51:17.631000+08:00\n",
      "thermal_cozie                                  10\n",
      "user_id                                   cresh12\n",
      "Space_id                                      NaN\n",
      "room                                          NaN\n",
      "time_duration                                   0\n",
      "Name: 1088, dtype: object], [time             2019-10-10 12:33:36.924000+08:00\n",
      "thermal_cozie                                  11\n",
      "user_id                                   cresh12\n",
      "Space_id                                      NaN\n",
      "room                                          NaN\n",
      "time_duration                                   0\n",
      "Name: 1094, dtype: object, time             2019-10-10 13:03:28.398000+08:00\n",
      "thermal_cozie                                  11\n",
      "user_id                                   cresh12\n",
      "Space_id                                      NaN\n",
      "room                                          NaN\n",
      "time_duration                                   0\n",
      "Name: 1101, dtype: object, time             2019-10-10 13:27:09.586000+08:00\n",
      "thermal_cozie                                  10\n",
      "user_id                                   cresh12\n",
      "Space_id                                      NaN\n",
      "room                                          NaN\n",
      "time_duration                                   0\n",
      "Name: 1109, dtype: object], [time             2019-10-10 14:38:55.424000+08:00\n",
      "thermal_cozie                                  11\n",
      "user_id                                   cresh12\n",
      "Space_id                                      NaN\n",
      "room                                          NaN\n",
      "time_duration                                   0\n",
      "Name: 1134, dtype: object, time             2019-10-10 15:07:56.249000+08:00\n",
      "thermal_cozie                                  11\n",
      "user_id                                   cresh12\n",
      "Space_id                                      NaN\n",
      "room                                          NaN\n",
      "time_duration                                   0\n",
      "Name: 1146, dtype: object, time             2019-10-10 15:13:04.312000+08:00\n",
      "thermal_cozie                                  11\n",
      "user_id                                   cresh12\n",
      "Space_id                                      NaN\n",
      "room                                          NaN\n",
      "time_duration                                   0\n",
      "Name: 1148, dtype: object, time             2019-10-10 15:41:47.376000+08:00\n",
      "thermal_cozie                                  11\n",
      "user_id                                   cresh12\n",
      "Space_id                                      NaN\n",
      "room                                          NaN\n",
      "time_duration                                   0\n",
      "Name: 1157, dtype: object, time             2019-10-10 15:57:54.490000+08:00\n",
      "thermal_cozie                                  11\n",
      "user_id                                   cresh12\n",
      "Space_id                                      NaN\n",
      "room                                          NaN\n",
      "time_duration                                   0\n",
      "Name: 1165, dtype: object], [time             2019-10-10 16:34:39.861000+08:00\n",
      "thermal_cozie                                  11\n",
      "user_id                                   cresh12\n",
      "Space_id                                      NaN\n",
      "room                                          NaN\n",
      "time_duration                                   0\n",
      "Name: 1182, dtype: object, time             2019-10-10 16:44:54.107000+08:00\n",
      "thermal_cozie                                  10\n",
      "user_id                                   cresh12\n",
      "Space_id                                      NaN\n",
      "room                                          NaN\n",
      "time_duration                                   0\n",
      "Name: 1188, dtype: object, time             2019-10-10 17:03:39.806000+08:00\n",
      "thermal_cozie                                  11\n",
      "user_id                                   cresh12\n",
      "Space_id                                      NaN\n",
      "room                                          NaN\n",
      "time_duration                                   0\n",
      "Name: 1196, dtype: object, time             2019-10-10 17:13:03.687000+08:00\n",
      "thermal_cozie                                  11\n",
      "user_id                                   cresh12\n",
      "Space_id                                      NaN\n",
      "room                                          NaN\n",
      "time_duration                                   0\n",
      "Name: 1202, dtype: object, time             2019-10-10 17:24:38.502000+08:00\n",
      "thermal_cozie                                  11\n",
      "user_id                                   cresh12\n",
      "Space_id                                      NaN\n",
      "room                                          NaN\n",
      "time_duration                                   0\n",
      "Name: 1207, dtype: object, time             2019-10-10 17:49:30.311000+08:00\n",
      "thermal_cozie                                  11\n",
      "user_id                                   cresh12\n",
      "Space_id                                      NaN\n",
      "room                                          NaN\n",
      "time_duration                                   0\n",
      "Name: 1219, dtype: object, time             2019-10-10 18:06:10.856000+08:00\n",
      "thermal_cozie                                  11\n",
      "user_id                                   cresh12\n",
      "Space_id                                      NaN\n",
      "room                                          NaN\n",
      "time_duration                                   0\n",
      "Name: 1225, dtype: object, time             2019-10-10 18:33:20.576000+08:00\n",
      "thermal_cozie                                  11\n",
      "user_id                                   cresh12\n",
      "Space_id                                      NaN\n",
      "room                                          NaN\n",
      "time_duration                                   0\n",
      "Name: 1237, dtype: object], [time             2019-10-11 10:48:22.920000+08:00\n",
      "thermal_cozie                                  11\n",
      "user_id                                   cresh12\n",
      "Space_id                                      NaN\n",
      "room                                          NaN\n",
      "time_duration                                   0\n",
      "Name: 1320, dtype: object, time             2019-10-11 11:13:08.788000+08:00\n",
      "thermal_cozie                                  11\n",
      "user_id                                   cresh12\n",
      "Space_id                                      NaN\n",
      "room                                          NaN\n",
      "time_duration                                   0\n",
      "Name: 1329, dtype: object, time             2019-10-11 11:40:04.130000+08:00\n",
      "thermal_cozie                                  11\n",
      "user_id                                   cresh12\n",
      "Space_id                                      NaN\n",
      "room                                          NaN\n",
      "time_duration                                   0\n",
      "Name: 1343, dtype: object], [time             2019-10-11 12:32:54.752000+08:00\n",
      "thermal_cozie                                  11\n",
      "user_id                                   cresh12\n",
      "Space_id                                      NaN\n",
      "room                                          NaN\n",
      "time_duration                                   0\n",
      "Name: 1361, dtype: object, time             2019-10-11 12:50:10.165000+08:00\n",
      "thermal_cozie                                  11\n",
      "user_id                                   cresh12\n",
      "Space_id                                      NaN\n",
      "room                                          NaN\n",
      "time_duration                                   0\n",
      "Name: 1370, dtype: object, time             2019-10-11 13:10:58.336000+08:00\n",
      "thermal_cozie                                  11\n",
      "user_id                                   cresh12\n",
      "Space_id                                      NaN\n",
      "room                                          NaN\n",
      "time_duration                                   0\n",
      "Name: 1381, dtype: object, time             2019-10-11 13:13:09.229000+08:00\n",
      "thermal_cozie                                  11\n",
      "user_id                                   cresh12\n",
      "Space_id                                      NaN\n",
      "room                                          NaN\n",
      "time_duration                                   0\n",
      "Name: 1384, dtype: object], [time             2019-10-11 14:27:27.138000+08:00\n",
      "thermal_cozie                                  11\n",
      "user_id                                   cresh12\n",
      "Space_id                                      NaN\n",
      "room                                          NaN\n",
      "time_duration                                   0\n",
      "Name: 1438, dtype: object, time             2019-10-11 14:55:55.800000+08:00\n",
      "thermal_cozie                                  11\n",
      "user_id                                   cresh12\n",
      "Space_id                                        1\n",
      "room                                         CAFE\n",
      "time_duration                                   0\n",
      "Name: 1458, dtype: object, time             2019-10-11 15:13:09.528000+08:00\n",
      "thermal_cozie                                  10\n",
      "user_id                                   cresh12\n",
      "Space_id                                        1\n",
      "room                                         CAFE\n",
      "time_duration                                   0\n",
      "Name: 1470, dtype: object, time             2019-10-11 15:32:00.283000+08:00\n",
      "thermal_cozie                                  10\n",
      "user_id                                   cresh12\n",
      "Space_id                                       -1\n",
      "room                      OPEN_EXHIBITION_SPACE_2\n",
      "time_duration                                   0\n",
      "Name: 1480, dtype: object, time             2019-10-11 15:48:44.859000+08:00\n",
      "thermal_cozie                                  11\n",
      "user_id                                   cresh12\n",
      "Space_id                                        0\n",
      "room                      OPEN_EXHIBITION_SPACE_2\n",
      "time_duration                                   0\n",
      "Name: 1491, dtype: object, time             2019-10-11 16:09:08.249000+08:00\n",
      "thermal_cozie                                  10\n",
      "user_id                                   cresh12\n",
      "Space_id                                      NaN\n",
      "room                                          NaN\n",
      "time_duration                                   0\n",
      "Name: 1503, dtype: object, time             2019-10-11 16:29:47.696000+08:00\n",
      "thermal_cozie                                  10\n",
      "user_id                                   cresh12\n",
      "Space_id                                      NaN\n",
      "room                                          NaN\n",
      "time_duration                                   0\n",
      "Name: 1514, dtype: object, time             2019-10-11 16:41:25.286000+08:00\n",
      "thermal_cozie                                  10\n",
      "user_id                                   cresh12\n",
      "Space_id                                      NaN\n",
      "room                                          NaN\n",
      "time_duration                                   0\n",
      "Name: 1517, dtype: object, time             2019-10-11 17:01:28.323000+08:00\n",
      "thermal_cozie                                  10\n",
      "user_id                                   cresh12\n",
      "Space_id                                      NaN\n",
      "room                                          NaN\n",
      "time_duration                                   0\n",
      "Name: 1529, dtype: object, time             2019-10-11 17:13:05.334000+08:00\n",
      "thermal_cozie                                  10\n",
      "user_id                                   cresh12\n",
      "Space_id                                      NaN\n",
      "room                                          NaN\n",
      "time_duration                                   0\n",
      "Name: 1537, dtype: object], [time             2019-10-11 18:30:17.508000+08:00\n",
      "thermal_cozie                                  11\n",
      "user_id                                   cresh12\n",
      "Space_id                                      NaN\n",
      "room                                          NaN\n",
      "time_duration                                   0\n",
      "Name: 1557, dtype: object, time             2019-10-11 18:43:12.996000+08:00\n",
      "thermal_cozie                                  11\n",
      "user_id                                   cresh12\n",
      "Space_id                                      NaN\n",
      "room                                          NaN\n",
      "time_duration                                   0\n",
      "Name: 1558, dtype: object], [time             2019-10-14 09:12:40.322000+08:00\n",
      "thermal_cozie                                  11\n",
      "user_id                                   cresh12\n",
      "Space_id                                      NaN\n",
      "room                                          NaN\n",
      "time_duration                                   0\n",
      "Name: 1679, dtype: object, time             2019-10-14 09:13:14.644000+08:00\n",
      "thermal_cozie                                  11\n",
      "user_id                                   cresh12\n",
      "Space_id                                      NaN\n",
      "room                                          NaN\n",
      "time_duration                                   0\n",
      "Name: 1680, dtype: object], [time             2019-10-14 18:06:49.285000+08:00\n",
      "thermal_cozie                                  11\n",
      "user_id                                   cresh12\n",
      "Space_id                                      NaN\n",
      "room                                          NaN\n",
      "time_duration                                   0\n",
      "Name: 1789, dtype: object, time             2019-10-14 18:16:28.894000+08:00\n",
      "thermal_cozie                                  10\n",
      "user_id                                   cresh12\n",
      "Space_id                                      NaN\n",
      "room                                          NaN\n",
      "time_duration                                   0\n",
      "Name: 1791, dtype: object], [time             2019-10-15 11:58:12.324000+08:00\n",
      "thermal_cozie                                 NaN\n",
      "user_id                                   cresh12\n",
      "Space_id                                      NaN\n",
      "room                                          NaN\n",
      "time_duration                                   0\n",
      "Name: 1821, dtype: object, time             2019-10-15 12:27:19.647000+08:00\n",
      "thermal_cozie                                  11\n",
      "user_id                                   cresh12\n",
      "Space_id                                      NaN\n",
      "room                                          NaN\n",
      "time_duration                                   0\n",
      "Name: 1826, dtype: object, time             2019-10-15 12:42:19.956000+08:00\n",
      "thermal_cozie                                  11\n",
      "user_id                                   cresh12\n",
      "Space_id                                      NaN\n",
      "room                                          NaN\n",
      "time_duration                                   0\n",
      "Name: 1831, dtype: object, time             2019-10-15 13:09:44.824000+08:00\n",
      "thermal_cozie                                  11\n",
      "user_id                                   cresh12\n",
      "Space_id                                       -1\n",
      "room                      OPEN_EXHIBITION_SPACE_2\n",
      "time_duration                                   0\n",
      "Name: 1840, dtype: object, time             2019-10-15 13:13:14.364000+08:00\n",
      "thermal_cozie                                  11\n",
      "user_id                                   cresh12\n",
      "Space_id                                       -1\n",
      "room                      OPEN_EXHIBITION_SPACE_2\n",
      "time_duration                                   0\n",
      "Name: 1843, dtype: object, time             2019-10-15 13:33:56.667000+08:00\n",
      "thermal_cozie                                  11\n",
      "user_id                                   cresh12\n",
      "Space_id                                       -1\n",
      "room                      OPEN_EXHIBITION_SPACE_2\n",
      "time_duration                                   0\n",
      "Name: 1846, dtype: object, time             2019-10-15 13:50:04.203000+08:00\n",
      "thermal_cozie                                  11\n",
      "user_id                                   cresh12\n",
      "Space_id                                       -1\n",
      "room                      OPEN_EXHIBITION_SPACE_2\n",
      "time_duration                                   0\n",
      "Name: 1850, dtype: object, time             2019-10-15 14:06:42.231000+08:00\n",
      "thermal_cozie                                  11\n",
      "user_id                                   cresh12\n",
      "Space_id                                       -1\n",
      "room                                     CORRIDOR\n",
      "time_duration                                   0\n",
      "Name: 1855, dtype: object, time             2019-10-15 14:20:22.960000+08:00\n",
      "thermal_cozie                                  10\n",
      "user_id                                   cresh12\n",
      "Space_id                                       42\n",
      "room                     EXECUTIVE_SEMINAR_ROOM_A\n",
      "time_duration                                   0\n",
      "Name: 1858, dtype: object, time             2019-10-15 14:36:19.304000+08:00\n",
      "thermal_cozie                                  10\n",
      "user_id                                   cresh12\n",
      "Space_id                                       42\n",
      "room                     EXECUTIVE_SEMINAR_ROOM_A\n",
      "time_duration                                   0\n",
      "Name: 1861, dtype: object, time             2019-10-15 14:50:27.798000+08:00\n",
      "thermal_cozie                                  10\n",
      "user_id                                   cresh12\n",
      "Space_id                                       42\n",
      "room                     EXECUTIVE_SEMINAR_ROOM_A\n",
      "time_duration                                   0\n",
      "Name: 1866, dtype: object, time             2019-10-15 15:07:34.104000+08:00\n",
      "thermal_cozie                                  10\n",
      "user_id                                   cresh12\n",
      "Space_id                                       42\n",
      "room                     EXECUTIVE_SEMINAR_ROOM_A\n",
      "time_duration                                   0\n",
      "Name: 1872, dtype: object, time             2019-10-15 15:13:28.672000+08:00\n",
      "thermal_cozie                                  10\n",
      "user_id                                   cresh12\n",
      "Space_id                                       42\n",
      "room                     EXECUTIVE_SEMINAR_ROOM_A\n",
      "time_duration                                   0\n",
      "Name: 1874, dtype: object, time             2019-10-15 15:23:06.636000+08:00\n",
      "thermal_cozie                                  10\n",
      "user_id                                   cresh12\n",
      "Space_id                                       42\n",
      "room                     EXECUTIVE_SEMINAR_ROOM_A\n",
      "time_duration                                   0\n",
      "Name: 1877, dtype: object, time             2019-10-15 15:43:31.132000+08:00\n",
      "thermal_cozie                                  10\n",
      "user_id                                   cresh12\n",
      "Space_id                                       42\n",
      "room                     EXECUTIVE_SEMINAR_ROOM_A\n",
      "time_duration                                   0\n",
      "Name: 1882, dtype: object, time             2019-10-15 16:00:23.601000+08:00\n",
      "thermal_cozie                                  10\n",
      "user_id                                   cresh12\n",
      "Space_id                                       42\n",
      "room                     EXECUTIVE_SEMINAR_ROOM_A\n",
      "time_duration                                   0\n",
      "Name: 1885, dtype: object, time             2019-10-15 16:15:57.450000+08:00\n",
      "thermal_cozie                                  10\n",
      "user_id                                   cresh12\n",
      "Space_id                                       42\n",
      "room                     EXECUTIVE_SEMINAR_ROOM_A\n",
      "time_duration                                   0\n",
      "Name: 1890, dtype: object, time             2019-10-15 16:31:54.806000+08:00\n",
      "thermal_cozie                                  10\n",
      "user_id                                   cresh12\n",
      "Space_id                                       42\n",
      "room                     EXECUTIVE_SEMINAR_ROOM_A\n",
      "time_duration                                   0\n",
      "Name: 1895, dtype: object, time             2019-10-15 16:50:24.869000+08:00\n",
      "thermal_cozie                                  10\n",
      "user_id                                   cresh12\n",
      "Space_id                                       42\n",
      "room                     EXECUTIVE_SEMINAR_ROOM_A\n",
      "time_duration                                   0\n",
      "Name: 1898, dtype: object, time             2019-10-15 17:02:41.788000+08:00\n",
      "thermal_cozie                                   9\n",
      "user_id                                   cresh12\n",
      "Space_id                                       42\n",
      "room                     EXECUTIVE_SEMINAR_ROOM_A\n",
      "time_duration                                   0\n",
      "Name: 1902, dtype: object, time             2019-10-15 17:13:13.750000+08:00\n",
      "thermal_cozie                                  10\n",
      "user_id                                   cresh12\n",
      "Space_id                                       42\n",
      "room                     EXECUTIVE_SEMINAR_ROOM_A\n",
      "time_duration                                   0\n",
      "Name: 1913, dtype: object, time             2019-10-15 17:18:20.299000+08:00\n",
      "thermal_cozie                                  10\n",
      "user_id                                   cresh12\n",
      "Space_id                                       42\n",
      "room                     EXECUTIVE_SEMINAR_ROOM_A\n",
      "time_duration                                   0\n",
      "Name: 1917, dtype: object, time             2019-10-15 17:32:31.176000+08:00\n",
      "thermal_cozie                                   9\n",
      "user_id                                   cresh12\n",
      "Space_id                                       42\n",
      "room                     EXECUTIVE_SEMINAR_ROOM_A\n",
      "time_duration                                   0\n",
      "Name: 1923, dtype: object, time             2019-10-15 17:47:17.813000+08:00\n",
      "thermal_cozie                                   9\n",
      "user_id                                   cresh12\n",
      "Space_id                                       42\n",
      "room                     EXECUTIVE_SEMINAR_ROOM_A\n",
      "time_duration                                   0\n",
      "Name: 1930, dtype: object, time             2019-10-15 18:11:06.292000+08:00\n",
      "thermal_cozie                                  11\n",
      "user_id                                   cresh12\n",
      "Space_id                                      NaN\n",
      "room                                          NaN\n",
      "time_duration                                   0\n",
      "Name: 1935, dtype: object, time             2019-10-15 18:24:39.637000+08:00\n",
      "thermal_cozie                                  11\n",
      "user_id                                   cresh12\n",
      "Space_id                                      NaN\n",
      "room                                          NaN\n",
      "time_duration                                   0\n",
      "Name: 1937, dtype: object], [time             2019-10-16 12:57:39.124000+08:00\n",
      "thermal_cozie                                 NaN\n",
      "user_id                                   cresh12\n",
      "Space_id                                      NaN\n",
      "room                                          NaN\n",
      "time_duration                                   0\n",
      "Name: 1996, dtype: object, time             2019-10-16 13:13:13.476000+08:00\n",
      "thermal_cozie                                  11\n",
      "user_id                                   cresh12\n",
      "Space_id                                      NaN\n",
      "room                                          NaN\n",
      "time_duration                                   0\n",
      "Name: 2006, dtype: object], [time             2019-10-16 13:46:09.372000+08:00\n",
      "thermal_cozie                                  11\n",
      "user_id                                   cresh12\n",
      "Space_id                                       36\n",
      "room                                          NaN\n",
      "time_duration                                   0\n",
      "Name: 2020, dtype: object, time             2019-10-16 14:03:57.229000+08:00\n",
      "thermal_cozie                                  11\n",
      "user_id                                   cresh12\n",
      "Space_id                                       20\n",
      "room                                IRC_LIBRARY_1\n",
      "time_duration                                   0\n",
      "Name: 2028, dtype: object, time             2019-10-16 14:17:20.145000+08:00\n",
      "thermal_cozie                                  11\n",
      "user_id                                   cresh12\n",
      "Space_id                                       20\n",
      "room                                IRC_LIBRARY_1\n",
      "time_duration                                   0\n",
      "Name: 2033, dtype: object, time             2019-10-16 14:32:42.769000+08:00\n",
      "thermal_cozie                                  11\n",
      "user_id                                   cresh12\n",
      "Space_id                                       20\n",
      "room                                IRC_LIBRARY_1\n",
      "time_duration                                   0\n",
      "Name: 2038, dtype: object, time             2019-10-16 14:50:14.928000+08:00\n",
      "thermal_cozie                                  11\n",
      "user_id                                   cresh12\n",
      "Space_id                                       20\n",
      "room                                IRC_LIBRARY_1\n",
      "time_duration                                   0\n",
      "Name: 2045, dtype: object, time             2019-10-16 15:13:20.957000+08:00\n",
      "thermal_cozie                                  10\n",
      "user_id                                   cresh12\n",
      "Space_id                                        5\n",
      "room                             OUTSIDE_RESTROOM\n",
      "time_duration                                   0\n",
      "Name: 2056, dtype: object, time             2019-10-16 15:31:06.712000+08:00\n",
      "thermal_cozie                                  11\n",
      "user_id                                   cresh12\n",
      "Space_id                                       20\n",
      "room                                IRC_LIBRARY_1\n",
      "time_duration                                   0\n",
      "Name: 2068, dtype: object, time             2019-10-16 15:46:15.576000+08:00\n",
      "thermal_cozie                                  11\n",
      "user_id                                   cresh12\n",
      "Space_id                                       20\n",
      "room                                IRC_LIBRARY_1\n",
      "time_duration                                   0\n",
      "Name: 2071, dtype: object, time             2019-10-16 16:03:47.996000+08:00\n",
      "thermal_cozie                                  11\n",
      "user_id                                   cresh12\n",
      "Space_id                                       20\n",
      "room                                IRC_LIBRARY_1\n",
      "time_duration                                   0\n",
      "Name: 2074, dtype: object, time             2019-10-16 16:21:33.132000+08:00\n",
      "thermal_cozie                                  11\n",
      "user_id                                   cresh12\n",
      "Space_id                                       20\n",
      "room                                IRC_LIBRARY_1\n",
      "time_duration                                   0\n",
      "Name: 2078, dtype: object, time             2019-10-16 16:50:09.466000+08:00\n",
      "thermal_cozie                                  11\n",
      "user_id                                   cresh12\n",
      "Space_id                                       20\n",
      "room                                IRC_LIBRARY_1\n",
      "time_duration                                   0\n",
      "Name: 2086, dtype: object, time             2019-10-16 17:05:31.200000+08:00\n",
      "thermal_cozie                                  11\n",
      "user_id                                   cresh12\n",
      "Space_id                                       20\n",
      "room                                IRC_LIBRARY_1\n",
      "time_duration                                   0\n",
      "Name: 2092, dtype: object, time             2019-10-16 17:13:19.153000+08:00\n",
      "thermal_cozie                                  11\n",
      "user_id                                   cresh12\n",
      "Space_id                                        0\n",
      "room                      OPEN_EXHIBITION_SPACE_2\n",
      "time_duration                                   0\n",
      "Name: 2100, dtype: object, time             2019-10-16 17:37:37.165000+08:00\n",
      "thermal_cozie                                  11\n",
      "user_id                                   cresh12\n",
      "Space_id                                        0\n",
      "room                      OPEN_EXHIBITION_SPACE_2\n",
      "time_duration                                   0\n",
      "Name: 2110, dtype: object], [time             2019-10-18 10:11:22.427000+08:00\n",
      "thermal_cozie                                  11\n",
      "user_id                                   cresh12\n",
      "Space_id                                      NaN\n",
      "room                                          NaN\n",
      "time_duration                                   0\n",
      "Name: 2334, dtype: object, time             2019-10-18 10:37:04.464000+08:00\n",
      "thermal_cozie                                  11\n",
      "user_id                                   cresh12\n",
      "Space_id                                      NaN\n",
      "room                                          NaN\n",
      "time_duration                                   0\n",
      "Name: 2342, dtype: object]]\n"
     ]
    }
   ],
   "source": [
    "# Split the cluster up according to their timing\n",
    "for i in range(len(all_clusters)):\n",
    "    if (len(all_clusters[i]) > 1):\n",
    "        # If have more than 1 datapoint\n",
    "        tempList = all_clusters[i] # Store into tempList for splitting\n",
    "        tempList2 = [] # Store all relevant datapoints in a cluster together before pushing into flitered_cluster\n",
    "        nextDataPoint = []\n",
    "         # Check if current datapoint is part of the cluster and room is not null\n",
    "        for j in range(len(tempList)):\n",
    "            space = tempList[j].Space_id\n",
    "\n",
    "            if (j == 0):\n",
    "                tempList2.append(tempList[j])\n",
    "                last_time = tempList[j].time\n",
    "\n",
    "            elif (tempList[j].time < last_time + pd.Timedelta(minutes=30)):\n",
    "                tempList2.append(tempList[j])\n",
    "                last_time = tempList[j].time\n",
    "\n",
    "        filtered_cluster_before.append(tempList2)\n",
    "print(filtered_cluster_before)    "
   ]
  },
  {
   "cell_type": "markdown",
   "metadata": {},
   "source": [
    "# Keep clusters with more than a certain amount of data points and remove NaN"
   ]
  },
  {
   "cell_type": "code",
   "execution_count": 27,
   "metadata": {},
   "outputs": [
    {
     "name": "stdout",
     "output_type": "stream",
     "text": [
      "[[time             2019-10-04 14:31:57.272000+08:00\n",
      "thermal_cozie                                 NaN\n",
      "user_id                                   cresh12\n",
      "Space_id                                       45\n",
      "room                       BUILDING_MATERIALS_LAB\n",
      "time_duration                                   0\n",
      "Name: 135, dtype: object, time             2019-10-04 14:43:16.147000+08:00\n",
      "thermal_cozie                                  11\n",
      "user_id                                   cresh12\n",
      "Space_id                                       45\n",
      "room                       BUILDING_MATERIALS_LAB\n",
      "time_duration                                   0\n",
      "Name: 138, dtype: object, time             2019-10-04 14:48:32.368000+08:00\n",
      "thermal_cozie                                  11\n",
      "user_id                                   cresh12\n",
      "Space_id                                       45\n",
      "room                       BUILDING_MATERIALS_LAB\n",
      "time_duration                                   0\n",
      "Name: 139, dtype: object, time             2019-10-04 15:08:34.135000+08:00\n",
      "thermal_cozie                                  11\n",
      "user_id                                   cresh12\n",
      "Space_id                                       45\n",
      "room                       BUILDING_MATERIALS_LAB\n",
      "time_duration                                   0\n",
      "Name: 146, dtype: object, time             2019-10-04 15:29:45.920000+08:00\n",
      "thermal_cozie                                  11\n",
      "user_id                                   cresh12\n",
      "Space_id                                       45\n",
      "room                       BUILDING_MATERIALS_LAB\n",
      "time_duration                                   0\n",
      "Name: 151, dtype: object, time             2019-10-04 15:46:39.713000+08:00\n",
      "thermal_cozie                                  11\n",
      "user_id                                   cresh12\n",
      "Space_id                                       45\n",
      "room                       BUILDING_MATERIALS_LAB\n",
      "time_duration                                   0\n",
      "Name: 154, dtype: object, time             2019-10-04 16:01:32.670000+08:00\n",
      "thermal_cozie                                  11\n",
      "user_id                                   cresh12\n",
      "Space_id                                       45\n",
      "room                       BUILDING_MATERIALS_LAB\n",
      "time_duration                                   0\n",
      "Name: 161, dtype: object, time             2019-10-04 16:20:19.216000+08:00\n",
      "thermal_cozie                                  11\n",
      "user_id                                   cresh12\n",
      "Space_id                                       45\n",
      "room                                     BUDS_LAB\n",
      "time_duration                                   0\n",
      "Name: 164, dtype: object, time             2019-10-04 16:33:26.025000+08:00\n",
      "thermal_cozie                                  11\n",
      "user_id                                   cresh12\n",
      "Space_id                                       45\n",
      "room                                     BUDS_LAB\n",
      "time_duration                                   0\n",
      "Name: 167, dtype: object], [], [], [], [], [], [], [time             2019-10-09 16:35:08.171000+08:00\n",
      "thermal_cozie                                  11\n",
      "user_id                                   cresh12\n",
      "Space_id                                       20\n",
      "room                                IRC_LIBRARY_1\n",
      "time_duration                                   0\n",
      "Name: 970, dtype: object], [time             2019-10-09 17:43:17.457000+08:00\n",
      "thermal_cozie                                  10\n",
      "user_id                                   cresh12\n",
      "Space_id                                       20\n",
      "room                                IRC_LIBRARY_1\n",
      "time_duration                                   0\n",
      "Name: 996, dtype: object, time             2019-10-09 17:56:40.622000+08:00\n",
      "thermal_cozie                                  10\n",
      "user_id                                   cresh12\n",
      "Space_id                                       20\n",
      "room                                IRC_LIBRARY_1\n",
      "time_duration                                   0\n",
      "Name: 1005, dtype: object, time             2019-10-09 18:15:24.515000+08:00\n",
      "thermal_cozie                                  10\n",
      "user_id                                   cresh12\n",
      "Space_id                                       20\n",
      "room                                IRC_LIBRARY_1\n",
      "time_duration                                   0\n",
      "Name: 1012, dtype: object], [time             2019-10-09 18:54:55.268000+08:00\n",
      "thermal_cozie                                  10\n",
      "user_id                                   cresh12\n",
      "Space_id                                        1\n",
      "room                                         CAFE\n",
      "time_duration                                   0\n",
      "Name: 1019, dtype: object], [time             2019-10-09 19:40:11.440000+08:00\n",
      "thermal_cozie                                  11\n",
      "user_id                                   cresh12\n",
      "Space_id                                        0\n",
      "room                      OPEN_EXHIBITION_SPACE_2\n",
      "time_duration                                   0\n",
      "Name: 1027, dtype: object], [], [], [], [], [], [], [], [], [], [], [], [], [], [time             2019-10-16 13:46:09.372000+08:00\n",
      "thermal_cozie                                  11\n",
      "user_id                                   cresh12\n",
      "Space_id                                       36\n",
      "room                                          NaN\n",
      "time_duration                                   0\n",
      "Name: 2020, dtype: object, time             2019-10-16 14:03:57.229000+08:00\n",
      "thermal_cozie                                  11\n",
      "user_id                                   cresh12\n",
      "Space_id                                       20\n",
      "room                                IRC_LIBRARY_1\n",
      "time_duration                                   0\n",
      "Name: 2028, dtype: object, time             2019-10-16 14:17:20.145000+08:00\n",
      "thermal_cozie                                  11\n",
      "user_id                                   cresh12\n",
      "Space_id                                       20\n",
      "room                                IRC_LIBRARY_1\n",
      "time_duration                                   0\n",
      "Name: 2033, dtype: object, time             2019-10-16 14:32:42.769000+08:00\n",
      "thermal_cozie                                  11\n",
      "user_id                                   cresh12\n",
      "Space_id                                       20\n",
      "room                                IRC_LIBRARY_1\n",
      "time_duration                                   0\n",
      "Name: 2038, dtype: object, time             2019-10-16 14:50:14.928000+08:00\n",
      "thermal_cozie                                  11\n",
      "user_id                                   cresh12\n",
      "Space_id                                       20\n",
      "room                                IRC_LIBRARY_1\n",
      "time_duration                                   0\n",
      "Name: 2045, dtype: object, time             2019-10-16 15:13:20.957000+08:00\n",
      "thermal_cozie                                  10\n",
      "user_id                                   cresh12\n",
      "Space_id                                        5\n",
      "room                             OUTSIDE_RESTROOM\n",
      "time_duration                                   0\n",
      "Name: 2056, dtype: object, time             2019-10-16 15:31:06.712000+08:00\n",
      "thermal_cozie                                  11\n",
      "user_id                                   cresh12\n",
      "Space_id                                       20\n",
      "room                                IRC_LIBRARY_1\n",
      "time_duration                                   0\n",
      "Name: 2068, dtype: object, time             2019-10-16 15:46:15.576000+08:00\n",
      "thermal_cozie                                  11\n",
      "user_id                                   cresh12\n",
      "Space_id                                       20\n",
      "room                                IRC_LIBRARY_1\n",
      "time_duration                                   0\n",
      "Name: 2071, dtype: object, time             2019-10-16 16:03:47.996000+08:00\n",
      "thermal_cozie                                  11\n",
      "user_id                                   cresh12\n",
      "Space_id                                       20\n",
      "room                                IRC_LIBRARY_1\n",
      "time_duration                                   0\n",
      "Name: 2074, dtype: object, time             2019-10-16 16:21:33.132000+08:00\n",
      "thermal_cozie                                  11\n",
      "user_id                                   cresh12\n",
      "Space_id                                       20\n",
      "room                                IRC_LIBRARY_1\n",
      "time_duration                                   0\n",
      "Name: 2078, dtype: object, time             2019-10-16 16:50:09.466000+08:00\n",
      "thermal_cozie                                  11\n",
      "user_id                                   cresh12\n",
      "Space_id                                       20\n",
      "room                                IRC_LIBRARY_1\n",
      "time_duration                                   0\n",
      "Name: 2086, dtype: object, time             2019-10-16 17:05:31.200000+08:00\n",
      "thermal_cozie                                  11\n",
      "user_id                                   cresh12\n",
      "Space_id                                       20\n",
      "room                                IRC_LIBRARY_1\n",
      "time_duration                                   0\n",
      "Name: 2092, dtype: object, time             2019-10-16 17:13:19.153000+08:00\n",
      "thermal_cozie                                  11\n",
      "user_id                                   cresh12\n",
      "Space_id                                        0\n",
      "room                      OPEN_EXHIBITION_SPACE_2\n",
      "time_duration                                   0\n",
      "Name: 2100, dtype: object, time             2019-10-16 17:37:37.165000+08:00\n",
      "thermal_cozie                                  11\n",
      "user_id                                   cresh12\n",
      "Space_id                                        0\n",
      "room                      OPEN_EXHIBITION_SPACE_2\n",
      "time_duration                                   0\n",
      "Name: 2110, dtype: object], []]\n"
     ]
    }
   ],
   "source": [
    "# Split the cluster up according to their timing\n",
    "for i in range(len(all_clusters)):\n",
    "    if (len(all_clusters[i]) > 1):\n",
    "        # If have more than 1 datapoint\n",
    "        tempList = all_clusters[i] # Store into tempList for splitting\n",
    "        tempList2 = [] # Store all relevant datapoints in a cluster together before pushing into flitered_cluster\n",
    "        nextDataPoint = []\n",
    "         # Check if current datapoint is part of the cluster and room is not null\n",
    "        for j in range(len(tempList)):\n",
    "            space = tempList[j].Space_id\n",
    "            \n",
    "            if(isNaN(space) == False):    \n",
    "                if (j == 0):\n",
    "                    tempList2.append(tempList[j])\n",
    "                    last_time = tempList[j].time\n",
    "\n",
    "                elif (tempList[j].time < last_time + pd.Timedelta(minutes=30)):\n",
    "                    tempList2.append(tempList[j])\n",
    "                    last_time = tempList[j].time\n",
    "\n",
    "        filtered_cluster_after.append(tempList2)\n",
    "print(filtered_cluster_after)   "
   ]
  },
  {
   "cell_type": "markdown",
   "metadata": {},
   "source": [
    "# Show how many datapoints are in each cluster prior to removing"
   ]
  },
  {
   "cell_type": "code",
   "execution_count": 28,
   "metadata": {},
   "outputs": [
    {
     "name": "stdout",
     "output_type": "stream",
     "text": [
      "0:11 \n",
      "1:3 \n",
      "2:9 \n",
      "3:6 \n",
      "4:2 \n",
      "5:2 \n",
      "6:2 \n",
      "7:4 \n",
      "8:3 \n",
      "9:2 \n",
      "10:6 \n",
      "11:2 \n",
      "12:4 \n",
      "13:3 \n",
      "14:5 \n",
      "15:8 \n",
      "16:3 \n",
      "17:4 \n",
      "18:10 \n",
      "19:2 \n",
      "20:2 \n",
      "21:2 \n",
      "22:26 \n",
      "23:2 \n",
      "24:14 \n",
      "25:2 \n"
     ]
    }
   ],
   "source": [
    "for i in range(len(filtered_cluster_before)):\n",
    "    print(\"{0}:{1} \".format(i,(len(filtered_cluster_before[i]))))"
   ]
  },
  {
   "cell_type": "markdown",
   "metadata": {},
   "source": [
    "# Add in values to the duration difference column"
   ]
  },
  {
   "cell_type": "code",
   "execution_count": 29,
   "metadata": {},
   "outputs": [],
   "source": [
    "for i in range(len(filtered_cluster_before)):\n",
    "    # First variable have no time difference, thus 0.0s\n",
    "    timeDifferenceList = [0.0]\n",
    "    for j in range(len(filtered_cluster_before[i])):\n",
    "        if (j == 0):\n",
    "            last_time = filtered_cluster_before[i][j].time\n",
    "        else:\n",
    "            timeDiff = filtered_cluster_before[i][j].time - last_time\n",
    "            filtered_cluster_before[i][j].time_duration = (timeDiff.total_seconds()/60)\n",
    "            # Set the last time as the current one\n",
    "            last_time = filtered_cluster_before[i][j].time\n",
    "            \n",
    "for i in range(len(filtered_cluster_after)):\n",
    "    # First variable have no time difference, thus 0.0s\n",
    "    timeDifferenceList = [0.0]\n",
    "    for j in range(len(filtered_cluster_after[i])):\n",
    "        if (j == 0):\n",
    "            last_time = filtered_cluster_after[i][j].time\n",
    "        else:\n",
    "            timeDiff = filtered_cluster_after[i][j].time - last_time\n",
    "            filtered_cluster_after[i][j].time_duration = (timeDiff.total_seconds()/60)\n",
    "            # Set the last time as the current one\n",
    "            last_time = filtered_cluster_after[i][j].time"
   ]
  },
  {
   "cell_type": "markdown",
   "metadata": {},
   "source": [
    "# Plot all graph before removal of NaN"
   ]
  },
  {
   "cell_type": "code",
   "execution_count": 30,
   "metadata": {},
   "outputs": [
    {
     "data": {
      "image/png": "[encoded data removed]",
      "text/plain": [
       "<Figure size 432x288 with 1 Axes>"
      ]
     },
     "metadata": {
      "needs_background": "light"
     },
     "output_type": "display_data"
    }
   ],
   "source": [
    "# Plot all clusters into ONE graph\n",
    "thermal = []\n",
    "duration = []\n",
    "base = 0.0\n",
    "\n",
    "for i in range(len(filtered_cluster_before)):\n",
    "    for j in range(len(filtered_cluster_before[i])):\n",
    "        base += filtered_cluster_before[i][j].time_duration\n",
    "        thermal.append(filtered_cluster_before[i][j].thermal_cozie)\n",
    "        duration.append(base)\n",
    "        \n",
    "    plt.plot(duration,thermal)\n",
    "    plt.xlabel(\"Duration\")\n",
    "    plt.ylabel(\"Thermal Cozie\")\n",
    "    plt.ylim(9,11)\n",
    "    \n",
    "    # Re-init to remove previous cluster data\n",
    "    base = 0.0\n",
    "    thermal = []\n",
    "    duration = []"
   ]
  },
  {
   "cell_type": "markdown",
   "metadata": {},
   "source": [
    "# Plot all graph seperately before removal of NaN"
   ]
  },
  {
   "cell_type": "code",
   "execution_count": 31,
   "metadata": {},
   "outputs": [
    {
     "name": "stderr",
     "output_type": "stream",
     "text": [
      "D:\\Anaconda3\\lib\\site-packages\\ipykernel_launcher.py:12: RuntimeWarning: More than 20 figures have been opened. Figures created through the pyplot interface (`matplotlib.pyplot.figure`) are retained until explicitly closed and may consume too much memory. (To control this warning, see the rcParam `figure.max_open_warning`).\n",
      "  if sys.path[0] == '':\n"
     ]
    },
    {
     "data": {
      "image/png": "[encoded data removed]",
      "text/plain": [
       "<Figure size 432x288 with 1 Axes>"
      ]
     },
     "metadata": {
      "needs_background": "light"
     },
     "output_type": "display_data"
    },
    {
     "data": {
      "image/png": "[encoded data removed]",
      "text/plain": [
       "<Figure size 432x288 with 1 Axes>"
      ]
     },
     "metadata": {
      "needs_background": "light"
     },
     "output_type": "display_data"
    },
    {
     "data": {
      "image/png": "[encoded data removed]",
      "text/plain": [
       "<Figure size 432x288 with 1 Axes>"
      ]
     },
     "metadata": {
      "needs_background": "light"
     },
     "output_type": "display_data"
    },
    {
     "data": {
      "image/png": "[encoded data removed]",
      "text/plain": [
       "<Figure size 432x288 with 1 Axes>"
      ]
     },
     "metadata": {
      "needs_background": "light"
     },
     "output_type": "display_data"
    },
    {
     "data": {
      "image/png": "[encoded data removed]",
      "text/plain": [
       "<Figure size 432x288 with 1 Axes>"
      ]
     },
     "metadata": {
      "needs_background": "light"
     },
     "output_type": "display_data"
    },
    {
     "data": {
      "image/png": "[encoded data removed]",
      "text/plain": [
       "<Figure size 432x288 with 1 Axes>"
      ]
     },
     "metadata": {
      "needs_background": "light"
     },
     "output_type": "display_data"
    },
    {
     "data": {
      "image/png": "[encoded data removed]",
      "text/plain": [
       "<Figure size 432x288 with 1 Axes>"
      ]
     },
     "metadata": {
      "needs_background": "light"
     },
     "output_type": "display_data"
    },
    {
     "data": {
      "image/png": "[encoded data removed]",
      "text/plain": [
       "<Figure size 432x288 with 1 Axes>"
      ]
     },
     "metadata": {
      "needs_background": "light"
     },
     "output_type": "display_data"
    },
    {
     "data": {
      "image/png": "[encoded data removed]",
      "text/plain": [
       "<Figure size 432x288 with 1 Axes>"
      ]
     },
     "metadata": {
      "needs_background": "light"
     },
     "output_type": "display_data"
    },
    {
     "data": {
      "image/png": "[encoded data removed]",
      "text/plain": [
       "<Figure size 432x288 with 1 Axes>"
      ]
     },
     "metadata": {
      "needs_background": "light"
     },
     "output_type": "display_data"
    },
    {
     "data": {
      "image/png": "[encoded data removed]",
      "text/plain": [
       "<Figure size 432x288 with 1 Axes>"
      ]
     },
     "metadata": {
      "needs_background": "light"
     },
     "output_type": "display_data"
    },
    {
     "data": {
      "image/png": "[encoded data removed]",
      "text/plain": [
       "<Figure size 432x288 with 1 Axes>"
      ]
     },
     "metadata": {
      "needs_background": "light"
     },
     "output_type": "display_data"
    },
    {
     "data": {
      "image/png": "[encoded data removed]",
      "text/plain": [
       "<Figure size 432x288 with 1 Axes>"
      ]
     },
     "metadata": {
      "needs_background": "light"
     },
     "output_type": "display_data"
    },
    {
     "data": {
      "image/png": "[encoded data removed]",
      "text/plain": [
       "<Figure size 432x288 with 1 Axes>"
      ]
     },
     "metadata": {
      "needs_background": "light"
     },
     "output_type": "display_data"
    },
    {
     "data": {
      "image/png": "[encoded data removed]",
      "text/plain": [
       "<Figure size 432x288 with 1 Axes>"
      ]
     },
     "metadata": {
      "needs_background": "light"
     },
     "output_type": "display_data"
    },
    {
     "data": {
      "image/png": "[encoded data removed]",
      "text/plain": [
       "<Figure size 432x288 with 1 Axes>"
      ]
     },
     "metadata": {
      "needs_background": "light"
     },
     "output_type": "display_data"
    },
    {
     "data": {
      "image/png": "[encoded data removed]",
      "text/plain": [
       "<Figure size 432x288 with 1 Axes>"
      ]
     },
     "metadata": {
      "needs_background": "light"
     },
     "output_type": "display_data"
    },
    {
     "data": {
      "image/png": "[encoded data removed]",
      "text/plain": [
       "<Figure size 432x288 with 1 Axes>"
      ]
     },
     "metadata": {
      "needs_background": "light"
     },
     "output_type": "display_data"
    },
    {
     "data": {
      "image/png": "[encoded data removed]",
      "text/plain": [
       "<Figure size 432x288 with 1 Axes>"
      ]
     },
     "metadata": {
      "needs_background": "light"
     },
     "output_type": "display_data"
    },
    {
     "data": {
      "image/png": "[encoded data removed]",
      "text/plain": [
       "<Figure size 432x288 with 1 Axes>"
      ]
     },
     "metadata": {
      "needs_background": "light"
     },
     "output_type": "display_data"
    },
    {
     "data": {
      "image/png": "[encoded data removed]",
      "text/plain": [
       "<Figure size 432x288 with 1 Axes>"
      ]
     },
     "metadata": {
      "needs_background": "light"
     },
     "output_type": "display_data"
    },
    {
     "data": {
      "image/png": "[encoded data removed]",
      "text/plain": [
       "<Figure size 432x288 with 1 Axes>"
      ]
     },
     "metadata": {
      "needs_background": "light"
     },
     "output_type": "display_data"
    },
    {
     "data": {
      "image/png": "[encoded data removed]",
      "text/plain": [
       "<Figure size 432x288 with 1 Axes>"
      ]
     },
     "metadata": {
      "needs_background": "light"
     },
     "output_type": "display_data"
    },
    {
     "data": {
      "image/png": "[encoded data removed]",
      "text/plain": [
       "<Figure size 432x288 with 1 Axes>"
      ]
     },
     "metadata": {
      "needs_background": "light"
     },
     "output_type": "display_data"
    },
    {
     "data": {
      "image/png": "[encoded data removed]",
      "text/plain": [
       "<Figure size 432x288 with 1 Axes>"
      ]
     },
     "metadata": {
      "needs_background": "light"
     },
     "output_type": "display_data"
    },
    {
     "data": {
      "image/png": "[encoded data removed]",
      "text/plain": [
       "<Figure size 432x288 with 1 Axes>"
      ]
     },
     "metadata": {
      "needs_background": "light"
     },
     "output_type": "display_data"
    }
   ],
   "source": [
    "# Plot all clusters into ONE graph\n",
    "thermal = []\n",
    "duration = []\n",
    "base = 0.0\n",
    "\n",
    "for i in range(len(filtered_cluster_before)):\n",
    "    for j in range(len(filtered_cluster_before[i])):\n",
    "        base += filtered_cluster_before[i][j].time_duration\n",
    "        thermal.append(filtered_cluster_before[i][j].thermal_cozie)\n",
    "        duration.append(base)\n",
    "    \n",
    "    plt.figure()\n",
    "    plt.scatter(duration,thermal)\n",
    "    plt.plot(duration,thermal)\n",
    "    plt.xlabel(\"Duration\")\n",
    "    plt.ylabel(\"Thermal Cozie\")\n",
    "    plt.yticks(thermal_cozie_ticks)\n",
    "    \n",
    "    # Re-init to remove previous cluster data\n",
    "    base = 0.0\n",
    "    thermal = []\n",
    "    duration = []"
   ]
  },
  {
   "cell_type": "markdown",
   "metadata": {},
   "source": [
    "# Remove list with zero elements inside filtered_cluster_after"
   ]
  },
  {
   "cell_type": "code",
   "execution_count": 32,
   "metadata": {},
   "outputs": [
    {
     "name": "stdout",
     "output_type": "stream",
     "text": [
      "[[time             2019-10-04 14:31:57.272000+08:00\n",
      "thermal_cozie                                 NaN\n",
      "user_id                                   cresh12\n",
      "Space_id                                       45\n",
      "room                       BUILDING_MATERIALS_LAB\n",
      "time_duration                                   0\n",
      "Name: 135, dtype: object, time             2019-10-04 14:43:16.147000+08:00\n",
      "thermal_cozie                                  11\n",
      "user_id                                   cresh12\n",
      "Space_id                                       45\n",
      "room                       BUILDING_MATERIALS_LAB\n",
      "time_duration                             11.3146\n",
      "Name: 138, dtype: object, time             2019-10-04 14:48:32.368000+08:00\n",
      "thermal_cozie                                  11\n",
      "user_id                                   cresh12\n",
      "Space_id                                       45\n",
      "room                       BUILDING_MATERIALS_LAB\n",
      "time_duration                             5.27035\n",
      "Name: 139, dtype: object, time             2019-10-04 15:08:34.135000+08:00\n",
      "thermal_cozie                                  11\n",
      "user_id                                   cresh12\n",
      "Space_id                                       45\n",
      "room                       BUILDING_MATERIALS_LAB\n",
      "time_duration                             20.0295\n",
      "Name: 146, dtype: object, time             2019-10-04 15:29:45.920000+08:00\n",
      "thermal_cozie                                  11\n",
      "user_id                                   cresh12\n",
      "Space_id                                       45\n",
      "room                       BUILDING_MATERIALS_LAB\n",
      "time_duration                             21.1964\n",
      "Name: 151, dtype: object, time             2019-10-04 15:46:39.713000+08:00\n",
      "thermal_cozie                                  11\n",
      "user_id                                   cresh12\n",
      "Space_id                                       45\n",
      "room                       BUILDING_MATERIALS_LAB\n",
      "time_duration                             16.8966\n",
      "Name: 154, dtype: object, time             2019-10-04 16:01:32.670000+08:00\n",
      "thermal_cozie                                  11\n",
      "user_id                                   cresh12\n",
      "Space_id                                       45\n",
      "room                       BUILDING_MATERIALS_LAB\n",
      "time_duration                             14.8826\n",
      "Name: 161, dtype: object, time             2019-10-04 16:20:19.216000+08:00\n",
      "thermal_cozie                                  11\n",
      "user_id                                   cresh12\n",
      "Space_id                                       45\n",
      "room                                     BUDS_LAB\n",
      "time_duration                             18.7758\n",
      "Name: 164, dtype: object, time             2019-10-04 16:33:26.025000+08:00\n",
      "thermal_cozie                                  11\n",
      "user_id                                   cresh12\n",
      "Space_id                                       45\n",
      "room                                     BUDS_LAB\n",
      "time_duration                             13.1135\n",
      "Name: 167, dtype: object], [time             2019-10-09 17:43:17.457000+08:00\n",
      "thermal_cozie                                  10\n",
      "user_id                                   cresh12\n",
      "Space_id                                       20\n",
      "room                                IRC_LIBRARY_1\n",
      "time_duration                                   0\n",
      "Name: 996, dtype: object, time             2019-10-09 17:56:40.622000+08:00\n",
      "thermal_cozie                                  10\n",
      "user_id                                   cresh12\n",
      "Space_id                                       20\n",
      "room                                IRC_LIBRARY_1\n",
      "time_duration                             13.3861\n",
      "Name: 1005, dtype: object, time             2019-10-09 18:15:24.515000+08:00\n",
      "thermal_cozie                                  10\n",
      "user_id                                   cresh12\n",
      "Space_id                                       20\n",
      "room                                IRC_LIBRARY_1\n",
      "time_duration                             18.7316\n",
      "Name: 1012, dtype: object], [time             2019-10-16 13:46:09.372000+08:00\n",
      "thermal_cozie                                  11\n",
      "user_id                                   cresh12\n",
      "Space_id                                       36\n",
      "room                                          NaN\n",
      "time_duration                                   0\n",
      "Name: 2020, dtype: object, time             2019-10-16 14:03:57.229000+08:00\n",
      "thermal_cozie                                  11\n",
      "user_id                                   cresh12\n",
      "Space_id                                       20\n",
      "room                                IRC_LIBRARY_1\n",
      "time_duration                             17.7976\n",
      "Name: 2028, dtype: object, time             2019-10-16 14:17:20.145000+08:00\n",
      "thermal_cozie                                  11\n",
      "user_id                                   cresh12\n",
      "Space_id                                       20\n",
      "room                                IRC_LIBRARY_1\n",
      "time_duration                             13.3819\n",
      "Name: 2033, dtype: object, time             2019-10-16 14:32:42.769000+08:00\n",
      "thermal_cozie                                  11\n",
      "user_id                                   cresh12\n",
      "Space_id                                       20\n",
      "room                                IRC_LIBRARY_1\n",
      "time_duration                             15.3771\n",
      "Name: 2038, dtype: object, time             2019-10-16 14:50:14.928000+08:00\n",
      "thermal_cozie                                  11\n",
      "user_id                                   cresh12\n",
      "Space_id                                       20\n",
      "room                                IRC_LIBRARY_1\n",
      "time_duration                              17.536\n",
      "Name: 2045, dtype: object, time             2019-10-16 15:13:20.957000+08:00\n",
      "thermal_cozie                                  10\n",
      "user_id                                   cresh12\n",
      "Space_id                                        5\n",
      "room                             OUTSIDE_RESTROOM\n",
      "time_duration                             23.1005\n",
      "Name: 2056, dtype: object, time             2019-10-16 15:31:06.712000+08:00\n",
      "thermal_cozie                                  11\n",
      "user_id                                   cresh12\n",
      "Space_id                                       20\n",
      "room                                IRC_LIBRARY_1\n",
      "time_duration                             17.7626\n",
      "Name: 2068, dtype: object, time             2019-10-16 15:46:15.576000+08:00\n",
      "thermal_cozie                                  11\n",
      "user_id                                   cresh12\n",
      "Space_id                                       20\n",
      "room                                IRC_LIBRARY_1\n",
      "time_duration                             15.1477\n",
      "Name: 2071, dtype: object, time             2019-10-16 16:03:47.996000+08:00\n",
      "thermal_cozie                                  11\n",
      "user_id                                   cresh12\n",
      "Space_id                                       20\n",
      "room                                IRC_LIBRARY_1\n",
      "time_duration                             17.5403\n",
      "Name: 2074, dtype: object, time             2019-10-16 16:21:33.132000+08:00\n",
      "thermal_cozie                                  11\n",
      "user_id                                   cresh12\n",
      "Space_id                                       20\n",
      "room                                IRC_LIBRARY_1\n",
      "time_duration                             17.7523\n",
      "Name: 2078, dtype: object, time             2019-10-16 16:50:09.466000+08:00\n",
      "thermal_cozie                                  11\n",
      "user_id                                   cresh12\n",
      "Space_id                                       20\n",
      "room                                IRC_LIBRARY_1\n",
      "time_duration                             28.6056\n",
      "Name: 2086, dtype: object, time             2019-10-16 17:05:31.200000+08:00\n",
      "thermal_cozie                                  11\n",
      "user_id                                   cresh12\n",
      "Space_id                                       20\n",
      "room                                IRC_LIBRARY_1\n",
      "time_duration                             15.3622\n",
      "Name: 2092, dtype: object, time             2019-10-16 17:13:19.153000+08:00\n",
      "thermal_cozie                                  11\n",
      "user_id                                   cresh12\n",
      "Space_id                                        0\n",
      "room                      OPEN_EXHIBITION_SPACE_2\n",
      "time_duration                             7.79922\n",
      "Name: 2100, dtype: object, time             2019-10-16 17:37:37.165000+08:00\n",
      "thermal_cozie                                  11\n",
      "user_id                                   cresh12\n",
      "Space_id                                        0\n",
      "room                      OPEN_EXHIBITION_SPACE_2\n",
      "time_duration                             24.3002\n",
      "Name: 2110, dtype: object]]\n"
     ]
    }
   ],
   "source": [
    "tempList3 = []\n",
    "for i in range(len(filtered_cluster_after)):\n",
    "    if (len(filtered_cluster_after[i]) > 1):\n",
    "        tempList3.append(filtered_cluster_after[i])\n",
    "\n",
    "filtered_cluster_after = tempList3\n",
    "print(filtered_cluster_after)"
   ]
  },
  {
   "cell_type": "markdown",
   "metadata": {},
   "source": [
    "# Show how many datapoint are in each cluster after filtering NaN and zero element"
   ]
  },
  {
   "cell_type": "code",
   "execution_count": 33,
   "metadata": {},
   "outputs": [
    {
     "name": "stdout",
     "output_type": "stream",
     "text": [
      "0:9 \n",
      "1:3 \n",
      "2:14 \n"
     ]
    }
   ],
   "source": [
    "for i in range(len(filtered_cluster_after)):\n",
    "    print(\"{0}:{1} \".format(i,(len(filtered_cluster_after[i]))))"
   ]
  },
  {
   "cell_type": "markdown",
   "metadata": {},
   "source": [
    "# Plot all cluster into one graph"
   ]
  },
  {
   "cell_type": "code",
   "execution_count": 34,
   "metadata": {},
   "outputs": [
    {
     "data": {
      "image/png": "[encoded data removed]",
      "text/plain": [
       "<Figure size 432x288 with 1 Axes>"
      ]
     },
     "metadata": {
      "needs_background": "light"
     },
     "output_type": "display_data"
    }
   ],
   "source": [
    "# Plot all clusters into ONE graph\n",
    "thermal = []\n",
    "duration = []\n",
    "base = 0.0\n",
    "\n",
    "for i in range(len(filtered_cluster_after)):\n",
    "    for j in range(len(filtered_cluster_after[i])):\n",
    "        base += filtered_cluster_after[i][j].time_duration\n",
    "        thermal.append(filtered_cluster_after[i][j].thermal_cozie)\n",
    "        duration.append(base)\n",
    "        \n",
    "    plt.plot(duration,thermal)\n",
    "    plt.xlabel(\"Duration\")\n",
    "    plt.ylabel(\"Thermal Cozie\")\n",
    "    plt.yticks(thermal_cozie_ticks)\n",
    "    \n",
    "    # Re-init to remove previous cluster data\n",
    "    base = 0.0\n",
    "    thermal = []\n",
    "    duration = []"
   ]
  },
  {
   "cell_type": "markdown",
   "metadata": {},
   "source": [
    "# Plot all cluster into separate graphs"
   ]
  },
  {
   "cell_type": "code",
   "execution_count": 35,
   "metadata": {},
   "outputs": [
    {
     "data": {
      "image/png": "[encoded data removed]",
      "text/plain": [
       "<Figure size 432x288 with 1 Axes>"
      ]
     },
     "metadata": {
      "needs_background": "light"
     },
     "output_type": "display_data"
    },
    {
     "data": {
      "image/png": "[encoded data removed]",
      "text/plain": [
       "<Figure size 432x288 with 1 Axes>"
      ]
     },
     "metadata": {
      "needs_background": "light"
     },
     "output_type": "display_data"
    },
    {
     "data": {
      "image/png": "[encoded data removed]",
      "text/plain": [
       "<Figure size 432x288 with 1 Axes>"
      ]
     },
     "metadata": {
      "needs_background": "light"
     },
     "output_type": "display_data"
    }
   ],
   "source": [
    "# Plot all clusters into ONE graph\n",
    "thermal = []\n",
    "duration = []\n",
    "base = 0.0\n",
    "\n",
    "for i in range(len(filtered_cluster_after)):\n",
    "    for j in range(len(filtered_cluster_after[i])):\n",
    "        base += filtered_cluster_after[i][j].time_duration\n",
    "        thermal.append(filtered_cluster_after[i][j].thermal_cozie)\n",
    "        duration.append(base)\n",
    "    \n",
    "    plt.figure()\n",
    "    plt.scatter(duration,thermal)\n",
    "    plt.plot(duration,thermal)\n",
    "    plt.xlabel(\"Duration\")\n",
    "    plt.ylabel(\"Thermal Cozie\")\n",
    "    plt.yticks(thermal_cozie_ticks)\n",
    "    \n",
    "    # Re-init to remove previous cluster data\n",
    "    base = 0.0\n",
    "    thermal = []\n",
    "    duration = []"
   ]
  },
  {
   "cell_type": "markdown",
   "metadata": {},
   "source": [
    "# Plot test with vertical dotted lines"
   ]
  },
  {
   "cell_type": "code",
   "execution_count": 36,
   "metadata": {},
   "outputs": [
    {
     "data": {
      "image/png": "[encoded data removed]",
      "text/plain": [
       "<Figure size 432x288 with 1 Axes>"
      ]
     },
     "metadata": {
      "needs_background": "light"
     },
     "output_type": "display_data"
    },
    {
     "data": {
      "image/png": "[encoded data removed]",
      "text/plain": [
       "<Figure size 432x288 with 1 Axes>"
      ]
     },
     "metadata": {
      "needs_background": "light"
     },
     "output_type": "display_data"
    },
    {
     "data": {
      "image/png": "[encoded data removed]",
      "text/plain": [
       "<Figure size 432x288 with 1 Axes>"
      ]
     },
     "metadata": {
      "needs_background": "light"
     },
     "output_type": "display_data"
    }
   ],
   "source": [
    "# Plot all clusters into ONE graph\n",
    "thermal = []\n",
    "duration = []\n",
    "base = 0.0\n",
    "dotted_lines = []\n",
    "\n",
    "for i in range(len(filtered_cluster_after)):\n",
    "    tempList = []\n",
    "    for j in range(len(filtered_cluster_after[i])):\n",
    "        if (j > 1):\n",
    "            prev = filtered_cluster_after[i][j-1].room\n",
    "            curr = filtered_cluster_after[i][j].room\n",
    "            \n",
    "            if (prev != curr):\n",
    "                tempList.append(j)\n",
    "                \n",
    "    dotted_lines.append(tempList)\n",
    "\n",
    "#print(dotted_lines)\n",
    "    \n",
    "for i in range(len(filtered_cluster_after)):\n",
    "    lines = []\n",
    "    for j in range(len(filtered_cluster_after[i])):\n",
    "        base += filtered_cluster_after[i][j].time_duration\n",
    "        thermal.append(filtered_cluster_after[i][j].thermal_cozie)\n",
    "        duration.append(base)\n",
    "        \n",
    "    if(len(dotted_lines[i]) > 0):\n",
    "        while(len(dotted_lines[i]) > 0):\n",
    "            index = dotted_lines[i].pop()\n",
    "            xValue = duration[index]\n",
    "            plt.axvline(x = xValue, linestyle = '--', color = 'r')\n",
    "        \n",
    "        \n",
    "    plt.scatter(duration,thermal)\n",
    "    plt.plot(duration,thermal)\n",
    "    plt.xlabel(\"Duration\")\n",
    "    plt.ylabel(\"Thermal Cozie\")\n",
    "    plt.yticks(thermal_cozie_ticks)\n",
    "    plt.show()\n",
    "    \n",
    "    #print(filtered_cluster_after[0])\n",
    "    #print(duration)\n",
    "    \n",
    "    # Re-init to remove previous cluster data\n",
    "    base = 0.0\n",
    "    thermal = []\n",
    "    duration = []\n",
    "    "
   ]
  },
  {
   "cell_type": "code",
   "execution_count": null,
   "metadata": {},
   "outputs": [],
   "source": []
  }
 ],
 "metadata": {
  "kernelspec": {
   "display_name": "Python 3",
   "language": "python",
   "name": "python3"
  },
  "language_info": {
   "codemirror_mode": {
    "name": "ipython",
    "version": 3
   },
   "file_extension": ".py",
   "mimetype": "text/x-python",
   "name": "python",
   "nbconvert_exporter": "python",
   "pygments_lexer": "ipython3",
   "version": "3.7.4"
  }
 },
 "nbformat": 4,
 "nbformat_minor": 4
}
