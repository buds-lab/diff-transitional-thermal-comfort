{
 "cells": [
  {
   "cell_type": "code",
   "execution_count": 1,
   "metadata": {},
   "outputs": [],
   "source": [
    "import pandas as pd\n",
    "import numpy as np\n",
    "from matplotlib import pyplot as plt\n",
    "from matplotlib.backends.backend_agg import FigureCanvasAgg as FigureCanvas\n",
    "from matplotlib.figure import Figure"
   ]
  },
  {
   "cell_type": "code",
   "execution_count": 2,
   "metadata": {},
   "outputs": [],
   "source": [
    "fig = Figure()\n",
    "canvas = FigureCanvas(fig)\n",
    "ax = fig.add_subplot(111)"
   ]
  },
  {
   "cell_type": "code",
   "execution_count": 3,
   "metadata": {},
   "outputs": [],
   "source": [
    "def isNaN(num):\n",
    "    return num != num"
   ]
  },
  {
   "cell_type": "code",
   "execution_count": 4,
   "metadata": {},
   "outputs": [],
   "source": [
    "df = pd.read_csv (\"2019-10-29_cozie_full.csv\", index_col=0)\n",
    "filtered_df = df.drop (columns=['clothing','lat_cozie','lon_cozie','responseSpeed_cozie','Floor','Latitude','Longitude','noise_sensing','voc_sensing','index','comfort_cozie','heartRate_cozie','light_cozie','noise_cozie','co2_sensing','humidity_sensing','light_sensing','temperature_sensing','temperature_mbient'],axis=1)\n",
    "filtered_df['time'] = filtered_df['time'].apply(pd.Timestamp).dt.tz_convert('Asia/Singapore')\n",
    "# Add new column to calculate duration \n",
    "filtered_df['time_duration'] = 0"
   ]
  },
  {
   "cell_type": "code",
   "execution_count": 5,
   "metadata": {},
   "outputs": [],
   "source": [
    "grouped_users = filtered_df.groupby('user_id')\n",
    "\n",
    "all_clusters = [] # Raw data\n",
    "cluster_array = [] \n",
    "filtered_cluster_before = [] # Raw data that are clustered together according to duration\n",
    "filtered_cluster_after = []"
   ]
  },
  {
   "cell_type": "code",
   "execution_count": 6,
   "metadata": {},
   "outputs": [],
   "source": [
    "cresh01_df = grouped_users.get_group('cresh05')\n",
    "thermal_cozie_ticks = [9,10,11]"
   ]
  },
  {
   "cell_type": "code",
   "execution_count": 7,
   "metadata": {},
   "outputs": [],
   "source": [
    "# Gather all data relevant to specific user \n",
    "for index, datapoint in cresh01_df.iterrows():\n",
    "    # print (data.time)\n",
    "    if cluster_array == []:\n",
    "        cluster_array.append(datapoint)\n",
    "    else:\n",
    "        if datapoint.time < last_time + pd.Timedelta(minutes=30):\n",
    "            cluster_array.append(datapoint) \n",
    "        else:\n",
    "            all_clusters.append(cluster_array)\n",
    "            cluster_array = []\n",
    "            cluster_array.append(datapoint)\n",
    "\n",
    "    \n",
    "    last_time = datapoint.time\n",
    "#print (all_clusters)"
   ]
  },
  {
   "cell_type": "markdown",
   "metadata": {},
   "source": [
    "# Keep clusters with more than a certain amount of data points"
   ]
  },
  {
   "cell_type": "code",
   "execution_count": 8,
   "metadata": {},
   "outputs": [
    {
     "name": "stdout",
     "output_type": "stream",
     "text": [
      "[[time             2019-10-07 13:55:24.188000+08:00\n",
      "thermal_cozie                                 NaN\n",
      "user_id                                   cresh05\n",
      "Space_id                                      NaN\n",
      "room                                          NaN\n",
      "time_duration                                   0\n",
      "Name: 329, dtype: object, time             2019-10-07 14:11:07.867000+08:00\n",
      "thermal_cozie                                  10\n",
      "user_id                                   cresh05\n",
      "Space_id                                       45\n",
      "room                       BUILDING_MATERIALS_LAB\n",
      "time_duration                                   0\n",
      "Name: 334, dtype: object, time             2019-10-07 14:38:32.320000+08:00\n",
      "thermal_cozie                                  10\n",
      "user_id                                   cresh05\n",
      "Space_id                                       45\n",
      "room                       BUILDING_MATERIALS_LAB\n",
      "time_duration                                   0\n",
      "Name: 342, dtype: object, time             2019-10-07 14:49:32.908000+08:00\n",
      "thermal_cozie                                  10\n",
      "user_id                                   cresh05\n",
      "Space_id                                       45\n",
      "room                       BUILDING_MATERIALS_LAB\n",
      "time_duration                                   0\n",
      "Name: 348, dtype: object], [time             2019-10-08 13:26:40.466000+08:00\n",
      "thermal_cozie                                  10\n",
      "user_id                                   cresh05\n",
      "Space_id                                       45\n",
      "room                                     BUDS_LAB\n",
      "time_duration                                   0\n",
      "Name: 560, dtype: object, time             2019-10-08 13:28:58.828000+08:00\n",
      "thermal_cozie                                  10\n",
      "user_id                                   cresh05\n",
      "Space_id                                       45\n",
      "room                                     BUDS_LAB\n",
      "time_duration                                   0\n",
      "Name: 562, dtype: object, time             2019-10-08 13:31:21.608000+08:00\n",
      "thermal_cozie                                  10\n",
      "user_id                                   cresh05\n",
      "Space_id                                      NaN\n",
      "room                                          NaN\n",
      "time_duration                                   0\n",
      "Name: 564, dtype: object, time             2019-10-08 13:44:46.144000+08:00\n",
      "thermal_cozie                                  10\n",
      "user_id                                   cresh05\n",
      "Space_id                                      NaN\n",
      "room                                          NaN\n",
      "time_duration                                   0\n",
      "Name: 568, dtype: object], [time             2019-10-08 18:10:53.719000+08:00\n",
      "thermal_cozie                                  11\n",
      "user_id                                   cresh05\n",
      "Space_id                                       45\n",
      "room                                     BUDS_LAB\n",
      "time_duration                                   0\n",
      "Name: 672, dtype: object, time             2019-10-08 18:15:37.170000+08:00\n",
      "thermal_cozie                                  11\n",
      "user_id                                   cresh05\n",
      "Space_id                                      NaN\n",
      "room                                          NaN\n",
      "time_duration                                   0\n",
      "Name: 673, dtype: object, time             2019-10-08 18:40:39.052000+08:00\n",
      "thermal_cozie                                  10\n",
      "user_id                                   cresh05\n",
      "Space_id                                       45\n",
      "room                       BUILDING_MATERIALS_LAB\n",
      "time_duration                                   0\n",
      "Name: 678, dtype: object, time             2019-10-08 18:45:32.766000+08:00\n",
      "thermal_cozie                                  10\n",
      "user_id                                   cresh05\n",
      "Space_id                                       20\n",
      "room                                IRC_LIBRARY_1\n",
      "time_duration                                   0\n",
      "Name: 680, dtype: object, time             2019-10-08 19:07:29.315000+08:00\n",
      "thermal_cozie                                  10\n",
      "user_id                                   cresh05\n",
      "Space_id                                       20\n",
      "room                                IRC_LIBRARY_1\n",
      "time_duration                                   0\n",
      "Name: 684, dtype: object, time             2019-10-08 19:15:06.584000+08:00\n",
      "thermal_cozie                                  10\n",
      "user_id                                   cresh05\n",
      "Space_id                                        0\n",
      "room                      OPEN_EXHIBITION_SPACE_2\n",
      "time_duration                                   0\n",
      "Name: 685, dtype: object, time             2019-10-08 19:16:08.008000+08:00\n",
      "thermal_cozie                                  10\n",
      "user_id                                   cresh05\n",
      "Space_id                                        0\n",
      "room                      OPEN_EXHIBITION_SPACE_2\n",
      "time_duration                                   0\n",
      "Name: 686, dtype: object], [time             2019-10-08 20:19:04.838000+08:00\n",
      "thermal_cozie                                  10\n",
      "user_id                                   cresh05\n",
      "Space_id                                      NaN\n",
      "room                                          NaN\n",
      "time_duration                                   0\n",
      "Name: 701, dtype: object, time             2019-10-08 20:40:12.331000+08:00\n",
      "thermal_cozie                                  10\n",
      "user_id                                   cresh05\n",
      "Space_id                                      NaN\n",
      "room                                          NaN\n",
      "time_duration                                   0\n",
      "Name: 708, dtype: object, time             2019-10-08 21:01:22.177000+08:00\n",
      "thermal_cozie                                  10\n",
      "user_id                                   cresh05\n",
      "Space_id                                      NaN\n",
      "room                                          NaN\n",
      "time_duration                                   0\n",
      "Name: 714, dtype: object, time             2019-10-08 21:07:43.768000+08:00\n",
      "thermal_cozie                                  10\n",
      "user_id                                   cresh05\n",
      "Space_id                                      NaN\n",
      "room                                          NaN\n",
      "time_duration                                   0\n",
      "Name: 716, dtype: object, time             2019-10-08 21:10:18.138000+08:00\n",
      "thermal_cozie                                  10\n",
      "user_id                                   cresh05\n",
      "Space_id                                      NaN\n",
      "room                                          NaN\n",
      "time_duration                                   0\n",
      "Name: 717, dtype: object, time             2019-10-08 21:15:53.992000+08:00\n",
      "thermal_cozie                                  10\n",
      "user_id                                   cresh05\n",
      "Space_id                                      NaN\n",
      "room                                          NaN\n",
      "time_duration                                   0\n",
      "Name: 718, dtype: object, time             2019-10-08 21:35:02.964000+08:00\n",
      "thermal_cozie                                  10\n",
      "user_id                                   cresh05\n",
      "Space_id                                      NaN\n",
      "room                                          NaN\n",
      "time_duration                                   0\n",
      "Name: 720, dtype: object], [time             2019-10-08 22:05:13.140000+08:00\n",
      "thermal_cozie                                  10\n",
      "user_id                                   cresh05\n",
      "Space_id                                      NaN\n",
      "room                                          NaN\n",
      "time_duration                                   0\n",
      "Name: 725, dtype: object, time             2019-10-08 22:27:35.171000+08:00\n",
      "thermal_cozie                                  10\n",
      "user_id                                   cresh05\n",
      "Space_id                                      NaN\n",
      "room                                          NaN\n",
      "time_duration                                   0\n",
      "Name: 727, dtype: object, time             2019-10-08 22:36:32.934000+08:00\n",
      "thermal_cozie                                  10\n",
      "user_id                                   cresh05\n",
      "Space_id                                      NaN\n",
      "room                                          NaN\n",
      "time_duration                                   0\n",
      "Name: 728, dtype: object, time             2019-10-08 22:48:36.571000+08:00\n",
      "thermal_cozie                                  10\n",
      "user_id                                   cresh05\n",
      "Space_id                                      NaN\n",
      "room                                          NaN\n",
      "time_duration                                   0\n",
      "Name: 729, dtype: object, time             2019-10-08 23:01:44.104000+08:00\n",
      "thermal_cozie                                  10\n",
      "user_id                                   cresh05\n",
      "Space_id                                      NaN\n",
      "room                                          NaN\n",
      "time_duration                                   0\n",
      "Name: 731, dtype: object, time             2019-10-08 23:18:37.916000+08:00\n",
      "thermal_cozie                                  10\n",
      "user_id                                   cresh05\n",
      "Space_id                                      NaN\n",
      "room                                          NaN\n",
      "time_duration                                   0\n",
      "Name: 733, dtype: object, time             2019-10-08 23:32:22.568000+08:00\n",
      "thermal_cozie                                  10\n",
      "user_id                                   cresh05\n",
      "Space_id                                      NaN\n",
      "room                                          NaN\n",
      "time_duration                                   0\n",
      "Name: 735, dtype: object, time             2019-10-08 23:48:32.762000+08:00\n",
      "thermal_cozie                                  10\n",
      "user_id                                   cresh05\n",
      "Space_id                                      NaN\n",
      "room                                          NaN\n",
      "time_duration                                   0\n",
      "Name: 738, dtype: object, time             2019-10-08 23:55:13.447000+08:00\n",
      "thermal_cozie                                  10\n",
      "user_id                                   cresh05\n",
      "Space_id                                      NaN\n",
      "room                                          NaN\n",
      "time_duration                                   0\n",
      "Name: 739, dtype: object], [time             2019-10-09 07:10:20.783000+08:00\n",
      "thermal_cozie                                  10\n",
      "user_id                                   cresh05\n",
      "Space_id                                      NaN\n",
      "room                                          NaN\n",
      "time_duration                                   0\n",
      "Name: 749, dtype: object, time             2019-10-09 07:32:41.508000+08:00\n",
      "thermal_cozie                                  10\n",
      "user_id                                   cresh05\n",
      "Space_id                                      NaN\n",
      "room                                          NaN\n",
      "time_duration                                   0\n",
      "Name: 751, dtype: object, time             2019-10-09 07:35:37.924000+08:00\n",
      "thermal_cozie                                  10\n",
      "user_id                                   cresh05\n",
      "Space_id                                      NaN\n",
      "room                                          NaN\n",
      "time_duration                                   0\n",
      "Name: 753, dtype: object, time             2019-10-09 07:47:54.148000+08:00\n",
      "thermal_cozie                                  10\n",
      "user_id                                   cresh05\n",
      "Space_id                                      NaN\n",
      "room                                          NaN\n",
      "time_duration                                   0\n",
      "Name: 755, dtype: object, time             2019-10-09 08:02:08.100000+08:00\n",
      "thermal_cozie                                  10\n",
      "user_id                                   cresh05\n",
      "Space_id                                      NaN\n",
      "room                                          NaN\n",
      "time_duration                                   0\n",
      "Name: 759, dtype: object, time             2019-10-09 08:30:58.821000+08:00\n",
      "thermal_cozie                                  10\n",
      "user_id                                   cresh05\n",
      "Space_id                                      NaN\n",
      "room                                          NaN\n",
      "time_duration                                   0\n",
      "Name: 764, dtype: object, time             2019-10-09 08:47:19.324000+08:00\n",
      "thermal_cozie                                  10\n",
      "user_id                                   cresh05\n",
      "Space_id                                      NaN\n",
      "room                                          NaN\n",
      "time_duration                                   0\n",
      "Name: 769, dtype: object, time             2019-10-09 09:05:23.950000+08:00\n",
      "thermal_cozie                                  10\n",
      "user_id                                   cresh05\n",
      "Space_id                                      NaN\n",
      "room                                          NaN\n",
      "time_duration                                   0\n",
      "Name: 772, dtype: object, time             2019-10-09 09:11:57.628000+08:00\n",
      "thermal_cozie                                  10\n",
      "user_id                                   cresh05\n",
      "Space_id                                      NaN\n",
      "room                                          NaN\n",
      "time_duration                                   0\n",
      "Name: 774, dtype: object, time             2019-10-09 09:31:14.647000+08:00\n",
      "thermal_cozie                                  10\n",
      "user_id                                   cresh05\n",
      "Space_id                                      NaN\n",
      "room                                          NaN\n",
      "time_duration                                   0\n",
      "Name: 782, dtype: object, time             2019-10-09 10:01:00.765000+08:00\n",
      "thermal_cozie                                  10\n",
      "user_id                                   cresh05\n",
      "Space_id                                      NaN\n",
      "room                                          NaN\n",
      "time_duration                                   0\n",
      "Name: 789, dtype: object, time             2019-10-09 10:15:59.632000+08:00\n",
      "thermal_cozie                                  10\n",
      "user_id                                   cresh05\n",
      "Space_id                                      NaN\n",
      "room                                          NaN\n",
      "time_duration                                   0\n",
      "Name: 793, dtype: object, time             2019-10-09 10:19:46.489000+08:00\n",
      "thermal_cozie                                  10\n",
      "user_id                                   cresh05\n",
      "Space_id                                      NaN\n",
      "room                                          NaN\n",
      "time_duration                                   0\n",
      "Name: 797, dtype: object, time             2019-10-09 10:31:35.480000+08:00\n",
      "thermal_cozie                                  10\n",
      "user_id                                   cresh05\n",
      "Space_id                                      NaN\n",
      "room                                          NaN\n",
      "time_duration                                   0\n",
      "Name: 801, dtype: object], [time             2019-10-09 11:06:04.372000+08:00\n",
      "thermal_cozie                                  10\n",
      "user_id                                   cresh05\n",
      "Space_id                                       -1\n",
      "room                                     CORRIDOR\n",
      "time_duration                                   0\n",
      "Name: 813, dtype: object, time             2019-10-09 11:08:53.120000+08:00\n",
      "thermal_cozie                                  11\n",
      "user_id                                   cresh05\n",
      "Space_id                                        0\n",
      "room                      OPEN_EXHIBITION_SPACE_2\n",
      "time_duration                                   0\n",
      "Name: 815, dtype: object, time             2019-10-09 11:11:59.278000+08:00\n",
      "thermal_cozie                                  11\n",
      "user_id                                   cresh05\n",
      "Space_id                                       20\n",
      "room                                IRC_LIBRARY_1\n",
      "time_duration                                   0\n",
      "Name: 816, dtype: object, time             2019-10-09 11:33:36.484000+08:00\n",
      "thermal_cozie                                  11\n",
      "user_id                                   cresh05\n",
      "Space_id                                       20\n",
      "room                                IRC_LIBRARY_1\n",
      "time_duration                                   0\n",
      "Name: 830, dtype: object, time             2019-10-09 11:47:43.482000+08:00\n",
      "thermal_cozie                                  11\n",
      "user_id                                   cresh05\n",
      "Space_id                                       22\n",
      "room                                IRC_LIBRARY_1\n",
      "time_duration                                   0\n",
      "Name: 836, dtype: object, time             2019-10-09 11:49:06.634000+08:00\n",
      "thermal_cozie                                  11\n",
      "user_id                                   cresh05\n",
      "Space_id                                       22\n",
      "room                                IRC_LIBRARY_1\n",
      "time_duration                                   0\n",
      "Name: 837, dtype: object, time             2019-10-09 12:05:20.407000+08:00\n",
      "thermal_cozie                                  10\n",
      "user_id                                   cresh05\n",
      "Space_id                                       20\n",
      "room                                IRC_LIBRARY_1\n",
      "time_duration                                   0\n",
      "Name: 841, dtype: object, time             2019-10-09 12:05:28.770000+08:00\n",
      "thermal_cozie                                  11\n",
      "user_id                                   cresh05\n",
      "Space_id                                       20\n",
      "room                                IRC_LIBRARY_1\n",
      "time_duration                                   0\n",
      "Name: 842, dtype: object, time             2019-10-09 12:13:42.489000+08:00\n",
      "thermal_cozie                                  11\n",
      "user_id                                   cresh05\n",
      "Space_id                                       20\n",
      "room                                IRC_LIBRARY_1\n",
      "time_duration                                   0\n",
      "Name: 845, dtype: object, time             2019-10-09 12:29:03.153000+08:00\n",
      "thermal_cozie                                  11\n",
      "user_id                                   cresh05\n",
      "Space_id                                      NaN\n",
      "room                                          NaN\n",
      "time_duration                                   0\n",
      "Name: 850, dtype: object, time             2019-10-09 12:50:08.020000+08:00\n",
      "thermal_cozie                                  10\n",
      "user_id                                   cresh05\n",
      "Space_id                                      NaN\n",
      "room                                          NaN\n",
      "time_duration                                   0\n",
      "Name: 860, dtype: object, time             2019-10-09 12:50:14.436000+08:00\n",
      "thermal_cozie                                  11\n",
      "user_id                                   cresh05\n",
      "Space_id                                      NaN\n",
      "room                                          NaN\n",
      "time_duration                                   0\n",
      "Name: 861, dtype: object, time             2019-10-09 13:08:07.875000+08:00\n",
      "thermal_cozie                                  11\n",
      "user_id                                   cresh05\n",
      "Space_id                                      NaN\n",
      "room                                          NaN\n",
      "time_duration                                   0\n",
      "Name: 868, dtype: object, time             2019-10-09 13:11:59.112000+08:00\n",
      "thermal_cozie                                  11\n",
      "user_id                                   cresh05\n",
      "Space_id                                      NaN\n",
      "room                                          NaN\n",
      "time_duration                                   0\n",
      "Name: 869, dtype: object, time             2019-10-09 13:37:00.571000+08:00\n",
      "thermal_cozie                                  11\n",
      "user_id                                   cresh05\n",
      "Space_id                                       22\n",
      "room                                IRC_LIBRARY_1\n",
      "time_duration                                   0\n",
      "Name: 884, dtype: object, time             2019-10-09 13:50:08.282000+08:00\n",
      "thermal_cozie                                  11\n",
      "user_id                                   cresh05\n",
      "Space_id                                      NaN\n",
      "room                                          NaN\n",
      "time_duration                                   0\n",
      "Name: 890, dtype: object, time             2019-10-09 14:16:33.885000+08:00\n",
      "thermal_cozie                                  11\n",
      "user_id                                   cresh05\n",
      "Space_id                                       20\n",
      "room                                IRC_LIBRARY_1\n",
      "time_duration                                   0\n",
      "Name: 901, dtype: object, time             2019-10-09 14:20:41.960000+08:00\n",
      "thermal_cozie                                  11\n",
      "user_id                                   cresh05\n",
      "Space_id                                      NaN\n",
      "room                                          NaN\n",
      "time_duration                                   0\n",
      "Name: 903, dtype: object, time             2019-10-09 14:35:35.384000+08:00\n",
      "thermal_cozie                                  10\n",
      "user_id                                   cresh05\n",
      "Space_id                                      NaN\n",
      "room                                          NaN\n",
      "time_duration                                   0\n",
      "Name: 911, dtype: object, time             2019-10-09 14:55:39.236000+08:00\n",
      "thermal_cozie                                  11\n",
      "user_id                                   cresh05\n",
      "Space_id                                      NaN\n",
      "room                                          NaN\n",
      "time_duration                                   0\n",
      "Name: 920, dtype: object, time             2019-10-09 15:12:00.140000+08:00\n",
      "thermal_cozie                                  11\n",
      "user_id                                   cresh05\n",
      "Space_id                                      NaN\n",
      "room                                          NaN\n",
      "time_duration                                   0\n",
      "Name: 927, dtype: object, time             2019-10-09 15:23:35.187000+08:00\n",
      "thermal_cozie                                  10\n",
      "user_id                                   cresh05\n",
      "Space_id                                      NaN\n",
      "room                                          NaN\n",
      "time_duration                                   0\n",
      "Name: 934, dtype: object, time             2019-10-09 15:38:38.030000+08:00\n",
      "thermal_cozie                                  10\n",
      "user_id                                   cresh05\n",
      "Space_id                                      NaN\n",
      "room                                          NaN\n",
      "time_duration                                   0\n",
      "Name: 944, dtype: object, time             2019-10-09 15:52:08.263000+08:00\n",
      "thermal_cozie                                  11\n",
      "user_id                                   cresh05\n",
      "Space_id                                      NaN\n",
      "room                                          NaN\n",
      "time_duration                                   0\n",
      "Name: 950, dtype: object, time             2019-10-09 16:17:54.100000+08:00\n",
      "thermal_cozie                                  10\n",
      "user_id                                   cresh05\n",
      "Space_id                                      NaN\n",
      "room                                          NaN\n",
      "time_duration                                   0\n",
      "Name: 961, dtype: object], [time             2019-10-09 20:53:39.293000+08:00\n",
      "thermal_cozie                                  10\n",
      "user_id                                   cresh05\n",
      "Space_id                                      NaN\n",
      "room                                          NaN\n",
      "time_duration                                   0\n",
      "Name: 1037, dtype: object, time             2019-10-09 21:13:32.164000+08:00\n",
      "thermal_cozie                                  10\n",
      "user_id                                   cresh05\n",
      "Space_id                                      NaN\n",
      "room                                          NaN\n",
      "time_duration                                   0\n",
      "Name: 1043, dtype: object], [time             2019-10-10 10:40:50.915000+08:00\n",
      "thermal_cozie                                  10\n",
      "user_id                                   cresh05\n",
      "Space_id                                       20\n",
      "room                                IRC_LIBRARY_1\n",
      "time_duration                                   0\n",
      "Name: 1066, dtype: object, time             2019-10-10 11:06:07.832000+08:00\n",
      "thermal_cozie                                  10\n",
      "user_id                                   cresh05\n",
      "Space_id                                      NaN\n",
      "room                                          NaN\n",
      "time_duration                                   0\n",
      "Name: 1076, dtype: object], [time             2019-10-10 11:38:00.698000+08:00\n",
      "thermal_cozie                                  10\n",
      "user_id                                   cresh05\n",
      "Space_id                                       20\n",
      "room                                IRC_LIBRARY_1\n",
      "time_duration                                   0\n",
      "Name: 1083, dtype: object, time             2019-10-10 11:38:29.377000+08:00\n",
      "thermal_cozie                                  10\n",
      "user_id                                   cresh05\n",
      "Space_id                                       20\n",
      "room                                IRC_LIBRARY_1\n",
      "time_duration                                   0\n",
      "Name: 1084, dtype: object, time             2019-10-10 12:01:56.536000+08:00\n",
      "thermal_cozie                                  10\n",
      "user_id                                   cresh05\n",
      "Space_id                                       20\n",
      "room                                IRC_LIBRARY_1\n",
      "time_duration                                   0\n",
      "Name: 1091, dtype: object], [time             2019-10-10 12:39:55.510000+08:00\n",
      "thermal_cozie                                  10\n",
      "user_id                                   cresh05\n",
      "Space_id                                       36\n",
      "room                                          NaN\n",
      "time_duration                                   0\n",
      "Name: 1098, dtype: object, time             2019-10-10 12:52:43.628000+08:00\n",
      "thermal_cozie                                  11\n",
      "user_id                                   cresh05\n",
      "Space_id                                      NaN\n",
      "room                                          NaN\n",
      "time_duration                                   0\n",
      "Name: 1100, dtype: object, time             2019-10-10 13:10:52.546000+08:00\n",
      "thermal_cozie                                  11\n",
      "user_id                                   cresh05\n",
      "Space_id                                      NaN\n",
      "room                                          NaN\n",
      "time_duration                                   0\n",
      "Name: 1103, dtype: object, time             2019-10-10 13:11:08.832000+08:00\n",
      "thermal_cozie                                  11\n",
      "user_id                                   cresh05\n",
      "Space_id                                      NaN\n",
      "room                                          NaN\n",
      "time_duration                                   0\n",
      "Name: 1104, dtype: object, time             2019-10-10 13:37:46.632000+08:00\n",
      "thermal_cozie                                  10\n",
      "user_id                                   cresh05\n",
      "Space_id                                       20\n",
      "room                                IRC_LIBRARY_1\n",
      "time_duration                                   0\n",
      "Name: 1113, dtype: object, time             2019-10-10 13:58:11.392000+08:00\n",
      "thermal_cozie                                  10\n",
      "user_id                                   cresh05\n",
      "Space_id                                       20\n",
      "room                                IRC_LIBRARY_1\n",
      "time_duration                                   0\n",
      "Name: 1121, dtype: object, time             2019-10-10 14:12:51.188000+08:00\n",
      "thermal_cozie                                  10\n",
      "user_id                                   cresh05\n",
      "Space_id                                      NaN\n",
      "room                                          NaN\n",
      "time_duration                                   0\n",
      "Name: 1126, dtype: object], [time             2019-10-10 14:44:32.020000+08:00\n",
      "thermal_cozie                                  10\n",
      "user_id                                   cresh05\n",
      "Space_id                                      NaN\n",
      "room                                          NaN\n",
      "time_duration                                   0\n",
      "Name: 1136, dtype: object, time             2019-10-10 14:48:53.528000+08:00\n",
      "thermal_cozie                                  10\n",
      "user_id                                   cresh05\n",
      "Space_id                                      NaN\n",
      "room                                          NaN\n",
      "time_duration                                   0\n",
      "Name: 1138, dtype: object], [time             2019-10-10 15:27:51.630000+08:00\n",
      "thermal_cozie                                  10\n",
      "user_id                                   cresh05\n",
      "Space_id                                       20\n",
      "room                                IRC_LIBRARY_1\n",
      "time_duration                                   0\n",
      "Name: 1152, dtype: object, time             2019-10-10 15:38:40.831000+08:00\n",
      "thermal_cozie                                  10\n",
      "user_id                                   cresh05\n",
      "Space_id                                       -1\n",
      "room                                IRC_LIBRARY_1\n",
      "time_duration                                   0\n",
      "Name: 1155, dtype: object, time             2019-10-10 15:52:11.472000+08:00\n",
      "thermal_cozie                                  10\n",
      "user_id                                   cresh05\n",
      "Space_id                                      NaN\n",
      "room                                          NaN\n",
      "time_duration                                   0\n",
      "Name: 1162, dtype: object], [time             2019-10-10 21:00:46.046000+08:00\n",
      "thermal_cozie                                  10\n",
      "user_id                                   cresh05\n",
      "Space_id                                      NaN\n",
      "room                                          NaN\n",
      "time_duration                                   0\n",
      "Name: 1269, dtype: object, time             2019-10-10 21:08:20.112000+08:00\n",
      "thermal_cozie                                  10\n",
      "user_id                                   cresh05\n",
      "Space_id                                      NaN\n",
      "room                                          NaN\n",
      "time_duration                                   0\n",
      "Name: 1271, dtype: object, time             2019-10-10 21:26:43.823000+08:00\n",
      "thermal_cozie                                  11\n",
      "user_id                                   cresh05\n",
      "Space_id                                      NaN\n",
      "room                                          NaN\n",
      "time_duration                                   0\n",
      "Name: 1276, dtype: object, time             2019-10-10 21:48:56.553000+08:00\n",
      "thermal_cozie                                  10\n",
      "user_id                                   cresh05\n",
      "Space_id                                      NaN\n",
      "room                                          NaN\n",
      "time_duration                                   0\n",
      "Name: 1279, dtype: object], [time             2019-10-11 07:56:11.289000+08:00\n",
      "thermal_cozie                                  10\n",
      "user_id                                   cresh05\n",
      "Space_id                                      NaN\n",
      "room                                          NaN\n",
      "time_duration                                   0\n",
      "Name: 1289, dtype: object, time             2019-10-11 08:22:34.641000+08:00\n",
      "thermal_cozie                                  10\n",
      "user_id                                   cresh05\n",
      "Space_id                                      NaN\n",
      "room                                          NaN\n",
      "time_duration                                   0\n",
      "Name: 1290, dtype: object], [time             2019-10-11 08:57:33.540000+08:00\n",
      "thermal_cozie                                   9\n",
      "user_id                                   cresh05\n",
      "Space_id                                      NaN\n",
      "room                                          NaN\n",
      "time_duration                                   0\n",
      "Name: 1292, dtype: object, time             2019-10-11 09:08:11.170000+08:00\n",
      "thermal_cozie                                   9\n",
      "user_id                                   cresh05\n",
      "Space_id                                      NaN\n",
      "room                                          NaN\n",
      "time_duration                                   0\n",
      "Name: 1297, dtype: object, time             2019-10-11 09:31:36.130000+08:00\n",
      "thermal_cozie                                  10\n",
      "user_id                                   cresh05\n",
      "Space_id                                       20\n",
      "room                                IRC_LIBRARY_1\n",
      "time_duration                                   0\n",
      "Name: 1301, dtype: object, time             2019-10-11 09:53:01.948000+08:00\n",
      "thermal_cozie                                  10\n",
      "user_id                                   cresh05\n",
      "Space_id                                       20\n",
      "room                                IRC_LIBRARY_1\n",
      "time_duration                                   0\n",
      "Name: 1305, dtype: object, time             2019-10-11 09:55:19.694000+08:00\n",
      "thermal_cozie                                  10\n",
      "user_id                                   cresh05\n",
      "Space_id                                       20\n",
      "room                                IRC_LIBRARY_1\n",
      "time_duration                                   0\n",
      "Name: 1306, dtype: object, time             2019-10-11 10:18:36.499000+08:00\n",
      "thermal_cozie                                  10\n",
      "user_id                                   cresh05\n",
      "Space_id                                       20\n",
      "room                                IRC_LIBRARY_1\n",
      "time_duration                                   0\n",
      "Name: 1313, dtype: object, time             2019-10-11 10:35:54.944000+08:00\n",
      "thermal_cozie                                  10\n",
      "user_id                                   cresh05\n",
      "Space_id                                       20\n",
      "room                                IRC_LIBRARY_1\n",
      "time_duration                                   0\n",
      "Name: 1317, dtype: object, time             2019-10-11 11:05:49.528000+08:00\n",
      "thermal_cozie                                  10\n",
      "user_id                                   cresh05\n",
      "Space_id                                       20\n",
      "room                                IRC_LIBRARY_1\n",
      "time_duration                                   0\n",
      "Name: 1327, dtype: object, time             2019-10-11 11:14:45.544000+08:00\n",
      "thermal_cozie                                  10\n",
      "user_id                                   cresh05\n",
      "Space_id                                       20\n",
      "room                                IRC_LIBRARY_1\n",
      "time_duration                                   0\n",
      "Name: 1330, dtype: object, time             2019-10-11 11:19:35.004000+08:00\n",
      "thermal_cozie                                  10\n",
      "user_id                                   cresh05\n",
      "Space_id                                       20\n",
      "room                                IRC_LIBRARY_1\n",
      "time_duration                                   0\n",
      "Name: 1335, dtype: object, time             2019-10-11 11:43:05.135000+08:00\n",
      "thermal_cozie                                   9\n",
      "user_id                                   cresh05\n",
      "Space_id                                       20\n",
      "room                                IRC_LIBRARY_1\n",
      "time_duration                                   0\n",
      "Name: 1344, dtype: object, time             2019-10-11 11:51:22.969000+08:00\n",
      "thermal_cozie                                   9\n",
      "user_id                                   cresh05\n",
      "Space_id                                       20\n",
      "room                                IRC_LIBRARY_1\n",
      "time_duration                                   0\n",
      "Name: 1347, dtype: object, time             2019-10-11 11:55:47.293000+08:00\n",
      "thermal_cozie                                  10\n",
      "user_id                                   cresh05\n",
      "Space_id                                       45\n",
      "room                                     BUDS_LAB\n",
      "time_duration                                   0\n",
      "Name: 1349, dtype: object, time             2019-10-11 12:18:30.546000+08:00\n",
      "thermal_cozie                                  10\n",
      "user_id                                   cresh05\n",
      "Space_id                                      NaN\n",
      "room                                          NaN\n",
      "time_duration                                   0\n",
      "Name: 1357, dtype: object], [time             2019-10-11 14:57:34.303000+08:00\n",
      "thermal_cozie                                  11\n",
      "user_id                                   cresh05\n",
      "Space_id                                      NaN\n",
      "room                                          NaN\n",
      "time_duration                                   0\n",
      "Name: 1460, dtype: object, time             2019-10-11 15:12:26.102000+08:00\n",
      "thermal_cozie                                  11\n",
      "user_id                                   cresh05\n",
      "Space_id                                       20\n",
      "room                                IRC_LIBRARY_1\n",
      "time_duration                                   0\n",
      "Name: 1469, dtype: object, time             2019-10-11 15:19:32.375000+08:00\n",
      "thermal_cozie                                  11\n",
      "user_id                                   cresh05\n",
      "Space_id                                       20\n",
      "room                                IRC_LIBRARY_1\n",
      "time_duration                                   0\n",
      "Name: 1474, dtype: object, time             2019-10-11 15:40:55.340000+08:00\n",
      "thermal_cozie                                  10\n",
      "user_id                                   cresh05\n",
      "Space_id                                       20\n",
      "room                                IRC_LIBRARY_1\n",
      "time_duration                                   0\n",
      "Name: 1487, dtype: object, time             2019-10-11 15:51:55.012000+08:00\n",
      "thermal_cozie                                  10\n",
      "user_id                                   cresh05\n",
      "Space_id                                       20\n",
      "room                                IRC_LIBRARY_1\n",
      "time_duration                                   0\n",
      "Name: 1495, dtype: object, time             2019-10-11 16:15:14.970000+08:00\n",
      "thermal_cozie                                  10\n",
      "user_id                                   cresh05\n",
      "Space_id                                      NaN\n",
      "room                                          NaN\n",
      "time_duration                                   0\n",
      "Name: 1504, dtype: object, time             2019-10-11 16:22:53.594000+08:00\n",
      "thermal_cozie                                  11\n",
      "user_id                                   cresh05\n",
      "Space_id                                       42\n",
      "room                     EXECUTIVE_SEMINAR_ROOM_A\n",
      "time_duration                                   0\n",
      "Name: 1509, dtype: object, time             2019-10-11 16:26:17.703000+08:00\n",
      "thermal_cozie                                  11\n",
      "user_id                                   cresh05\n",
      "Space_id                                       42\n",
      "room                     EXECUTIVE_SEMINAR_ROOM_A\n",
      "time_duration                                   0\n",
      "Name: 1512, dtype: object, time             2019-10-11 16:45:55.769000+08:00\n",
      "thermal_cozie                                  10\n",
      "user_id                                   cresh05\n",
      "Space_id                                       20\n",
      "room                                IRC_LIBRARY_1\n",
      "time_duration                                   0\n",
      "Name: 1521, dtype: object, time             2019-10-11 16:53:44.335000+08:00\n",
      "thermal_cozie                                  10\n",
      "user_id                                   cresh05\n",
      "Space_id                                       20\n",
      "room                                IRC_LIBRARY_1\n",
      "time_duration                                   0\n",
      "Name: 1523, dtype: object, time             2019-10-11 17:13:45.132000+08:00\n",
      "thermal_cozie                                  10\n",
      "user_id                                   cresh05\n",
      "Space_id                                      NaN\n",
      "room                                          NaN\n",
      "time_duration                                   0\n",
      "Name: 1538, dtype: object, time             2019-10-11 17:19:37.632000+08:00\n",
      "thermal_cozie                                  10\n",
      "user_id                                   cresh05\n",
      "Space_id                                      NaN\n",
      "room                                          NaN\n",
      "time_duration                                   0\n",
      "Name: 1541, dtype: object], [time             2019-10-11 17:50:12.572000+08:00\n",
      "thermal_cozie                                  10\n",
      "user_id                                   cresh05\n",
      "Space_id                                      NaN\n",
      "room                                          NaN\n",
      "time_duration                                   0\n",
      "Name: 1546, dtype: object, time             2019-10-11 18:05:29.671000+08:00\n",
      "thermal_cozie                                  10\n",
      "user_id                                   cresh05\n",
      "Space_id                                       20\n",
      "room                                IRC_LIBRARY_1\n",
      "time_duration                                   0\n",
      "Name: 1550, dtype: object], [time             2019-10-11 19:01:38.130000+08:00\n",
      "thermal_cozie                                  10\n",
      "user_id                                   cresh05\n",
      "Space_id                                       20\n",
      "room                                IRC_LIBRARY_1\n",
      "time_duration                                   0\n",
      "Name: 1562, dtype: object, time             2019-10-11 19:14:02.790000+08:00\n",
      "thermal_cozie                                  10\n",
      "user_id                                   cresh05\n",
      "Space_id                                        0\n",
      "room                      OPEN_EXHIBITION_SPACE_2\n",
      "time_duration                                   0\n",
      "Name: 1564, dtype: object], [time             2019-10-11 23:24:31.115000+08:00\n",
      "thermal_cozie                                  10\n",
      "user_id                                   cresh05\n",
      "Space_id                                      NaN\n",
      "room                                          NaN\n",
      "time_duration                                   0\n",
      "Name: 1585, dtype: object, time             2019-10-11 23:52:56.023000+08:00\n",
      "thermal_cozie                                  10\n",
      "user_id                                   cresh05\n",
      "Space_id                                      NaN\n",
      "room                                          NaN\n",
      "time_duration                                   0\n",
      "Name: 1587, dtype: object, time             2019-10-12 00:11:25.144000+08:00\n",
      "thermal_cozie                                  10\n",
      "user_id                                   cresh05\n",
      "Space_id                                      NaN\n",
      "room                                          NaN\n",
      "time_duration                                   0\n",
      "Name: 1589, dtype: object], [time             2019-10-13 12:15:06.428000+08:00\n",
      "thermal_cozie                                  11\n",
      "user_id                                   cresh05\n",
      "Space_id                                      NaN\n",
      "room                                          NaN\n",
      "time_duration                                   0\n",
      "Name: 1623, dtype: object, time             2019-10-13 12:42:13.851000+08:00\n",
      "thermal_cozie                                  10\n",
      "user_id                                   cresh05\n",
      "Space_id                                      NaN\n",
      "room                                          NaN\n",
      "time_duration                                   0\n",
      "Name: 1624, dtype: object, time             2019-10-13 13:10:42.125000+08:00\n",
      "thermal_cozie                                  10\n",
      "user_id                                   cresh05\n",
      "Space_id                                      NaN\n",
      "room                                          NaN\n",
      "time_duration                                   0\n",
      "Name: 1627, dtype: object], [time             2019-10-13 17:06:05.489000+08:00\n",
      "thermal_cozie                                  11\n",
      "user_id                                   cresh05\n",
      "Space_id                                      NaN\n",
      "room                                          NaN\n",
      "time_duration                                   0\n",
      "Name: 1648, dtype: object, time             2019-10-13 17:18:37.868000+08:00\n",
      "thermal_cozie                                  10\n",
      "user_id                                   cresh05\n",
      "Space_id                                      NaN\n",
      "room                                          NaN\n",
      "time_duration                                   0\n",
      "Name: 1655, dtype: object]]\n"
     ]
    }
   ],
   "source": [
    "# Split the cluster up according to their timing\n",
    "for i in range(len(all_clusters)):\n",
    "    if (len(all_clusters[i]) > 1):\n",
    "        # If have more than 1 datapoint\n",
    "        tempList = all_clusters[i] # Store into tempList for splitting\n",
    "        tempList2 = [] # Store all relevant datapoints in a cluster together before pushing into flitered_cluster\n",
    "        nextDataPoint = []\n",
    "         # Check if current datapoint is part of the cluster and room is not null\n",
    "        for j in range(len(tempList)):\n",
    "            space = tempList[j].Space_id\n",
    "\n",
    "            if (j == 0):\n",
    "                tempList2.append(tempList[j])\n",
    "                last_time = tempList[j].time\n",
    "\n",
    "            elif (tempList[j].time < last_time + pd.Timedelta(minutes=30)):\n",
    "                tempList2.append(tempList[j])\n",
    "                last_time = tempList[j].time\n",
    "\n",
    "        filtered_cluster_before.append(tempList2)\n",
    "print(filtered_cluster_before)    "
   ]
  },
  {
   "cell_type": "markdown",
   "metadata": {},
   "source": [
    "# Keep clusters with more than a certain amount of data points and remove NaN"
   ]
  },
  {
   "cell_type": "code",
   "execution_count": 9,
   "metadata": {},
   "outputs": [
    {
     "name": "stdout",
     "output_type": "stream",
     "text": [
      "[[time             2019-10-07 14:11:07.867000+08:00\n",
      "thermal_cozie                                  10\n",
      "user_id                                   cresh05\n",
      "Space_id                                       45\n",
      "room                       BUILDING_MATERIALS_LAB\n",
      "time_duration                                   0\n",
      "Name: 334, dtype: object, time             2019-10-07 14:38:32.320000+08:00\n",
      "thermal_cozie                                  10\n",
      "user_id                                   cresh05\n",
      "Space_id                                       45\n",
      "room                       BUILDING_MATERIALS_LAB\n",
      "time_duration                                   0\n",
      "Name: 342, dtype: object, time             2019-10-07 14:49:32.908000+08:00\n",
      "thermal_cozie                                  10\n",
      "user_id                                   cresh05\n",
      "Space_id                                       45\n",
      "room                       BUILDING_MATERIALS_LAB\n",
      "time_duration                                   0\n",
      "Name: 348, dtype: object], [time             2019-10-08 13:26:40.466000+08:00\n",
      "thermal_cozie                                  10\n",
      "user_id                                   cresh05\n",
      "Space_id                                       45\n",
      "room                                     BUDS_LAB\n",
      "time_duration                                   0\n",
      "Name: 560, dtype: object, time             2019-10-08 13:28:58.828000+08:00\n",
      "thermal_cozie                                  10\n",
      "user_id                                   cresh05\n",
      "Space_id                                       45\n",
      "room                                     BUDS_LAB\n",
      "time_duration                                   0\n",
      "Name: 562, dtype: object], [time             2019-10-08 18:10:53.719000+08:00\n",
      "thermal_cozie                                  11\n",
      "user_id                                   cresh05\n",
      "Space_id                                       45\n",
      "room                                     BUDS_LAB\n",
      "time_duration                                   0\n",
      "Name: 672, dtype: object, time             2019-10-08 18:40:39.052000+08:00\n",
      "thermal_cozie                                  10\n",
      "user_id                                   cresh05\n",
      "Space_id                                       45\n",
      "room                       BUILDING_MATERIALS_LAB\n",
      "time_duration                                   0\n",
      "Name: 678, dtype: object, time             2019-10-08 18:45:32.766000+08:00\n",
      "thermal_cozie                                  10\n",
      "user_id                                   cresh05\n",
      "Space_id                                       20\n",
      "room                                IRC_LIBRARY_1\n",
      "time_duration                                   0\n",
      "Name: 680, dtype: object, time             2019-10-08 19:07:29.315000+08:00\n",
      "thermal_cozie                                  10\n",
      "user_id                                   cresh05\n",
      "Space_id                                       20\n",
      "room                                IRC_LIBRARY_1\n",
      "time_duration                                   0\n",
      "Name: 684, dtype: object, time             2019-10-08 19:15:06.584000+08:00\n",
      "thermal_cozie                                  10\n",
      "user_id                                   cresh05\n",
      "Space_id                                        0\n",
      "room                      OPEN_EXHIBITION_SPACE_2\n",
      "time_duration                                   0\n",
      "Name: 685, dtype: object, time             2019-10-08 19:16:08.008000+08:00\n",
      "thermal_cozie                                  10\n",
      "user_id                                   cresh05\n",
      "Space_id                                        0\n",
      "room                      OPEN_EXHIBITION_SPACE_2\n",
      "time_duration                                   0\n",
      "Name: 686, dtype: object], [], [], [], [time             2019-10-09 11:06:04.372000+08:00\n",
      "thermal_cozie                                  10\n",
      "user_id                                   cresh05\n",
      "Space_id                                       -1\n",
      "room                                     CORRIDOR\n",
      "time_duration                                   0\n",
      "Name: 813, dtype: object, time             2019-10-09 11:08:53.120000+08:00\n",
      "thermal_cozie                                  11\n",
      "user_id                                   cresh05\n",
      "Space_id                                        0\n",
      "room                      OPEN_EXHIBITION_SPACE_2\n",
      "time_duration                                   0\n",
      "Name: 815, dtype: object, time             2019-10-09 11:11:59.278000+08:00\n",
      "thermal_cozie                                  11\n",
      "user_id                                   cresh05\n",
      "Space_id                                       20\n",
      "room                                IRC_LIBRARY_1\n",
      "time_duration                                   0\n",
      "Name: 816, dtype: object, time             2019-10-09 11:33:36.484000+08:00\n",
      "thermal_cozie                                  11\n",
      "user_id                                   cresh05\n",
      "Space_id                                       20\n",
      "room                                IRC_LIBRARY_1\n",
      "time_duration                                   0\n",
      "Name: 830, dtype: object, time             2019-10-09 11:47:43.482000+08:00\n",
      "thermal_cozie                                  11\n",
      "user_id                                   cresh05\n",
      "Space_id                                       22\n",
      "room                                IRC_LIBRARY_1\n",
      "time_duration                                   0\n",
      "Name: 836, dtype: object, time             2019-10-09 11:49:06.634000+08:00\n",
      "thermal_cozie                                  11\n",
      "user_id                                   cresh05\n",
      "Space_id                                       22\n",
      "room                                IRC_LIBRARY_1\n",
      "time_duration                                   0\n",
      "Name: 837, dtype: object, time             2019-10-09 12:05:20.407000+08:00\n",
      "thermal_cozie                                  10\n",
      "user_id                                   cresh05\n",
      "Space_id                                       20\n",
      "room                                IRC_LIBRARY_1\n",
      "time_duration                                   0\n",
      "Name: 841, dtype: object, time             2019-10-09 12:05:28.770000+08:00\n",
      "thermal_cozie                                  11\n",
      "user_id                                   cresh05\n",
      "Space_id                                       20\n",
      "room                                IRC_LIBRARY_1\n",
      "time_duration                                   0\n",
      "Name: 842, dtype: object, time             2019-10-09 12:13:42.489000+08:00\n",
      "thermal_cozie                                  11\n",
      "user_id                                   cresh05\n",
      "Space_id                                       20\n",
      "room                                IRC_LIBRARY_1\n",
      "time_duration                                   0\n",
      "Name: 845, dtype: object], [], [time             2019-10-10 10:40:50.915000+08:00\n",
      "thermal_cozie                                  10\n",
      "user_id                                   cresh05\n",
      "Space_id                                       20\n",
      "room                                IRC_LIBRARY_1\n",
      "time_duration                                   0\n",
      "Name: 1066, dtype: object], [time             2019-10-10 11:38:00.698000+08:00\n",
      "thermal_cozie                                  10\n",
      "user_id                                   cresh05\n",
      "Space_id                                       20\n",
      "room                                IRC_LIBRARY_1\n",
      "time_duration                                   0\n",
      "Name: 1083, dtype: object, time             2019-10-10 11:38:29.377000+08:00\n",
      "thermal_cozie                                  10\n",
      "user_id                                   cresh05\n",
      "Space_id                                       20\n",
      "room                                IRC_LIBRARY_1\n",
      "time_duration                                   0\n",
      "Name: 1084, dtype: object, time             2019-10-10 12:01:56.536000+08:00\n",
      "thermal_cozie                                  10\n",
      "user_id                                   cresh05\n",
      "Space_id                                       20\n",
      "room                                IRC_LIBRARY_1\n",
      "time_duration                                   0\n",
      "Name: 1091, dtype: object], [time             2019-10-10 12:39:55.510000+08:00\n",
      "thermal_cozie                                  10\n",
      "user_id                                   cresh05\n",
      "Space_id                                       36\n",
      "room                                          NaN\n",
      "time_duration                                   0\n",
      "Name: 1098, dtype: object], [], [time             2019-10-10 15:27:51.630000+08:00\n",
      "thermal_cozie                                  10\n",
      "user_id                                   cresh05\n",
      "Space_id                                       20\n",
      "room                                IRC_LIBRARY_1\n",
      "time_duration                                   0\n",
      "Name: 1152, dtype: object, time             2019-10-10 15:38:40.831000+08:00\n",
      "thermal_cozie                                  10\n",
      "user_id                                   cresh05\n",
      "Space_id                                       -1\n",
      "room                                IRC_LIBRARY_1\n",
      "time_duration                                   0\n",
      "Name: 1155, dtype: object], [], [], [], [], [], [time             2019-10-11 19:01:38.130000+08:00\n",
      "thermal_cozie                                  10\n",
      "user_id                                   cresh05\n",
      "Space_id                                       20\n",
      "room                                IRC_LIBRARY_1\n",
      "time_duration                                   0\n",
      "Name: 1562, dtype: object, time             2019-10-11 19:14:02.790000+08:00\n",
      "thermal_cozie                                  10\n",
      "user_id                                   cresh05\n",
      "Space_id                                        0\n",
      "room                      OPEN_EXHIBITION_SPACE_2\n",
      "time_duration                                   0\n",
      "Name: 1564, dtype: object], [], [], []]\n"
     ]
    }
   ],
   "source": [
    "# Split the cluster up according to their timing\n",
    "for i in range(len(all_clusters)):\n",
    "    if (len(all_clusters[i]) > 1):\n",
    "        # If have more than 1 datapoint\n",
    "        tempList = all_clusters[i] # Store into tempList for splitting\n",
    "        tempList2 = [] # Store all relevant datapoints in a cluster together before pushing into flitered_cluster\n",
    "        nextDataPoint = []\n",
    "         # Check if current datapoint is part of the cluster and room is not null\n",
    "        for j in range(len(tempList)):\n",
    "            space = tempList[j].Space_id\n",
    "            \n",
    "            if(isNaN(space) == False):    \n",
    "                if (j == 0):\n",
    "                    tempList2.append(tempList[j])\n",
    "                    last_time = tempList[j].time\n",
    "\n",
    "                elif (tempList[j].time < last_time + pd.Timedelta(minutes=30)):\n",
    "                    tempList2.append(tempList[j])\n",
    "                    last_time = tempList[j].time\n",
    "\n",
    "        filtered_cluster_after.append(tempList2)\n",
    "print(filtered_cluster_after)   "
   ]
  },
  {
   "cell_type": "markdown",
   "metadata": {},
   "source": [
    "# Show how many datapoints are in each cluster prior to removing"
   ]
  },
  {
   "cell_type": "code",
   "execution_count": 10,
   "metadata": {},
   "outputs": [
    {
     "name": "stdout",
     "output_type": "stream",
     "text": [
      "0:4 \n",
      "1:4 \n",
      "2:7 \n",
      "3:7 \n",
      "4:9 \n",
      "5:14 \n",
      "6:25 \n",
      "7:2 \n",
      "8:2 \n",
      "9:3 \n",
      "10:7 \n",
      "11:2 \n",
      "12:3 \n",
      "13:4 \n",
      "14:2 \n",
      "15:14 \n",
      "16:12 \n",
      "17:2 \n",
      "18:2 \n",
      "19:3 \n",
      "20:3 \n",
      "21:2 \n"
     ]
    }
   ],
   "source": [
    "for i in range(len(filtered_cluster_before)):\n",
    "    print(\"{0}:{1} \".format(i,(len(filtered_cluster_before[i]))))"
   ]
  },
  {
   "cell_type": "markdown",
   "metadata": {},
   "source": [
    "# Add in values to the duration difference column"
   ]
  },
  {
   "cell_type": "code",
   "execution_count": 11,
   "metadata": {},
   "outputs": [],
   "source": [
    "for i in range(len(filtered_cluster_before)):\n",
    "    # First variable have no time difference, thus 0.0s\n",
    "    timeDifferenceList = [0.0]\n",
    "    for j in range(len(filtered_cluster_before[i])):\n",
    "        if (j == 0):\n",
    "            last_time = filtered_cluster_before[i][j].time\n",
    "        else:\n",
    "            timeDiff = filtered_cluster_before[i][j].time - last_time\n",
    "            filtered_cluster_before[i][j].time_duration = (timeDiff.total_seconds()/60)\n",
    "            # Set the last time as the current one\n",
    "            last_time = filtered_cluster_before[i][j].time\n",
    "            \n",
    "for i in range(len(filtered_cluster_after)):\n",
    "    # First variable have no time difference, thus 0.0s\n",
    "    timeDifferenceList = [0.0]\n",
    "    for j in range(len(filtered_cluster_after[i])):\n",
    "        if (j == 0):\n",
    "            last_time = filtered_cluster_after[i][j].time\n",
    "        else:\n",
    "            timeDiff = filtered_cluster_after[i][j].time - last_time\n",
    "            filtered_cluster_after[i][j].time_duration = (timeDiff.total_seconds()/60)\n",
    "            # Set the last time as the current one\n",
    "            last_time = filtered_cluster_after[i][j].time"
   ]
  },
  {
   "cell_type": "markdown",
   "metadata": {},
   "source": [
    "# Plot all graph before removal of NaN"
   ]
  },
  {
   "cell_type": "code",
   "execution_count": 12,
   "metadata": {},
   "outputs": [
    {
     "data": {
      "image/png": "[encoded data removed]",
      "text/plain": [
       "<Figure size 432x288 with 1 Axes>"
      ]
     },
     "metadata": {
      "needs_background": "light"
     },
     "output_type": "display_data"
    }
   ],
   "source": [
    "# Plot all clusters into ONE graph\n",
    "thermal = []\n",
    "duration = []\n",
    "base = 0.0\n",
    "\n",
    "for i in range(len(filtered_cluster_before)):\n",
    "    for j in range(len(filtered_cluster_before[i])):\n",
    "        base += filtered_cluster_before[i][j].time_duration\n",
    "        thermal.append(filtered_cluster_before[i][j].thermal_cozie)\n",
    "        duration.append(base)\n",
    "        \n",
    "    plt.plot(duration,thermal)\n",
    "    plt.xlabel(\"Duration\")\n",
    "    plt.ylabel(\"Thermal Cozie\")\n",
    "    plt.ylim(9,11)\n",
    "    \n",
    "    # Re-init to remove previous cluster data\n",
    "    base = 0.0\n",
    "    thermal = []\n",
    "    duration = []"
   ]
  },
  {
   "cell_type": "markdown",
   "metadata": {},
   "source": [
    "# Plot all graph seperately before removal of NaN"
   ]
  },
  {
   "cell_type": "code",
   "execution_count": 13,
   "metadata": {},
   "outputs": [
    {
     "name": "stderr",
     "output_type": "stream",
     "text": [
      "D:\\Anaconda3\\lib\\site-packages\\ipykernel_launcher.py:12: RuntimeWarning: More than 20 figures have been opened. Figures created through the pyplot interface (`matplotlib.pyplot.figure`) are retained until explicitly closed and may consume too much memory. (To control this warning, see the rcParam `figure.max_open_warning`).\n",
      "  if sys.path[0] == '':\n"
     ]
    },
    {
     "data": {
      "image/png": "[encoded data removed]",
      "text/plain": [
       "<Figure size 432x288 with 1 Axes>"
      ]
     },
     "metadata": {
      "needs_background": "light"
     },
     "output_type": "display_data"
    },
    {
     "data": {
      "image/png": "[encoded data removed]",
      "text/plain": [
       "<Figure size 432x288 with 1 Axes>"
      ]
     },
     "metadata": {
      "needs_background": "light"
     },
     "output_type": "display_data"
    },
    {
     "data": {
      "image/png": "[encoded data removed]",
      "text/plain": [
       "<Figure size 432x288 with 1 Axes>"
      ]
     },
     "metadata": {
      "needs_background": "light"
     },
     "output_type": "display_data"
    },
    {
     "data": {
      "image/png": "[encoded data removed]",
      "text/plain": [
       "<Figure size 432x288 with 1 Axes>"
      ]
     },
     "metadata": {
      "needs_background": "light"
     },
     "output_type": "display_data"
    },
    {
     "data": {
      "image/png": "[encoded data removed]",
      "text/plain": [
       "<Figure size 432x288 with 1 Axes>"
      ]
     },
     "metadata": {
      "needs_background": "light"
     },
     "output_type": "display_data"
    },
    {
     "data": {
      "image/png": "[encoded data removed]",
      "text/plain": [
       "<Figure size 432x288 with 1 Axes>"
      ]
     },
     "metadata": {
      "needs_background": "light"
     },
     "output_type": "display_data"
    },
    {
     "data": {
      "image/png": "[encoded data removed]",
      "text/plain": [
       "<Figure size 432x288 with 1 Axes>"
      ]
     },
     "metadata": {
      "needs_background": "light"
     },
     "output_type": "display_data"
    },
    {
     "data": {
      "image/png": "[encoded data removed]",
      "text/plain": [
       "<Figure size 432x288 with 1 Axes>"
      ]
     },
     "metadata": {
      "needs_background": "light"
     },
     "output_type": "display_data"
    },
    {
     "data": {
      "image/png": "[encoded data removed]",
      "text/plain": [
       "<Figure size 432x288 with 1 Axes>"
      ]
     },
     "metadata": {
      "needs_background": "light"
     },
     "output_type": "display_data"
    },
    {
     "data": {
      "image/png": "[encoded data removed]",
      "text/plain": [
       "<Figure size 432x288 with 1 Axes>"
      ]
     },
     "metadata": {
      "needs_background": "light"
     },
     "output_type": "display_data"
    },
    {
     "data": {
      "image/png": "[encoded data removed]",
      "text/plain": [
       "<Figure size 432x288 with 1 Axes>"
      ]
     },
     "metadata": {
      "needs_background": "light"
     },
     "output_type": "display_data"
    },
    {
     "data": {
      "image/png": "[encoded data removed]",
      "text/plain": [
       "<Figure size 432x288 with 1 Axes>"
      ]
     },
     "metadata": {
      "needs_background": "light"
     },
     "output_type": "display_data"
    },
    {
     "data": {
      "image/png": "[encoded data removed]",
      "text/plain": [
       "<Figure size 432x288 with 1 Axes>"
      ]
     },
     "metadata": {
      "needs_background": "light"
     },
     "output_type": "display_data"
    },
    {
     "data": {
      "image/png": "[encoded data removed]",
      "text/plain": [
       "<Figure size 432x288 with 1 Axes>"
      ]
     },
     "metadata": {
      "needs_background": "light"
     },
     "output_type": "display_data"
    },
    {
     "data": {
      "image/png": "[encoded data removed]",
      "text/plain": [
       "<Figure size 432x288 with 1 Axes>"
      ]
     },
     "metadata": {
      "needs_background": "light"
     },
     "output_type": "display_data"
    },
    {
     "data": {
      "image/png": "[encoded data removed]",
      "text/plain": [
       "<Figure size 432x288 with 1 Axes>"
      ]
     },
     "metadata": {
      "needs_background": "light"
     },
     "output_type": "display_data"
    },
    {
     "data": {
      "image/png": "[encoded data removed]",
      "text/plain": [
       "<Figure size 432x288 with 1 Axes>"
      ]
     },
     "metadata": {
      "needs_background": "light"
     },
     "output_type": "display_data"
    },
    {
     "data": {
      "image/png": "[encoded data removed]",
      "text/plain": [
       "<Figure size 432x288 with 1 Axes>"
      ]
     },
     "metadata": {
      "needs_background": "light"
     },
     "output_type": "display_data"
    },
    {
     "data": {
      "image/png": "[encoded data removed]",
      "text/plain": [
       "<Figure size 432x288 with 1 Axes>"
      ]
     },
     "metadata": {
      "needs_background": "light"
     },
     "output_type": "display_data"
    },
    {
     "data": {
      "image/png": "[encoded data removed]",
      "text/plain": [
       "<Figure size 432x288 with 1 Axes>"
      ]
     },
     "metadata": {
      "needs_background": "light"
     },
     "output_type": "display_data"
    },
    {
     "data": {
      "image/png": "[encoded data removed]",
      "text/plain": [
       "<Figure size 432x288 with 1 Axes>"
      ]
     },
     "metadata": {
      "needs_background": "light"
     },
     "output_type": "display_data"
    },
    {
     "data": {
      "image/png": "[encoded data removed]",
      "text/plain": [
       "<Figure size 432x288 with 1 Axes>"
      ]
     },
     "metadata": {
      "needs_background": "light"
     },
     "output_type": "display_data"
    }
   ],
   "source": [
    "# Plot all clusters into ONE graph\n",
    "thermal = []\n",
    "duration = []\n",
    "base = 0.0\n",
    "\n",
    "for i in range(len(filtered_cluster_before)):\n",
    "    for j in range(len(filtered_cluster_before[i])):\n",
    "        base += filtered_cluster_before[i][j].time_duration\n",
    "        thermal.append(filtered_cluster_before[i][j].thermal_cozie)\n",
    "        duration.append(base)\n",
    "    \n",
    "    plt.figure()\n",
    "    plt.scatter(duration,thermal)\n",
    "    plt.plot(duration,thermal)\n",
    "    plt.xlabel(\"Duration\")\n",
    "    plt.ylabel(\"Thermal Cozie\")\n",
    "    plt.yticks(thermal_cozie_ticks)\n",
    "    \n",
    "    # Re-init to remove previous cluster data\n",
    "    base = 0.0\n",
    "    thermal = []\n",
    "    duration = []"
   ]
  },
  {
   "cell_type": "markdown",
   "metadata": {},
   "source": [
    "# Remove list with zero elements inside filtered_cluster_after"
   ]
  },
  {
   "cell_type": "code",
   "execution_count": 14,
   "metadata": {},
   "outputs": [
    {
     "name": "stdout",
     "output_type": "stream",
     "text": [
      "[[time             2019-10-07 14:11:07.867000+08:00\n",
      "thermal_cozie                                  10\n",
      "user_id                                   cresh05\n",
      "Space_id                                       45\n",
      "room                       BUILDING_MATERIALS_LAB\n",
      "time_duration                              15.728\n",
      "Name: 334, dtype: object, time             2019-10-07 14:38:32.320000+08:00\n",
      "thermal_cozie                                  10\n",
      "user_id                                   cresh05\n",
      "Space_id                                       45\n",
      "room                       BUILDING_MATERIALS_LAB\n",
      "time_duration                             27.4076\n",
      "Name: 342, dtype: object, time             2019-10-07 14:49:32.908000+08:00\n",
      "thermal_cozie                                  10\n",
      "user_id                                   cresh05\n",
      "Space_id                                       45\n",
      "room                       BUILDING_MATERIALS_LAB\n",
      "time_duration                             11.0098\n",
      "Name: 348, dtype: object], [time             2019-10-08 13:26:40.466000+08:00\n",
      "thermal_cozie                                  10\n",
      "user_id                                   cresh05\n",
      "Space_id                                       45\n",
      "room                                     BUDS_LAB\n",
      "time_duration                                   0\n",
      "Name: 560, dtype: object, time             2019-10-08 13:28:58.828000+08:00\n",
      "thermal_cozie                                  10\n",
      "user_id                                   cresh05\n",
      "Space_id                                       45\n",
      "room                                     BUDS_LAB\n",
      "time_duration                             2.30603\n",
      "Name: 562, dtype: object], [time             2019-10-08 18:10:53.719000+08:00\n",
      "thermal_cozie                                  11\n",
      "user_id                                   cresh05\n",
      "Space_id                                       45\n",
      "room                                     BUDS_LAB\n",
      "time_duration                                   0\n",
      "Name: 672, dtype: object, time             2019-10-08 18:40:39.052000+08:00\n",
      "thermal_cozie                                  10\n",
      "user_id                                   cresh05\n",
      "Space_id                                       45\n",
      "room                       BUILDING_MATERIALS_LAB\n",
      "time_duration                             29.7556\n",
      "Name: 678, dtype: object, time             2019-10-08 18:45:32.766000+08:00\n",
      "thermal_cozie                                  10\n",
      "user_id                                   cresh05\n",
      "Space_id                                       20\n",
      "room                                IRC_LIBRARY_1\n",
      "time_duration                             4.89523\n",
      "Name: 680, dtype: object, time             2019-10-08 19:07:29.315000+08:00\n",
      "thermal_cozie                                  10\n",
      "user_id                                   cresh05\n",
      "Space_id                                       20\n",
      "room                                IRC_LIBRARY_1\n",
      "time_duration                             21.9425\n",
      "Name: 684, dtype: object, time             2019-10-08 19:15:06.584000+08:00\n",
      "thermal_cozie                                  10\n",
      "user_id                                   cresh05\n",
      "Space_id                                        0\n",
      "room                      OPEN_EXHIBITION_SPACE_2\n",
      "time_duration                             7.62115\n",
      "Name: 685, dtype: object, time             2019-10-08 19:16:08.008000+08:00\n",
      "thermal_cozie                                  10\n",
      "user_id                                   cresh05\n",
      "Space_id                                        0\n",
      "room                      OPEN_EXHIBITION_SPACE_2\n",
      "time_duration                             1.02373\n",
      "Name: 686, dtype: object], [time             2019-10-09 11:06:04.372000+08:00\n",
      "thermal_cozie                                  10\n",
      "user_id                                   cresh05\n",
      "Space_id                                       -1\n",
      "room                                     CORRIDOR\n",
      "time_duration                                   0\n",
      "Name: 813, dtype: object, time             2019-10-09 11:08:53.120000+08:00\n",
      "thermal_cozie                                  11\n",
      "user_id                                   cresh05\n",
      "Space_id                                        0\n",
      "room                      OPEN_EXHIBITION_SPACE_2\n",
      "time_duration                             2.81247\n",
      "Name: 815, dtype: object, time             2019-10-09 11:11:59.278000+08:00\n",
      "thermal_cozie                                  11\n",
      "user_id                                   cresh05\n",
      "Space_id                                       20\n",
      "room                                IRC_LIBRARY_1\n",
      "time_duration                             3.10263\n",
      "Name: 816, dtype: object, time             2019-10-09 11:33:36.484000+08:00\n",
      "thermal_cozie                                  11\n",
      "user_id                                   cresh05\n",
      "Space_id                                       20\n",
      "room                                IRC_LIBRARY_1\n",
      "time_duration                             21.6201\n",
      "Name: 830, dtype: object, time             2019-10-09 11:47:43.482000+08:00\n",
      "thermal_cozie                                  11\n",
      "user_id                                   cresh05\n",
      "Space_id                                       22\n",
      "room                                IRC_LIBRARY_1\n",
      "time_duration                             14.1166\n",
      "Name: 836, dtype: object, time             2019-10-09 11:49:06.634000+08:00\n",
      "thermal_cozie                                  11\n",
      "user_id                                   cresh05\n",
      "Space_id                                       22\n",
      "room                                IRC_LIBRARY_1\n",
      "time_duration                             1.38587\n",
      "Name: 837, dtype: object, time             2019-10-09 12:05:20.407000+08:00\n",
      "thermal_cozie                                  10\n",
      "user_id                                   cresh05\n",
      "Space_id                                       20\n",
      "room                                IRC_LIBRARY_1\n",
      "time_duration                             16.2295\n",
      "Name: 841, dtype: object, time             2019-10-09 12:05:28.770000+08:00\n",
      "thermal_cozie                                  11\n",
      "user_id                                   cresh05\n",
      "Space_id                                       20\n",
      "room                                IRC_LIBRARY_1\n",
      "time_duration                            0.139383\n",
      "Name: 842, dtype: object, time             2019-10-09 12:13:42.489000+08:00\n",
      "thermal_cozie                                  11\n",
      "user_id                                   cresh05\n",
      "Space_id                                       20\n",
      "room                                IRC_LIBRARY_1\n",
      "time_duration                             8.22865\n",
      "Name: 845, dtype: object], [time             2019-10-10 11:38:00.698000+08:00\n",
      "thermal_cozie                                  10\n",
      "user_id                                   cresh05\n",
      "Space_id                                       20\n",
      "room                                IRC_LIBRARY_1\n",
      "time_duration                                   0\n",
      "Name: 1083, dtype: object, time             2019-10-10 11:38:29.377000+08:00\n",
      "thermal_cozie                                  10\n",
      "user_id                                   cresh05\n",
      "Space_id                                       20\n",
      "room                                IRC_LIBRARY_1\n",
      "time_duration                            0.477983\n",
      "Name: 1084, dtype: object, time             2019-10-10 12:01:56.536000+08:00\n",
      "thermal_cozie                                  10\n",
      "user_id                                   cresh05\n",
      "Space_id                                       20\n",
      "room                                IRC_LIBRARY_1\n",
      "time_duration                             23.4527\n",
      "Name: 1091, dtype: object], [time             2019-10-10 15:27:51.630000+08:00\n",
      "thermal_cozie                                  10\n",
      "user_id                                   cresh05\n",
      "Space_id                                       20\n",
      "room                                IRC_LIBRARY_1\n",
      "time_duration                                   0\n",
      "Name: 1152, dtype: object, time             2019-10-10 15:38:40.831000+08:00\n",
      "thermal_cozie                                  10\n",
      "user_id                                   cresh05\n",
      "Space_id                                       -1\n",
      "room                                IRC_LIBRARY_1\n",
      "time_duration                               10.82\n",
      "Name: 1155, dtype: object], [time             2019-10-11 19:01:38.130000+08:00\n",
      "thermal_cozie                                  10\n",
      "user_id                                   cresh05\n",
      "Space_id                                       20\n",
      "room                                IRC_LIBRARY_1\n",
      "time_duration                                   0\n",
      "Name: 1562, dtype: object, time             2019-10-11 19:14:02.790000+08:00\n",
      "thermal_cozie                                  10\n",
      "user_id                                   cresh05\n",
      "Space_id                                        0\n",
      "room                      OPEN_EXHIBITION_SPACE_2\n",
      "time_duration                              12.411\n",
      "Name: 1564, dtype: object]]\n"
     ]
    }
   ],
   "source": [
    "tempList3 = []\n",
    "for i in range(len(filtered_cluster_after)):\n",
    "    if (len(filtered_cluster_after[i]) > 1):\n",
    "        tempList3.append(filtered_cluster_after[i])\n",
    "\n",
    "filtered_cluster_after = tempList3\n",
    "print(filtered_cluster_after)"
   ]
  },
  {
   "cell_type": "markdown",
   "metadata": {},
   "source": [
    "# Show how many datapoint are in each cluster after filtering NaN and zero element"
   ]
  },
  {
   "cell_type": "code",
   "execution_count": 15,
   "metadata": {},
   "outputs": [
    {
     "name": "stdout",
     "output_type": "stream",
     "text": [
      "0:3 \n",
      "1:2 \n",
      "2:6 \n",
      "3:9 \n",
      "4:3 \n",
      "5:2 \n",
      "6:2 \n"
     ]
    }
   ],
   "source": [
    "for i in range(len(filtered_cluster_after)):\n",
    "    print(\"{0}:{1} \".format(i,(len(filtered_cluster_after[i]))))"
   ]
  },
  {
   "cell_type": "markdown",
   "metadata": {},
   "source": [
    "# Plot all cluster into one graph"
   ]
  },
  {
   "cell_type": "code",
   "execution_count": 16,
   "metadata": {},
   "outputs": [
    {
     "data": {
      "image/png": "[encoded data removed]",
      "text/plain": [
       "<Figure size 432x288 with 1 Axes>"
      ]
     },
     "metadata": {
      "needs_background": "light"
     },
     "output_type": "display_data"
    }
   ],
   "source": [
    "# Plot all clusters into ONE graph\n",
    "thermal = []\n",
    "duration = []\n",
    "base = 0.0\n",
    "\n",
    "for i in range(len(filtered_cluster_after)):\n",
    "    for j in range(len(filtered_cluster_after[i])):\n",
    "        base += filtered_cluster_after[i][j].time_duration\n",
    "        thermal.append(filtered_cluster_after[i][j].thermal_cozie)\n",
    "        duration.append(base)\n",
    "        \n",
    "    plt.plot(duration,thermal)\n",
    "    plt.xlabel(\"Duration\")\n",
    "    plt.ylabel(\"Thermal Cozie\")\n",
    "    plt.yticks(thermal_cozie_ticks)\n",
    "    \n",
    "    # Re-init to remove previous cluster data\n",
    "    base = 0.0\n",
    "    thermal = []\n",
    "    duration = []"
   ]
  },
  {
   "cell_type": "markdown",
   "metadata": {},
   "source": [
    "# Plot all cluster into separate graphs"
   ]
  },
  {
   "cell_type": "code",
   "execution_count": 17,
   "metadata": {},
   "outputs": [
    {
     "data": {
      "image/png": "[encoded data removed]",
      "text/plain": [
       "<Figure size 432x288 with 1 Axes>"
      ]
     },
     "metadata": {
      "needs_background": "light"
     },
     "output_type": "display_data"
    },
    {
     "data": {
      "image/png": "[encoded data removed]",
      "text/plain": [
       "<Figure size 432x288 with 1 Axes>"
      ]
     },
     "metadata": {
      "needs_background": "light"
     },
     "output_type": "display_data"
    },
    {
     "data": {
      "image/png": "[encoded data removed]",
      "text/plain": [
       "<Figure size 432x288 with 1 Axes>"
      ]
     },
     "metadata": {
      "needs_background": "light"
     },
     "output_type": "display_data"
    },
    {
     "data": {
      "image/png": "[encoded data removed]",
      "text/plain": [
       "<Figure size 432x288 with 1 Axes>"
      ]
     },
     "metadata": {
      "needs_background": "light"
     },
     "output_type": "display_data"
    },
    {
     "data": {
      "image/png": "[encoded data removed]",
      "text/plain": [
       "<Figure size 432x288 with 1 Axes>"
      ]
     },
     "metadata": {
      "needs_background": "light"
     },
     "output_type": "display_data"
    },
    {
     "data": {
      "image/png": "[encoded data removed]",
      "text/plain": [
       "<Figure size 432x288 with 1 Axes>"
      ]
     },
     "metadata": {
      "needs_background": "light"
     },
     "output_type": "display_data"
    },
    {
     "data": {
      "image/png": "[encoded data removed]",
      "text/plain": [
       "<Figure size 432x288 with 1 Axes>"
      ]
     },
     "metadata": {
      "needs_background": "light"
     },
     "output_type": "display_data"
    }
   ],
   "source": [
    "# Plot all clusters into ONE graph\n",
    "thermal = []\n",
    "duration = []\n",
    "base = 0.0\n",
    "\n",
    "for i in range(len(filtered_cluster_after)):\n",
    "    for j in range(len(filtered_cluster_after[i])):\n",
    "        base += filtered_cluster_after[i][j].time_duration\n",
    "        thermal.append(filtered_cluster_after[i][j].thermal_cozie)\n",
    "        duration.append(base)\n",
    "    \n",
    "    plt.figure()\n",
    "    plt.scatter(duration,thermal)\n",
    "    plt.plot(duration,thermal)\n",
    "    plt.xlabel(\"Duration\")\n",
    "    plt.ylabel(\"Thermal Cozie\")\n",
    "    plt.yticks(thermal_cozie_ticks)\n",
    "    \n",
    "    # Re-init to remove previous cluster data\n",
    "    base = 0.0\n",
    "    thermal = []\n",
    "    duration = []"
   ]
  },
  {
   "cell_type": "markdown",
   "metadata": {},
   "source": [
    "# Plot test with vertical dotted lines"
   ]
  },
  {
   "cell_type": "code",
   "execution_count": 18,
   "metadata": {},
   "outputs": [
    {
     "data": {
      "image/png": "[encoded data removed]",
      "text/plain": [
       "<Figure size 432x288 with 1 Axes>"
      ]
     },
     "metadata": {
      "needs_background": "light"
     },
     "output_type": "display_data"
    },
    {
     "data": {
      "image/png": "[encoded data removed]",
      "text/plain": [
       "<Figure size 432x288 with 1 Axes>"
      ]
     },
     "metadata": {
      "needs_background": "light"
     },
     "output_type": "display_data"
    },
    {
     "data": {
      "image/png": "[encoded data removed]",
      "text/plain": [
       "<Figure size 432x288 with 1 Axes>"
      ]
     },
     "metadata": {
      "needs_background": "light"
     },
     "output_type": "display_data"
    },
    {
     "data": {
      "image/png": "[encoded data removed]",
      "text/plain": [
       "<Figure size 432x288 with 1 Axes>"
      ]
     },
     "metadata": {
      "needs_background": "light"
     },
     "output_type": "display_data"
    },
    {
     "data": {
      "image/png": "[encoded data removed]",
      "text/plain": [
       "<Figure size 432x288 with 1 Axes>"
      ]
     },
     "metadata": {
      "needs_background": "light"
     },
     "output_type": "display_data"
    },
    {
     "data": {
      "image/png": "[encoded data removed]",
      "text/plain": [
       "<Figure size 432x288 with 1 Axes>"
      ]
     },
     "metadata": {
      "needs_background": "light"
     },
     "output_type": "display_data"
    },
    {
     "data": {
      "image/png": "[encoded data removed]",
      "text/plain": [
       "<Figure size 432x288 with 1 Axes>"
      ]
     },
     "metadata": {
      "needs_background": "light"
     },
     "output_type": "display_data"
    }
   ],
   "source": [
    "# Plot all clusters into ONE graph\n",
    "thermal = []\n",
    "duration = []\n",
    "base = 0.0\n",
    "dotted_lines = []\n",
    "\n",
    "for i in range(len(filtered_cluster_after)):\n",
    "    tempList = []\n",
    "    for j in range(len(filtered_cluster_after[i])):\n",
    "        if (j > 1):\n",
    "            prev = filtered_cluster_after[i][j-1].room\n",
    "            curr = filtered_cluster_after[i][j].room\n",
    "            \n",
    "            if (prev != curr):\n",
    "                tempList.append(j)\n",
    "                \n",
    "    dotted_lines.append(tempList)\n",
    "\n",
    "#print(dotted_lines)\n",
    "    \n",
    "for i in range(len(filtered_cluster_after)):\n",
    "    lines = []\n",
    "    for j in range(len(filtered_cluster_after[i])):\n",
    "        base += filtered_cluster_after[i][j].time_duration\n",
    "        thermal.append(filtered_cluster_after[i][j].thermal_cozie)\n",
    "        duration.append(base)\n",
    "        \n",
    "    if(len(dotted_lines[i]) > 0):\n",
    "        while(len(dotted_lines[i]) > 0):\n",
    "            index = dotted_lines[i].pop()\n",
    "            xValue = duration[index]\n",
    "            plt.axvline(x = xValue, linestyle = '--', color = 'r')\n",
    "        \n",
    "        \n",
    "    plt.scatter(duration,thermal)\n",
    "    plt.plot(duration,thermal)\n",
    "    plt.xlabel(\"Duration\")\n",
    "    plt.ylabel(\"Thermal Cozie\")\n",
    "    plt.yticks(thermal_cozie_ticks)\n",
    "    plt.show()\n",
    "    \n",
    "    #print(filtered_cluster_after[0])\n",
    "    #print(duration)\n",
    "    \n",
    "    # Re-init to remove previous cluster data\n",
    "    base = 0.0\n",
    "    thermal = []\n",
    "    duration = []\n",
    "    "
   ]
  }
 ],
 "metadata": {
  "kernelspec": {
   "display_name": "Python 3",
   "language": "python",
   "name": "python3"
  },
  "language_info": {
   "codemirror_mode": {
    "name": "ipython",
    "version": 3
   },
   "file_extension": ".py",
   "mimetype": "text/x-python",
   "name": "python",
   "nbconvert_exporter": "python",
   "pygments_lexer": "ipython3",
   "version": "3.7.4"
  }
 },
 "nbformat": 4,
 "nbformat_minor": 4
}
