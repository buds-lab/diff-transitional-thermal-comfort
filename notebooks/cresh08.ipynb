{
 "cells": [
  {
   "cell_type": "code",
   "execution_count": 7,
   "metadata": {},
   "outputs": [],
   "source": [
    "import pandas as pd\n",
    "import numpy as np\n",
    "from matplotlib import pyplot as plt\n",
    "from matplotlib.backends.backend_agg import FigureCanvasAgg as FigureCanvas\n",
    "from matplotlib.figure import Figure"
   ]
  },
  {
   "cell_type": "code",
   "execution_count": 8,
   "metadata": {},
   "outputs": [],
   "source": [
    "fig = Figure()\n",
    "canvas = FigureCanvas(fig)\n",
    "ax = fig.add_subplot(111)"
   ]
  },
  {
   "cell_type": "code",
   "execution_count": 9,
   "metadata": {},
   "outputs": [],
   "source": [
    "def isNaN(num):\n",
    "    return num != num"
   ]
  },
  {
   "cell_type": "code",
   "execution_count": 10,
   "metadata": {},
   "outputs": [],
   "source": [
    "df = pd.read_csv (\"2019-10-29_cozie_full.csv\", index_col=0)\n",
    "filtered_df = df.drop (columns=['clothing','lat_cozie','lon_cozie','responseSpeed_cozie','Floor','Latitude','Longitude','noise_sensing','voc_sensing','index','comfort_cozie','heartRate_cozie','light_cozie','noise_cozie','co2_sensing','humidity_sensing','light_sensing','temperature_sensing','temperature_mbient'],axis=1)\n",
    "filtered_df['time'] = filtered_df['time'].apply(pd.Timestamp).dt.tz_convert('Asia/Singapore')\n",
    "# Add new column to calculate duration \n",
    "filtered_df['time_duration'] = 0"
   ]
  },
  {
   "cell_type": "code",
   "execution_count": 11,
   "metadata": {},
   "outputs": [],
   "source": [
    "grouped_users = filtered_df.groupby('user_id')\n",
    "\n",
    "all_clusters = [] # Raw data\n",
    "cluster_array = [] \n",
    "filtered_cluster_before = [] # Raw data that are clustered together according to duration\n",
    "filtered_cluster_after = []"
   ]
  },
  {
   "cell_type": "code",
   "execution_count": 12,
   "metadata": {},
   "outputs": [],
   "source": [
    "cresh01_df = grouped_users.get_group('cresh08')\n",
    "thermal_cozie_ticks = [9,10,11]"
   ]
  },
  {
   "cell_type": "code",
   "execution_count": 13,
   "metadata": {},
   "outputs": [],
   "source": [
    "# Gather all data relevant to specific user \n",
    "for index, datapoint in cresh01_df.iterrows():\n",
    "    # print (data.time)\n",
    "    if cluster_array == []:\n",
    "        cluster_array.append(datapoint)\n",
    "    else:\n",
    "        if datapoint.time < last_time + pd.Timedelta(minutes=30):\n",
    "            cluster_array.append(datapoint) \n",
    "        else:\n",
    "            all_clusters.append(cluster_array)\n",
    "            cluster_array = []\n",
    "            cluster_array.append(datapoint)\n",
    "\n",
    "    \n",
    "    last_time = datapoint.time\n",
    "#print (all_clusters)"
   ]
  },
  {
   "cell_type": "markdown",
   "metadata": {},
   "source": [
    "# Keep clusters with more than a certain amount of data points"
   ]
  },
  {
   "cell_type": "code",
   "execution_count": 14,
   "metadata": {},
   "outputs": [
    {
     "name": "stdout",
     "output_type": "stream",
     "text": [
      "[[time             2019-10-04 13:54:12.312000+08:00\n",
      "thermal_cozie                                 NaN\n",
      "user_id                                   cresh08\n",
      "Space_id                                       45\n",
      "room                       BUILDING_MATERIALS_LAB\n",
      "time_duration                                   0\n",
      "Name: 125, dtype: object, time             2019-10-04 13:54:45.911000+08:00\n",
      "thermal_cozie                                  11\n",
      "user_id                                   cresh08\n",
      "Space_id                                       45\n",
      "room                       BUILDING_MATERIALS_LAB\n",
      "time_duration                                   0\n",
      "Name: 126, dtype: object, time             2019-10-04 13:58:35.284000+08:00\n",
      "thermal_cozie                                  11\n",
      "user_id                                   cresh08\n",
      "Space_id                                       45\n",
      "room                       BUILDING_MATERIALS_LAB\n",
      "time_duration                                   0\n",
      "Name: 127, dtype: object, time             2019-10-04 14:05:37.647000+08:00\n",
      "thermal_cozie                                  10\n",
      "user_id                                   cresh08\n",
      "Space_id                                       45\n",
      "room                       BUILDING_MATERIALS_LAB\n",
      "time_duration                                   0\n",
      "Name: 130, dtype: object, time             2019-10-04 14:15:08.139000+08:00\n",
      "thermal_cozie                                  10\n",
      "user_id                                   cresh08\n",
      "Space_id                                       45\n",
      "room                       BUILDING_MATERIALS_LAB\n",
      "time_duration                                   0\n",
      "Name: 131, dtype: object, time             2019-10-04 14:20:38.766000+08:00\n",
      "thermal_cozie                                  10\n",
      "user_id                                   cresh08\n",
      "Space_id                                       45\n",
      "room                       BUILDING_MATERIALS_LAB\n",
      "time_duration                                   0\n",
      "Name: 132, dtype: object, time             2019-10-04 14:32:11.533000+08:00\n",
      "thermal_cozie                                  10\n",
      "user_id                                   cresh08\n",
      "Space_id                                       -1\n",
      "room                             OUTSIDE_RESTROOM\n",
      "time_duration                                   0\n",
      "Name: 136, dtype: object, time             2019-10-04 14:50:08.609000+08:00\n",
      "thermal_cozie                                  11\n",
      "user_id                                   cresh08\n",
      "Space_id                                      NaN\n",
      "room                                          NaN\n",
      "time_duration                                   0\n",
      "Name: 141, dtype: object, time             2019-10-04 15:04:54.267000+08:00\n",
      "thermal_cozie                                  10\n",
      "user_id                                   cresh08\n",
      "Space_id                                      NaN\n",
      "room                                          NaN\n",
      "time_duration                                   0\n",
      "Name: 142, dtype: object, time             2019-10-04 15:09:46.253000+08:00\n",
      "thermal_cozie                                  10\n",
      "user_id                                   cresh08\n",
      "Space_id                                      NaN\n",
      "room                                          NaN\n",
      "time_duration                                   0\n",
      "Name: 147, dtype: object, time             2019-10-04 15:28:02.441000+08:00\n",
      "thermal_cozie                                  10\n",
      "user_id                                   cresh08\n",
      "Space_id                                        2\n",
      "room                                 ENERGY_LAB_1\n",
      "time_duration                                   0\n",
      "Name: 150, dtype: object, time             2019-10-04 15:52:04.344000+08:00\n",
      "thermal_cozie                                  10\n",
      "user_id                                   cresh08\n",
      "Space_id                                       -1\n",
      "room                                IRC_LIBRARY_1\n",
      "time_duration                                   0\n",
      "Name: 156, dtype: object, time             2019-10-04 15:59:30.448000+08:00\n",
      "thermal_cozie                                  11\n",
      "user_id                                   cresh08\n",
      "Space_id                                      NaN\n",
      "room                                          NaN\n",
      "time_duration                                   0\n",
      "Name: 160, dtype: object, time             2019-10-04 16:18:29.887000+08:00\n",
      "thermal_cozie                                  10\n",
      "user_id                                   cresh08\n",
      "Space_id                                       45\n",
      "room                       BUILDING_MATERIALS_LAB\n",
      "time_duration                                   0\n",
      "Name: 163, dtype: object, time             2019-10-04 16:26:11.960000+08:00\n",
      "thermal_cozie                                  11\n",
      "user_id                                   cresh08\n",
      "Space_id                                       -1\n",
      "room                                     CORRIDOR\n",
      "time_duration                                   0\n",
      "Name: 166, dtype: object], [time             2019-10-04 17:20:25.897000+08:00\n",
      "thermal_cozie                                  11\n",
      "user_id                                   cresh08\n",
      "Space_id                                      NaN\n",
      "room                                          NaN\n",
      "time_duration                                   0\n",
      "Name: 181, dtype: object, time             2019-10-04 17:21:10.323000+08:00\n",
      "thermal_cozie                                   9\n",
      "user_id                                   cresh08\n",
      "Space_id                                      NaN\n",
      "room                                          NaN\n",
      "time_duration                                   0\n",
      "Name: 183, dtype: object, time             2019-10-04 17:46:58.532000+08:00\n",
      "thermal_cozie                                  10\n",
      "user_id                                   cresh08\n",
      "Space_id                                      NaN\n",
      "room                                          NaN\n",
      "time_duration                                   0\n",
      "Name: 185, dtype: object], [time             2019-10-04 21:25:14.384000+08:00\n",
      "thermal_cozie                                  10\n",
      "user_id                                   cresh08\n",
      "Space_id                                      NaN\n",
      "room                                          NaN\n",
      "time_duration                                   0\n",
      "Name: 199, dtype: object, time             2019-10-04 21:53:19.144000+08:00\n",
      "thermal_cozie                                  11\n",
      "user_id                                   cresh08\n",
      "Space_id                                      NaN\n",
      "room                                          NaN\n",
      "time_duration                                   0\n",
      "Name: 203, dtype: object, time             2019-10-04 22:20:28.913000+08:00\n",
      "thermal_cozie                                  11\n",
      "user_id                                   cresh08\n",
      "Space_id                                      NaN\n",
      "room                                          NaN\n",
      "time_duration                                   0\n",
      "Name: 205, dtype: object, time             2019-10-04 22:49:09.494000+08:00\n",
      "thermal_cozie                                  10\n",
      "user_id                                   cresh08\n",
      "Space_id                                      NaN\n",
      "room                                          NaN\n",
      "time_duration                                   0\n",
      "Name: 207, dtype: object], [time             2019-10-05 16:50:13.576000+08:00\n",
      "thermal_cozie                                  10\n",
      "user_id                                   cresh08\n",
      "Space_id                                      NaN\n",
      "room                                          NaN\n",
      "time_duration                                   0\n",
      "Name: 219, dtype: object, time             2019-10-05 17:17:04.111000+08:00\n",
      "thermal_cozie                                  10\n",
      "user_id                                   cresh08\n",
      "Space_id                                      NaN\n",
      "room                                          NaN\n",
      "time_duration                                   0\n",
      "Name: 226, dtype: object], [time             2019-10-06 13:10:23.009000+08:00\n",
      "thermal_cozie                                  11\n",
      "user_id                                   cresh08\n",
      "Space_id                                      NaN\n",
      "room                                          NaN\n",
      "time_duration                                   0\n",
      "Name: 234, dtype: object, time             2019-10-06 13:22:34.394000+08:00\n",
      "thermal_cozie                                  10\n",
      "user_id                                   cresh08\n",
      "Space_id                                      NaN\n",
      "room                                          NaN\n",
      "time_duration                                   0\n",
      "Name: 235, dtype: object], [time             2019-10-06 20:16:33.993000+08:00\n",
      "thermal_cozie                                  10\n",
      "user_id                                   cresh08\n",
      "Space_id                                      NaN\n",
      "room                                          NaN\n",
      "time_duration                                   0\n",
      "Name: 246, dtype: object, time             2019-10-06 20:27:52.564000+08:00\n",
      "thermal_cozie                                  10\n",
      "user_id                                   cresh08\n",
      "Space_id                                      NaN\n",
      "room                                          NaN\n",
      "time_duration                                   0\n",
      "Name: 247, dtype: object], [time             2019-10-07 10:59:39.822000+08:00\n",
      "thermal_cozie                                  10\n",
      "user_id                                   cresh08\n",
      "Space_id                                      NaN\n",
      "room                                          NaN\n",
      "time_duration                                   0\n",
      "Name: 281, dtype: object, time             2019-10-07 11:04:29.316000+08:00\n",
      "thermal_cozie                                  11\n",
      "user_id                                   cresh08\n",
      "Space_id                                      NaN\n",
      "room                                          NaN\n",
      "time_duration                                   0\n",
      "Name: 284, dtype: object], [time             2019-10-07 13:00:31.230000+08:00\n",
      "thermal_cozie                                   9\n",
      "user_id                                   cresh08\n",
      "Space_id                                      NaN\n",
      "room                                          NaN\n",
      "time_duration                                   0\n",
      "Name: 307, dtype: object, time             2019-10-07 13:20:15.516000+08:00\n",
      "thermal_cozie                                  10\n",
      "user_id                                   cresh08\n",
      "Space_id                                      NaN\n",
      "room                                          NaN\n",
      "time_duration                                   0\n",
      "Name: 315, dtype: object], [time             2019-10-07 15:06:25.119000+08:00\n",
      "thermal_cozie                                  10\n",
      "user_id                                   cresh08\n",
      "Space_id                                      NaN\n",
      "room                                          NaN\n",
      "time_duration                                   0\n",
      "Name: 357, dtype: object, time             2019-10-07 15:27:13.400000+08:00\n",
      "thermal_cozie                                  10\n",
      "user_id                                   cresh08\n",
      "Space_id                                      NaN\n",
      "room                                          NaN\n",
      "time_duration                                   0\n",
      "Name: 366, dtype: object], [time             2019-10-07 17:07:13.095000+08:00\n",
      "thermal_cozie                                  10\n",
      "user_id                                   cresh08\n",
      "Space_id                                      NaN\n",
      "room                                          NaN\n",
      "time_duration                                   0\n",
      "Name: 400, dtype: object, time             2019-10-07 17:24:32.084000+08:00\n",
      "thermal_cozie                                  10\n",
      "user_id                                   cresh08\n",
      "Space_id                                      NaN\n",
      "room                                          NaN\n",
      "time_duration                                   0\n",
      "Name: 408, dtype: object], [time             2019-10-08 19:25:52.204000+08:00\n",
      "thermal_cozie                                  10\n",
      "user_id                                   cresh08\n",
      "Space_id                                       -1\n",
      "room                                     CORRIDOR\n",
      "time_duration                                   0\n",
      "Name: 688, dtype: object, time             2019-10-08 19:33:34.177000+08:00\n",
      "thermal_cozie                                  11\n",
      "user_id                                   cresh08\n",
      "Space_id                                       -1\n",
      "room                                          NaN\n",
      "time_duration                                   0\n",
      "Name: 690, dtype: object, time             2019-10-08 19:51:16.842000+08:00\n",
      "thermal_cozie                                  10\n",
      "user_id                                   cresh08\n",
      "Space_id                                      NaN\n",
      "room                                          NaN\n",
      "time_duration                                   0\n",
      "Name: 696, dtype: object, time             2019-10-08 20:02:42.328000+08:00\n",
      "thermal_cozie                                  11\n",
      "user_id                                   cresh08\n",
      "Space_id                                       -1\n",
      "room                                IRC_LIBRARY_1\n",
      "time_duration                                   0\n",
      "Name: 698, dtype: object, time             2019-10-08 20:25:27.641000+08:00\n",
      "thermal_cozie                                  10\n",
      "user_id                                   cresh08\n",
      "Space_id                                      NaN\n",
      "room                                          NaN\n",
      "time_duration                                   0\n",
      "Name: 704, dtype: object, time             2019-10-08 20:48:49.627000+08:00\n",
      "thermal_cozie                                  10\n",
      "user_id                                   cresh08\n",
      "Space_id                                        1\n",
      "room                                         CAFE\n",
      "time_duration                                   0\n",
      "Name: 710, dtype: object, time             2019-10-08 20:59:14.413000+08:00\n",
      "thermal_cozie                                  10\n",
      "user_id                                   cresh08\n",
      "Space_id                                      NaN\n",
      "room                                          NaN\n",
      "time_duration                                   0\n",
      "Name: 713, dtype: object], [time             2019-10-10 13:04:05.236000+08:00\n",
      "thermal_cozie                                  10\n",
      "user_id                                   cresh08\n",
      "Space_id                                      NaN\n",
      "room                                          NaN\n",
      "time_duration                                   0\n",
      "Name: 1102, dtype: object, time             2019-10-10 13:19:35.637000+08:00\n",
      "thermal_cozie                                  10\n",
      "user_id                                   cresh08\n",
      "Space_id                                      NaN\n",
      "room                                          NaN\n",
      "time_duration                                   0\n",
      "Name: 1108, dtype: object], [time             2019-10-11 09:04:02.854000+08:00\n",
      "thermal_cozie                                  10\n",
      "user_id                                   cresh08\n",
      "Space_id                                      NaN\n",
      "room                                          NaN\n",
      "time_duration                                   0\n",
      "Name: 1295, dtype: object, time             2019-10-11 09:28:08.731000+08:00\n",
      "thermal_cozie                                  10\n",
      "user_id                                   cresh08\n",
      "Space_id                                      NaN\n",
      "room                                          NaN\n",
      "time_duration                                   0\n",
      "Name: 1300, dtype: object], [time             2019-10-11 11:56:13.625000+08:00\n",
      "thermal_cozie                                  10\n",
      "user_id                                   cresh08\n",
      "Space_id                                      NaN\n",
      "room                                          NaN\n",
      "time_duration                                   0\n",
      "Name: 1350, dtype: object, time             2019-10-11 12:20:01.711000+08:00\n",
      "thermal_cozie                                  10\n",
      "user_id                                   cresh08\n",
      "Space_id                                      NaN\n",
      "room                                          NaN\n",
      "time_duration                                   0\n",
      "Name: 1360, dtype: object], [time             2019-10-11 13:04:02.868000+08:00\n",
      "thermal_cozie                                  10\n",
      "user_id                                   cresh08\n",
      "Space_id                                      NaN\n",
      "room                                          NaN\n",
      "time_duration                                   0\n",
      "Name: 1376, dtype: object, time             2019-10-11 13:33:44.972000+08:00\n",
      "thermal_cozie                                  11\n",
      "user_id                                   cresh08\n",
      "Space_id                                      NaN\n",
      "room                                          NaN\n",
      "time_duration                                   0\n",
      "Name: 1394, dtype: object, time             2019-10-11 13:40:18.197000+08:00\n",
      "thermal_cozie                                  10\n",
      "user_id                                   cresh08\n",
      "Space_id                                       45\n",
      "room                       BUILDING_MATERIALS_LAB\n",
      "time_duration                                   0\n",
      "Name: 1400, dtype: object, time             2019-10-11 13:43:27.612000+08:00\n",
      "thermal_cozie                                  11\n",
      "user_id                                   cresh08\n",
      "Space_id                                       45\n",
      "room                       BUILDING_MATERIALS_LAB\n",
      "time_duration                                   0\n",
      "Name: 1402, dtype: object, time             2019-10-11 13:44:26.732000+08:00\n",
      "thermal_cozie                                  11\n",
      "user_id                                   cresh08\n",
      "Space_id                                       45\n",
      "room                       BUILDING_MATERIALS_LAB\n",
      "time_duration                                   0\n",
      "Name: 1403, dtype: object, time             2019-10-11 13:50:00.832000+08:00\n",
      "thermal_cozie                                  11\n",
      "user_id                                   cresh08\n",
      "Space_id                                       -1\n",
      "room                             OUTSIDE_RESTROOM\n",
      "time_duration                                   0\n",
      "Name: 1408, dtype: object, time             2019-10-11 13:51:03.916000+08:00\n",
      "thermal_cozie                                  10\n",
      "user_id                                   cresh08\n",
      "Space_id                                       13\n",
      "room                                        FORUM\n",
      "time_duration                                   0\n",
      "Name: 1409, dtype: object, time             2019-10-11 13:52:30.984000+08:00\n",
      "thermal_cozie                                  10\n",
      "user_id                                   cresh08\n",
      "Space_id                                       -1\n",
      "room                                     CORRIDOR\n",
      "time_duration                                   0\n",
      "Name: 1411, dtype: object, time             2019-10-11 13:59:54.834000+08:00\n",
      "thermal_cozie                                  10\n",
      "user_id                                   cresh08\n",
      "Space_id                                       42\n",
      "room                     EXECUTIVE_SEMINAR_ROOM_A\n",
      "time_duration                                   0\n",
      "Name: 1415, dtype: object, time             2019-10-11 14:10:47.120000+08:00\n",
      "thermal_cozie                                  10\n",
      "user_id                                   cresh08\n",
      "Space_id                                       42\n",
      "room                     EXECUTIVE_SEMINAR_ROOM_A\n",
      "time_duration                                   0\n",
      "Name: 1422, dtype: object, time                    2019-10-11 14:19:26.589000+08:00\n",
      "thermal_cozie                                         10\n",
      "user_id                                          cresh08\n",
      "Space_id                                               6\n",
      "room             HOT_DESKING_ARCHITECTURE_STUDIO_SPACE_1\n",
      "time_duration                                          0\n",
      "Name: 1427, dtype: object, time                    2019-10-11 14:22:21.673000+08:00\n",
      "thermal_cozie                                         10\n",
      "user_id                                          cresh08\n",
      "Space_id                                               6\n",
      "room             HOT_DESKING_ARCHITECTURE_STUDIO_SPACE_1\n",
      "time_duration                                          0\n",
      "Name: 1430, dtype: object, time             2019-10-11 14:23:52.120000+08:00\n",
      "thermal_cozie                                  10\n",
      "user_id                                   cresh08\n",
      "Space_id                                      NaN\n",
      "room                                          NaN\n",
      "time_duration                                   0\n",
      "Name: 1432, dtype: object, time             2019-10-11 14:26:15.448000+08:00\n",
      "thermal_cozie                                  10\n",
      "user_id                                   cresh08\n",
      "Space_id                                      NaN\n",
      "room                                          NaN\n",
      "time_duration                                   0\n",
      "Name: 1436, dtype: object, time             2019-10-11 14:30:12.165000+08:00\n",
      "thermal_cozie                                  11\n",
      "user_id                                   cresh08\n",
      "Space_id                                      NaN\n",
      "room                                          NaN\n",
      "time_duration                                   0\n",
      "Name: 1439, dtype: object, time             2019-10-11 14:32:20.784000+08:00\n",
      "thermal_cozie                                  10\n",
      "user_id                                   cresh08\n",
      "Space_id                                      NaN\n",
      "room                                          NaN\n",
      "time_duration                                   0\n",
      "Name: 1441, dtype: object, time             2019-10-11 14:48:23.461000+08:00\n",
      "thermal_cozie                                  10\n",
      "user_id                                   cresh08\n",
      "Space_id                                      NaN\n",
      "room                                          NaN\n",
      "time_duration                                   0\n",
      "Name: 1450, dtype: object, time             2019-10-11 14:48:44.556000+08:00\n",
      "thermal_cozie                                  10\n",
      "user_id                                   cresh08\n",
      "Space_id                                      NaN\n",
      "room                                          NaN\n",
      "time_duration                                   0\n",
      "Name: 1451, dtype: object, time             2019-10-11 14:49:47.167000+08:00\n",
      "thermal_cozie                                  10\n",
      "user_id                                   cresh08\n",
      "Space_id                                      NaN\n",
      "room                                          NaN\n",
      "time_duration                                   0\n",
      "Name: 1453, dtype: object, time             2019-10-11 14:50:28.200000+08:00\n",
      "thermal_cozie                                  10\n",
      "user_id                                   cresh08\n",
      "Space_id                                      NaN\n",
      "room                                          NaN\n",
      "time_duration                                   0\n",
      "Name: 1454, dtype: object, time             2019-10-11 15:02:00.700000+08:00\n",
      "thermal_cozie                                  11\n",
      "user_id                                   cresh08\n",
      "Space_id                                      NaN\n",
      "room                                          NaN\n",
      "time_duration                                   0\n",
      "Name: 1462, dtype: object], [time             2019-10-15 13:38:26.398000+08:00\n",
      "thermal_cozie                                  10\n",
      "user_id                                   cresh08\n",
      "Space_id                                        0\n",
      "room                      OPEN_EXHIBITION_SPACE_2\n",
      "time_duration                                   0\n",
      "Name: 1847, dtype: object, time             2019-10-15 13:40:12.801000+08:00\n",
      "thermal_cozie                                  11\n",
      "user_id                                   cresh08\n",
      "Space_id                                        0\n",
      "room                      OPEN_EXHIBITION_SPACE_2\n",
      "time_duration                                   0\n",
      "Name: 1848, dtype: object, time             2019-10-15 13:51:38.740000+08:00\n",
      "thermal_cozie                                  10\n",
      "user_id                                   cresh08\n",
      "Space_id                                        1\n",
      "room                                         CAFE\n",
      "time_duration                                   0\n",
      "Name: 1851, dtype: object, time             2019-10-15 14:01:24.364000+08:00\n",
      "thermal_cozie                                  10\n",
      "user_id                                   cresh08\n",
      "Space_id                                        1\n",
      "room                                         CAFE\n",
      "time_duration                                   0\n",
      "Name: 1853, dtype: object, time             2019-10-15 14:17:02.903000+08:00\n",
      "thermal_cozie                                  10\n",
      "user_id                                   cresh08\n",
      "Space_id                                       -1\n",
      "room                      OPEN_EXHIBITION_SPACE_2\n",
      "time_duration                                   0\n",
      "Name: 1857, dtype: object, time             2019-10-15 14:26:15.509000+08:00\n",
      "thermal_cozie                                  10\n",
      "user_id                                   cresh08\n",
      "Space_id                                       -1\n",
      "room                      OPEN_EXHIBITION_SPACE_2\n",
      "time_duration                                   0\n",
      "Name: 1859, dtype: object, time             2019-10-15 14:39:10.765000+08:00\n",
      "thermal_cozie                                  10\n",
      "user_id                                   cresh08\n",
      "Space_id                                       -1\n",
      "room                      OPEN_EXHIBITION_SPACE_2\n",
      "time_duration                                   0\n",
      "Name: 1862, dtype: object, time             2019-10-15 14:48:22.416000+08:00\n",
      "thermal_cozie                                  11\n",
      "user_id                                   cresh08\n",
      "Space_id                                       -1\n",
      "room                      OPEN_EXHIBITION_SPACE_2\n",
      "time_duration                                   0\n",
      "Name: 1865, dtype: object, time             2019-10-15 14:58:06.604000+08:00\n",
      "thermal_cozie                                  10\n",
      "user_id                                   cresh08\n",
      "Space_id                                       -1\n",
      "room                      OPEN_EXHIBITION_SPACE_2\n",
      "time_duration                                   0\n",
      "Name: 1867, dtype: object, time             2019-10-15 15:07:05.999000+08:00\n",
      "thermal_cozie                                  10\n",
      "user_id                                   cresh08\n",
      "Space_id                                        0\n",
      "room                      OPEN_EXHIBITION_SPACE_2\n",
      "time_duration                                   0\n",
      "Name: 1871, dtype: object, time             2019-10-15 15:16:05.592000+08:00\n",
      "thermal_cozie                                  10\n",
      "user_id                                   cresh08\n",
      "Space_id                                       -1\n",
      "room                     EXECUTIVE_SEMINAR_ROOM_A\n",
      "time_duration                                   0\n",
      "Name: 1875, dtype: object, time             2019-10-15 15:37:33.390000+08:00\n",
      "thermal_cozie                                  10\n",
      "user_id                                   cresh08\n",
      "Space_id                                       -1\n",
      "room                     EXECUTIVE_SEMINAR_ROOM_A\n",
      "time_duration                                   0\n",
      "Name: 1881, dtype: object, time             2019-10-15 15:51:58.822000+08:00\n",
      "thermal_cozie                                  10\n",
      "user_id                                   cresh08\n",
      "Space_id                                       -1\n",
      "room                     EXECUTIVE_SEMINAR_ROOM_A\n",
      "time_duration                                   0\n",
      "Name: 1884, dtype: object, time             2019-10-15 16:01:00.993000+08:00\n",
      "thermal_cozie                                  10\n",
      "user_id                                   cresh08\n",
      "Space_id                                       -1\n",
      "room                     EXECUTIVE_SEMINAR_ROOM_A\n",
      "time_duration                                   0\n",
      "Name: 1886, dtype: object, time             2019-10-15 16:10:09.676000+08:00\n",
      "thermal_cozie                                  10\n",
      "user_id                                   cresh08\n",
      "Space_id                                       42\n",
      "room                     EXECUTIVE_SEMINAR_ROOM_A\n",
      "time_duration                                   0\n",
      "Name: 1888, dtype: object], [time             2019-10-15 16:52:04.372000+08:00\n",
      "thermal_cozie                                  10\n",
      "user_id                                   cresh08\n",
      "Space_id                                       42\n",
      "room                     EXECUTIVE_SEMINAR_ROOM_A\n",
      "time_duration                                   0\n",
      "Name: 1899, dtype: object, time             2019-10-15 16:56:09.834000+08:00\n",
      "thermal_cozie                                  10\n",
      "user_id                                   cresh08\n",
      "Space_id                                       -1\n",
      "room                     EXECUTIVE_SEMINAR_ROOM_A\n",
      "time_duration                                   0\n",
      "Name: 1901, dtype: object, time             2019-10-15 17:03:45.912000+08:00\n",
      "thermal_cozie                                  10\n",
      "user_id                                   cresh08\n",
      "Space_id                                       -1\n",
      "room                     EXECUTIVE_SEMINAR_ROOM_A\n",
      "time_duration                                   0\n",
      "Name: 1903, dtype: object, time             2019-10-15 17:12:33.305000+08:00\n",
      "thermal_cozie                                  10\n",
      "user_id                                   cresh08\n",
      "Space_id                                       -1\n",
      "room                     EXECUTIVE_SEMINAR_ROOM_A\n",
      "time_duration                                   0\n",
      "Name: 1912, dtype: object, time             2019-10-15 17:21:57.394000+08:00\n",
      "thermal_cozie                                  10\n",
      "user_id                                   cresh08\n",
      "Space_id                                       42\n",
      "room                     EXECUTIVE_SEMINAR_ROOM_A\n",
      "time_duration                                   0\n",
      "Name: 1919, dtype: object, time             2019-10-15 17:32:46.805000+08:00\n",
      "thermal_cozie                                  10\n",
      "user_id                                   cresh08\n",
      "Space_id                                       -1\n",
      "room                                     CORRIDOR\n",
      "time_duration                                   0\n",
      "Name: 1925, dtype: object, time             2019-10-15 17:41:29.714000+08:00\n",
      "thermal_cozie                                  10\n",
      "user_id                                   cresh08\n",
      "Space_id                                       42\n",
      "room                     EXECUTIVE_SEMINAR_ROOM_A\n",
      "time_duration                                   0\n",
      "Name: 1929, dtype: object, time             2019-10-15 17:50:35.876000+08:00\n",
      "thermal_cozie                                  10\n",
      "user_id                                   cresh08\n",
      "Space_id                                       42\n",
      "room                     EXECUTIVE_SEMINAR_ROOM_A\n",
      "time_duration                                   0\n",
      "Name: 1932, dtype: object, time             2019-10-15 17:59:40.698000+08:00\n",
      "thermal_cozie                                  10\n",
      "user_id                                   cresh08\n",
      "Space_id                                       -1\n",
      "room                     EXECUTIVE_SEMINAR_ROOM_A\n",
      "time_duration                                   0\n",
      "Name: 1933, dtype: object, time             2019-10-15 18:08:42.556000+08:00\n",
      "thermal_cozie                                  10\n",
      "user_id                                   cresh08\n",
      "Space_id                                       -1\n",
      "room                     EXECUTIVE_SEMINAR_ROOM_A\n",
      "time_duration                                   0\n",
      "Name: 1934, dtype: object], [time             2019-10-16 18:48:28.744000+08:00\n",
      "thermal_cozie                                  10\n",
      "user_id                                   cresh08\n",
      "Space_id                                       20\n",
      "room                                IRC_LIBRARY_1\n",
      "time_duration                                   0\n",
      "Name: 2115, dtype: object, time             2019-10-16 18:57:47.624000+08:00\n",
      "thermal_cozie                                  10\n",
      "user_id                                   cresh08\n",
      "Space_id                                       20\n",
      "room                                IRC_LIBRARY_1\n",
      "time_duration                                   0\n",
      "Name: 2116, dtype: object, time             2019-10-16 19:06:50.453000+08:00\n",
      "thermal_cozie                                  10\n",
      "user_id                                   cresh08\n",
      "Space_id                                       20\n",
      "room                                IRC_LIBRARY_1\n",
      "time_duration                                   0\n",
      "Name: 2117, dtype: object, time             2019-10-16 19:15:57.860000+08:00\n",
      "thermal_cozie                                  10\n",
      "user_id                                   cresh08\n",
      "Space_id                                      NaN\n",
      "room                                          NaN\n",
      "time_duration                                   0\n",
      "Name: 2118, dtype: object, time             2019-10-16 19:24:59.278000+08:00\n",
      "thermal_cozie                                  10\n",
      "user_id                                   cresh08\n",
      "Space_id                                      NaN\n",
      "room                                          NaN\n",
      "time_duration                                   0\n",
      "Name: 2120, dtype: object, time             2019-10-16 19:34:03.773000+08:00\n",
      "thermal_cozie                                  10\n",
      "user_id                                   cresh08\n",
      "Space_id                                       20\n",
      "room                                IRC_LIBRARY_1\n",
      "time_duration                                   0\n",
      "Name: 2121, dtype: object, time             2019-10-16 19:43:17.358000+08:00\n",
      "thermal_cozie                                  10\n",
      "user_id                                   cresh08\n",
      "Space_id                                       20\n",
      "room                                IRC_LIBRARY_1\n",
      "time_duration                                   0\n",
      "Name: 2122, dtype: object]]\n"
     ]
    }
   ],
   "source": [
    "# Split the cluster up according to their timing\n",
    "for i in range(len(all_clusters)):\n",
    "    if (len(all_clusters[i]) > 1):\n",
    "        # If have more than 1 datapoint\n",
    "        tempList = all_clusters[i] # Store into tempList for splitting\n",
    "        tempList2 = [] # Store all relevant datapoints in a cluster together before pushing into flitered_cluster\n",
    "        nextDataPoint = []\n",
    "         # Check if current datapoint is part of the cluster and room is not null\n",
    "        for j in range(len(tempList)):\n",
    "            space = tempList[j].Space_id\n",
    "\n",
    "            if (j == 0):\n",
    "                tempList2.append(tempList[j])\n",
    "                last_time = tempList[j].time\n",
    "\n",
    "            elif (tempList[j].time < last_time + pd.Timedelta(minutes=30)):\n",
    "                tempList2.append(tempList[j])\n",
    "                last_time = tempList[j].time\n",
    "\n",
    "        filtered_cluster_before.append(tempList2)\n",
    "print(filtered_cluster_before)    "
   ]
  },
  {
   "cell_type": "markdown",
   "metadata": {},
   "source": [
    "# Keep clusters with more than a certain amount of data points and remove NaN"
   ]
  },
  {
   "cell_type": "code",
   "execution_count": 15,
   "metadata": {},
   "outputs": [
    {
     "name": "stdout",
     "output_type": "stream",
     "text": [
      "[[time             2019-10-04 13:54:12.312000+08:00\n",
      "thermal_cozie                                 NaN\n",
      "user_id                                   cresh08\n",
      "Space_id                                       45\n",
      "room                       BUILDING_MATERIALS_LAB\n",
      "time_duration                                   0\n",
      "Name: 125, dtype: object, time             2019-10-04 13:54:45.911000+08:00\n",
      "thermal_cozie                                  11\n",
      "user_id                                   cresh08\n",
      "Space_id                                       45\n",
      "room                       BUILDING_MATERIALS_LAB\n",
      "time_duration                                   0\n",
      "Name: 126, dtype: object, time             2019-10-04 13:58:35.284000+08:00\n",
      "thermal_cozie                                  11\n",
      "user_id                                   cresh08\n",
      "Space_id                                       45\n",
      "room                       BUILDING_MATERIALS_LAB\n",
      "time_duration                                   0\n",
      "Name: 127, dtype: object, time             2019-10-04 14:05:37.647000+08:00\n",
      "thermal_cozie                                  10\n",
      "user_id                                   cresh08\n",
      "Space_id                                       45\n",
      "room                       BUILDING_MATERIALS_LAB\n",
      "time_duration                                   0\n",
      "Name: 130, dtype: object, time             2019-10-04 14:15:08.139000+08:00\n",
      "thermal_cozie                                  10\n",
      "user_id                                   cresh08\n",
      "Space_id                                       45\n",
      "room                       BUILDING_MATERIALS_LAB\n",
      "time_duration                                   0\n",
      "Name: 131, dtype: object, time             2019-10-04 14:20:38.766000+08:00\n",
      "thermal_cozie                                  10\n",
      "user_id                                   cresh08\n",
      "Space_id                                       45\n",
      "room                       BUILDING_MATERIALS_LAB\n",
      "time_duration                                   0\n",
      "Name: 132, dtype: object, time             2019-10-04 14:32:11.533000+08:00\n",
      "thermal_cozie                                  10\n",
      "user_id                                   cresh08\n",
      "Space_id                                       -1\n",
      "room                             OUTSIDE_RESTROOM\n",
      "time_duration                                   0\n",
      "Name: 136, dtype: object], [], [], [], [], [], [], [], [], [], [time             2019-10-08 19:25:52.204000+08:00\n",
      "thermal_cozie                                  10\n",
      "user_id                                   cresh08\n",
      "Space_id                                       -1\n",
      "room                                     CORRIDOR\n",
      "time_duration                                   0\n",
      "Name: 688, dtype: object, time             2019-10-08 19:33:34.177000+08:00\n",
      "thermal_cozie                                  11\n",
      "user_id                                   cresh08\n",
      "Space_id                                       -1\n",
      "room                                          NaN\n",
      "time_duration                                   0\n",
      "Name: 690, dtype: object, time             2019-10-08 20:02:42.328000+08:00\n",
      "thermal_cozie                                  11\n",
      "user_id                                   cresh08\n",
      "Space_id                                       -1\n",
      "room                                IRC_LIBRARY_1\n",
      "time_duration                                   0\n",
      "Name: 698, dtype: object], [], [], [], [], [time             2019-10-15 13:38:26.398000+08:00\n",
      "thermal_cozie                                  10\n",
      "user_id                                   cresh08\n",
      "Space_id                                        0\n",
      "room                      OPEN_EXHIBITION_SPACE_2\n",
      "time_duration                                   0\n",
      "Name: 1847, dtype: object, time             2019-10-15 13:40:12.801000+08:00\n",
      "thermal_cozie                                  11\n",
      "user_id                                   cresh08\n",
      "Space_id                                        0\n",
      "room                      OPEN_EXHIBITION_SPACE_2\n",
      "time_duration                                   0\n",
      "Name: 1848, dtype: object, time             2019-10-15 13:51:38.740000+08:00\n",
      "thermal_cozie                                  10\n",
      "user_id                                   cresh08\n",
      "Space_id                                        1\n",
      "room                                         CAFE\n",
      "time_duration                                   0\n",
      "Name: 1851, dtype: object, time             2019-10-15 14:01:24.364000+08:00\n",
      "thermal_cozie                                  10\n",
      "user_id                                   cresh08\n",
      "Space_id                                        1\n",
      "room                                         CAFE\n",
      "time_duration                                   0\n",
      "Name: 1853, dtype: object, time             2019-10-15 14:17:02.903000+08:00\n",
      "thermal_cozie                                  10\n",
      "user_id                                   cresh08\n",
      "Space_id                                       -1\n",
      "room                      OPEN_EXHIBITION_SPACE_2\n",
      "time_duration                                   0\n",
      "Name: 1857, dtype: object, time             2019-10-15 14:26:15.509000+08:00\n",
      "thermal_cozie                                  10\n",
      "user_id                                   cresh08\n",
      "Space_id                                       -1\n",
      "room                      OPEN_EXHIBITION_SPACE_2\n",
      "time_duration                                   0\n",
      "Name: 1859, dtype: object, time             2019-10-15 14:39:10.765000+08:00\n",
      "thermal_cozie                                  10\n",
      "user_id                                   cresh08\n",
      "Space_id                                       -1\n",
      "room                      OPEN_EXHIBITION_SPACE_2\n",
      "time_duration                                   0\n",
      "Name: 1862, dtype: object, time             2019-10-15 14:48:22.416000+08:00\n",
      "thermal_cozie                                  11\n",
      "user_id                                   cresh08\n",
      "Space_id                                       -1\n",
      "room                      OPEN_EXHIBITION_SPACE_2\n",
      "time_duration                                   0\n",
      "Name: 1865, dtype: object, time             2019-10-15 14:58:06.604000+08:00\n",
      "thermal_cozie                                  10\n",
      "user_id                                   cresh08\n",
      "Space_id                                       -1\n",
      "room                      OPEN_EXHIBITION_SPACE_2\n",
      "time_duration                                   0\n",
      "Name: 1867, dtype: object, time             2019-10-15 15:07:05.999000+08:00\n",
      "thermal_cozie                                  10\n",
      "user_id                                   cresh08\n",
      "Space_id                                        0\n",
      "room                      OPEN_EXHIBITION_SPACE_2\n",
      "time_duration                                   0\n",
      "Name: 1871, dtype: object, time             2019-10-15 15:16:05.592000+08:00\n",
      "thermal_cozie                                  10\n",
      "user_id                                   cresh08\n",
      "Space_id                                       -1\n",
      "room                     EXECUTIVE_SEMINAR_ROOM_A\n",
      "time_duration                                   0\n",
      "Name: 1875, dtype: object, time             2019-10-15 15:37:33.390000+08:00\n",
      "thermal_cozie                                  10\n",
      "user_id                                   cresh08\n",
      "Space_id                                       -1\n",
      "room                     EXECUTIVE_SEMINAR_ROOM_A\n",
      "time_duration                                   0\n",
      "Name: 1881, dtype: object, time             2019-10-15 15:51:58.822000+08:00\n",
      "thermal_cozie                                  10\n",
      "user_id                                   cresh08\n",
      "Space_id                                       -1\n",
      "room                     EXECUTIVE_SEMINAR_ROOM_A\n",
      "time_duration                                   0\n",
      "Name: 1884, dtype: object, time             2019-10-15 16:01:00.993000+08:00\n",
      "thermal_cozie                                  10\n",
      "user_id                                   cresh08\n",
      "Space_id                                       -1\n",
      "room                     EXECUTIVE_SEMINAR_ROOM_A\n",
      "time_duration                                   0\n",
      "Name: 1886, dtype: object, time             2019-10-15 16:10:09.676000+08:00\n",
      "thermal_cozie                                  10\n",
      "user_id                                   cresh08\n",
      "Space_id                                       42\n",
      "room                     EXECUTIVE_SEMINAR_ROOM_A\n",
      "time_duration                                   0\n",
      "Name: 1888, dtype: object], [time             2019-10-15 16:52:04.372000+08:00\n",
      "thermal_cozie                                  10\n",
      "user_id                                   cresh08\n",
      "Space_id                                       42\n",
      "room                     EXECUTIVE_SEMINAR_ROOM_A\n",
      "time_duration                                   0\n",
      "Name: 1899, dtype: object, time             2019-10-15 16:56:09.834000+08:00\n",
      "thermal_cozie                                  10\n",
      "user_id                                   cresh08\n",
      "Space_id                                       -1\n",
      "room                     EXECUTIVE_SEMINAR_ROOM_A\n",
      "time_duration                                   0\n",
      "Name: 1901, dtype: object, time             2019-10-15 17:03:45.912000+08:00\n",
      "thermal_cozie                                  10\n",
      "user_id                                   cresh08\n",
      "Space_id                                       -1\n",
      "room                     EXECUTIVE_SEMINAR_ROOM_A\n",
      "time_duration                                   0\n",
      "Name: 1903, dtype: object, time             2019-10-15 17:12:33.305000+08:00\n",
      "thermal_cozie                                  10\n",
      "user_id                                   cresh08\n",
      "Space_id                                       -1\n",
      "room                     EXECUTIVE_SEMINAR_ROOM_A\n",
      "time_duration                                   0\n",
      "Name: 1912, dtype: object, time             2019-10-15 17:21:57.394000+08:00\n",
      "thermal_cozie                                  10\n",
      "user_id                                   cresh08\n",
      "Space_id                                       42\n",
      "room                     EXECUTIVE_SEMINAR_ROOM_A\n",
      "time_duration                                   0\n",
      "Name: 1919, dtype: object, time             2019-10-15 17:32:46.805000+08:00\n",
      "thermal_cozie                                  10\n",
      "user_id                                   cresh08\n",
      "Space_id                                       -1\n",
      "room                                     CORRIDOR\n",
      "time_duration                                   0\n",
      "Name: 1925, dtype: object, time             2019-10-15 17:41:29.714000+08:00\n",
      "thermal_cozie                                  10\n",
      "user_id                                   cresh08\n",
      "Space_id                                       42\n",
      "room                     EXECUTIVE_SEMINAR_ROOM_A\n",
      "time_duration                                   0\n",
      "Name: 1929, dtype: object, time             2019-10-15 17:50:35.876000+08:00\n",
      "thermal_cozie                                  10\n",
      "user_id                                   cresh08\n",
      "Space_id                                       42\n",
      "room                     EXECUTIVE_SEMINAR_ROOM_A\n",
      "time_duration                                   0\n",
      "Name: 1932, dtype: object, time             2019-10-15 17:59:40.698000+08:00\n",
      "thermal_cozie                                  10\n",
      "user_id                                   cresh08\n",
      "Space_id                                       -1\n",
      "room                     EXECUTIVE_SEMINAR_ROOM_A\n",
      "time_duration                                   0\n",
      "Name: 1933, dtype: object, time             2019-10-15 18:08:42.556000+08:00\n",
      "thermal_cozie                                  10\n",
      "user_id                                   cresh08\n",
      "Space_id                                       -1\n",
      "room                     EXECUTIVE_SEMINAR_ROOM_A\n",
      "time_duration                                   0\n",
      "Name: 1934, dtype: object], [time             2019-10-16 18:48:28.744000+08:00\n",
      "thermal_cozie                                  10\n",
      "user_id                                   cresh08\n",
      "Space_id                                       20\n",
      "room                                IRC_LIBRARY_1\n",
      "time_duration                                   0\n",
      "Name: 2115, dtype: object, time             2019-10-16 18:57:47.624000+08:00\n",
      "thermal_cozie                                  10\n",
      "user_id                                   cresh08\n",
      "Space_id                                       20\n",
      "room                                IRC_LIBRARY_1\n",
      "time_duration                                   0\n",
      "Name: 2116, dtype: object, time             2019-10-16 19:06:50.453000+08:00\n",
      "thermal_cozie                                  10\n",
      "user_id                                   cresh08\n",
      "Space_id                                       20\n",
      "room                                IRC_LIBRARY_1\n",
      "time_duration                                   0\n",
      "Name: 2117, dtype: object, time             2019-10-16 19:34:03.773000+08:00\n",
      "thermal_cozie                                  10\n",
      "user_id                                   cresh08\n",
      "Space_id                                       20\n",
      "room                                IRC_LIBRARY_1\n",
      "time_duration                                   0\n",
      "Name: 2121, dtype: object, time             2019-10-16 19:43:17.358000+08:00\n",
      "thermal_cozie                                  10\n",
      "user_id                                   cresh08\n",
      "Space_id                                       20\n",
      "room                                IRC_LIBRARY_1\n",
      "time_duration                                   0\n",
      "Name: 2122, dtype: object]]\n"
     ]
    }
   ],
   "source": [
    "# Split the cluster up according to their timing\n",
    "for i in range(len(all_clusters)):\n",
    "    if (len(all_clusters[i]) > 1):\n",
    "        # If have more than 1 datapoint\n",
    "        tempList = all_clusters[i] # Store into tempList for splitting\n",
    "        tempList2 = [] # Store all relevant datapoints in a cluster together before pushing into flitered_cluster\n",
    "        nextDataPoint = []\n",
    "         # Check if current datapoint is part of the cluster and room is not null\n",
    "        for j in range(len(tempList)):\n",
    "            space = tempList[j].Space_id\n",
    "            \n",
    "            if(isNaN(space) == False):    \n",
    "                if (j == 0):\n",
    "                    tempList2.append(tempList[j])\n",
    "                    last_time = tempList[j].time\n",
    "\n",
    "                elif (tempList[j].time < last_time + pd.Timedelta(minutes=30)):\n",
    "                    tempList2.append(tempList[j])\n",
    "                    last_time = tempList[j].time\n",
    "\n",
    "        filtered_cluster_after.append(tempList2)\n",
    "print(filtered_cluster_after)   "
   ]
  },
  {
   "cell_type": "markdown",
   "metadata": {},
   "source": [
    "# Show how many datapoints are in each cluster prior to removing"
   ]
  },
  {
   "cell_type": "code",
   "execution_count": 16,
   "metadata": {},
   "outputs": [
    {
     "name": "stdout",
     "output_type": "stream",
     "text": [
      "0:15 \n",
      "1:3 \n",
      "2:4 \n",
      "3:2 \n",
      "4:2 \n",
      "5:2 \n",
      "6:2 \n",
      "7:2 \n",
      "8:2 \n",
      "9:2 \n",
      "10:7 \n",
      "11:2 \n",
      "12:2 \n",
      "13:2 \n",
      "14:21 \n",
      "15:15 \n",
      "16:10 \n",
      "17:7 \n"
     ]
    }
   ],
   "source": [
    "for i in range(len(filtered_cluster_before)):\n",
    "    print(\"{0}:{1} \".format(i,(len(filtered_cluster_before[i]))))"
   ]
  },
  {
   "cell_type": "markdown",
   "metadata": {},
   "source": [
    "# Add in values to the duration difference column"
   ]
  },
  {
   "cell_type": "code",
   "execution_count": 17,
   "metadata": {},
   "outputs": [],
   "source": [
    "for i in range(len(filtered_cluster_before)):\n",
    "    # First variable have no time difference, thus 0.0s\n",
    "    timeDifferenceList = [0.0]\n",
    "    for j in range(len(filtered_cluster_before[i])):\n",
    "        if (j == 0):\n",
    "            last_time = filtered_cluster_before[i][j].time\n",
    "        else:\n",
    "            timeDiff = filtered_cluster_before[i][j].time - last_time\n",
    "            filtered_cluster_before[i][j].time_duration = (timeDiff.total_seconds()/60)\n",
    "            # Set the last time as the current one\n",
    "            last_time = filtered_cluster_before[i][j].time\n",
    "            \n",
    "for i in range(len(filtered_cluster_after)):\n",
    "    # First variable have no time difference, thus 0.0s\n",
    "    timeDifferenceList = [0.0]\n",
    "    for j in range(len(filtered_cluster_after[i])):\n",
    "        if (j == 0):\n",
    "            last_time = filtered_cluster_after[i][j].time\n",
    "        else:\n",
    "            timeDiff = filtered_cluster_after[i][j].time - last_time\n",
    "            filtered_cluster_after[i][j].time_duration = (timeDiff.total_seconds()/60)\n",
    "            # Set the last time as the current one\n",
    "            last_time = filtered_cluster_after[i][j].time"
   ]
  },
  {
   "cell_type": "markdown",
   "metadata": {},
   "source": [
    "# Plot all graph before removal of NaN"
   ]
  },
  {
   "cell_type": "code",
   "execution_count": 18,
   "metadata": {},
   "outputs": [
    {
     "data": {
      "image/png": "[encoded data removed]",
      "text/plain": [
       "<Figure size 432x288 with 1 Axes>"
      ]
     },
     "metadata": {
      "needs_background": "light"
     },
     "output_type": "display_data"
    }
   ],
   "source": [
    "# Plot all clusters into ONE graph\n",
    "thermal = []\n",
    "duration = []\n",
    "base = 0.0\n",
    "\n",
    "for i in range(len(filtered_cluster_before)):\n",
    "    for j in range(len(filtered_cluster_before[i])):\n",
    "        base += filtered_cluster_before[i][j].time_duration\n",
    "        thermal.append(filtered_cluster_before[i][j].thermal_cozie)\n",
    "        duration.append(base)\n",
    "        \n",
    "    plt.plot(duration,thermal)\n",
    "    plt.xlabel(\"Duration\")\n",
    "    plt.ylabel(\"Thermal Cozie\")\n",
    "    plt.ylim(9,11)\n",
    "    \n",
    "    # Re-init to remove previous cluster data\n",
    "    base = 0.0\n",
    "    thermal = []\n",
    "    duration = []"
   ]
  },
  {
   "cell_type": "markdown",
   "metadata": {},
   "source": [
    "# Plot all graph seperately before removal of NaN"
   ]
  },
  {
   "cell_type": "code",
   "execution_count": 19,
   "metadata": {},
   "outputs": [
    {
     "data": {
      "image/png": "[encoded data removed]",
      "text/plain": [
       "<Figure size 432x288 with 1 Axes>"
      ]
     },
     "metadata": {
      "needs_background": "light"
     },
     "output_type": "display_data"
    },
    {
     "data": {
      "image/png": "[encoded data removed]",
      "text/plain": [
       "<Figure size 432x288 with 1 Axes>"
      ]
     },
     "metadata": {
      "needs_background": "light"
     },
     "output_type": "display_data"
    },
    {
     "data": {
      "image/png": "[encoded data removed]",
      "text/plain": [
       "<Figure size 432x288 with 1 Axes>"
      ]
     },
     "metadata": {
      "needs_background": "light"
     },
     "output_type": "display_data"
    },
    {
     "data": {
      "image/png": "[encoded data removed]",
      "text/plain": [
       "<Figure size 432x288 with 1 Axes>"
      ]
     },
     "metadata": {
      "needs_background": "light"
     },
     "output_type": "display_data"
    },
    {
     "data": {
      "image/png": "[encoded data removed]",
      "text/plain": [
       "<Figure size 432x288 with 1 Axes>"
      ]
     },
     "metadata": {
      "needs_background": "light"
     },
     "output_type": "display_data"
    },
    {
     "data": {
      "image/png": "[encoded data removed]",
      "text/plain": [
       "<Figure size 432x288 with 1 Axes>"
      ]
     },
     "metadata": {
      "needs_background": "light"
     },
     "output_type": "display_data"
    },
    {
     "data": {
      "image/png": "[encoded data removed]",
      "text/plain": [
       "<Figure size 432x288 with 1 Axes>"
      ]
     },
     "metadata": {
      "needs_background": "light"
     },
     "output_type": "display_data"
    },
    {
     "data": {
      "image/png": "[encoded data removed]",
      "text/plain": [
       "<Figure size 432x288 with 1 Axes>"
      ]
     },
     "metadata": {
      "needs_background": "light"
     },
     "output_type": "display_data"
    },
    {
     "data": {
      "image/png": "[encoded data removed]",
      "text/plain": [
       "<Figure size 432x288 with 1 Axes>"
      ]
     },
     "metadata": {
      "needs_background": "light"
     },
     "output_type": "display_data"
    },
    {
     "data": {
      "image/png": "[encoded data removed]",
      "text/plain": [
       "<Figure size 432x288 with 1 Axes>"
      ]
     },
     "metadata": {
      "needs_background": "light"
     },
     "output_type": "display_data"
    },
    {
     "data": {
      "image/png": "[encoded data removed]",
      "text/plain": [
       "<Figure size 432x288 with 1 Axes>"
      ]
     },
     "metadata": {
      "needs_background": "light"
     },
     "output_type": "display_data"
    },
    {
     "data": {
      "image/png": "[encoded data removed]",
      "text/plain": [
       "<Figure size 432x288 with 1 Axes>"
      ]
     },
     "metadata": {
      "needs_background": "light"
     },
     "output_type": "display_data"
    },
    {
     "data": {
      "image/png": "[encoded data removed]",
      "text/plain": [
       "<Figure size 432x288 with 1 Axes>"
      ]
     },
     "metadata": {
      "needs_background": "light"
     },
     "output_type": "display_data"
    },
    {
     "data": {
      "image/png": "[encoded data removed]",
      "text/plain": [
       "<Figure size 432x288 with 1 Axes>"
      ]
     },
     "metadata": {
      "needs_background": "light"
     },
     "output_type": "display_data"
    },
    {
     "data": {
      "image/png": "[encoded data removed]",
      "text/plain": [
       "<Figure size 432x288 with 1 Axes>"
      ]
     },
     "metadata": {
      "needs_background": "light"
     },
     "output_type": "display_data"
    },
    {
     "data": {
      "image/png": "[encoded data removed]",
      "text/plain": [
       "<Figure size 432x288 with 1 Axes>"
      ]
     },
     "metadata": {
      "needs_background": "light"
     },
     "output_type": "display_data"
    },
    {
     "data": {
      "image/png": "[encoded data removed]",
      "text/plain": [
       "<Figure size 432x288 with 1 Axes>"
      ]
     },
     "metadata": {
      "needs_background": "light"
     },
     "output_type": "display_data"
    },
    {
     "data": {
      "image/png": "[encoded data removed]",
      "text/plain": [
       "<Figure size 432x288 with 1 Axes>"
      ]
     },
     "metadata": {
      "needs_background": "light"
     },
     "output_type": "display_data"
    }
   ],
   "source": [
    "# Plot all clusters into ONE graph\n",
    "thermal = []\n",
    "duration = []\n",
    "base = 0.0\n",
    "\n",
    "for i in range(len(filtered_cluster_before)):\n",
    "    for j in range(len(filtered_cluster_before[i])):\n",
    "        base += filtered_cluster_before[i][j].time_duration\n",
    "        thermal.append(filtered_cluster_before[i][j].thermal_cozie)\n",
    "        duration.append(base)\n",
    "    \n",
    "    plt.figure()\n",
    "    plt.scatter(duration,thermal)\n",
    "    plt.plot(duration,thermal)\n",
    "    plt.xlabel(\"Duration\")\n",
    "    plt.ylabel(\"Thermal Cozie\")\n",
    "    plt.yticks(thermal_cozie_ticks)\n",
    "    \n",
    "    # Re-init to remove previous cluster data\n",
    "    base = 0.0\n",
    "    thermal = []\n",
    "    duration = []"
   ]
  },
  {
   "cell_type": "markdown",
   "metadata": {},
   "source": [
    "# Remove list with zero elements inside filtered_cluster_after"
   ]
  },
  {
   "cell_type": "code",
   "execution_count": 20,
   "metadata": {},
   "outputs": [
    {
     "name": "stdout",
     "output_type": "stream",
     "text": [
      "[[time             2019-10-04 13:54:12.312000+08:00\n",
      "thermal_cozie                                 NaN\n",
      "user_id                                   cresh08\n",
      "Space_id                                       45\n",
      "room                       BUILDING_MATERIALS_LAB\n",
      "time_duration                                   0\n",
      "Name: 125, dtype: object, time             2019-10-04 13:54:45.911000+08:00\n",
      "thermal_cozie                                  11\n",
      "user_id                                   cresh08\n",
      "Space_id                                       45\n",
      "room                       BUILDING_MATERIALS_LAB\n",
      "time_duration                            0.559983\n",
      "Name: 126, dtype: object, time             2019-10-04 13:58:35.284000+08:00\n",
      "thermal_cozie                                  11\n",
      "user_id                                   cresh08\n",
      "Space_id                                       45\n",
      "room                       BUILDING_MATERIALS_LAB\n",
      "time_duration                             3.82288\n",
      "Name: 127, dtype: object, time             2019-10-04 14:05:37.647000+08:00\n",
      "thermal_cozie                                  10\n",
      "user_id                                   cresh08\n",
      "Space_id                                       45\n",
      "room                       BUILDING_MATERIALS_LAB\n",
      "time_duration                             7.03938\n",
      "Name: 130, dtype: object, time             2019-10-04 14:15:08.139000+08:00\n",
      "thermal_cozie                                  10\n",
      "user_id                                   cresh08\n",
      "Space_id                                       45\n",
      "room                       BUILDING_MATERIALS_LAB\n",
      "time_duration                              9.5082\n",
      "Name: 131, dtype: object, time             2019-10-04 14:20:38.766000+08:00\n",
      "thermal_cozie                                  10\n",
      "user_id                                   cresh08\n",
      "Space_id                                       45\n",
      "room                       BUILDING_MATERIALS_LAB\n",
      "time_duration                             5.51045\n",
      "Name: 132, dtype: object, time             2019-10-04 14:32:11.533000+08:00\n",
      "thermal_cozie                                  10\n",
      "user_id                                   cresh08\n",
      "Space_id                                       -1\n",
      "room                             OUTSIDE_RESTROOM\n",
      "time_duration                             11.5461\n",
      "Name: 136, dtype: object], [time             2019-10-08 19:25:52.204000+08:00\n",
      "thermal_cozie                                  10\n",
      "user_id                                   cresh08\n",
      "Space_id                                       -1\n",
      "room                                     CORRIDOR\n",
      "time_duration                                   0\n",
      "Name: 688, dtype: object, time             2019-10-08 19:33:34.177000+08:00\n",
      "thermal_cozie                                  11\n",
      "user_id                                   cresh08\n",
      "Space_id                                       -1\n",
      "room                                          NaN\n",
      "time_duration                             7.69955\n",
      "Name: 690, dtype: object, time             2019-10-08 20:02:42.328000+08:00\n",
      "thermal_cozie                                  11\n",
      "user_id                                   cresh08\n",
      "Space_id                                       -1\n",
      "room                                IRC_LIBRARY_1\n",
      "time_duration                             29.1359\n",
      "Name: 698, dtype: object], [time             2019-10-15 13:38:26.398000+08:00\n",
      "thermal_cozie                                  10\n",
      "user_id                                   cresh08\n",
      "Space_id                                        0\n",
      "room                      OPEN_EXHIBITION_SPACE_2\n",
      "time_duration                                   0\n",
      "Name: 1847, dtype: object, time             2019-10-15 13:40:12.801000+08:00\n",
      "thermal_cozie                                  11\n",
      "user_id                                   cresh08\n",
      "Space_id                                        0\n",
      "room                      OPEN_EXHIBITION_SPACE_2\n",
      "time_duration                             1.77338\n",
      "Name: 1848, dtype: object, time             2019-10-15 13:51:38.740000+08:00\n",
      "thermal_cozie                                  10\n",
      "user_id                                   cresh08\n",
      "Space_id                                        1\n",
      "room                                         CAFE\n",
      "time_duration                             11.4323\n",
      "Name: 1851, dtype: object, time             2019-10-15 14:01:24.364000+08:00\n",
      "thermal_cozie                                  10\n",
      "user_id                                   cresh08\n",
      "Space_id                                        1\n",
      "room                                         CAFE\n",
      "time_duration                              9.7604\n",
      "Name: 1853, dtype: object, time             2019-10-15 14:17:02.903000+08:00\n",
      "thermal_cozie                                  10\n",
      "user_id                                   cresh08\n",
      "Space_id                                       -1\n",
      "room                      OPEN_EXHIBITION_SPACE_2\n",
      "time_duration                             15.6423\n",
      "Name: 1857, dtype: object, time             2019-10-15 14:26:15.509000+08:00\n",
      "thermal_cozie                                  10\n",
      "user_id                                   cresh08\n",
      "Space_id                                       -1\n",
      "room                      OPEN_EXHIBITION_SPACE_2\n",
      "time_duration                              9.2101\n",
      "Name: 1859, dtype: object, time             2019-10-15 14:39:10.765000+08:00\n",
      "thermal_cozie                                  10\n",
      "user_id                                   cresh08\n",
      "Space_id                                       -1\n",
      "room                      OPEN_EXHIBITION_SPACE_2\n",
      "time_duration                             12.9209\n",
      "Name: 1862, dtype: object, time             2019-10-15 14:48:22.416000+08:00\n",
      "thermal_cozie                                  11\n",
      "user_id                                   cresh08\n",
      "Space_id                                       -1\n",
      "room                      OPEN_EXHIBITION_SPACE_2\n",
      "time_duration                             9.19418\n",
      "Name: 1865, dtype: object, time             2019-10-15 14:58:06.604000+08:00\n",
      "thermal_cozie                                  10\n",
      "user_id                                   cresh08\n",
      "Space_id                                       -1\n",
      "room                      OPEN_EXHIBITION_SPACE_2\n",
      "time_duration                             9.73647\n",
      "Name: 1867, dtype: object, time             2019-10-15 15:07:05.999000+08:00\n",
      "thermal_cozie                                  10\n",
      "user_id                                   cresh08\n",
      "Space_id                                        0\n",
      "room                      OPEN_EXHIBITION_SPACE_2\n",
      "time_duration                             8.98992\n",
      "Name: 1871, dtype: object, time             2019-10-15 15:16:05.592000+08:00\n",
      "thermal_cozie                                  10\n",
      "user_id                                   cresh08\n",
      "Space_id                                       -1\n",
      "room                     EXECUTIVE_SEMINAR_ROOM_A\n",
      "time_duration                             8.99322\n",
      "Name: 1875, dtype: object, time             2019-10-15 15:37:33.390000+08:00\n",
      "thermal_cozie                                  10\n",
      "user_id                                   cresh08\n",
      "Space_id                                       -1\n",
      "room                     EXECUTIVE_SEMINAR_ROOM_A\n",
      "time_duration                             21.4633\n",
      "Name: 1881, dtype: object, time             2019-10-15 15:51:58.822000+08:00\n",
      "thermal_cozie                                  10\n",
      "user_id                                   cresh08\n",
      "Space_id                                       -1\n",
      "room                     EXECUTIVE_SEMINAR_ROOM_A\n",
      "time_duration                             14.4239\n",
      "Name: 1884, dtype: object, time             2019-10-15 16:01:00.993000+08:00\n",
      "thermal_cozie                                  10\n",
      "user_id                                   cresh08\n",
      "Space_id                                       -1\n",
      "room                     EXECUTIVE_SEMINAR_ROOM_A\n",
      "time_duration                             9.03618\n",
      "Name: 1886, dtype: object, time             2019-10-15 16:10:09.676000+08:00\n",
      "thermal_cozie                                  10\n",
      "user_id                                   cresh08\n",
      "Space_id                                       42\n",
      "room                     EXECUTIVE_SEMINAR_ROOM_A\n",
      "time_duration                             9.14472\n",
      "Name: 1888, dtype: object], [time             2019-10-15 16:52:04.372000+08:00\n",
      "thermal_cozie                                  10\n",
      "user_id                                   cresh08\n",
      "Space_id                                       42\n",
      "room                     EXECUTIVE_SEMINAR_ROOM_A\n",
      "time_duration                                   0\n",
      "Name: 1899, dtype: object, time             2019-10-15 16:56:09.834000+08:00\n",
      "thermal_cozie                                  10\n",
      "user_id                                   cresh08\n",
      "Space_id                                       -1\n",
      "room                     EXECUTIVE_SEMINAR_ROOM_A\n",
      "time_duration                             4.09103\n",
      "Name: 1901, dtype: object, time             2019-10-15 17:03:45.912000+08:00\n",
      "thermal_cozie                                  10\n",
      "user_id                                   cresh08\n",
      "Space_id                                       -1\n",
      "room                     EXECUTIVE_SEMINAR_ROOM_A\n",
      "time_duration                              7.6013\n",
      "Name: 1903, dtype: object, time             2019-10-15 17:12:33.305000+08:00\n",
      "thermal_cozie                                  10\n",
      "user_id                                   cresh08\n",
      "Space_id                                       -1\n",
      "room                     EXECUTIVE_SEMINAR_ROOM_A\n",
      "time_duration                             8.78988\n",
      "Name: 1912, dtype: object, time             2019-10-15 17:21:57.394000+08:00\n",
      "thermal_cozie                                  10\n",
      "user_id                                   cresh08\n",
      "Space_id                                       42\n",
      "room                     EXECUTIVE_SEMINAR_ROOM_A\n",
      "time_duration                             9.40148\n",
      "Name: 1919, dtype: object, time             2019-10-15 17:32:46.805000+08:00\n",
      "thermal_cozie                                  10\n",
      "user_id                                   cresh08\n",
      "Space_id                                       -1\n",
      "room                                     CORRIDOR\n",
      "time_duration                             10.8235\n",
      "Name: 1925, dtype: object, time             2019-10-15 17:41:29.714000+08:00\n",
      "thermal_cozie                                  10\n",
      "user_id                                   cresh08\n",
      "Space_id                                       42\n",
      "room                     EXECUTIVE_SEMINAR_ROOM_A\n",
      "time_duration                             8.71515\n",
      "Name: 1929, dtype: object, time             2019-10-15 17:50:35.876000+08:00\n",
      "thermal_cozie                                  10\n",
      "user_id                                   cresh08\n",
      "Space_id                                       42\n",
      "room                     EXECUTIVE_SEMINAR_ROOM_A\n",
      "time_duration                              9.1027\n",
      "Name: 1932, dtype: object, time             2019-10-15 17:59:40.698000+08:00\n",
      "thermal_cozie                                  10\n",
      "user_id                                   cresh08\n",
      "Space_id                                       -1\n",
      "room                     EXECUTIVE_SEMINAR_ROOM_A\n",
      "time_duration                             9.08037\n",
      "Name: 1933, dtype: object, time             2019-10-15 18:08:42.556000+08:00\n",
      "thermal_cozie                                  10\n",
      "user_id                                   cresh08\n",
      "Space_id                                       -1\n",
      "room                     EXECUTIVE_SEMINAR_ROOM_A\n",
      "time_duration                             9.03097\n",
      "Name: 1934, dtype: object], [time             2019-10-16 18:48:28.744000+08:00\n",
      "thermal_cozie                                  10\n",
      "user_id                                   cresh08\n",
      "Space_id                                       20\n",
      "room                                IRC_LIBRARY_1\n",
      "time_duration                                   0\n",
      "Name: 2115, dtype: object, time             2019-10-16 18:57:47.624000+08:00\n",
      "thermal_cozie                                  10\n",
      "user_id                                   cresh08\n",
      "Space_id                                       20\n",
      "room                                IRC_LIBRARY_1\n",
      "time_duration                             9.31467\n",
      "Name: 2116, dtype: object, time             2019-10-16 19:06:50.453000+08:00\n",
      "thermal_cozie                                  10\n",
      "user_id                                   cresh08\n",
      "Space_id                                       20\n",
      "room                                IRC_LIBRARY_1\n",
      "time_duration                             9.04715\n",
      "Name: 2117, dtype: object, time             2019-10-16 19:34:03.773000+08:00\n",
      "thermal_cozie                                  10\n",
      "user_id                                   cresh08\n",
      "Space_id                                       20\n",
      "room                                IRC_LIBRARY_1\n",
      "time_duration                              27.222\n",
      "Name: 2121, dtype: object, time             2019-10-16 19:43:17.358000+08:00\n",
      "thermal_cozie                                  10\n",
      "user_id                                   cresh08\n",
      "Space_id                                       20\n",
      "room                                IRC_LIBRARY_1\n",
      "time_duration                             9.22642\n",
      "Name: 2122, dtype: object]]\n"
     ]
    }
   ],
   "source": [
    "tempList3 = []\n",
    "for i in range(len(filtered_cluster_after)):\n",
    "    if (len(filtered_cluster_after[i]) > 1):\n",
    "        tempList3.append(filtered_cluster_after[i])\n",
    "\n",
    "filtered_cluster_after = tempList3\n",
    "print(filtered_cluster_after)"
   ]
  },
  {
   "cell_type": "markdown",
   "metadata": {},
   "source": [
    "# Show how many datapoint are in each cluster after filtering NaN and zero element"
   ]
  },
  {
   "cell_type": "code",
   "execution_count": 21,
   "metadata": {},
   "outputs": [
    {
     "name": "stdout",
     "output_type": "stream",
     "text": [
      "0:7 \n",
      "1:3 \n",
      "2:15 \n",
      "3:10 \n",
      "4:5 \n"
     ]
    }
   ],
   "source": [
    "for i in range(len(filtered_cluster_after)):\n",
    "    print(\"{0}:{1} \".format(i,(len(filtered_cluster_after[i]))))"
   ]
  },
  {
   "cell_type": "markdown",
   "metadata": {},
   "source": [
    "# Plot all cluster into one graph"
   ]
  },
  {
   "cell_type": "code",
   "execution_count": 22,
   "metadata": {},
   "outputs": [
    {
     "data": {
      "image/png": "[encoded data removed]",
      "text/plain": [
       "<Figure size 432x288 with 1 Axes>"
      ]
     },
     "metadata": {
      "needs_background": "light"
     },
     "output_type": "display_data"
    }
   ],
   "source": [
    "# Plot all clusters into ONE graph\n",
    "thermal = []\n",
    "duration = []\n",
    "base = 0.0\n",
    "\n",
    "for i in range(len(filtered_cluster_after)):\n",
    "    for j in range(len(filtered_cluster_after[i])):\n",
    "        base += filtered_cluster_after[i][j].time_duration\n",
    "        thermal.append(filtered_cluster_after[i][j].thermal_cozie)\n",
    "        duration.append(base)\n",
    "        \n",
    "    plt.plot(duration,thermal)\n",
    "    plt.xlabel(\"Duration\")\n",
    "    plt.ylabel(\"Thermal Cozie\")\n",
    "    plt.yticks(thermal_cozie_ticks)\n",
    "    \n",
    "    # Re-init to remove previous cluster data\n",
    "    base = 0.0\n",
    "    thermal = []\n",
    "    duration = []"
   ]
  },
  {
   "cell_type": "markdown",
   "metadata": {},
   "source": [
    "# Plot all cluster into separate graphs"
   ]
  },
  {
   "cell_type": "code",
   "execution_count": 23,
   "metadata": {},
   "outputs": [
    {
     "data": {
      "image/png": "[encoded data removed]",
      "text/plain": [
       "<Figure size 432x288 with 1 Axes>"
      ]
     },
     "metadata": {
      "needs_background": "light"
     },
     "output_type": "display_data"
    },
    {
     "data": {
      "image/png": "[encoded data removed]",
      "text/plain": [
       "<Figure size 432x288 with 1 Axes>"
      ]
     },
     "metadata": {
      "needs_background": "light"
     },
     "output_type": "display_data"
    },
    {
     "data": {
      "image/png": "[encoded data removed]",
      "text/plain": [
       "<Figure size 432x288 with 1 Axes>"
      ]
     },
     "metadata": {
      "needs_background": "light"
     },
     "output_type": "display_data"
    },
    {
     "data": {
      "image/png": "[encoded data removed]",
      "text/plain": [
       "<Figure size 432x288 with 1 Axes>"
      ]
     },
     "metadata": {
      "needs_background": "light"
     },
     "output_type": "display_data"
    },
    {
     "data": {
      "image/png": "[encoded data removed]",
      "text/plain": [
       "<Figure size 432x288 with 1 Axes>"
      ]
     },
     "metadata": {
      "needs_background": "light"
     },
     "output_type": "display_data"
    }
   ],
   "source": [
    "# Plot all clusters into ONE graph\n",
    "thermal = []\n",
    "duration = []\n",
    "base = 0.0\n",
    "\n",
    "for i in range(len(filtered_cluster_after)):\n",
    "    for j in range(len(filtered_cluster_after[i])):\n",
    "        base += filtered_cluster_after[i][j].time_duration\n",
    "        thermal.append(filtered_cluster_after[i][j].thermal_cozie)\n",
    "        duration.append(base)\n",
    "    \n",
    "    plt.figure()\n",
    "    plt.scatter(duration,thermal)\n",
    "    plt.plot(duration,thermal)\n",
    "    plt.xlabel(\"Duration\")\n",
    "    plt.ylabel(\"Thermal Cozie\")\n",
    "    plt.yticks(thermal_cozie_ticks)\n",
    "    \n",
    "    # Re-init to remove previous cluster data\n",
    "    base = 0.0\n",
    "    thermal = []\n",
    "    duration = []"
   ]
  },
  {
   "cell_type": "markdown",
   "metadata": {},
   "source": [
    "# Plot test with vertical dotted lines"
   ]
  },
  {
   "cell_type": "code",
   "execution_count": 24,
   "metadata": {},
   "outputs": [
    {
     "data": {
      "image/png": "[encoded data removed]",
      "text/plain": [
       "<Figure size 432x288 with 1 Axes>"
      ]
     },
     "metadata": {
      "needs_background": "light"
     },
     "output_type": "display_data"
    },
    {
     "data": {
      "image/png": "[encoded data removed]",
      "text/plain": [
       "<Figure size 432x288 with 1 Axes>"
      ]
     },
     "metadata": {
      "needs_background": "light"
     },
     "output_type": "display_data"
    },
    {
     "data": {
      "image/png": "[encoded data removed]",
      "text/plain": [
       "<Figure size 432x288 with 1 Axes>"
      ]
     },
     "metadata": {
      "needs_background": "light"
     },
     "output_type": "display_data"
    },
    {
     "data": {
      "image/png": "[encoded data removed]",
      "text/plain": [
       "<Figure size 432x288 with 1 Axes>"
      ]
     },
     "metadata": {
      "needs_background": "light"
     },
     "output_type": "display_data"
    },
    {
     "data": {
      "image/png": "[encoded data removed]",
      "text/plain": [
       "<Figure size 432x288 with 1 Axes>"
      ]
     },
     "metadata": {
      "needs_background": "light"
     },
     "output_type": "display_data"
    }
   ],
   "source": [
    "# Plot all clusters into ONE graph\n",
    "thermal = []\n",
    "duration = []\n",
    "base = 0.0\n",
    "dotted_lines = []\n",
    "\n",
    "for i in range(len(filtered_cluster_after)):\n",
    "    tempList = []\n",
    "    for j in range(len(filtered_cluster_after[i])):\n",
    "        if (j > 1):\n",
    "            prev = filtered_cluster_after[i][j-1].room\n",
    "            curr = filtered_cluster_after[i][j].room\n",
    "            \n",
    "            if (prev != curr):\n",
    "                tempList.append(j)\n",
    "                \n",
    "    dotted_lines.append(tempList)\n",
    "\n",
    "#print(dotted_lines)\n",
    "    \n",
    "for i in range(len(filtered_cluster_after)):\n",
    "    lines = []\n",
    "    for j in range(len(filtered_cluster_after[i])):\n",
    "        base += filtered_cluster_after[i][j].time_duration\n",
    "        thermal.append(filtered_cluster_after[i][j].thermal_cozie)\n",
    "        duration.append(base)\n",
    "        \n",
    "    if(len(dotted_lines[i]) > 0):\n",
    "        while(len(dotted_lines[i]) > 0):\n",
    "            index = dotted_lines[i].pop()\n",
    "            xValue = duration[index]\n",
    "            plt.axvline(x = xValue, linestyle = '--', color = 'r')\n",
    "        \n",
    "        \n",
    "    plt.scatter(duration,thermal)\n",
    "    plt.plot(duration,thermal)\n",
    "    plt.xlabel(\"Duration\")\n",
    "    plt.ylabel(\"Thermal Cozie\")\n",
    "    plt.yticks(thermal_cozie_ticks)\n",
    "    plt.show()\n",
    "    \n",
    "    #print(filtered_cluster_after[0])\n",
    "    #print(duration)\n",
    "    \n",
    "    # Re-init to remove previous cluster data\n",
    "    base = 0.0\n",
    "    thermal = []\n",
    "    duration = []\n",
    "    "
   ]
  },
  {
   "cell_type": "code",
   "execution_count": null,
   "metadata": {},
   "outputs": [],
   "source": []
  }
 ],
 "metadata": {
  "kernelspec": {
   "display_name": "Python 3",
   "language": "python",
   "name": "python3"
  },
  "language_info": {
   "codemirror_mode": {
    "name": "ipython",
    "version": 3
   },
   "file_extension": ".py",
   "mimetype": "text/x-python",
   "name": "python",
   "nbconvert_exporter": "python",
   "pygments_lexer": "ipython3",
   "version": "3.7.4"
  }
 },
 "nbformat": 4,
 "nbformat_minor": 4
}
