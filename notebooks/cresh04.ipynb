{
 "cells": [
  {
   "cell_type": "code",
   "execution_count": 24,
   "metadata": {},
   "outputs": [],
   "source": [
    "import pandas as pd\n",
    "import numpy as np\n",
    "from matplotlib import pyplot as plt\n",
    "from matplotlib.backends.backend_agg import FigureCanvasAgg as FigureCanvas\n",
    "from matplotlib.figure import Figure"
   ]
  },
  {
   "cell_type": "code",
   "execution_count": 25,
   "metadata": {},
   "outputs": [],
   "source": [
    "fig = Figure()\n",
    "canvas = FigureCanvas(fig)\n",
    "ax = fig.add_subplot(111)"
   ]
  },
  {
   "cell_type": "code",
   "execution_count": 26,
   "metadata": {},
   "outputs": [],
   "source": [
    "def isNaN(num):\n",
    "    return num != num"
   ]
  },
  {
   "cell_type": "code",
   "execution_count": 27,
   "metadata": {},
   "outputs": [],
   "source": [
    "df = pd.read_csv (\"2019-10-29_cozie_full.csv\", index_col=0)\n",
    "filtered_df = df.drop (columns=['clothing','lat_cozie','lon_cozie','responseSpeed_cozie','Floor','Latitude','Longitude','noise_sensing','voc_sensing','index','comfort_cozie','heartRate_cozie','light_cozie','noise_cozie','co2_sensing','humidity_sensing','light_sensing','temperature_sensing','temperature_mbient'],axis=1)\n",
    "filtered_df['time'] = filtered_df['time'].apply(pd.Timestamp).dt.tz_convert('Asia/Singapore')\n",
    "# Add new column to calculate duration \n",
    "filtered_df['time_duration'] = 0"
   ]
  },
  {
   "cell_type": "code",
   "execution_count": 28,
   "metadata": {},
   "outputs": [],
   "source": [
    "grouped_users = filtered_df.groupby('user_id')\n",
    "\n",
    "all_clusters = [] # Raw data\n",
    "cluster_array = [] \n",
    "filtered_cluster_before = [] # Raw data that are clustered together according to duration\n",
    "filtered_cluster_after = []"
   ]
  },
  {
   "cell_type": "code",
   "execution_count": 29,
   "metadata": {},
   "outputs": [],
   "source": [
    "cresh01_df = grouped_users.get_group('cresh04')\n",
    "thermal_cozie_ticks = [9,10,11]"
   ]
  },
  {
   "cell_type": "code",
   "execution_count": 30,
   "metadata": {},
   "outputs": [],
   "source": [
    "# Gather all data relevant to specific user \n",
    "for index, datapoint in cresh01_df.iterrows():\n",
    "    # print (data.time)\n",
    "    if cluster_array == []:\n",
    "        cluster_array.append(datapoint)\n",
    "    else:\n",
    "        if datapoint.time < last_time + pd.Timedelta(minutes=30):\n",
    "            cluster_array.append(datapoint) \n",
    "        else:\n",
    "            all_clusters.append(cluster_array)\n",
    "            cluster_array = []\n",
    "            cluster_array.append(datapoint)\n",
    "\n",
    "    \n",
    "    last_time = datapoint.time\n",
    "#print (all_clusters)"
   ]
  },
  {
   "cell_type": "markdown",
   "metadata": {},
   "source": [
    "# Keep clusters with more than a certain amount of data points"
   ]
  },
  {
   "cell_type": "code",
   "execution_count": 31,
   "metadata": {},
   "outputs": [
    {
     "name": "stdout",
     "output_type": "stream",
     "text": [
      "[[time             2019-10-07 14:53:11.989000+08:00\n",
      "thermal_cozie                                  10\n",
      "user_id                                   cresh04\n",
      "Space_id                                       45\n",
      "room                       BUILDING_MATERIALS_LAB\n",
      "time_duration                                   0\n",
      "Name: 350, dtype: object, time             2019-10-07 15:01:00.132000+08:00\n",
      "thermal_cozie                                  10\n",
      "user_id                                   cresh04\n",
      "Space_id                                       45\n",
      "room                       BUILDING_MATERIALS_LAB\n",
      "time_duration                                   0\n",
      "Name: 353, dtype: object], [time             2019-10-08 09:04:04.444000+08:00\n",
      "thermal_cozie                                  10\n",
      "user_id                                   cresh04\n",
      "Space_id                                      NaN\n",
      "room                                          NaN\n",
      "time_duration                                   0\n",
      "Name: 470, dtype: object, time             2019-10-08 09:30:41.736000+08:00\n",
      "thermal_cozie                                  10\n",
      "user_id                                   cresh04\n",
      "Space_id                                      NaN\n",
      "room                                          NaN\n",
      "time_duration                                   0\n",
      "Name: 477, dtype: object, time             2019-10-08 09:52:13.630000+08:00\n",
      "thermal_cozie                                  10\n",
      "user_id                                   cresh04\n",
      "Space_id                                      NaN\n",
      "room                                          NaN\n",
      "time_duration                                   0\n",
      "Name: 485, dtype: object], [time             2019-10-08 14:36:53.795000+08:00\n",
      "thermal_cozie                                  10\n",
      "user_id                                   cresh04\n",
      "Space_id                                       45\n",
      "room                                     BUDS_LAB\n",
      "time_duration                                   0\n",
      "Name: 585, dtype: object, time             2019-10-08 14:53:47.052000+08:00\n",
      "thermal_cozie                                  10\n",
      "user_id                                   cresh04\n",
      "Space_id                                      NaN\n",
      "room                                          NaN\n",
      "time_duration                                   0\n",
      "Name: 590, dtype: object, time             2019-10-08 15:07:09.753000+08:00\n",
      "thermal_cozie                                  10\n",
      "user_id                                   cresh04\n",
      "Space_id                                      NaN\n",
      "room                                          NaN\n",
      "time_duration                                   0\n",
      "Name: 596, dtype: object, time             2019-10-08 15:08:19.911000+08:00\n",
      "thermal_cozie                                  10\n",
      "user_id                                   cresh04\n",
      "Space_id                                      NaN\n",
      "room                                          NaN\n",
      "time_duration                                   0\n",
      "Name: 597, dtype: object, time             2019-10-08 15:19:49.704000+08:00\n",
      "thermal_cozie                                  10\n",
      "user_id                                   cresh04\n",
      "Space_id                                      NaN\n",
      "room                                          NaN\n",
      "time_duration                                   0\n",
      "Name: 606, dtype: object, time             2019-10-08 15:40:45.706000+08:00\n",
      "thermal_cozie                                  10\n",
      "user_id                                   cresh04\n",
      "Space_id                                      NaN\n",
      "room                                          NaN\n",
      "time_duration                                   0\n",
      "Name: 611, dtype: object, time             2019-10-08 15:47:02.240000+08:00\n",
      "thermal_cozie                                  10\n",
      "user_id                                   cresh04\n",
      "Space_id                                      NaN\n",
      "room                                          NaN\n",
      "time_duration                                   0\n",
      "Name: 617, dtype: object, time             2019-10-08 15:56:35.765000+08:00\n",
      "thermal_cozie                                  10\n",
      "user_id                                   cresh04\n",
      "Space_id                                       20\n",
      "room                                IRC_LIBRARY_1\n",
      "time_duration                                   0\n",
      "Name: 620, dtype: object, time             2019-10-08 16:23:04.138000+08:00\n",
      "thermal_cozie                                  10\n",
      "user_id                                   cresh04\n",
      "Space_id                                      NaN\n",
      "room                                          NaN\n",
      "time_duration                                   0\n",
      "Name: 635, dtype: object], [time             2019-10-08 17:05:23.124000+08:00\n",
      "thermal_cozie                                  10\n",
      "user_id                                   cresh04\n",
      "Space_id                                      NaN\n",
      "room                                          NaN\n",
      "time_duration                                   0\n",
      "Name: 650, dtype: object, time             2019-10-08 17:12:13.707000+08:00\n",
      "thermal_cozie                                  10\n",
      "user_id                                   cresh04\n",
      "Space_id                                      NaN\n",
      "room                                          NaN\n",
      "time_duration                                   0\n",
      "Name: 653, dtype: object], [time             2019-10-09 14:53:01.660000+08:00\n",
      "thermal_cozie                                  10\n",
      "user_id                                   cresh04\n",
      "Space_id                                      NaN\n",
      "room                                          NaN\n",
      "time_duration                                   0\n",
      "Name: 919, dtype: object, time             2019-10-09 15:12:27.872000+08:00\n",
      "thermal_cozie                                  10\n",
      "user_id                                   cresh04\n",
      "Space_id                                      NaN\n",
      "room                                          NaN\n",
      "time_duration                                   0\n",
      "Name: 928, dtype: object], [time             2019-10-09 17:48:36.176000+08:00\n",
      "thermal_cozie                                  10\n",
      "user_id                                   cresh04\n",
      "Space_id                                       45\n",
      "room                                     BUDS_LAB\n",
      "time_duration                                   0\n",
      "Name: 999, dtype: object, time             2019-10-09 17:59:42.476000+08:00\n",
      "thermal_cozie                                  10\n",
      "user_id                                   cresh04\n",
      "Space_id                                       -1\n",
      "room                                IRC_LIBRARY_1\n",
      "time_duration                                   0\n",
      "Name: 1008, dtype: object, time             2019-10-09 18:22:36.749000+08:00\n",
      "thermal_cozie                                  10\n",
      "user_id                                   cresh04\n",
      "Space_id                                       20\n",
      "room                                IRC_LIBRARY_1\n",
      "time_duration                                   0\n",
      "Name: 1013, dtype: object], [time             2019-10-10 09:58:13.137000+08:00\n",
      "thermal_cozie                                  10\n",
      "user_id                                   cresh04\n",
      "Space_id                                      NaN\n",
      "room                                          NaN\n",
      "time_duration                                   0\n",
      "Name: 1058, dtype: object, time             2019-10-10 10:08:42.115000+08:00\n",
      "thermal_cozie                                  10\n",
      "user_id                                   cresh04\n",
      "Space_id                                       20\n",
      "room                                IRC_LIBRARY_1\n",
      "time_duration                                   0\n",
      "Name: 1061, dtype: object], [time             2019-10-10 11:02:01.469000+08:00\n",
      "thermal_cozie                                  10\n",
      "user_id                                   cresh04\n",
      "Space_id                                       20\n",
      "room                                IRC_LIBRARY_1\n",
      "time_duration                                   0\n",
      "Name: 1074, dtype: object, time             2019-10-10 11:15:48.838000+08:00\n",
      "thermal_cozie                                  10\n",
      "user_id                                   cresh04\n",
      "Space_id                                      NaN\n",
      "room                                          NaN\n",
      "time_duration                                   0\n",
      "Name: 1079, dtype: object, time             2019-10-10 11:34:48.585000+08:00\n",
      "thermal_cozie                                  10\n",
      "user_id                                   cresh04\n",
      "Space_id                                       -1\n",
      "room                                IRC_LIBRARY_1\n",
      "time_duration                                   0\n",
      "Name: 1082, dtype: object], [time             2019-10-10 12:06:29.704000+08:00\n",
      "thermal_cozie                                  10\n",
      "user_id                                   cresh04\n",
      "Space_id                                      NaN\n",
      "room                                          NaN\n",
      "time_duration                                   0\n",
      "Name: 1092, dtype: object, time             2019-10-10 12:20:59.536000+08:00\n",
      "thermal_cozie                                  10\n",
      "user_id                                   cresh04\n",
      "Space_id                                       20\n",
      "room                                IRC_LIBRARY_1\n",
      "time_duration                                   0\n",
      "Name: 1093, dtype: object, time             2019-10-10 12:36:53.694000+08:00\n",
      "thermal_cozie                                  10\n",
      "user_id                                   cresh04\n",
      "Space_id                                      NaN\n",
      "room                                          NaN\n",
      "time_duration                                   0\n",
      "Name: 1096, dtype: object], [time             2019-10-10 13:12:33.157000+08:00\n",
      "thermal_cozie                                  10\n",
      "user_id                                   cresh04\n",
      "Space_id                                      NaN\n",
      "room                                          NaN\n",
      "time_duration                                   0\n",
      "Name: 1105, dtype: object, time             2019-10-10 13:37:23.946000+08:00\n",
      "thermal_cozie                                  10\n",
      "user_id                                   cresh04\n",
      "Space_id                                      NaN\n",
      "room                                          NaN\n",
      "time_duration                                   0\n",
      "Name: 1112, dtype: object, time             2019-10-10 13:48:23.750000+08:00\n",
      "thermal_cozie                                  10\n",
      "user_id                                   cresh04\n",
      "Space_id                                      NaN\n",
      "room                                          NaN\n",
      "time_duration                                   0\n",
      "Name: 1116, dtype: object, time             2019-10-10 14:05:22.181000+08:00\n",
      "thermal_cozie                                  10\n",
      "user_id                                   cresh04\n",
      "Space_id                                      NaN\n",
      "room                                          NaN\n",
      "time_duration                                   0\n",
      "Name: 1123, dtype: object, time             2019-10-10 14:17:18.154000+08:00\n",
      "thermal_cozie                                  10\n",
      "user_id                                   cresh04\n",
      "Space_id                                      NaN\n",
      "room                                          NaN\n",
      "time_duration                                   0\n",
      "Name: 1129, dtype: object, time             2019-10-10 14:32:08.398000+08:00\n",
      "thermal_cozie                                  10\n",
      "user_id                                   cresh04\n",
      "Space_id                                      NaN\n",
      "room                                          NaN\n",
      "time_duration                                   0\n",
      "Name: 1133, dtype: object, time             2019-10-10 14:51:07.248000+08:00\n",
      "thermal_cozie                                  10\n",
      "user_id                                   cresh04\n",
      "Space_id                                      NaN\n",
      "room                                          NaN\n",
      "time_duration                                   0\n",
      "Name: 1141, dtype: object, time             2019-10-10 15:12:34.546000+08:00\n",
      "thermal_cozie                                  10\n",
      "user_id                                   cresh04\n",
      "Space_id                                      NaN\n",
      "room                                          NaN\n",
      "time_duration                                   0\n",
      "Name: 1147, dtype: object, time             2019-10-10 15:25:50.479000+08:00\n",
      "thermal_cozie                                  10\n",
      "user_id                                   cresh04\n",
      "Space_id                                      NaN\n",
      "room                                          NaN\n",
      "time_duration                                   0\n",
      "Name: 1151, dtype: object, time             2019-10-10 15:42:17.961000+08:00\n",
      "thermal_cozie                                  10\n",
      "user_id                                   cresh04\n",
      "Space_id                                      NaN\n",
      "room                                          NaN\n",
      "time_duration                                   0\n",
      "Name: 1158, dtype: object, time             2019-10-10 15:50:09.489000+08:00\n",
      "thermal_cozie                                  10\n",
      "user_id                                   cresh04\n",
      "Space_id                                      NaN\n",
      "room                                          NaN\n",
      "time_duration                                   0\n",
      "Name: 1160, dtype: object, time             2019-10-10 15:58:39.930000+08:00\n",
      "thermal_cozie                                  10\n",
      "user_id                                   cresh04\n",
      "Space_id                                      NaN\n",
      "room                                          NaN\n",
      "time_duration                                   0\n",
      "Name: 1166, dtype: object, time             2019-10-10 16:05:41.920000+08:00\n",
      "thermal_cozie                                  10\n",
      "user_id                                   cresh04\n",
      "Space_id                                       20\n",
      "room                                IRC_LIBRARY_1\n",
      "time_duration                                   0\n",
      "Name: 1169, dtype: object, time             2019-10-10 16:17:34.131000+08:00\n",
      "thermal_cozie                                  10\n",
      "user_id                                   cresh04\n",
      "Space_id                                      NaN\n",
      "room                                          NaN\n",
      "time_duration                                   0\n",
      "Name: 1174, dtype: object, time             2019-10-10 16:26:52.835000+08:00\n",
      "thermal_cozie                                  10\n",
      "user_id                                   cresh04\n",
      "Space_id                                      NaN\n",
      "room                                          NaN\n",
      "time_duration                                   0\n",
      "Name: 1180, dtype: object, time             2019-10-10 16:36:24.888000+08:00\n",
      "thermal_cozie                                  10\n",
      "user_id                                   cresh04\n",
      "Space_id                                      NaN\n",
      "room                                          NaN\n",
      "time_duration                                   0\n",
      "Name: 1183, dtype: object, time             2019-10-10 16:42:47.308000+08:00\n",
      "thermal_cozie                                  10\n",
      "user_id                                   cresh04\n",
      "Space_id                                      NaN\n",
      "room                                          NaN\n",
      "time_duration                                   0\n",
      "Name: 1186, dtype: object, time             2019-10-10 17:09:32.880000+08:00\n",
      "thermal_cozie                                  10\n",
      "user_id                                   cresh04\n",
      "Space_id                                       20\n",
      "room                                IRC_LIBRARY_1\n",
      "time_duration                                   0\n",
      "Name: 1201, dtype: object, time             2019-10-10 17:15:28.528000+08:00\n",
      "thermal_cozie                                  10\n",
      "user_id                                   cresh04\n",
      "Space_id                                       20\n",
      "room                                IRC_LIBRARY_1\n",
      "time_duration                                   0\n",
      "Name: 1204, dtype: object, time             2019-10-10 17:25:29.329000+08:00\n",
      "thermal_cozie                                  10\n",
      "user_id                                   cresh04\n",
      "Space_id                                       20\n",
      "room                                IRC_LIBRARY_1\n",
      "time_duration                                   0\n",
      "Name: 1208, dtype: object, time             2019-10-10 17:35:09.230000+08:00\n",
      "thermal_cozie                                  10\n",
      "user_id                                   cresh04\n",
      "Space_id                                       -1\n",
      "room                                IRC_LIBRARY_1\n",
      "time_duration                                   0\n",
      "Name: 1213, dtype: object, time             2019-10-10 17:45:44.865000+08:00\n",
      "thermal_cozie                                  10\n",
      "user_id                                   cresh04\n",
      "Space_id                                       20\n",
      "room                                IRC_LIBRARY_1\n",
      "time_duration                                   0\n",
      "Name: 1218, dtype: object, time             2019-10-10 17:57:11.861000+08:00\n",
      "thermal_cozie                                  10\n",
      "user_id                                   cresh04\n",
      "Space_id                                      NaN\n",
      "room                                          NaN\n",
      "time_duration                                   0\n",
      "Name: 1223, dtype: object, time             2019-10-10 18:08:10.915000+08:00\n",
      "thermal_cozie                                  10\n",
      "user_id                                   cresh04\n",
      "Space_id                                      NaN\n",
      "room                                          NaN\n",
      "time_duration                                   0\n",
      "Name: 1227, dtype: object], [time             2019-10-11 13:11:24.431000+08:00\n",
      "thermal_cozie                                  10\n",
      "user_id                                   cresh04\n",
      "Space_id                                      NaN\n",
      "room                                          NaN\n",
      "time_duration                                   0\n",
      "Name: 1382, dtype: object, time             2019-10-11 13:31:45.292000+08:00\n",
      "thermal_cozie                                  10\n",
      "user_id                                   cresh04\n",
      "Space_id                                      NaN\n",
      "room                                          NaN\n",
      "time_duration                                   0\n",
      "Name: 1393, dtype: object, time             2019-10-11 13:59:48.904000+08:00\n",
      "thermal_cozie                                  10\n",
      "user_id                                   cresh04\n",
      "Space_id                                        1\n",
      "room                                         CAFE\n",
      "time_duration                                   0\n",
      "Name: 1414, dtype: object], [time             2019-10-11 14:40:10.282000+08:00\n",
      "thermal_cozie                                  10\n",
      "user_id                                   cresh04\n",
      "Space_id                                       44\n",
      "room                                     CORRIDOR\n",
      "time_duration                                   0\n",
      "Name: 1442, dtype: object, time             2019-10-11 15:00:54.697000+08:00\n",
      "thermal_cozie                                  10\n",
      "user_id                                   cresh04\n",
      "Space_id                                       -1\n",
      "room                                IRC_LIBRARY_1\n",
      "time_duration                                   0\n",
      "Name: 1461, dtype: object, time             2019-10-11 15:12:24.696000+08:00\n",
      "thermal_cozie                                  10\n",
      "user_id                                   cresh04\n",
      "Space_id                                       20\n",
      "room                                IRC_LIBRARY_1\n",
      "time_duration                                   0\n",
      "Name: 1468, dtype: object, time             2019-10-11 15:23:25.631000+08:00\n",
      "thermal_cozie                                  10\n",
      "user_id                                   cresh04\n",
      "Space_id                                       20\n",
      "room                                IRC_LIBRARY_1\n",
      "time_duration                                   0\n",
      "Name: 1475, dtype: object, time             2019-10-11 15:33:18.720000+08:00\n",
      "thermal_cozie                                  10\n",
      "user_id                                   cresh04\n",
      "Space_id                                       20\n",
      "room                                IRC_LIBRARY_1\n",
      "time_duration                                   0\n",
      "Name: 1481, dtype: object, time             2019-10-11 15:42:44.851000+08:00\n",
      "thermal_cozie                                  10\n",
      "user_id                                   cresh04\n",
      "Space_id                                       20\n",
      "room                                IRC_LIBRARY_1\n",
      "time_duration                                   0\n",
      "Name: 1488, dtype: object, time             2019-10-11 15:53:15.880000+08:00\n",
      "thermal_cozie                                  10\n",
      "user_id                                   cresh04\n",
      "Space_id                                       20\n",
      "room                                IRC_LIBRARY_1\n",
      "time_duration                                   0\n",
      "Name: 1496, dtype: object, time             2019-10-11 16:02:58.734000+08:00\n",
      "thermal_cozie                                  10\n",
      "user_id                                   cresh04\n",
      "Space_id                                       20\n",
      "room                                IRC_LIBRARY_1\n",
      "time_duration                                   0\n",
      "Name: 1499, dtype: object, time             2019-10-11 16:16:41.119000+08:00\n",
      "thermal_cozie                                  10\n",
      "user_id                                   cresh04\n",
      "Space_id                                       20\n",
      "room                                IRC_LIBRARY_1\n",
      "time_duration                                   0\n",
      "Name: 1505, dtype: object, time             2019-10-11 16:22:10.424000+08:00\n",
      "thermal_cozie                                  10\n",
      "user_id                                   cresh04\n",
      "Space_id                                       -1\n",
      "room                                     CORRIDOR\n",
      "time_duration                                   0\n",
      "Name: 1507, dtype: object, time             2019-10-11 16:27:41.535000+08:00\n",
      "thermal_cozie                                  10\n",
      "user_id                                   cresh04\n",
      "Space_id                                       42\n",
      "room                     EXECUTIVE_SEMINAR_ROOM_A\n",
      "time_duration                                   0\n",
      "Name: 1513, dtype: object], [time             2019-10-11 17:02:08.701000+08:00\n",
      "thermal_cozie                                  10\n",
      "user_id                                   cresh04\n",
      "Space_id                                      NaN\n",
      "room                                          NaN\n",
      "time_duration                                   0\n",
      "Name: 1531, dtype: object, time             2019-10-11 17:11:09.768000+08:00\n",
      "thermal_cozie                                  10\n",
      "user_id                                   cresh04\n",
      "Space_id                                      NaN\n",
      "room                                          NaN\n",
      "time_duration                                   0\n",
      "Name: 1536, dtype: object, time             2019-10-11 17:24:03.668000+08:00\n",
      "thermal_cozie                                  10\n",
      "user_id                                   cresh04\n",
      "Space_id                                      NaN\n",
      "room                                          NaN\n",
      "time_duration                                   0\n",
      "Name: 1543, dtype: object], [time             2019-10-14 15:09:46.792000+08:00\n",
      "thermal_cozie                                  10\n",
      "user_id                                   cresh04\n",
      "Space_id                                      NaN\n",
      "room                                          NaN\n",
      "time_duration                                   0\n",
      "Name: 1741, dtype: object, time             2019-10-14 15:20:43.831000+08:00\n",
      "thermal_cozie                                  10\n",
      "user_id                                   cresh04\n",
      "Space_id                                      NaN\n",
      "room                                          NaN\n",
      "time_duration                                   0\n",
      "Name: 1745, dtype: object, time             2019-10-14 15:32:40.315000+08:00\n",
      "thermal_cozie                                  10\n",
      "user_id                                   cresh04\n",
      "Space_id                                       -1\n",
      "room                                IRC_LIBRARY_1\n",
      "time_duration                                   0\n",
      "Name: 1749, dtype: object, time             2019-10-14 15:44:06.016000+08:00\n",
      "thermal_cozie                                  10\n",
      "user_id                                   cresh04\n",
      "Space_id                                       20\n",
      "room                                IRC_LIBRARY_1\n",
      "time_duration                                   0\n",
      "Name: 1752, dtype: object, time             2019-10-14 15:54:41.374000+08:00\n",
      "thermal_cozie                                  10\n",
      "user_id                                   cresh04\n",
      "Space_id                                       20\n",
      "room                                IRC_LIBRARY_1\n",
      "time_duration                                   0\n",
      "Name: 1756, dtype: object, time             2019-10-14 16:05:37.443000+08:00\n",
      "thermal_cozie                                  10\n",
      "user_id                                   cresh04\n",
      "Space_id                                      NaN\n",
      "room                                          NaN\n",
      "time_duration                                   0\n",
      "Name: 1760, dtype: object, time             2019-10-14 16:19:31.615000+08:00\n",
      "thermal_cozie                                  10\n",
      "user_id                                   cresh04\n",
      "Space_id                                      NaN\n",
      "room                                          NaN\n",
      "time_duration                                   0\n",
      "Name: 1763, dtype: object, time             2019-10-14 16:38:56.134000+08:00\n",
      "thermal_cozie                                  10\n",
      "user_id                                   cresh04\n",
      "Space_id                                       20\n",
      "room                                IRC_LIBRARY_1\n",
      "time_duration                                   0\n",
      "Name: 1766, dtype: object, time             2019-10-14 16:46:28.953000+08:00\n",
      "thermal_cozie                                  10\n",
      "user_id                                   cresh04\n",
      "Space_id                                       20\n",
      "room                                IRC_LIBRARY_1\n",
      "time_duration                                   0\n",
      "Name: 1767, dtype: object, time             2019-10-14 17:15:38.372000+08:00\n",
      "thermal_cozie                                  10\n",
      "user_id                                   cresh04\n",
      "Space_id                                      NaN\n",
      "room                                          NaN\n",
      "time_duration                                   0\n",
      "Name: 1780, dtype: object, time             2019-10-14 17:19:52.115000+08:00\n",
      "thermal_cozie                                  10\n",
      "user_id                                   cresh04\n",
      "Space_id                                      NaN\n",
      "room                                          NaN\n",
      "time_duration                                   0\n",
      "Name: 1781, dtype: object], [time             2019-10-16 11:05:12.017000+08:00\n",
      "thermal_cozie                                  10\n",
      "user_id                                   cresh04\n",
      "Space_id                                       20\n",
      "room                                IRC_LIBRARY_1\n",
      "time_duration                                   0\n",
      "Name: 1958, dtype: object, time             2019-10-16 11:27:27.538000+08:00\n",
      "thermal_cozie                                  10\n",
      "user_id                                   cresh04\n",
      "Space_id                                      NaN\n",
      "room                                          NaN\n",
      "time_duration                                   0\n",
      "Name: 1966, dtype: object, time             2019-10-16 11:38:04.687000+08:00\n",
      "thermal_cozie                                  10\n",
      "user_id                                   cresh04\n",
      "Space_id                                      NaN\n",
      "room                                          NaN\n",
      "time_duration                                   0\n",
      "Name: 1969, dtype: object, time             2019-10-16 11:48:23.561000+08:00\n",
      "thermal_cozie                                  10\n",
      "user_id                                   cresh04\n",
      "Space_id                                      NaN\n",
      "room                                          NaN\n",
      "time_duration                                   0\n",
      "Name: 1974, dtype: object, time             2019-10-16 11:57:07.165000+08:00\n",
      "thermal_cozie                                  10\n",
      "user_id                                   cresh04\n",
      "Space_id                                      NaN\n",
      "room                                          NaN\n",
      "time_duration                                   0\n",
      "Name: 1978, dtype: object, time             2019-10-16 12:10:34.203000+08:00\n",
      "thermal_cozie                                  10\n",
      "user_id                                   cresh04\n",
      "Space_id                                      NaN\n",
      "room                                          NaN\n",
      "time_duration                                   0\n",
      "Name: 1983, dtype: object, time             2019-10-16 12:19:49.869000+08:00\n",
      "thermal_cozie                                  10\n",
      "user_id                                   cresh04\n",
      "Space_id                                      NaN\n",
      "room                                          NaN\n",
      "time_duration                                   0\n",
      "Name: 1985, dtype: object, time             2019-10-16 12:28:19.191000+08:00\n",
      "thermal_cozie                                  10\n",
      "user_id                                   cresh04\n",
      "Space_id                                       20\n",
      "room                                IRC_LIBRARY_1\n",
      "time_duration                                   0\n",
      "Name: 1987, dtype: object, time             2019-10-16 12:36:46.095000+08:00\n",
      "thermal_cozie                                  10\n",
      "user_id                                   cresh04\n",
      "Space_id                                        0\n",
      "room                      OPEN_EXHIBITION_SPACE_2\n",
      "time_duration                                   0\n",
      "Name: 1990, dtype: object, time             2019-10-16 12:51:01.540000+08:00\n",
      "thermal_cozie                                  10\n",
      "user_id                                   cresh04\n",
      "Space_id                                      NaN\n",
      "room                                          NaN\n",
      "time_duration                                   0\n",
      "Name: 1994, dtype: object, time             2019-10-16 13:01:32.895000+08:00\n",
      "thermal_cozie                                  10\n",
      "user_id                                   cresh04\n",
      "Space_id                                       -1\n",
      "room                                IRC_LIBRARY_1\n",
      "time_duration                                   0\n",
      "Name: 1999, dtype: object, time             2019-10-16 13:11:11.483000+08:00\n",
      "thermal_cozie                                  10\n",
      "user_id                                   cresh04\n",
      "Space_id                                       -1\n",
      "room                                IRC_LIBRARY_1\n",
      "time_duration                                   0\n",
      "Name: 2003, dtype: object, time             2019-10-16 13:21:04.421000+08:00\n",
      "thermal_cozie                                  10\n",
      "user_id                                   cresh04\n",
      "Space_id                                       21\n",
      "room                                          NaN\n",
      "time_duration                                   0\n",
      "Name: 2009, dtype: object, time             2019-10-16 13:31:58.296000+08:00\n",
      "thermal_cozie                                  10\n",
      "user_id                                   cresh04\n",
      "Space_id                                       20\n",
      "room                                IRC_LIBRARY_1\n",
      "time_duration                                   0\n",
      "Name: 2011, dtype: object, time             2019-10-16 13:41:43.111000+08:00\n",
      "thermal_cozie                                  10\n",
      "user_id                                   cresh04\n",
      "Space_id                                       20\n",
      "room                                IRC_LIBRARY_1\n",
      "time_duration                                   0\n",
      "Name: 2018, dtype: object, time             2019-10-16 13:51:31.759000+08:00\n",
      "thermal_cozie                                  10\n",
      "user_id                                   cresh04\n",
      "Space_id                                       20\n",
      "room                                IRC_LIBRARY_1\n",
      "time_duration                                   0\n",
      "Name: 2022, dtype: object, time             2019-10-16 14:07:10.144000+08:00\n",
      "thermal_cozie                                  10\n",
      "user_id                                   cresh04\n",
      "Space_id                                      NaN\n",
      "room                                          NaN\n",
      "time_duration                                   0\n",
      "Name: 2029, dtype: object, time             2019-10-16 14:16:18.728000+08:00\n",
      "thermal_cozie                                  10\n",
      "user_id                                   cresh04\n",
      "Space_id                                       -1\n",
      "room                                IRC_LIBRARY_1\n",
      "time_duration                                   0\n",
      "Name: 2032, dtype: object, time             2019-10-16 14:25:21.634000+08:00\n",
      "thermal_cozie                                  10\n",
      "user_id                                   cresh04\n",
      "Space_id                                       20\n",
      "room                                IRC_LIBRARY_1\n",
      "time_duration                                   0\n",
      "Name: 2034, dtype: object, time             2019-10-16 14:32:29.652000+08:00\n",
      "thermal_cozie                                  10\n",
      "user_id                                   cresh04\n",
      "Space_id                                      NaN\n",
      "room                                          NaN\n",
      "time_duration                                   0\n",
      "Name: 2037, dtype: object, time             2019-10-16 14:46:04.805000+08:00\n",
      "thermal_cozie                                  10\n",
      "user_id                                   cresh04\n",
      "Space_id                                       20\n",
      "room                                IRC_LIBRARY_1\n",
      "time_duration                                   0\n",
      "Name: 2043, dtype: object, time             2019-10-16 14:56:35.609000+08:00\n",
      "thermal_cozie                                  10\n",
      "user_id                                   cresh04\n",
      "Space_id                                      NaN\n",
      "room                                          NaN\n",
      "time_duration                                   0\n",
      "Name: 2048, dtype: object, time             2019-10-16 15:08:22.692000+08:00\n",
      "thermal_cozie                                  10\n",
      "user_id                                   cresh04\n",
      "Space_id                                       20\n",
      "room                                IRC_LIBRARY_1\n",
      "time_duration                                   0\n",
      "Name: 2052, dtype: object, time             2019-10-16 15:11:58.500000+08:00\n",
      "thermal_cozie                                  10\n",
      "user_id                                   cresh04\n",
      "Space_id                                       -1\n",
      "room                                IRC_LIBRARY_1\n",
      "time_duration                                   0\n",
      "Name: 2054, dtype: object, time             2019-10-16 15:20:12.684000+08:00\n",
      "thermal_cozie                                  10\n",
      "user_id                                   cresh04\n",
      "Space_id                                      NaN\n",
      "room                                          NaN\n",
      "time_duration                                   0\n",
      "Name: 2061, dtype: object]]\n"
     ]
    }
   ],
   "source": [
    "# Split the cluster up according to their timing\n",
    "for i in range(len(all_clusters)):\n",
    "    if (len(all_clusters[i]) > 1):\n",
    "        # If have more than 1 datapoint\n",
    "        tempList = all_clusters[i] # Store into tempList for splitting\n",
    "        tempList2 = [] # Store all relevant datapoints in a cluster together before pushing into flitered_cluster\n",
    "        nextDataPoint = []\n",
    "         # Check if current datapoint is part of the cluster and room is not null\n",
    "        for j in range(len(tempList)):\n",
    "            space = tempList[j].Space_id\n",
    "\n",
    "            if (j == 0):\n",
    "                tempList2.append(tempList[j])\n",
    "                last_time = tempList[j].time\n",
    "\n",
    "            elif (tempList[j].time < last_time + pd.Timedelta(minutes=30)):\n",
    "                tempList2.append(tempList[j])\n",
    "                last_time = tempList[j].time\n",
    "\n",
    "        filtered_cluster_before.append(tempList2)\n",
    "print(filtered_cluster_before)    "
   ]
  },
  {
   "cell_type": "markdown",
   "metadata": {},
   "source": [
    "# Keep clusters with more than a certain amount of data points and remove NaN"
   ]
  },
  {
   "cell_type": "code",
   "execution_count": 32,
   "metadata": {},
   "outputs": [
    {
     "name": "stdout",
     "output_type": "stream",
     "text": [
      "[[time             2019-10-07 14:53:11.989000+08:00\n",
      "thermal_cozie                                  10\n",
      "user_id                                   cresh04\n",
      "Space_id                                       45\n",
      "room                       BUILDING_MATERIALS_LAB\n",
      "time_duration                                   0\n",
      "Name: 350, dtype: object, time             2019-10-07 15:01:00.132000+08:00\n",
      "thermal_cozie                                  10\n",
      "user_id                                   cresh04\n",
      "Space_id                                       45\n",
      "room                       BUILDING_MATERIALS_LAB\n",
      "time_duration                                   0\n",
      "Name: 353, dtype: object], [], [time             2019-10-08 14:36:53.795000+08:00\n",
      "thermal_cozie                                  10\n",
      "user_id                                   cresh04\n",
      "Space_id                                       45\n",
      "room                                     BUDS_LAB\n",
      "time_duration                                   0\n",
      "Name: 585, dtype: object], [], [], [time             2019-10-09 17:48:36.176000+08:00\n",
      "thermal_cozie                                  10\n",
      "user_id                                   cresh04\n",
      "Space_id                                       45\n",
      "room                                     BUDS_LAB\n",
      "time_duration                                   0\n",
      "Name: 999, dtype: object, time             2019-10-09 17:59:42.476000+08:00\n",
      "thermal_cozie                                  10\n",
      "user_id                                   cresh04\n",
      "Space_id                                       -1\n",
      "room                                IRC_LIBRARY_1\n",
      "time_duration                                   0\n",
      "Name: 1008, dtype: object, time             2019-10-09 18:22:36.749000+08:00\n",
      "thermal_cozie                                  10\n",
      "user_id                                   cresh04\n",
      "Space_id                                       20\n",
      "room                                IRC_LIBRARY_1\n",
      "time_duration                                   0\n",
      "Name: 1013, dtype: object], [], [time             2019-10-10 11:02:01.469000+08:00\n",
      "thermal_cozie                                  10\n",
      "user_id                                   cresh04\n",
      "Space_id                                       20\n",
      "room                                IRC_LIBRARY_1\n",
      "time_duration                                   0\n",
      "Name: 1074, dtype: object], [], [], [], [time             2019-10-11 14:40:10.282000+08:00\n",
      "thermal_cozie                                  10\n",
      "user_id                                   cresh04\n",
      "Space_id                                       44\n",
      "room                                     CORRIDOR\n",
      "time_duration                                   0\n",
      "Name: 1442, dtype: object, time             2019-10-11 15:00:54.697000+08:00\n",
      "thermal_cozie                                  10\n",
      "user_id                                   cresh04\n",
      "Space_id                                       -1\n",
      "room                                IRC_LIBRARY_1\n",
      "time_duration                                   0\n",
      "Name: 1461, dtype: object, time             2019-10-11 15:12:24.696000+08:00\n",
      "thermal_cozie                                  10\n",
      "user_id                                   cresh04\n",
      "Space_id                                       20\n",
      "room                                IRC_LIBRARY_1\n",
      "time_duration                                   0\n",
      "Name: 1468, dtype: object, time             2019-10-11 15:23:25.631000+08:00\n",
      "thermal_cozie                                  10\n",
      "user_id                                   cresh04\n",
      "Space_id                                       20\n",
      "room                                IRC_LIBRARY_1\n",
      "time_duration                                   0\n",
      "Name: 1475, dtype: object, time             2019-10-11 15:33:18.720000+08:00\n",
      "thermal_cozie                                  10\n",
      "user_id                                   cresh04\n",
      "Space_id                                       20\n",
      "room                                IRC_LIBRARY_1\n",
      "time_duration                                   0\n",
      "Name: 1481, dtype: object, time             2019-10-11 15:42:44.851000+08:00\n",
      "thermal_cozie                                  10\n",
      "user_id                                   cresh04\n",
      "Space_id                                       20\n",
      "room                                IRC_LIBRARY_1\n",
      "time_duration                                   0\n",
      "Name: 1488, dtype: object, time             2019-10-11 15:53:15.880000+08:00\n",
      "thermal_cozie                                  10\n",
      "user_id                                   cresh04\n",
      "Space_id                                       20\n",
      "room                                IRC_LIBRARY_1\n",
      "time_duration                                   0\n",
      "Name: 1496, dtype: object, time             2019-10-11 16:02:58.734000+08:00\n",
      "thermal_cozie                                  10\n",
      "user_id                                   cresh04\n",
      "Space_id                                       20\n",
      "room                                IRC_LIBRARY_1\n",
      "time_duration                                   0\n",
      "Name: 1499, dtype: object, time             2019-10-11 16:16:41.119000+08:00\n",
      "thermal_cozie                                  10\n",
      "user_id                                   cresh04\n",
      "Space_id                                       20\n",
      "room                                IRC_LIBRARY_1\n",
      "time_duration                                   0\n",
      "Name: 1505, dtype: object, time             2019-10-11 16:22:10.424000+08:00\n",
      "thermal_cozie                                  10\n",
      "user_id                                   cresh04\n",
      "Space_id                                       -1\n",
      "room                                     CORRIDOR\n",
      "time_duration                                   0\n",
      "Name: 1507, dtype: object, time             2019-10-11 16:27:41.535000+08:00\n",
      "thermal_cozie                                  10\n",
      "user_id                                   cresh04\n",
      "Space_id                                       42\n",
      "room                     EXECUTIVE_SEMINAR_ROOM_A\n",
      "time_duration                                   0\n",
      "Name: 1513, dtype: object], [], [], [time             2019-10-16 11:05:12.017000+08:00\n",
      "thermal_cozie                                  10\n",
      "user_id                                   cresh04\n",
      "Space_id                                       20\n",
      "room                                IRC_LIBRARY_1\n",
      "time_duration                                   0\n",
      "Name: 1958, dtype: object]]\n"
     ]
    }
   ],
   "source": [
    "# Split the cluster up according to their timing\n",
    "for i in range(len(all_clusters)):\n",
    "    if (len(all_clusters[i]) > 1):\n",
    "        # If have more than 1 datapoint\n",
    "        tempList = all_clusters[i] # Store into tempList for splitting\n",
    "        tempList2 = [] # Store all relevant datapoints in a cluster together before pushing into flitered_cluster\n",
    "        nextDataPoint = []\n",
    "         # Check if current datapoint is part of the cluster and room is not null\n",
    "        for j in range(len(tempList)):\n",
    "            space = tempList[j].Space_id\n",
    "            \n",
    "            if(isNaN(space) == False):    \n",
    "                if (j == 0):\n",
    "                    tempList2.append(tempList[j])\n",
    "                    last_time = tempList[j].time\n",
    "\n",
    "                elif (tempList[j].time < last_time + pd.Timedelta(minutes=30)):\n",
    "                    tempList2.append(tempList[j])\n",
    "                    last_time = tempList[j].time\n",
    "\n",
    "        filtered_cluster_after.append(tempList2)\n",
    "print(filtered_cluster_after)   "
   ]
  },
  {
   "cell_type": "markdown",
   "metadata": {},
   "source": [
    "# Show how many datapoints are in each cluster prior to removing"
   ]
  },
  {
   "cell_type": "code",
   "execution_count": 33,
   "metadata": {},
   "outputs": [
    {
     "name": "stdout",
     "output_type": "stream",
     "text": [
      "0:2 \n",
      "1:3 \n",
      "2:9 \n",
      "3:2 \n",
      "4:2 \n",
      "5:3 \n",
      "6:2 \n",
      "7:3 \n",
      "8:3 \n",
      "9:24 \n",
      "10:3 \n",
      "11:11 \n",
      "12:3 \n",
      "13:11 \n",
      "14:25 \n"
     ]
    }
   ],
   "source": [
    "for i in range(len(filtered_cluster_before)):\n",
    "    print(\"{0}:{1} \".format(i,(len(filtered_cluster_before[i]))))"
   ]
  },
  {
   "cell_type": "markdown",
   "metadata": {},
   "source": [
    "# Add in values to the duration difference column"
   ]
  },
  {
   "cell_type": "code",
   "execution_count": 34,
   "metadata": {},
   "outputs": [],
   "source": [
    "for i in range(len(filtered_cluster_before)):\n",
    "    # First variable have no time difference, thus 0.0s\n",
    "    timeDifferenceList = [0.0]\n",
    "    for j in range(len(filtered_cluster_before[i])):\n",
    "        if (j == 0):\n",
    "            last_time = filtered_cluster_before[i][j].time\n",
    "        else:\n",
    "            timeDiff = filtered_cluster_before[i][j].time - last_time\n",
    "            filtered_cluster_before[i][j].time_duration = (timeDiff.total_seconds()/60)\n",
    "            # Set the last time as the current one\n",
    "            last_time = filtered_cluster_before[i][j].time\n",
    "            \n",
    "for i in range(len(filtered_cluster_after)):\n",
    "    # First variable have no time difference, thus 0.0s\n",
    "    timeDifferenceList = [0.0]\n",
    "    for j in range(len(filtered_cluster_after[i])):\n",
    "        if (j == 0):\n",
    "            last_time = filtered_cluster_after[i][j].time\n",
    "        else:\n",
    "            timeDiff = filtered_cluster_after[i][j].time - last_time\n",
    "            filtered_cluster_after[i][j].time_duration = (timeDiff.total_seconds()/60)\n",
    "            # Set the last time as the current one\n",
    "            last_time = filtered_cluster_after[i][j].time"
   ]
  },
  {
   "cell_type": "markdown",
   "metadata": {},
   "source": [
    "# Plot all graph before removal of NaN"
   ]
  },
  {
   "cell_type": "code",
   "execution_count": 35,
   "metadata": {},
   "outputs": [
    {
     "data": {
      "image/png": "[encoded data removed]",
      "text/plain": [
       "<Figure size 432x288 with 1 Axes>"
      ]
     },
     "metadata": {
      "needs_background": "light"
     },
     "output_type": "display_data"
    }
   ],
   "source": [
    "# Plot all clusters into ONE graph\n",
    "thermal = []\n",
    "duration = []\n",
    "base = 0.0\n",
    "\n",
    "for i in range(len(filtered_cluster_before)):\n",
    "    for j in range(len(filtered_cluster_before[i])):\n",
    "        base += filtered_cluster_before[i][j].time_duration\n",
    "        thermal.append(filtered_cluster_before[i][j].thermal_cozie)\n",
    "        duration.append(base)\n",
    "        \n",
    "    plt.plot(duration,thermal)\n",
    "    plt.xlabel(\"Duration\")\n",
    "    plt.ylabel(\"Thermal Cozie\")\n",
    "    plt.ylim(9,11)\n",
    "    \n",
    "    # Re-init to remove previous cluster data\n",
    "    base = 0.0\n",
    "    thermal = []\n",
    "    duration = []"
   ]
  },
  {
   "cell_type": "markdown",
   "metadata": {},
   "source": [
    "# Plot all graph seperately before removal of NaN"
   ]
  },
  {
   "cell_type": "code",
   "execution_count": 36,
   "metadata": {},
   "outputs": [
    {
     "data": {
      "image/png": "[encoded data removed]",
      "text/plain": [
       "<Figure size 432x288 with 1 Axes>"
      ]
     },
     "metadata": {
      "needs_background": "light"
     },
     "output_type": "display_data"
    },
    {
     "data": {
      "image/png": "[encoded data removed]",
      "text/plain": [
       "<Figure size 432x288 with 1 Axes>"
      ]
     },
     "metadata": {
      "needs_background": "light"
     },
     "output_type": "display_data"
    },
    {
     "data": {
      "image/png": "[encoded data removed]",
      "text/plain": [
       "<Figure size 432x288 with 1 Axes>"
      ]
     },
     "metadata": {
      "needs_background": "light"
     },
     "output_type": "display_data"
    },
    {
     "data": {
      "image/png": "[encoded data removed]",
      "text/plain": [
       "<Figure size 432x288 with 1 Axes>"
      ]
     },
     "metadata": {
      "needs_background": "light"
     },
     "output_type": "display_data"
    },
    {
     "data": {
      "image/png": "[encoded data removed]",
      "text/plain": [
       "<Figure size 432x288 with 1 Axes>"
      ]
     },
     "metadata": {
      "needs_background": "light"
     },
     "output_type": "display_data"
    },
    {
     "data": {
      "image/png": "[encoded data removed]",
      "text/plain": [
       "<Figure size 432x288 with 1 Axes>"
      ]
     },
     "metadata": {
      "needs_background": "light"
     },
     "output_type": "display_data"
    },
    {
     "data": {
      "image/png": "[encoded data removed]",
      "text/plain": [
       "<Figure size 432x288 with 1 Axes>"
      ]
     },
     "metadata": {
      "needs_background": "light"
     },
     "output_type": "display_data"
    },
    {
     "data": {
      "image/png": "[encoded data removed]",
      "text/plain": [
       "<Figure size 432x288 with 1 Axes>"
      ]
     },
     "metadata": {
      "needs_background": "light"
     },
     "output_type": "display_data"
    },
    {
     "data": {
      "image/png": "[encoded data removed]",
      "text/plain": [
       "<Figure size 432x288 with 1 Axes>"
      ]
     },
     "metadata": {
      "needs_background": "light"
     },
     "output_type": "display_data"
    },
    {
     "data": {
      "image/png": "[encoded data removed]",
      "text/plain": [
       "<Figure size 432x288 with 1 Axes>"
      ]
     },
     "metadata": {
      "needs_background": "light"
     },
     "output_type": "display_data"
    },
    {
     "data": {
      "image/png": "[encoded data removed]",
      "text/plain": [
       "<Figure size 432x288 with 1 Axes>"
      ]
     },
     "metadata": {
      "needs_background": "light"
     },
     "output_type": "display_data"
    },
    {
     "data": {
      "image/png": "[encoded data removed]",
      "text/plain": [
       "<Figure size 432x288 with 1 Axes>"
      ]
     },
     "metadata": {
      "needs_background": "light"
     },
     "output_type": "display_data"
    },
    {
     "data": {
      "image/png": "[encoded data removed]",
      "text/plain": [
       "<Figure size 432x288 with 1 Axes>"
      ]
     },
     "metadata": {
      "needs_background": "light"
     },
     "output_type": "display_data"
    },
    {
     "data": {
      "image/png": "[encoded data removed]",
      "text/plain": [
       "<Figure size 432x288 with 1 Axes>"
      ]
     },
     "metadata": {
      "needs_background": "light"
     },
     "output_type": "display_data"
    },
    {
     "data": {
      "image/png": "[encoded data removed]",
      "text/plain": [
       "<Figure size 432x288 with 1 Axes>"
      ]
     },
     "metadata": {
      "needs_background": "light"
     },
     "output_type": "display_data"
    }
   ],
   "source": [
    "# Plot all clusters into ONE graph\n",
    "thermal = []\n",
    "duration = []\n",
    "base = 0.0\n",
    "\n",
    "for i in range(len(filtered_cluster_before)):\n",
    "    for j in range(len(filtered_cluster_before[i])):\n",
    "        base += filtered_cluster_before[i][j].time_duration\n",
    "        thermal.append(filtered_cluster_before[i][j].thermal_cozie)\n",
    "        duration.append(base)\n",
    "    \n",
    "    plt.figure()\n",
    "    plt.scatter(duration,thermal)\n",
    "    plt.plot(duration,thermal)\n",
    "    plt.xlabel(\"Duration\")\n",
    "    plt.ylabel(\"Thermal Cozie\")\n",
    "    plt.yticks(thermal_cozie_ticks)\n",
    "    \n",
    "    # Re-init to remove previous cluster data\n",
    "    base = 0.0\n",
    "    thermal = []\n",
    "    duration = []"
   ]
  },
  {
   "cell_type": "markdown",
   "metadata": {},
   "source": [
    "# Remove list with zero elements inside filtered_cluster_after"
   ]
  },
  {
   "cell_type": "code",
   "execution_count": 37,
   "metadata": {},
   "outputs": [
    {
     "name": "stdout",
     "output_type": "stream",
     "text": [
      "[[time             2019-10-07 14:53:11.989000+08:00\n",
      "thermal_cozie                                  10\n",
      "user_id                                   cresh04\n",
      "Space_id                                       45\n",
      "room                       BUILDING_MATERIALS_LAB\n",
      "time_duration                                   0\n",
      "Name: 350, dtype: object, time             2019-10-07 15:01:00.132000+08:00\n",
      "thermal_cozie                                  10\n",
      "user_id                                   cresh04\n",
      "Space_id                                       45\n",
      "room                       BUILDING_MATERIALS_LAB\n",
      "time_duration                             7.80238\n",
      "Name: 353, dtype: object], [time             2019-10-09 17:48:36.176000+08:00\n",
      "thermal_cozie                                  10\n",
      "user_id                                   cresh04\n",
      "Space_id                                       45\n",
      "room                                     BUDS_LAB\n",
      "time_duration                                   0\n",
      "Name: 999, dtype: object, time             2019-10-09 17:59:42.476000+08:00\n",
      "thermal_cozie                                  10\n",
      "user_id                                   cresh04\n",
      "Space_id                                       -1\n",
      "room                                IRC_LIBRARY_1\n",
      "time_duration                              11.105\n",
      "Name: 1008, dtype: object, time             2019-10-09 18:22:36.749000+08:00\n",
      "thermal_cozie                                  10\n",
      "user_id                                   cresh04\n",
      "Space_id                                       20\n",
      "room                                IRC_LIBRARY_1\n",
      "time_duration                             22.9045\n",
      "Name: 1013, dtype: object], [time             2019-10-11 14:40:10.282000+08:00\n",
      "thermal_cozie                                  10\n",
      "user_id                                   cresh04\n",
      "Space_id                                       44\n",
      "room                                     CORRIDOR\n",
      "time_duration                                   0\n",
      "Name: 1442, dtype: object, time             2019-10-11 15:00:54.697000+08:00\n",
      "thermal_cozie                                  10\n",
      "user_id                                   cresh04\n",
      "Space_id                                       -1\n",
      "room                                IRC_LIBRARY_1\n",
      "time_duration                             20.7402\n",
      "Name: 1461, dtype: object, time             2019-10-11 15:12:24.696000+08:00\n",
      "thermal_cozie                                  10\n",
      "user_id                                   cresh04\n",
      "Space_id                                       20\n",
      "room                                IRC_LIBRARY_1\n",
      "time_duration                                11.5\n",
      "Name: 1468, dtype: object, time             2019-10-11 15:23:25.631000+08:00\n",
      "thermal_cozie                                  10\n",
      "user_id                                   cresh04\n",
      "Space_id                                       20\n",
      "room                                IRC_LIBRARY_1\n",
      "time_duration                             11.0156\n",
      "Name: 1475, dtype: object, time             2019-10-11 15:33:18.720000+08:00\n",
      "thermal_cozie                                  10\n",
      "user_id                                   cresh04\n",
      "Space_id                                       20\n",
      "room                                IRC_LIBRARY_1\n",
      "time_duration                             9.88482\n",
      "Name: 1481, dtype: object, time             2019-10-11 15:42:44.851000+08:00\n",
      "thermal_cozie                                  10\n",
      "user_id                                   cresh04\n",
      "Space_id                                       20\n",
      "room                                IRC_LIBRARY_1\n",
      "time_duration                             9.43552\n",
      "Name: 1488, dtype: object, time             2019-10-11 15:53:15.880000+08:00\n",
      "thermal_cozie                                  10\n",
      "user_id                                   cresh04\n",
      "Space_id                                       20\n",
      "room                                IRC_LIBRARY_1\n",
      "time_duration                             10.5171\n",
      "Name: 1496, dtype: object, time             2019-10-11 16:02:58.734000+08:00\n",
      "thermal_cozie                                  10\n",
      "user_id                                   cresh04\n",
      "Space_id                                       20\n",
      "room                                IRC_LIBRARY_1\n",
      "time_duration                             9.71423\n",
      "Name: 1499, dtype: object, time             2019-10-11 16:16:41.119000+08:00\n",
      "thermal_cozie                                  10\n",
      "user_id                                   cresh04\n",
      "Space_id                                       20\n",
      "room                                IRC_LIBRARY_1\n",
      "time_duration                             13.7064\n",
      "Name: 1505, dtype: object, time             2019-10-11 16:22:10.424000+08:00\n",
      "thermal_cozie                                  10\n",
      "user_id                                   cresh04\n",
      "Space_id                                       -1\n",
      "room                                     CORRIDOR\n",
      "time_duration                             5.48842\n",
      "Name: 1507, dtype: object, time             2019-10-11 16:27:41.535000+08:00\n",
      "thermal_cozie                                  10\n",
      "user_id                                   cresh04\n",
      "Space_id                                       42\n",
      "room                     EXECUTIVE_SEMINAR_ROOM_A\n",
      "time_duration                             5.51852\n",
      "Name: 1513, dtype: object]]\n"
     ]
    }
   ],
   "source": [
    "tempList3 = []\n",
    "for i in range(len(filtered_cluster_after)):\n",
    "    if (len(filtered_cluster_after[i]) > 1):\n",
    "        tempList3.append(filtered_cluster_after[i])\n",
    "\n",
    "filtered_cluster_after = tempList3\n",
    "print(filtered_cluster_after)"
   ]
  },
  {
   "cell_type": "markdown",
   "metadata": {},
   "source": [
    "# Show how many datapoint are in each cluster after filtering NaN and zero element"
   ]
  },
  {
   "cell_type": "code",
   "execution_count": 38,
   "metadata": {},
   "outputs": [
    {
     "name": "stdout",
     "output_type": "stream",
     "text": [
      "0:2 \n",
      "1:3 \n",
      "2:11 \n"
     ]
    }
   ],
   "source": [
    "for i in range(len(filtered_cluster_after)):\n",
    "    print(\"{0}:{1} \".format(i,(len(filtered_cluster_after[i]))))"
   ]
  },
  {
   "cell_type": "markdown",
   "metadata": {},
   "source": [
    "# Plot all cluster into one graph"
   ]
  },
  {
   "cell_type": "code",
   "execution_count": 39,
   "metadata": {},
   "outputs": [
    {
     "data": {
      "image/png": "[encoded data removed]",
      "text/plain": [
       "<Figure size 432x288 with 1 Axes>"
      ]
     },
     "metadata": {
      "needs_background": "light"
     },
     "output_type": "display_data"
    }
   ],
   "source": [
    "# Plot all clusters into ONE graph\n",
    "thermal = []\n",
    "duration = []\n",
    "base = 0.0\n",
    "\n",
    "for i in range(len(filtered_cluster_after)):\n",
    "    for j in range(len(filtered_cluster_after[i])):\n",
    "        base += filtered_cluster_after[i][j].time_duration\n",
    "        thermal.append(filtered_cluster_after[i][j].thermal_cozie)\n",
    "        duration.append(base)\n",
    "        \n",
    "    plt.plot(duration,thermal)\n",
    "    plt.xlabel(\"Duration\")\n",
    "    plt.ylabel(\"Thermal Cozie\")\n",
    "    plt.yticks(thermal_cozie_ticks)\n",
    "    \n",
    "    # Re-init to remove previous cluster data\n",
    "    base = 0.0\n",
    "    thermal = []\n",
    "    duration = []"
   ]
  },
  {
   "cell_type": "markdown",
   "metadata": {},
   "source": [
    "# Plot all cluster into separate graphs"
   ]
  },
  {
   "cell_type": "code",
   "execution_count": 40,
   "metadata": {},
   "outputs": [
    {
     "data": {
      "image/png": "[encoded data removed]",
      "text/plain": [
       "<Figure size 432x288 with 1 Axes>"
      ]
     },
     "metadata": {
      "needs_background": "light"
     },
     "output_type": "display_data"
    },
    {
     "data": {
      "image/png": "[encoded data removed]",
      "text/plain": [
       "<Figure size 432x288 with 1 Axes>"
      ]
     },
     "metadata": {
      "needs_background": "light"
     },
     "output_type": "display_data"
    },
    {
     "data": {
      "image/png": "[encoded data removed]",
      "text/plain": [
       "<Figure size 432x288 with 1 Axes>"
      ]
     },
     "metadata": {
      "needs_background": "light"
     },
     "output_type": "display_data"
    }
   ],
   "source": [
    "# Plot all clusters into ONE graph\n",
    "thermal = []\n",
    "duration = []\n",
    "base = 0.0\n",
    "\n",
    "for i in range(len(filtered_cluster_after)):\n",
    "    for j in range(len(filtered_cluster_after[i])):\n",
    "        base += filtered_cluster_after[i][j].time_duration\n",
    "        thermal.append(filtered_cluster_after[i][j].thermal_cozie)\n",
    "        duration.append(base)\n",
    "    \n",
    "    plt.figure()\n",
    "    plt.scatter(duration,thermal)\n",
    "    plt.plot(duration,thermal)\n",
    "    plt.xlabel(\"Duration\")\n",
    "    plt.ylabel(\"Thermal Cozie\")\n",
    "    plt.yticks(thermal_cozie_ticks)\n",
    "    \n",
    "    # Re-init to remove previous cluster data\n",
    "    base = 0.0\n",
    "    thermal = []\n",
    "    duration = []"
   ]
  },
  {
   "cell_type": "markdown",
   "metadata": {},
   "source": [
    "# Plot test with vertical dotted lines"
   ]
  },
  {
   "cell_type": "code",
   "execution_count": 41,
   "metadata": {},
   "outputs": [
    {
     "data": {
      "image/png": "[encoded data removed]",
      "text/plain": [
       "<Figure size 432x288 with 1 Axes>"
      ]
     },
     "metadata": {
      "needs_background": "light"
     },
     "output_type": "display_data"
    },
    {
     "data": {
      "image/png": "[encoded data removed]",
      "text/plain": [
       "<Figure size 432x288 with 1 Axes>"
      ]
     },
     "metadata": {
      "needs_background": "light"
     },
     "output_type": "display_data"
    },
    {
     "data": {
      "image/png": "[encoded data removed]",
      "text/plain": [
       "<Figure size 432x288 with 1 Axes>"
      ]
     },
     "metadata": {
      "needs_background": "light"
     },
     "output_type": "display_data"
    }
   ],
   "source": [
    "# Plot all clusters into ONE graph\n",
    "thermal = []\n",
    "duration = []\n",
    "base = 0.0\n",
    "dotted_lines = []\n",
    "\n",
    "for i in range(len(filtered_cluster_after)):\n",
    "    tempList = []\n",
    "    for j in range(len(filtered_cluster_after[i])):\n",
    "        if (j > 1):\n",
    "            prev = filtered_cluster_after[i][j-1].room\n",
    "            curr = filtered_cluster_after[i][j].room\n",
    "            \n",
    "            if (prev != curr):\n",
    "                tempList.append(j)\n",
    "                \n",
    "    dotted_lines.append(tempList)\n",
    "\n",
    "#print(dotted_lines)\n",
    "    \n",
    "for i in range(len(filtered_cluster_after)):\n",
    "    lines = []\n",
    "    for j in range(len(filtered_cluster_after[i])):\n",
    "        base += filtered_cluster_after[i][j].time_duration\n",
    "        thermal.append(filtered_cluster_after[i][j].thermal_cozie)\n",
    "        duration.append(base)\n",
    "        \n",
    "    if(len(dotted_lines[i]) > 0):\n",
    "        while(len(dotted_lines[i]) > 0):\n",
    "            index = dotted_lines[i].pop()\n",
    "            xValue = duration[index]\n",
    "            plt.axvline(x = xValue, linestyle = '--', color = 'r')\n",
    "        \n",
    "        \n",
    "    plt.scatter(duration,thermal)\n",
    "    plt.plot(duration,thermal)\n",
    "    plt.xlabel(\"Duration\")\n",
    "    plt.ylabel(\"Thermal Cozie\")\n",
    "    plt.yticks(thermal_cozie_ticks)\n",
    "    plt.show()\n",
    "    \n",
    "    #print(filtered_cluster_after[0])\n",
    "    #print(duration)\n",
    "    \n",
    "    # Re-init to remove previous cluster data\n",
    "    base = 0.0\n",
    "    thermal = []\n",
    "    duration = []\n",
    "    "
   ]
  },
  {
   "cell_type": "code",
   "execution_count": null,
   "metadata": {},
   "outputs": [],
   "source": []
  },
  {
   "cell_type": "code",
   "execution_count": null,
   "metadata": {},
   "outputs": [],
   "source": []
  },
  {
   "cell_type": "code",
   "execution_count": null,
   "metadata": {},
   "outputs": [],
   "source": []
  },
  {
   "cell_type": "code",
   "execution_count": null,
   "metadata": {},
   "outputs": [],
   "source": []
  }
 ],
 "metadata": {
  "kernelspec": {
   "display_name": "Python 3",
   "language": "python",
   "name": "python3"
  },
  "language_info": {
   "codemirror_mode": {
    "name": "ipython",
    "version": 3
   },
   "file_extension": ".py",
   "mimetype": "text/x-python",
   "name": "python",
   "nbconvert_exporter": "python",
   "pygments_lexer": "ipython3",
   "version": "3.7.4"
  }
 },
 "nbformat": 4,
 "nbformat_minor": 4
}
