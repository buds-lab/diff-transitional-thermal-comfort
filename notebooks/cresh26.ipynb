{
 "cells": [
  {
   "cell_type": "code",
   "execution_count": 1,
   "metadata": {},
   "outputs": [],
   "source": [
    "import pandas as pd\n",
    "import numpy as np\n",
    "from matplotlib import pyplot as plt\n",
    "from matplotlib.backends.backend_agg import FigureCanvasAgg as FigureCanvas\n",
    "from matplotlib.figure import Figure"
   ]
  },
  {
   "cell_type": "code",
   "execution_count": 2,
   "metadata": {},
   "outputs": [],
   "source": [
    "fig = Figure()\n",
    "canvas = FigureCanvas(fig)\n",
    "ax = fig.add_subplot(111)"
   ]
  },
  {
   "cell_type": "code",
   "execution_count": 3,
   "metadata": {},
   "outputs": [],
   "source": [
    "def isNaN(num):\n",
    "    return num != num"
   ]
  },
  {
   "cell_type": "code",
   "execution_count": 4,
   "metadata": {},
   "outputs": [],
   "source": [
    "df = pd.read_csv (\"2019-10-29_cozie_full.csv\", index_col=0)\n",
    "filtered_df = df.drop (columns=['clothing','lat_cozie','lon_cozie','responseSpeed_cozie','Floor','Latitude','Longitude','noise_sensing','voc_sensing','index','comfort_cozie','heartRate_cozie','light_cozie','noise_cozie','co2_sensing','humidity_sensing','light_sensing','temperature_sensing','temperature_mbient'],axis=1)\n",
    "filtered_df['time'] = filtered_df['time'].apply(pd.Timestamp).dt.tz_convert('Asia/Singapore')\n",
    "# Add new column to calculate duration \n",
    "filtered_df['time_duration'] = 0"
   ]
  },
  {
   "cell_type": "code",
   "execution_count": 5,
   "metadata": {},
   "outputs": [],
   "source": [
    "grouped_users = filtered_df.groupby('user_id')\n",
    "\n",
    "all_clusters = [] # Raw data\n",
    "cluster_array = [] \n",
    "filtered_cluster_before = [] # Raw data that are clustered together according to duration\n",
    "filtered_cluster_after = []"
   ]
  },
  {
   "cell_type": "code",
   "execution_count": 6,
   "metadata": {},
   "outputs": [],
   "source": [
    "cresh01_df = grouped_users.get_group('cresh26')\n",
    "thermal_cozie_ticks = [9,10,11]"
   ]
  },
  {
   "cell_type": "code",
   "execution_count": 7,
   "metadata": {},
   "outputs": [],
   "source": [
    "# Gather all data relevant to specific user \n",
    "for index, datapoint in cresh01_df.iterrows():\n",
    "    # print (data.time)\n",
    "    if cluster_array == []:\n",
    "        cluster_array.append(datapoint)\n",
    "    else:\n",
    "        if datapoint.time < last_time + pd.Timedelta(minutes=30):\n",
    "            cluster_array.append(datapoint) \n",
    "        else:\n",
    "            all_clusters.append(cluster_array)\n",
    "            cluster_array = []\n",
    "            cluster_array.append(datapoint)\n",
    "\n",
    "    \n",
    "    last_time = datapoint.time\n",
    "#print (all_clusters)"
   ]
  },
  {
   "cell_type": "markdown",
   "metadata": {},
   "source": [
    "# Keep clusters with more than a certain amount of data points"
   ]
  },
  {
   "cell_type": "code",
   "execution_count": 8,
   "metadata": {},
   "outputs": [
    {
     "name": "stdout",
     "output_type": "stream",
     "text": [
      "[[time             2019-10-17 13:10:52.115000+08:00\n",
      "thermal_cozie                                  10\n",
      "user_id                                   cresh26\n",
      "Space_id                                      NaN\n",
      "room                                          NaN\n",
      "time_duration                                   0\n",
      "Name: 2184, dtype: object, time             2019-10-17 13:26:47.584000+08:00\n",
      "thermal_cozie                                  11\n",
      "user_id                                   cresh26\n",
      "Space_id                                      NaN\n",
      "room                                          NaN\n",
      "time_duration                                   0\n",
      "Name: 2189, dtype: object], [time             2019-10-17 15:14:36.838000+08:00\n",
      "thermal_cozie                                  10\n",
      "user_id                                   cresh26\n",
      "Space_id                                      NaN\n",
      "room                                          NaN\n",
      "time_duration                                   0\n",
      "Name: 2225, dtype: object, time             2019-10-17 15:22:35.984000+08:00\n",
      "thermal_cozie                                  10\n",
      "user_id                                   cresh26\n",
      "Space_id                                      NaN\n",
      "room                                          NaN\n",
      "time_duration                                   0\n",
      "Name: 2227, dtype: object, time             2019-10-17 15:50:15.836000+08:00\n",
      "thermal_cozie                                  11\n",
      "user_id                                   cresh26\n",
      "Space_id                                      NaN\n",
      "room                                          NaN\n",
      "time_duration                                   0\n",
      "Name: 2235, dtype: object, time             2019-10-17 16:02:30.826000+08:00\n",
      "thermal_cozie                                  10\n",
      "user_id                                   cresh26\n",
      "Space_id                                      NaN\n",
      "room                                          NaN\n",
      "time_duration                                   0\n",
      "Name: 2237, dtype: object, time             2019-10-17 16:16:53.585000+08:00\n",
      "thermal_cozie                                  11\n",
      "user_id                                   cresh26\n",
      "Space_id                                      NaN\n",
      "room                                          NaN\n",
      "time_duration                                   0\n",
      "Name: 2240, dtype: object], [time             2019-10-17 17:59:12.396000+08:00\n",
      "thermal_cozie                                  10\n",
      "user_id                                   cresh26\n",
      "Space_id                                      NaN\n",
      "room                                          NaN\n",
      "time_duration                                   0\n",
      "Name: 2273, dtype: object, time             2019-10-17 18:15:13.456000+08:00\n",
      "thermal_cozie                                  10\n",
      "user_id                                   cresh26\n",
      "Space_id                                      NaN\n",
      "room                                          NaN\n",
      "time_duration                                   0\n",
      "Name: 2276, dtype: object], [time             2019-10-17 19:45:44.428000+08:00\n",
      "thermal_cozie                                  11\n",
      "user_id                                   cresh26\n",
      "Space_id                                      NaN\n",
      "room                                          NaN\n",
      "time_duration                                   0\n",
      "Name: 2294, dtype: object, time             2019-10-17 20:11:31.019000+08:00\n",
      "thermal_cozie                                  11\n",
      "user_id                                   cresh26\n",
      "Space_id                                      NaN\n",
      "room                                          NaN\n",
      "time_duration                                   0\n",
      "Name: 2296, dtype: object], [time             2019-10-17 20:52:23.952000+08:00\n",
      "thermal_cozie                                  10\n",
      "user_id                                   cresh26\n",
      "Space_id                                      NaN\n",
      "room                                          NaN\n",
      "time_duration                                   0\n",
      "Name: 2300, dtype: object, time             2019-10-17 21:17:02.181000+08:00\n",
      "thermal_cozie                                  10\n",
      "user_id                                   cresh26\n",
      "Space_id                                      NaN\n",
      "room                                          NaN\n",
      "time_duration                                   0\n",
      "Name: 2301, dtype: object, time             2019-10-17 21:33:14.868000+08:00\n",
      "thermal_cozie                                  10\n",
      "user_id                                   cresh26\n",
      "Space_id                                      NaN\n",
      "room                                          NaN\n",
      "time_duration                                   0\n",
      "Name: 2304, dtype: object, time             2019-10-17 21:50:47.362000+08:00\n",
      "thermal_cozie                                  10\n",
      "user_id                                   cresh26\n",
      "Space_id                                      NaN\n",
      "room                                          NaN\n",
      "time_duration                                   0\n",
      "Name: 2306, dtype: object], [time             2019-10-17 23:09:23.463000+08:00\n",
      "thermal_cozie                                  10\n",
      "user_id                                   cresh26\n",
      "Space_id                                      NaN\n",
      "room                                          NaN\n",
      "time_duration                                   0\n",
      "Name: 2315, dtype: object, time             2019-10-17 23:25:58.209000+08:00\n",
      "thermal_cozie                                  10\n",
      "user_id                                   cresh26\n",
      "Space_id                                      NaN\n",
      "room                                          NaN\n",
      "time_duration                                   0\n",
      "Name: 2316, dtype: object, time             2019-10-17 23:50:56.027000+08:00\n",
      "thermal_cozie                                  11\n",
      "user_id                                   cresh26\n",
      "Space_id                                      NaN\n",
      "room                                          NaN\n",
      "time_duration                                   0\n",
      "Name: 2317, dtype: object], [time             2019-10-18 09:15:33.431000+08:00\n",
      "thermal_cozie                                  10\n",
      "user_id                                   cresh26\n",
      "Space_id                                      NaN\n",
      "room                                          NaN\n",
      "time_duration                                   0\n",
      "Name: 2322, dtype: object, time             2019-10-18 09:29:41.572000+08:00\n",
      "thermal_cozie                                  10\n",
      "user_id                                   cresh26\n",
      "Space_id                                      NaN\n",
      "room                                          NaN\n",
      "time_duration                                   0\n",
      "Name: 2324, dtype: object, time             2019-10-18 09:49:11.140000+08:00\n",
      "thermal_cozie                                  10\n",
      "user_id                                   cresh26\n",
      "Space_id                                      NaN\n",
      "room                                          NaN\n",
      "time_duration                                   0\n",
      "Name: 2326, dtype: object], [time             2019-10-18 10:24:25.940000+08:00\n",
      "thermal_cozie                                  10\n",
      "user_id                                   cresh26\n",
      "Space_id                                       20\n",
      "room                                IRC_LIBRARY_1\n",
      "time_duration                                   0\n",
      "Name: 2338, dtype: object, time             2019-10-18 10:28:46.894000+08:00\n",
      "thermal_cozie                                  10\n",
      "user_id                                   cresh26\n",
      "Space_id                                       20\n",
      "room                                IRC_LIBRARY_1\n",
      "time_duration                                   0\n",
      "Name: 2340, dtype: object, time             2019-10-18 10:43:42.361000+08:00\n",
      "thermal_cozie                                  10\n",
      "user_id                                   cresh26\n",
      "Space_id                                       20\n",
      "room                                IRC_LIBRARY_1\n",
      "time_duration                                   0\n",
      "Name: 2343, dtype: object, time             2019-10-18 11:03:09.400000+08:00\n",
      "thermal_cozie                                  10\n",
      "user_id                                   cresh26\n",
      "Space_id                                       20\n",
      "room                                IRC_LIBRARY_1\n",
      "time_duration                                   0\n",
      "Name: 2350, dtype: object, time             2019-10-18 11:16:15.020000+08:00\n",
      "thermal_cozie                                  10\n",
      "user_id                                   cresh26\n",
      "Space_id                                       20\n",
      "room                                IRC_LIBRARY_1\n",
      "time_duration                                   0\n",
      "Name: 2355, dtype: object, time             2019-10-18 11:41:49.161000+08:00\n",
      "thermal_cozie                                  10\n",
      "user_id                                   cresh26\n",
      "Space_id                                       20\n",
      "room                                IRC_LIBRARY_1\n",
      "time_duration                                   0\n",
      "Name: 2359, dtype: object, time             2019-10-18 12:09:13.540000+08:00\n",
      "thermal_cozie                                  10\n",
      "user_id                                   cresh26\n",
      "Space_id                                       -1\n",
      "room                             OUTSIDE_RESTROOM\n",
      "time_duration                                   0\n",
      "Name: 2362, dtype: object, time             2019-10-18 12:16:22.932000+08:00\n",
      "thermal_cozie                                  10\n",
      "user_id                                   cresh26\n",
      "Space_id                                        0\n",
      "room                                         CAFE\n",
      "time_duration                                   0\n",
      "Name: 2366, dtype: object, time             2019-10-18 12:37:40.752000+08:00\n",
      "thermal_cozie                                  10\n",
      "user_id                                   cresh26\n",
      "Space_id                                        0\n",
      "room                      OPEN_EXHIBITION_SPACE_2\n",
      "time_duration                                   0\n",
      "Name: 2371, dtype: object, time             2019-10-18 12:51:33.980000+08:00\n",
      "thermal_cozie                                  10\n",
      "user_id                                   cresh26\n",
      "Space_id                                        0\n",
      "room                      OPEN_EXHIBITION_SPACE_2\n",
      "time_duration                                   0\n",
      "Name: 2375, dtype: object, time             2019-10-18 13:04:03.917000+08:00\n",
      "thermal_cozie                                  10\n",
      "user_id                                   cresh26\n",
      "Space_id                                       -1\n",
      "room                                          NaN\n",
      "time_duration                                   0\n",
      "Name: 2380, dtype: object, time             2019-10-18 13:16:58.452000+08:00\n",
      "thermal_cozie                                  10\n",
      "user_id                                   cresh26\n",
      "Space_id                                      NaN\n",
      "room                                          NaN\n",
      "time_duration                                   0\n",
      "Name: 2387, dtype: object], [time             2019-10-18 13:48:19.249000+08:00\n",
      "thermal_cozie                                  10\n",
      "user_id                                   cresh26\n",
      "Space_id                                      NaN\n",
      "room                                          NaN\n",
      "time_duration                                   0\n",
      "Name: 2397, dtype: object, time             2019-10-18 14:12:34.697000+08:00\n",
      "thermal_cozie                                  10\n",
      "user_id                                   cresh26\n",
      "Space_id                                      NaN\n",
      "room                                          NaN\n",
      "time_duration                                   0\n",
      "Name: 2407, dtype: object], [time             2019-10-18 14:59:53.877000+08:00\n",
      "thermal_cozie                                  10\n",
      "user_id                                   cresh26\n",
      "Space_id                                      NaN\n",
      "room                                          NaN\n",
      "time_duration                                   0\n",
      "Name: 2426, dtype: object, time             2019-10-18 15:02:45.400000+08:00\n",
      "thermal_cozie                                  10\n",
      "user_id                                   cresh26\n",
      "Space_id                                       20\n",
      "room                                IRC_LIBRARY_1\n",
      "time_duration                                   0\n",
      "Name: 2429, dtype: object, time             2019-10-18 15:23:16.344000+08:00\n",
      "thermal_cozie                                  10\n",
      "user_id                                   cresh26\n",
      "Space_id                                       -1\n",
      "room                                IRC_LIBRARY_1\n",
      "time_duration                                   0\n",
      "Name: 2440, dtype: object, time             2019-10-18 15:23:39.421000+08:00\n",
      "thermal_cozie                                  10\n",
      "user_id                                   cresh26\n",
      "Space_id                                       20\n",
      "room                                IRC_LIBRARY_1\n",
      "time_duration                                   0\n",
      "Name: 2441, dtype: object, time             2019-10-18 15:25:53.566000+08:00\n",
      "thermal_cozie                                  10\n",
      "user_id                                   cresh26\n",
      "Space_id                                       20\n",
      "room                                IRC_LIBRARY_1\n",
      "time_duration                                   0\n",
      "Name: 2442, dtype: object, time             2019-10-18 15:28:55.412000+08:00\n",
      "thermal_cozie                                  10\n",
      "user_id                                   cresh26\n",
      "Space_id                                        1\n",
      "room                                         CAFE\n",
      "time_duration                                   0\n",
      "Name: 2444, dtype: object, time             2019-10-18 15:48:07.249000+08:00\n",
      "thermal_cozie                                  10\n",
      "user_id                                   cresh26\n",
      "Space_id                                      NaN\n",
      "room                                          NaN\n",
      "time_duration                                   0\n",
      "Name: 2452, dtype: object], [time             2019-10-20 00:21:10.920000+08:00\n",
      "thermal_cozie                                  10\n",
      "user_id                                   cresh26\n",
      "Space_id                                      NaN\n",
      "room                                          NaN\n",
      "time_duration                                   0\n",
      "Name: 2510, dtype: object, time             2019-10-20 00:50:52.172000+08:00\n",
      "thermal_cozie                                  11\n",
      "user_id                                   cresh26\n",
      "Space_id                                      NaN\n",
      "room                                          NaN\n",
      "time_duration                                   0\n",
      "Name: 2511, dtype: object], [time             2019-10-20 01:25:53.964000+08:00\n",
      "thermal_cozie                                  10\n",
      "user_id                                   cresh26\n",
      "Space_id                                      NaN\n",
      "room                                          NaN\n",
      "time_duration                                   0\n",
      "Name: 2512, dtype: object, time             2019-10-20 01:43:34.617000+08:00\n",
      "thermal_cozie                                  10\n",
      "user_id                                   cresh26\n",
      "Space_id                                      NaN\n",
      "room                                          NaN\n",
      "time_duration                                   0\n",
      "Name: 2513, dtype: object], [time             2019-10-21 12:27:27.267000+08:00\n",
      "thermal_cozie                                 NaN\n",
      "user_id                                   cresh26\n",
      "Space_id                                       20\n",
      "room                                IRC_LIBRARY_1\n",
      "time_duration                                   0\n",
      "Name: 2597, dtype: object, time             2019-10-21 12:42:03.160000+08:00\n",
      "thermal_cozie                                  10\n",
      "user_id                                   cresh26\n",
      "Space_id                                       -1\n",
      "room                                          NaN\n",
      "time_duration                                   0\n",
      "Name: 2601, dtype: object, time             2019-10-21 12:44:26.841000+08:00\n",
      "thermal_cozie                                  10\n",
      "user_id                                   cresh26\n",
      "Space_id                                       42\n",
      "room                     EXECUTIVE_SEMINAR_ROOM_A\n",
      "time_duration                                   0\n",
      "Name: 2603, dtype: object, time             2019-10-21 13:07:15.226000+08:00\n",
      "thermal_cozie                                  10\n",
      "user_id                                   cresh26\n",
      "Space_id                                       42\n",
      "room                     EXECUTIVE_SEMINAR_ROOM_A\n",
      "time_duration                                   0\n",
      "Name: 2615, dtype: object, time             2019-10-21 13:19:43.788000+08:00\n",
      "thermal_cozie                                   9\n",
      "user_id                                   cresh26\n",
      "Space_id                                       42\n",
      "room                     EXECUTIVE_SEMINAR_ROOM_A\n",
      "time_duration                                   0\n",
      "Name: 2625, dtype: object, time             2019-10-21 13:21:28.456000+08:00\n",
      "thermal_cozie                                   9\n",
      "user_id                                   cresh26\n",
      "Space_id                                       42\n",
      "room                     EXECUTIVE_SEMINAR_ROOM_A\n",
      "time_duration                                   0\n",
      "Name: 2626, dtype: object, time             2019-10-21 13:34:42.301000+08:00\n",
      "thermal_cozie                                  10\n",
      "user_id                                   cresh26\n",
      "Space_id                                       42\n",
      "room                     EXECUTIVE_SEMINAR_ROOM_A\n",
      "time_duration                                   0\n",
      "Name: 2636, dtype: object, time             2019-10-21 13:36:58.704000+08:00\n",
      "thermal_cozie                                  10\n",
      "user_id                                   cresh26\n",
      "Space_id                                        0\n",
      "room                      OPEN_EXHIBITION_SPACE_2\n",
      "time_duration                                   0\n",
      "Name: 2637, dtype: object, time             2019-10-21 13:43:34.746000+08:00\n",
      "thermal_cozie                                  11\n",
      "user_id                                   cresh26\n",
      "Space_id                                      NaN\n",
      "room                                          NaN\n",
      "time_duration                                   0\n",
      "Name: 2640, dtype: object], [time             2019-10-21 21:48:43.309000+08:00\n",
      "thermal_cozie                                  10\n",
      "user_id                                   cresh26\n",
      "Space_id                                      NaN\n",
      "room                                          NaN\n",
      "time_duration                                   0\n",
      "Name: 2798, dtype: object, time             2019-10-21 22:09:05.444000+08:00\n",
      "thermal_cozie                                  10\n",
      "user_id                                   cresh26\n",
      "Space_id                                      NaN\n",
      "room                                          NaN\n",
      "time_duration                                   0\n",
      "Name: 2805, dtype: object, time             2019-10-21 22:38:07.180000+08:00\n",
      "thermal_cozie                                  10\n",
      "user_id                                   cresh26\n",
      "Space_id                                      NaN\n",
      "room                                          NaN\n",
      "time_duration                                   0\n",
      "Name: 2807, dtype: object, time             2019-10-21 23:02:02.132000+08:00\n",
      "thermal_cozie                                  10\n",
      "user_id                                   cresh26\n",
      "Space_id                                      NaN\n",
      "room                                          NaN\n",
      "time_duration                                   0\n",
      "Name: 2809, dtype: object, time             2019-10-21 23:29:47.739000+08:00\n",
      "thermal_cozie                                  10\n",
      "user_id                                   cresh26\n",
      "Space_id                                      NaN\n",
      "room                                          NaN\n",
      "time_duration                                   0\n",
      "Name: 2812, dtype: object, time             2019-10-21 23:56:58.176000+08:00\n",
      "thermal_cozie                                  10\n",
      "user_id                                   cresh26\n",
      "Space_id                                      NaN\n",
      "room                                          NaN\n",
      "time_duration                                   0\n",
      "Name: 2813, dtype: object, time             2019-10-22 00:19:37.944000+08:00\n",
      "thermal_cozie                                  10\n",
      "user_id                                   cresh26\n",
      "Space_id                                      NaN\n",
      "room                                          NaN\n",
      "time_duration                                   0\n",
      "Name: 2816, dtype: object], [time             2019-10-22 10:54:22.578000+08:00\n",
      "thermal_cozie                                  10\n",
      "user_id                                   cresh26\n",
      "Space_id                                      NaN\n",
      "room                                          NaN\n",
      "time_duration                                   0\n",
      "Name: 2841, dtype: object, time             2019-10-22 10:54:30.378000+08:00\n",
      "thermal_cozie                                   9\n",
      "user_id                                   cresh26\n",
      "Space_id                                      NaN\n",
      "room                                          NaN\n",
      "time_duration                                   0\n",
      "Name: 2842, dtype: object], [time             2019-10-22 19:01:40.249000+08:00\n",
      "thermal_cozie                                 NaN\n",
      "user_id                                   cresh26\n",
      "Space_id                                      NaN\n",
      "room                                          NaN\n",
      "time_duration                                   0\n",
      "Name: 2984, dtype: object, time             2019-10-22 19:27:30.267000+08:00\n",
      "thermal_cozie                                  10\n",
      "user_id                                   cresh26\n",
      "Space_id                                      NaN\n",
      "room                                          NaN\n",
      "time_duration                                   0\n",
      "Name: 2990, dtype: object], [time             2019-10-22 21:55:47.346000+08:00\n",
      "thermal_cozie                                  10\n",
      "user_id                                   cresh26\n",
      "Space_id                                      NaN\n",
      "room                                          NaN\n",
      "time_duration                                   0\n",
      "Name: 3023, dtype: object, time             2019-10-22 22:16:58.892000+08:00\n",
      "thermal_cozie                                  10\n",
      "user_id                                   cresh26\n",
      "Space_id                                      NaN\n",
      "room                                          NaN\n",
      "time_duration                                   0\n",
      "Name: 3026, dtype: object], [time             2019-10-22 22:50:12.306000+08:00\n",
      "thermal_cozie                                  10\n",
      "user_id                                   cresh26\n",
      "Space_id                                      NaN\n",
      "room                                          NaN\n",
      "time_duration                                   0\n",
      "Name: 3031, dtype: object, time             2019-10-22 23:07:34.006000+08:00\n",
      "thermal_cozie                                  10\n",
      "user_id                                   cresh26\n",
      "Space_id                                      NaN\n",
      "room                                          NaN\n",
      "time_duration                                   0\n",
      "Name: 3034, dtype: object], [time             2019-10-23 00:24:45.197000+08:00\n",
      "thermal_cozie                                  10\n",
      "user_id                                   cresh26\n",
      "Space_id                                      NaN\n",
      "room                                          NaN\n",
      "time_duration                                   0\n",
      "Name: 3042, dtype: object, time             2019-10-23 00:36:39.148000+08:00\n",
      "thermal_cozie                                   9\n",
      "user_id                                   cresh26\n",
      "Space_id                                      NaN\n",
      "room                                          NaN\n",
      "time_duration                                   0\n",
      "Name: 3045, dtype: object, time             2019-10-23 00:55:52.148000+08:00\n",
      "thermal_cozie                                   9\n",
      "user_id                                   cresh26\n",
      "Space_id                                      NaN\n",
      "room                                          NaN\n",
      "time_duration                                   0\n",
      "Name: 3047, dtype: object], [time             2019-10-23 11:54:38.750000+08:00\n",
      "thermal_cozie                                 NaN\n",
      "user_id                                   cresh26\n",
      "Space_id                                        0\n",
      "room                      OPEN_EXHIBITION_SPACE_2\n",
      "time_duration                                   0\n",
      "Name: 3096, dtype: object, time             2019-10-23 11:58:32.928000+08:00\n",
      "thermal_cozie                                  10\n",
      "user_id                                   cresh26\n",
      "Space_id                                       -1\n",
      "room                                          NaN\n",
      "time_duration                                   0\n",
      "Name: 3097, dtype: object, time             2019-10-23 12:04:23.941000+08:00\n",
      "thermal_cozie                                  10\n",
      "user_id                                   cresh26\n",
      "Space_id                                       42\n",
      "room                     EXECUTIVE_SEMINAR_ROOM_A\n",
      "time_duration                                   0\n",
      "Name: 3102, dtype: object, time             2019-10-23 12:20:53.141000+08:00\n",
      "thermal_cozie                                  10\n",
      "user_id                                   cresh26\n",
      "Space_id                                       42\n",
      "room                     EXECUTIVE_SEMINAR_ROOM_A\n",
      "time_duration                                   0\n",
      "Name: 3108, dtype: object, time             2019-10-23 12:21:06.556000+08:00\n",
      "thermal_cozie                                  10\n",
      "user_id                                   cresh26\n",
      "Space_id                                       42\n",
      "room                     EXECUTIVE_SEMINAR_ROOM_A\n",
      "time_duration                                   0\n",
      "Name: 3109, dtype: object, time             2019-10-23 12:38:29.782000+08:00\n",
      "thermal_cozie                                  10\n",
      "user_id                                   cresh26\n",
      "Space_id                                       42\n",
      "room                     EXECUTIVE_SEMINAR_ROOM_A\n",
      "time_duration                                   0\n",
      "Name: 3113, dtype: object, time             2019-10-23 13:01:11.388000+08:00\n",
      "thermal_cozie                                  10\n",
      "user_id                                   cresh26\n",
      "Space_id                                       42\n",
      "room                     EXECUTIVE_SEMINAR_ROOM_A\n",
      "time_duration                                   0\n",
      "Name: 3120, dtype: object, time             2019-10-23 13:21:20.099000+08:00\n",
      "thermal_cozie                                  10\n",
      "user_id                                   cresh26\n",
      "Space_id                                       42\n",
      "room                     EXECUTIVE_SEMINAR_ROOM_A\n",
      "time_duration                                   0\n",
      "Name: 3133, dtype: object, time             2019-10-23 13:30:37.405000+08:00\n",
      "thermal_cozie                                  10\n",
      "user_id                                   cresh26\n",
      "Space_id                                       -1\n",
      "room                             OUTSIDE_RESTROOM\n",
      "time_duration                                   0\n",
      "Name: 3137, dtype: object, time             2019-10-23 13:50:09.806000+08:00\n",
      "thermal_cozie                                  10\n",
      "user_id                                   cresh26\n",
      "Space_id                                       42\n",
      "room                     EXECUTIVE_SEMINAR_ROOM_A\n",
      "time_duration                                   0\n",
      "Name: 3142, dtype: object, time             2019-10-23 13:53:26.136000+08:00\n",
      "thermal_cozie                                   9\n",
      "user_id                                   cresh26\n",
      "Space_id                                       -1\n",
      "room                             OUTSIDE_RESTROOM\n",
      "time_duration                                   0\n",
      "Name: 3145, dtype: object], [time             2019-10-23 15:57:57.148000+08:00\n",
      "thermal_cozie                                  10\n",
      "user_id                                   cresh26\n",
      "Space_id                                        0\n",
      "room                      OPEN_EXHIBITION_SPACE_2\n",
      "time_duration                                   0\n",
      "Name: 3192, dtype: object, time             2019-10-23 16:00:58.408000+08:00\n",
      "thermal_cozie                                  10\n",
      "user_id                                   cresh26\n",
      "Space_id                                       20\n",
      "room                                IRC_LIBRARY_1\n",
      "time_duration                                   0\n",
      "Name: 3194, dtype: object, time             2019-10-23 16:07:34.268000+08:00\n",
      "thermal_cozie                                  10\n",
      "user_id                                   cresh26\n",
      "Space_id                                       36\n",
      "room                                          NaN\n",
      "time_duration                                   0\n",
      "Name: 3197, dtype: object], [time             2019-10-24 09:47:42.668000+08:00\n",
      "thermal_cozie                                 NaN\n",
      "user_id                                   cresh26\n",
      "Space_id                                       20\n",
      "room                                IRC_LIBRARY_1\n",
      "time_duration                                   0\n",
      "Name: 3350, dtype: object, time             2019-10-24 09:49:08.712000+08:00\n",
      "thermal_cozie                                  10\n",
      "user_id                                   cresh26\n",
      "Space_id                                       20\n",
      "room                                IRC_LIBRARY_1\n",
      "time_duration                                   0\n",
      "Name: 3351, dtype: object], [time             2019-10-24 12:03:51.675000+08:00\n",
      "thermal_cozie                                  11\n",
      "user_id                                   cresh26\n",
      "Space_id                                       43\n",
      "room                     EXECUTIVE_SEMINAR_ROOM_B\n",
      "time_duration                                   0\n",
      "Name: 3386, dtype: object, time             2019-10-24 12:20:15.168000+08:00\n",
      "thermal_cozie                                  11\n",
      "user_id                                   cresh26\n",
      "Space_id                                      NaN\n",
      "room                                          NaN\n",
      "time_duration                                   0\n",
      "Name: 3394, dtype: object, time             2019-10-24 12:38:25.344000+08:00\n",
      "thermal_cozie                                  10\n",
      "user_id                                   cresh26\n",
      "Space_id                                       42\n",
      "room                     EXECUTIVE_SEMINAR_ROOM_A\n",
      "time_duration                                   0\n",
      "Name: 3402, dtype: object, time             2019-10-24 12:39:03.296000+08:00\n",
      "thermal_cozie                                  10\n",
      "user_id                                   cresh26\n",
      "Space_id                                       42\n",
      "room                     EXECUTIVE_SEMINAR_ROOM_A\n",
      "time_duration                                   0\n",
      "Name: 3403, dtype: object, time             2019-10-24 12:53:06.165000+08:00\n",
      "thermal_cozie                                  10\n",
      "user_id                                   cresh26\n",
      "Space_id                                       43\n",
      "room                     EXECUTIVE_SEMINAR_ROOM_B\n",
      "time_duration                                   0\n",
      "Name: 3408, dtype: object, time             2019-10-24 13:02:26.415000+08:00\n",
      "thermal_cozie                                  10\n",
      "user_id                                   cresh26\n",
      "Space_id                                       43\n",
      "room                     EXECUTIVE_SEMINAR_ROOM_B\n",
      "time_duration                                   0\n",
      "Name: 3415, dtype: object, time             2019-10-24 13:03:22.136000+08:00\n",
      "thermal_cozie                                  11\n",
      "user_id                                   cresh26\n",
      "Space_id                                        0\n",
      "room                      OPEN_EXHIBITION_SPACE_2\n",
      "time_duration                                   0\n",
      "Name: 3417, dtype: object], [time             2019-10-25 10:58:30.112000+08:00\n",
      "thermal_cozie                                  10\n",
      "user_id                                   cresh26\n",
      "Space_id                                       20\n",
      "room                                IRC_LIBRARY_1\n",
      "time_duration                                   0\n",
      "Name: 3573, dtype: object, time             2019-10-25 11:26:57.154000+08:00\n",
      "thermal_cozie                                  10\n",
      "user_id                                   cresh26\n",
      "Space_id                                      NaN\n",
      "room                                          NaN\n",
      "time_duration                                   0\n",
      "Name: 3580, dtype: object]]\n"
     ]
    }
   ],
   "source": [
    "# Split the cluster up according to their timing\n",
    "for i in range(len(all_clusters)):\n",
    "    if (len(all_clusters[i]) > 1):\n",
    "        # If have more than 1 datapoint\n",
    "        tempList = all_clusters[i] # Store into tempList for splitting\n",
    "        tempList2 = [] # Store all relevant datapoints in a cluster together before pushing into flitered_cluster\n",
    "        nextDataPoint = []\n",
    "         # Check if current datapoint is part of the cluster and room is not null\n",
    "        for j in range(len(tempList)):\n",
    "            space = tempList[j].Space_id\n",
    "\n",
    "            if (j == 0):\n",
    "                tempList2.append(tempList[j])\n",
    "                last_time = tempList[j].time\n",
    "\n",
    "            elif (tempList[j].time < last_time + pd.Timedelta(minutes=30)):\n",
    "                tempList2.append(tempList[j])\n",
    "                last_time = tempList[j].time\n",
    "\n",
    "        filtered_cluster_before.append(tempList2)\n",
    "print(filtered_cluster_before)    "
   ]
  },
  {
   "cell_type": "markdown",
   "metadata": {},
   "source": [
    "# Keep clusters with more than a certain amount of data points and remove NaN"
   ]
  },
  {
   "cell_type": "code",
   "execution_count": 9,
   "metadata": {},
   "outputs": [
    {
     "name": "stdout",
     "output_type": "stream",
     "text": [
      "[[], [], [], [], [], [], [], [time             2019-10-18 10:24:25.940000+08:00\n",
      "thermal_cozie                                  10\n",
      "user_id                                   cresh26\n",
      "Space_id                                       20\n",
      "room                                IRC_LIBRARY_1\n",
      "time_duration                                   0\n",
      "Name: 2338, dtype: object, time             2019-10-18 10:28:46.894000+08:00\n",
      "thermal_cozie                                  10\n",
      "user_id                                   cresh26\n",
      "Space_id                                       20\n",
      "room                                IRC_LIBRARY_1\n",
      "time_duration                                   0\n",
      "Name: 2340, dtype: object, time             2019-10-18 10:43:42.361000+08:00\n",
      "thermal_cozie                                  10\n",
      "user_id                                   cresh26\n",
      "Space_id                                       20\n",
      "room                                IRC_LIBRARY_1\n",
      "time_duration                                   0\n",
      "Name: 2343, dtype: object, time             2019-10-18 11:03:09.400000+08:00\n",
      "thermal_cozie                                  10\n",
      "user_id                                   cresh26\n",
      "Space_id                                       20\n",
      "room                                IRC_LIBRARY_1\n",
      "time_duration                                   0\n",
      "Name: 2350, dtype: object, time             2019-10-18 11:16:15.020000+08:00\n",
      "thermal_cozie                                  10\n",
      "user_id                                   cresh26\n",
      "Space_id                                       20\n",
      "room                                IRC_LIBRARY_1\n",
      "time_duration                                   0\n",
      "Name: 2355, dtype: object, time             2019-10-18 11:41:49.161000+08:00\n",
      "thermal_cozie                                  10\n",
      "user_id                                   cresh26\n",
      "Space_id                                       20\n",
      "room                                IRC_LIBRARY_1\n",
      "time_duration                                   0\n",
      "Name: 2359, dtype: object, time             2019-10-18 12:09:13.540000+08:00\n",
      "thermal_cozie                                  10\n",
      "user_id                                   cresh26\n",
      "Space_id                                       -1\n",
      "room                             OUTSIDE_RESTROOM\n",
      "time_duration                                   0\n",
      "Name: 2362, dtype: object, time             2019-10-18 12:16:22.932000+08:00\n",
      "thermal_cozie                                  10\n",
      "user_id                                   cresh26\n",
      "Space_id                                        0\n",
      "room                                         CAFE\n",
      "time_duration                                   0\n",
      "Name: 2366, dtype: object, time             2019-10-18 12:37:40.752000+08:00\n",
      "thermal_cozie                                  10\n",
      "user_id                                   cresh26\n",
      "Space_id                                        0\n",
      "room                      OPEN_EXHIBITION_SPACE_2\n",
      "time_duration                                   0\n",
      "Name: 2371, dtype: object, time             2019-10-18 12:51:33.980000+08:00\n",
      "thermal_cozie                                  10\n",
      "user_id                                   cresh26\n",
      "Space_id                                        0\n",
      "room                      OPEN_EXHIBITION_SPACE_2\n",
      "time_duration                                   0\n",
      "Name: 2375, dtype: object, time             2019-10-18 13:04:03.917000+08:00\n",
      "thermal_cozie                                  10\n",
      "user_id                                   cresh26\n",
      "Space_id                                       -1\n",
      "room                                          NaN\n",
      "time_duration                                   0\n",
      "Name: 2380, dtype: object], [], [], [], [], [time             2019-10-21 12:27:27.267000+08:00\n",
      "thermal_cozie                                 NaN\n",
      "user_id                                   cresh26\n",
      "Space_id                                       20\n",
      "room                                IRC_LIBRARY_1\n",
      "time_duration                                   0\n",
      "Name: 2597, dtype: object, time             2019-10-21 12:42:03.160000+08:00\n",
      "thermal_cozie                                  10\n",
      "user_id                                   cresh26\n",
      "Space_id                                       -1\n",
      "room                                          NaN\n",
      "time_duration                                   0\n",
      "Name: 2601, dtype: object, time             2019-10-21 12:44:26.841000+08:00\n",
      "thermal_cozie                                  10\n",
      "user_id                                   cresh26\n",
      "Space_id                                       42\n",
      "room                     EXECUTIVE_SEMINAR_ROOM_A\n",
      "time_duration                                   0\n",
      "Name: 2603, dtype: object, time             2019-10-21 13:07:15.226000+08:00\n",
      "thermal_cozie                                  10\n",
      "user_id                                   cresh26\n",
      "Space_id                                       42\n",
      "room                     EXECUTIVE_SEMINAR_ROOM_A\n",
      "time_duration                                   0\n",
      "Name: 2615, dtype: object, time             2019-10-21 13:19:43.788000+08:00\n",
      "thermal_cozie                                   9\n",
      "user_id                                   cresh26\n",
      "Space_id                                       42\n",
      "room                     EXECUTIVE_SEMINAR_ROOM_A\n",
      "time_duration                                   0\n",
      "Name: 2625, dtype: object, time             2019-10-21 13:21:28.456000+08:00\n",
      "thermal_cozie                                   9\n",
      "user_id                                   cresh26\n",
      "Space_id                                       42\n",
      "room                     EXECUTIVE_SEMINAR_ROOM_A\n",
      "time_duration                                   0\n",
      "Name: 2626, dtype: object, time             2019-10-21 13:34:42.301000+08:00\n",
      "thermal_cozie                                  10\n",
      "user_id                                   cresh26\n",
      "Space_id                                       42\n",
      "room                     EXECUTIVE_SEMINAR_ROOM_A\n",
      "time_duration                                   0\n",
      "Name: 2636, dtype: object, time             2019-10-21 13:36:58.704000+08:00\n",
      "thermal_cozie                                  10\n",
      "user_id                                   cresh26\n",
      "Space_id                                        0\n",
      "room                      OPEN_EXHIBITION_SPACE_2\n",
      "time_duration                                   0\n",
      "Name: 2637, dtype: object], [], [], [], [], [], [], [time             2019-10-23 11:54:38.750000+08:00\n",
      "thermal_cozie                                 NaN\n",
      "user_id                                   cresh26\n",
      "Space_id                                        0\n",
      "room                      OPEN_EXHIBITION_SPACE_2\n",
      "time_duration                                   0\n",
      "Name: 3096, dtype: object, time             2019-10-23 11:58:32.928000+08:00\n",
      "thermal_cozie                                  10\n",
      "user_id                                   cresh26\n",
      "Space_id                                       -1\n",
      "room                                          NaN\n",
      "time_duration                                   0\n",
      "Name: 3097, dtype: object, time             2019-10-23 12:04:23.941000+08:00\n",
      "thermal_cozie                                  10\n",
      "user_id                                   cresh26\n",
      "Space_id                                       42\n",
      "room                     EXECUTIVE_SEMINAR_ROOM_A\n",
      "time_duration                                   0\n",
      "Name: 3102, dtype: object, time             2019-10-23 12:20:53.141000+08:00\n",
      "thermal_cozie                                  10\n",
      "user_id                                   cresh26\n",
      "Space_id                                       42\n",
      "room                     EXECUTIVE_SEMINAR_ROOM_A\n",
      "time_duration                                   0\n",
      "Name: 3108, dtype: object, time             2019-10-23 12:21:06.556000+08:00\n",
      "thermal_cozie                                  10\n",
      "user_id                                   cresh26\n",
      "Space_id                                       42\n",
      "room                     EXECUTIVE_SEMINAR_ROOM_A\n",
      "time_duration                                   0\n",
      "Name: 3109, dtype: object, time             2019-10-23 12:38:29.782000+08:00\n",
      "thermal_cozie                                  10\n",
      "user_id                                   cresh26\n",
      "Space_id                                       42\n",
      "room                     EXECUTIVE_SEMINAR_ROOM_A\n",
      "time_duration                                   0\n",
      "Name: 3113, dtype: object, time             2019-10-23 13:01:11.388000+08:00\n",
      "thermal_cozie                                  10\n",
      "user_id                                   cresh26\n",
      "Space_id                                       42\n",
      "room                     EXECUTIVE_SEMINAR_ROOM_A\n",
      "time_duration                                   0\n",
      "Name: 3120, dtype: object, time             2019-10-23 13:21:20.099000+08:00\n",
      "thermal_cozie                                  10\n",
      "user_id                                   cresh26\n",
      "Space_id                                       42\n",
      "room                     EXECUTIVE_SEMINAR_ROOM_A\n",
      "time_duration                                   0\n",
      "Name: 3133, dtype: object, time             2019-10-23 13:30:37.405000+08:00\n",
      "thermal_cozie                                  10\n",
      "user_id                                   cresh26\n",
      "Space_id                                       -1\n",
      "room                             OUTSIDE_RESTROOM\n",
      "time_duration                                   0\n",
      "Name: 3137, dtype: object, time             2019-10-23 13:50:09.806000+08:00\n",
      "thermal_cozie                                  10\n",
      "user_id                                   cresh26\n",
      "Space_id                                       42\n",
      "room                     EXECUTIVE_SEMINAR_ROOM_A\n",
      "time_duration                                   0\n",
      "Name: 3142, dtype: object, time             2019-10-23 13:53:26.136000+08:00\n",
      "thermal_cozie                                   9\n",
      "user_id                                   cresh26\n",
      "Space_id                                       -1\n",
      "room                             OUTSIDE_RESTROOM\n",
      "time_duration                                   0\n",
      "Name: 3145, dtype: object], [time             2019-10-23 15:57:57.148000+08:00\n",
      "thermal_cozie                                  10\n",
      "user_id                                   cresh26\n",
      "Space_id                                        0\n",
      "room                      OPEN_EXHIBITION_SPACE_2\n",
      "time_duration                                   0\n",
      "Name: 3192, dtype: object, time             2019-10-23 16:00:58.408000+08:00\n",
      "thermal_cozie                                  10\n",
      "user_id                                   cresh26\n",
      "Space_id                                       20\n",
      "room                                IRC_LIBRARY_1\n",
      "time_duration                                   0\n",
      "Name: 3194, dtype: object, time             2019-10-23 16:07:34.268000+08:00\n",
      "thermal_cozie                                  10\n",
      "user_id                                   cresh26\n",
      "Space_id                                       36\n",
      "room                                          NaN\n",
      "time_duration                                   0\n",
      "Name: 3197, dtype: object], [time             2019-10-24 09:47:42.668000+08:00\n",
      "thermal_cozie                                 NaN\n",
      "user_id                                   cresh26\n",
      "Space_id                                       20\n",
      "room                                IRC_LIBRARY_1\n",
      "time_duration                                   0\n",
      "Name: 3350, dtype: object, time             2019-10-24 09:49:08.712000+08:00\n",
      "thermal_cozie                                  10\n",
      "user_id                                   cresh26\n",
      "Space_id                                       20\n",
      "room                                IRC_LIBRARY_1\n",
      "time_duration                                   0\n",
      "Name: 3351, dtype: object], [time             2019-10-24 12:03:51.675000+08:00\n",
      "thermal_cozie                                  11\n",
      "user_id                                   cresh26\n",
      "Space_id                                       43\n",
      "room                     EXECUTIVE_SEMINAR_ROOM_B\n",
      "time_duration                                   0\n",
      "Name: 3386, dtype: object], [time             2019-10-25 10:58:30.112000+08:00\n",
      "thermal_cozie                                  10\n",
      "user_id                                   cresh26\n",
      "Space_id                                       20\n",
      "room                                IRC_LIBRARY_1\n",
      "time_duration                                   0\n",
      "Name: 3573, dtype: object]]\n"
     ]
    }
   ],
   "source": [
    "# Split the cluster up according to their timing\n",
    "for i in range(len(all_clusters)):\n",
    "    if (len(all_clusters[i]) > 1):\n",
    "        # If have more than 1 datapoint\n",
    "        tempList = all_clusters[i] # Store into tempList for splitting\n",
    "        tempList2 = [] # Store all relevant datapoints in a cluster together before pushing into flitered_cluster\n",
    "        nextDataPoint = []\n",
    "         # Check if current datapoint is part of the cluster and room is not null\n",
    "        for j in range(len(tempList)):\n",
    "            space = tempList[j].Space_id\n",
    "            \n",
    "            if(isNaN(space) == False):    \n",
    "                if (j == 0):\n",
    "                    tempList2.append(tempList[j])\n",
    "                    last_time = tempList[j].time\n",
    "\n",
    "                elif (tempList[j].time < last_time + pd.Timedelta(minutes=30)):\n",
    "                    tempList2.append(tempList[j])\n",
    "                    last_time = tempList[j].time\n",
    "\n",
    "        filtered_cluster_after.append(tempList2)\n",
    "print(filtered_cluster_after)   "
   ]
  },
  {
   "cell_type": "markdown",
   "metadata": {},
   "source": [
    "# Show how many datapoints are in each cluster prior to removing"
   ]
  },
  {
   "cell_type": "code",
   "execution_count": 10,
   "metadata": {},
   "outputs": [
    {
     "name": "stdout",
     "output_type": "stream",
     "text": [
      "0:2 \n",
      "1:5 \n",
      "2:2 \n",
      "3:2 \n",
      "4:4 \n",
      "5:3 \n",
      "6:3 \n",
      "7:12 \n",
      "8:2 \n",
      "9:7 \n",
      "10:2 \n",
      "11:2 \n",
      "12:9 \n",
      "13:7 \n",
      "14:2 \n",
      "15:2 \n",
      "16:2 \n",
      "17:2 \n",
      "18:3 \n",
      "19:11 \n",
      "20:3 \n",
      "21:2 \n",
      "22:7 \n",
      "23:2 \n"
     ]
    }
   ],
   "source": [
    "for i in range(len(filtered_cluster_before)):\n",
    "    print(\"{0}:{1} \".format(i,(len(filtered_cluster_before[i]))))"
   ]
  },
  {
   "cell_type": "markdown",
   "metadata": {},
   "source": [
    "# Add in values to the duration difference column"
   ]
  },
  {
   "cell_type": "code",
   "execution_count": 11,
   "metadata": {},
   "outputs": [],
   "source": [
    "for i in range(len(filtered_cluster_before)):\n",
    "    # First variable have no time difference, thus 0.0s\n",
    "    timeDifferenceList = [0.0]\n",
    "    for j in range(len(filtered_cluster_before[i])):\n",
    "        if (j == 0):\n",
    "            last_time = filtered_cluster_before[i][j].time\n",
    "        else:\n",
    "            timeDiff = filtered_cluster_before[i][j].time - last_time\n",
    "            filtered_cluster_before[i][j].time_duration = (timeDiff.total_seconds()/60)\n",
    "            # Set the last time as the current one\n",
    "            last_time = filtered_cluster_before[i][j].time\n",
    "            \n",
    "for i in range(len(filtered_cluster_after)):\n",
    "    # First variable have no time difference, thus 0.0s\n",
    "    timeDifferenceList = [0.0]\n",
    "    for j in range(len(filtered_cluster_after[i])):\n",
    "        if (j == 0):\n",
    "            last_time = filtered_cluster_after[i][j].time\n",
    "        else:\n",
    "            timeDiff = filtered_cluster_after[i][j].time - last_time\n",
    "            filtered_cluster_after[i][j].time_duration = (timeDiff.total_seconds()/60)\n",
    "            # Set the last time as the current one\n",
    "            last_time = filtered_cluster_after[i][j].time"
   ]
  },
  {
   "cell_type": "markdown",
   "metadata": {},
   "source": [
    "# Plot all graph before removal of NaN"
   ]
  },
  {
   "cell_type": "code",
   "execution_count": 12,
   "metadata": {},
   "outputs": [
    {
     "data": {
      "image/png": "[encoded data removed]",
      "text/plain": [
       "<Figure size 432x288 with 1 Axes>"
      ]
     },
     "metadata": {
      "needs_background": "light"
     },
     "output_type": "display_data"
    }
   ],
   "source": [
    "# Plot all clusters into ONE graph\n",
    "thermal = []\n",
    "duration = []\n",
    "base = 0.0\n",
    "\n",
    "for i in range(len(filtered_cluster_before)):\n",
    "    for j in range(len(filtered_cluster_before[i])):\n",
    "        base += filtered_cluster_before[i][j].time_duration\n",
    "        thermal.append(filtered_cluster_before[i][j].thermal_cozie)\n",
    "        duration.append(base)\n",
    "        \n",
    "    plt.plot(duration,thermal)\n",
    "    plt.xlabel(\"Duration\")\n",
    "    plt.ylabel(\"Thermal Cozie\")\n",
    "    plt.ylim(9,11)\n",
    "    \n",
    "    # Re-init to remove previous cluster data\n",
    "    base = 0.0\n",
    "    thermal = []\n",
    "    duration = []"
   ]
  },
  {
   "cell_type": "markdown",
   "metadata": {},
   "source": [
    "# Plot all graph seperately before removal of NaN"
   ]
  },
  {
   "cell_type": "code",
   "execution_count": 13,
   "metadata": {},
   "outputs": [
    {
     "name": "stderr",
     "output_type": "stream",
     "text": [
      "D:\\Anaconda3\\lib\\site-packages\\ipykernel_launcher.py:12: RuntimeWarning: More than 20 figures have been opened. Figures created through the pyplot interface (`matplotlib.pyplot.figure`) are retained until explicitly closed and may consume too much memory. (To control this warning, see the rcParam `figure.max_open_warning`).\n",
      "  if sys.path[0] == '':\n"
     ]
    },
    {
     "data": {
      "image/png": "[encoded data removed]",
      "text/plain": [
       "<Figure size 432x288 with 1 Axes>"
      ]
     },
     "metadata": {
      "needs_background": "light"
     },
     "output_type": "display_data"
    },
    {
     "data": {
      "image/png": "[encoded data removed]",
      "text/plain": [
       "<Figure size 432x288 with 1 Axes>"
      ]
     },
     "metadata": {
      "needs_background": "light"
     },
     "output_type": "display_data"
    },
    {
     "data": {
      "image/png": "[encoded data removed]",
      "text/plain": [
       "<Figure size 432x288 with 1 Axes>"
      ]
     },
     "metadata": {
      "needs_background": "light"
     },
     "output_type": "display_data"
    },
    {
     "data": {
      "image/png": "[encoded data removed]",
      "text/plain": [
       "<Figure size 432x288 with 1 Axes>"
      ]
     },
     "metadata": {
      "needs_background": "light"
     },
     "output_type": "display_data"
    },
    {
     "data": {
      "image/png": "[encoded data removed]",
      "text/plain": [
       "<Figure size 432x288 with 1 Axes>"
      ]
     },
     "metadata": {
      "needs_background": "light"
     },
     "output_type": "display_data"
    },
    {
     "data": {
      "image/png": "[encoded data removed]",
      "text/plain": [
       "<Figure size 432x288 with 1 Axes>"
      ]
     },
     "metadata": {
      "needs_background": "light"
     },
     "output_type": "display_data"
    },
    {
     "data": {
      "image/png": "[encoded data removed]",
      "text/plain": [
       "<Figure size 432x288 with 1 Axes>"
      ]
     },
     "metadata": {
      "needs_background": "light"
     },
     "output_type": "display_data"
    },
    {
     "data": {
      "image/png": "[encoded data removed]",
      "text/plain": [
       "<Figure size 432x288 with 1 Axes>"
      ]
     },
     "metadata": {
      "needs_background": "light"
     },
     "output_type": "display_data"
    },
    {
     "data": {
      "image/png": "[encoded data removed]",
      "text/plain": [
       "<Figure size 432x288 with 1 Axes>"
      ]
     },
     "metadata": {
      "needs_background": "light"
     },
     "output_type": "display_data"
    },
    {
     "data": {
      "image/png": "[encoded data removed]",
      "text/plain": [
       "<Figure size 432x288 with 1 Axes>"
      ]
     },
     "metadata": {
      "needs_background": "light"
     },
     "output_type": "display_data"
    },
    {
     "data": {
      "image/png": "[encoded data removed]",
      "text/plain": [
       "<Figure size 432x288 with 1 Axes>"
      ]
     },
     "metadata": {
      "needs_background": "light"
     },
     "output_type": "display_data"
    },
    {
     "data": {
      "image/png": "[encoded data removed]",
      "text/plain": [
       "<Figure size 432x288 with 1 Axes>"
      ]
     },
     "metadata": {
      "needs_background": "light"
     },
     "output_type": "display_data"
    },
    {
     "data": {
      "image/png": "[encoded data removed]",
      "text/plain": [
       "<Figure size 432x288 with 1 Axes>"
      ]
     },
     "metadata": {
      "needs_background": "light"
     },
     "output_type": "display_data"
    },
    {
     "data": {
      "image/png": "[encoded data removed]",
      "text/plain": [
       "<Figure size 432x288 with 1 Axes>"
      ]
     },
     "metadata": {
      "needs_background": "light"
     },
     "output_type": "display_data"
    },
    {
     "data": {
      "image/png": "[encoded data removed]",
      "text/plain": [
       "<Figure size 432x288 with 1 Axes>"
      ]
     },
     "metadata": {
      "needs_background": "light"
     },
     "output_type": "display_data"
    },
    {
     "data": {
      "image/png": "[encoded data removed]",
      "text/plain": [
       "<Figure size 432x288 with 1 Axes>"
      ]
     },
     "metadata": {
      "needs_background": "light"
     },
     "output_type": "display_data"
    },
    {
     "data": {
      "image/png": "[encoded data removed]",
      "text/plain": [
       "<Figure size 432x288 with 1 Axes>"
      ]
     },
     "metadata": {
      "needs_background": "light"
     },
     "output_type": "display_data"
    },
    {
     "data": {
      "image/png": "[encoded data removed]",
      "text/plain": [
       "<Figure size 432x288 with 1 Axes>"
      ]
     },
     "metadata": {
      "needs_background": "light"
     },
     "output_type": "display_data"
    },
    {
     "data": {
      "image/png": "[encoded data removed]",
      "text/plain": [
       "<Figure size 432x288 with 1 Axes>"
      ]
     },
     "metadata": {
      "needs_background": "light"
     },
     "output_type": "display_data"
    },
    {
     "data": {
      "image/png": "[encoded data removed]",
      "text/plain": [
       "<Figure size 432x288 with 1 Axes>"
      ]
     },
     "metadata": {
      "needs_background": "light"
     },
     "output_type": "display_data"
    },
    {
     "data": {
      "image/png": "[encoded data removed]",
      "text/plain": [
       "<Figure size 432x288 with 1 Axes>"
      ]
     },
     "metadata": {
      "needs_background": "light"
     },
     "output_type": "display_data"
    },
    {
     "data": {
      "image/png": "[encoded data removed]",
      "text/plain": [
       "<Figure size 432x288 with 1 Axes>"
      ]
     },
     "metadata": {
      "needs_background": "light"
     },
     "output_type": "display_data"
    },
    {
     "data": {
      "image/png": "[encoded data removed]",
      "text/plain": [
       "<Figure size 432x288 with 1 Axes>"
      ]
     },
     "metadata": {
      "needs_background": "light"
     },
     "output_type": "display_data"
    },
    {
     "data": {
      "image/png": "[encoded data removed]",
      "text/plain": [
       "<Figure size 432x288 with 1 Axes>"
      ]
     },
     "metadata": {
      "needs_background": "light"
     },
     "output_type": "display_data"
    }
   ],
   "source": [
    "# Plot all clusters into ONE graph\n",
    "thermal = []\n",
    "duration = []\n",
    "base = 0.0\n",
    "\n",
    "for i in range(len(filtered_cluster_before)):\n",
    "    for j in range(len(filtered_cluster_before[i])):\n",
    "        base += filtered_cluster_before[i][j].time_duration\n",
    "        thermal.append(filtered_cluster_before[i][j].thermal_cozie)\n",
    "        duration.append(base)\n",
    "    \n",
    "    plt.figure()\n",
    "    plt.scatter(duration,thermal)\n",
    "    plt.plot(duration,thermal)\n",
    "    plt.xlabel(\"Duration\")\n",
    "    plt.ylabel(\"Thermal Cozie\")\n",
    "    plt.yticks(thermal_cozie_ticks)\n",
    "    \n",
    "    # Re-init to remove previous cluster data\n",
    "    base = 0.0\n",
    "    thermal = []\n",
    "    duration = []"
   ]
  },
  {
   "cell_type": "markdown",
   "metadata": {},
   "source": [
    "# Remove list with zero elements inside filtered_cluster_after"
   ]
  },
  {
   "cell_type": "code",
   "execution_count": 14,
   "metadata": {},
   "outputs": [
    {
     "name": "stdout",
     "output_type": "stream",
     "text": [
      "[[time             2019-10-18 10:24:25.940000+08:00\n",
      "thermal_cozie                                  10\n",
      "user_id                                   cresh26\n",
      "Space_id                                       20\n",
      "room                                IRC_LIBRARY_1\n",
      "time_duration                                   0\n",
      "Name: 2338, dtype: object, time             2019-10-18 10:28:46.894000+08:00\n",
      "thermal_cozie                                  10\n",
      "user_id                                   cresh26\n",
      "Space_id                                       20\n",
      "room                                IRC_LIBRARY_1\n",
      "time_duration                             4.34923\n",
      "Name: 2340, dtype: object, time             2019-10-18 10:43:42.361000+08:00\n",
      "thermal_cozie                                  10\n",
      "user_id                                   cresh26\n",
      "Space_id                                       20\n",
      "room                                IRC_LIBRARY_1\n",
      "time_duration                             14.9245\n",
      "Name: 2343, dtype: object, time             2019-10-18 11:03:09.400000+08:00\n",
      "thermal_cozie                                  10\n",
      "user_id                                   cresh26\n",
      "Space_id                                       20\n",
      "room                                IRC_LIBRARY_1\n",
      "time_duration                             19.4506\n",
      "Name: 2350, dtype: object, time             2019-10-18 11:16:15.020000+08:00\n",
      "thermal_cozie                                  10\n",
      "user_id                                   cresh26\n",
      "Space_id                                       20\n",
      "room                                IRC_LIBRARY_1\n",
      "time_duration                             13.0937\n",
      "Name: 2355, dtype: object, time             2019-10-18 11:41:49.161000+08:00\n",
      "thermal_cozie                                  10\n",
      "user_id                                   cresh26\n",
      "Space_id                                       20\n",
      "room                                IRC_LIBRARY_1\n",
      "time_duration                              25.569\n",
      "Name: 2359, dtype: object, time             2019-10-18 12:09:13.540000+08:00\n",
      "thermal_cozie                                  10\n",
      "user_id                                   cresh26\n",
      "Space_id                                       -1\n",
      "room                             OUTSIDE_RESTROOM\n",
      "time_duration                             27.4063\n",
      "Name: 2362, dtype: object, time             2019-10-18 12:16:22.932000+08:00\n",
      "thermal_cozie                                  10\n",
      "user_id                                   cresh26\n",
      "Space_id                                        0\n",
      "room                                         CAFE\n",
      "time_duration                             7.15653\n",
      "Name: 2366, dtype: object, time             2019-10-18 12:37:40.752000+08:00\n",
      "thermal_cozie                                  10\n",
      "user_id                                   cresh26\n",
      "Space_id                                        0\n",
      "room                      OPEN_EXHIBITION_SPACE_2\n",
      "time_duration                              21.297\n",
      "Name: 2371, dtype: object, time             2019-10-18 12:51:33.980000+08:00\n",
      "thermal_cozie                                  10\n",
      "user_id                                   cresh26\n",
      "Space_id                                        0\n",
      "room                      OPEN_EXHIBITION_SPACE_2\n",
      "time_duration                             13.8871\n",
      "Name: 2375, dtype: object, time             2019-10-18 13:04:03.917000+08:00\n",
      "thermal_cozie                                  10\n",
      "user_id                                   cresh26\n",
      "Space_id                                       -1\n",
      "room                                          NaN\n",
      "time_duration                              12.499\n",
      "Name: 2380, dtype: object], [time             2019-10-21 12:27:27.267000+08:00\n",
      "thermal_cozie                                 NaN\n",
      "user_id                                   cresh26\n",
      "Space_id                                       20\n",
      "room                                IRC_LIBRARY_1\n",
      "time_duration                                   0\n",
      "Name: 2597, dtype: object, time             2019-10-21 12:42:03.160000+08:00\n",
      "thermal_cozie                                  10\n",
      "user_id                                   cresh26\n",
      "Space_id                                       -1\n",
      "room                                          NaN\n",
      "time_duration                             14.5982\n",
      "Name: 2601, dtype: object, time             2019-10-21 12:44:26.841000+08:00\n",
      "thermal_cozie                                  10\n",
      "user_id                                   cresh26\n",
      "Space_id                                       42\n",
      "room                     EXECUTIVE_SEMINAR_ROOM_A\n",
      "time_duration                             2.39468\n",
      "Name: 2603, dtype: object, time             2019-10-21 13:07:15.226000+08:00\n",
      "thermal_cozie                                  10\n",
      "user_id                                   cresh26\n",
      "Space_id                                       42\n",
      "room                     EXECUTIVE_SEMINAR_ROOM_A\n",
      "time_duration                             22.8064\n",
      "Name: 2615, dtype: object, time             2019-10-21 13:19:43.788000+08:00\n",
      "thermal_cozie                                   9\n",
      "user_id                                   cresh26\n",
      "Space_id                                       42\n",
      "room                     EXECUTIVE_SEMINAR_ROOM_A\n",
      "time_duration                              12.476\n",
      "Name: 2625, dtype: object, time             2019-10-21 13:21:28.456000+08:00\n",
      "thermal_cozie                                   9\n",
      "user_id                                   cresh26\n",
      "Space_id                                       42\n",
      "room                     EXECUTIVE_SEMINAR_ROOM_A\n",
      "time_duration                             1.74447\n",
      "Name: 2626, dtype: object, time             2019-10-21 13:34:42.301000+08:00\n",
      "thermal_cozie                                  10\n",
      "user_id                                   cresh26\n",
      "Space_id                                       42\n",
      "room                     EXECUTIVE_SEMINAR_ROOM_A\n",
      "time_duration                             13.2308\n",
      "Name: 2636, dtype: object, time             2019-10-21 13:36:58.704000+08:00\n",
      "thermal_cozie                                  10\n",
      "user_id                                   cresh26\n",
      "Space_id                                        0\n",
      "room                      OPEN_EXHIBITION_SPACE_2\n",
      "time_duration                             2.27338\n",
      "Name: 2637, dtype: object], [time             2019-10-23 11:54:38.750000+08:00\n",
      "thermal_cozie                                 NaN\n",
      "user_id                                   cresh26\n",
      "Space_id                                        0\n",
      "room                      OPEN_EXHIBITION_SPACE_2\n",
      "time_duration                                   0\n",
      "Name: 3096, dtype: object, time             2019-10-23 11:58:32.928000+08:00\n",
      "thermal_cozie                                  10\n",
      "user_id                                   cresh26\n",
      "Space_id                                       -1\n",
      "room                                          NaN\n",
      "time_duration                             3.90297\n",
      "Name: 3097, dtype: object, time             2019-10-23 12:04:23.941000+08:00\n",
      "thermal_cozie                                  10\n",
      "user_id                                   cresh26\n",
      "Space_id                                       42\n",
      "room                     EXECUTIVE_SEMINAR_ROOM_A\n",
      "time_duration                             5.85022\n",
      "Name: 3102, dtype: object, time             2019-10-23 12:20:53.141000+08:00\n",
      "thermal_cozie                                  10\n",
      "user_id                                   cresh26\n",
      "Space_id                                       42\n",
      "room                     EXECUTIVE_SEMINAR_ROOM_A\n",
      "time_duration                             16.4867\n",
      "Name: 3108, dtype: object, time             2019-10-23 12:21:06.556000+08:00\n",
      "thermal_cozie                                  10\n",
      "user_id                                   cresh26\n",
      "Space_id                                       42\n",
      "room                     EXECUTIVE_SEMINAR_ROOM_A\n",
      "time_duration                            0.223583\n",
      "Name: 3109, dtype: object, time             2019-10-23 12:38:29.782000+08:00\n",
      "thermal_cozie                                  10\n",
      "user_id                                   cresh26\n",
      "Space_id                                       42\n",
      "room                     EXECUTIVE_SEMINAR_ROOM_A\n",
      "time_duration                             17.3871\n",
      "Name: 3113, dtype: object, time             2019-10-23 13:01:11.388000+08:00\n",
      "thermal_cozie                                  10\n",
      "user_id                                   cresh26\n",
      "Space_id                                       42\n",
      "room                     EXECUTIVE_SEMINAR_ROOM_A\n",
      "time_duration                             22.6934\n",
      "Name: 3120, dtype: object, time             2019-10-23 13:21:20.099000+08:00\n",
      "thermal_cozie                                  10\n",
      "user_id                                   cresh26\n",
      "Space_id                                       42\n",
      "room                     EXECUTIVE_SEMINAR_ROOM_A\n",
      "time_duration                             20.1452\n",
      "Name: 3133, dtype: object, time             2019-10-23 13:30:37.405000+08:00\n",
      "thermal_cozie                                  10\n",
      "user_id                                   cresh26\n",
      "Space_id                                       -1\n",
      "room                             OUTSIDE_RESTROOM\n",
      "time_duration                             9.28843\n",
      "Name: 3137, dtype: object, time             2019-10-23 13:50:09.806000+08:00\n",
      "thermal_cozie                                  10\n",
      "user_id                                   cresh26\n",
      "Space_id                                       42\n",
      "room                     EXECUTIVE_SEMINAR_ROOM_A\n",
      "time_duration                               19.54\n",
      "Name: 3142, dtype: object, time             2019-10-23 13:53:26.136000+08:00\n",
      "thermal_cozie                                   9\n",
      "user_id                                   cresh26\n",
      "Space_id                                       -1\n",
      "room                             OUTSIDE_RESTROOM\n",
      "time_duration                             3.27217\n",
      "Name: 3145, dtype: object], [time             2019-10-23 15:57:57.148000+08:00\n",
      "thermal_cozie                                  10\n",
      "user_id                                   cresh26\n",
      "Space_id                                        0\n",
      "room                      OPEN_EXHIBITION_SPACE_2\n",
      "time_duration                                   0\n",
      "Name: 3192, dtype: object, time             2019-10-23 16:00:58.408000+08:00\n",
      "thermal_cozie                                  10\n",
      "user_id                                   cresh26\n",
      "Space_id                                       20\n",
      "room                                IRC_LIBRARY_1\n",
      "time_duration                               3.021\n",
      "Name: 3194, dtype: object, time             2019-10-23 16:07:34.268000+08:00\n",
      "thermal_cozie                                  10\n",
      "user_id                                   cresh26\n",
      "Space_id                                       36\n",
      "room                                          NaN\n",
      "time_duration                             6.59767\n",
      "Name: 3197, dtype: object], [time             2019-10-24 09:47:42.668000+08:00\n",
      "thermal_cozie                                 NaN\n",
      "user_id                                   cresh26\n",
      "Space_id                                       20\n",
      "room                                IRC_LIBRARY_1\n",
      "time_duration                                   0\n",
      "Name: 3350, dtype: object, time             2019-10-24 09:49:08.712000+08:00\n",
      "thermal_cozie                                  10\n",
      "user_id                                   cresh26\n",
      "Space_id                                       20\n",
      "room                                IRC_LIBRARY_1\n",
      "time_duration                             1.43407\n",
      "Name: 3351, dtype: object]]\n"
     ]
    }
   ],
   "source": [
    "tempList3 = []\n",
    "for i in range(len(filtered_cluster_after)):\n",
    "    if (len(filtered_cluster_after[i]) > 1):\n",
    "        tempList3.append(filtered_cluster_after[i])\n",
    "\n",
    "filtered_cluster_after = tempList3\n",
    "print(filtered_cluster_after)"
   ]
  },
  {
   "cell_type": "markdown",
   "metadata": {},
   "source": [
    "# Show how many datapoint are in each cluster after filtering NaN and zero element"
   ]
  },
  {
   "cell_type": "code",
   "execution_count": 15,
   "metadata": {},
   "outputs": [
    {
     "name": "stdout",
     "output_type": "stream",
     "text": [
      "0:11 \n",
      "1:8 \n",
      "2:11 \n",
      "3:3 \n",
      "4:2 \n"
     ]
    }
   ],
   "source": [
    "for i in range(len(filtered_cluster_after)):\n",
    "    print(\"{0}:{1} \".format(i,(len(filtered_cluster_after[i]))))"
   ]
  },
  {
   "cell_type": "markdown",
   "metadata": {},
   "source": [
    "# Plot all cluster into one graph"
   ]
  },
  {
   "cell_type": "code",
   "execution_count": 16,
   "metadata": {},
   "outputs": [
    {
     "data": {
      "image/png": "[encoded data removed]",
      "text/plain": [
       "<Figure size 432x288 with 1 Axes>"
      ]
     },
     "metadata": {
      "needs_background": "light"
     },
     "output_type": "display_data"
    }
   ],
   "source": [
    "# Plot all clusters into ONE graph\n",
    "thermal = []\n",
    "duration = []\n",
    "base = 0.0\n",
    "\n",
    "for i in range(len(filtered_cluster_after)):\n",
    "    for j in range(len(filtered_cluster_after[i])):\n",
    "        base += filtered_cluster_after[i][j].time_duration\n",
    "        thermal.append(filtered_cluster_after[i][j].thermal_cozie)\n",
    "        duration.append(base)\n",
    "        \n",
    "    plt.plot(duration,thermal)\n",
    "    plt.xlabel(\"Duration\")\n",
    "    plt.ylabel(\"Thermal Cozie\")\n",
    "    plt.yticks(thermal_cozie_ticks)\n",
    "    \n",
    "    # Re-init to remove previous cluster data\n",
    "    base = 0.0\n",
    "    thermal = []\n",
    "    duration = []"
   ]
  },
  {
   "cell_type": "markdown",
   "metadata": {},
   "source": [
    "# Plot all cluster into separate graphs"
   ]
  },
  {
   "cell_type": "code",
   "execution_count": 17,
   "metadata": {},
   "outputs": [
    {
     "data": {
      "image/png": "[encoded data removed]",
      "text/plain": [
       "<Figure size 432x288 with 1 Axes>"
      ]
     },
     "metadata": {
      "needs_background": "light"
     },
     "output_type": "display_data"
    },
    {
     "data": {
      "image/png": "[encoded data removed]",
      "text/plain": [
       "<Figure size 432x288 with 1 Axes>"
      ]
     },
     "metadata": {
      "needs_background": "light"
     },
     "output_type": "display_data"
    },
    {
     "data": {
      "image/png": "[encoded data removed]",
      "text/plain": [
       "<Figure size 432x288 with 1 Axes>"
      ]
     },
     "metadata": {
      "needs_background": "light"
     },
     "output_type": "display_data"
    },
    {
     "data": {
      "image/png": "[encoded data removed]",
      "text/plain": [
       "<Figure size 432x288 with 1 Axes>"
      ]
     },
     "metadata": {
      "needs_background": "light"
     },
     "output_type": "display_data"
    },
    {
     "data": {
      "image/png": "[encoded data removed]",
      "text/plain": [
       "<Figure size 432x288 with 1 Axes>"
      ]
     },
     "metadata": {
      "needs_background": "light"
     },
     "output_type": "display_data"
    }
   ],
   "source": [
    "# Plot all clusters into ONE graph\n",
    "thermal = []\n",
    "duration = []\n",
    "base = 0.0\n",
    "\n",
    "for i in range(len(filtered_cluster_after)):\n",
    "    for j in range(len(filtered_cluster_after[i])):\n",
    "        base += filtered_cluster_after[i][j].time_duration\n",
    "        thermal.append(filtered_cluster_after[i][j].thermal_cozie)\n",
    "        duration.append(base)\n",
    "    \n",
    "    plt.figure()\n",
    "    plt.scatter(duration,thermal)\n",
    "    plt.plot(duration,thermal)\n",
    "    plt.xlabel(\"Duration\")\n",
    "    plt.ylabel(\"Thermal Cozie\")\n",
    "    plt.yticks(thermal_cozie_ticks)\n",
    "    \n",
    "    # Re-init to remove previous cluster data\n",
    "    base = 0.0\n",
    "    thermal = []\n",
    "    duration = []"
   ]
  },
  {
   "cell_type": "markdown",
   "metadata": {},
   "source": [
    "# Plot test with vertical dotted lines"
   ]
  },
  {
   "cell_type": "code",
   "execution_count": 18,
   "metadata": {
    "scrolled": true
   },
   "outputs": [
    {
     "data": {
      "image/png": "[encoded data removed]",
      "text/plain": [
       "<Figure size 432x288 with 1 Axes>"
      ]
     },
     "metadata": {
      "needs_background": "light"
     },
     "output_type": "display_data"
    },
    {
     "data": {
      "image/png": "[encoded data removed]",
      "text/plain": [
       "<Figure size 432x288 with 1 Axes>"
      ]
     },
     "metadata": {
      "needs_background": "light"
     },
     "output_type": "display_data"
    },
    {
     "data": {
      "image/png": "[encoded data removed]",
      "text/plain": [
       "<Figure size 432x288 with 1 Axes>"
      ]
     },
     "metadata": {
      "needs_background": "light"
     },
     "output_type": "display_data"
    },
    {
     "data": {
      "image/png": "[encoded data removed]",
      "text/plain": [
       "<Figure size 432x288 with 1 Axes>"
      ]
     },
     "metadata": {
      "needs_background": "light"
     },
     "output_type": "display_data"
    },
    {
     "data": {
      "image/png": "[encoded data removed]",
      "text/plain": [
       "<Figure size 432x288 with 1 Axes>"
      ]
     },
     "metadata": {
      "needs_background": "light"
     },
     "output_type": "display_data"
    }
   ],
   "source": [
    "# Plot all clusters into ONE graph\n",
    "thermal = []\n",
    "duration = []\n",
    "base = 0.0\n",
    "dotted_lines = []\n",
    "\n",
    "for i in range(len(filtered_cluster_after)):\n",
    "    tempList = []\n",
    "    for j in range(len(filtered_cluster_after[i])):\n",
    "        if (j > 1):\n",
    "            prev = filtered_cluster_after[i][j-1].room\n",
    "            curr = filtered_cluster_after[i][j].room\n",
    "            \n",
    "            if (prev != curr):\n",
    "                tempList.append(j)\n",
    "                \n",
    "    dotted_lines.append(tempList)\n",
    "\n",
    "#print(dotted_lines)\n",
    "    \n",
    "for i in range(len(filtered_cluster_after)):\n",
    "    lines = []\n",
    "    for j in range(len(filtered_cluster_after[i])):\n",
    "        base += filtered_cluster_after[i][j].time_duration\n",
    "        thermal.append(filtered_cluster_after[i][j].thermal_cozie)\n",
    "        duration.append(base)\n",
    "        \n",
    "    if(len(dotted_lines[i]) > 0):\n",
    "        while(len(dotted_lines[i]) > 0):\n",
    "            index = dotted_lines[i].pop()\n",
    "            xValue = duration[index]\n",
    "            plt.axvline(x = xValue, linestyle = '--', color = 'r')\n",
    "        \n",
    "        \n",
    "    plt.scatter(duration,thermal)\n",
    "    plt.plot(duration,thermal)\n",
    "    plt.xlabel(\"Duration\")\n",
    "    plt.ylabel(\"Thermal Cozie\")\n",
    "    plt.yticks(thermal_cozie_ticks)\n",
    "    plt.show()\n",
    "    \n",
    "    #print(filtered_cluster_after[0])\n",
    "    #print(duration)\n",
    "    \n",
    "    # Re-init to remove previous cluster data\n",
    "    base = 0.0\n",
    "    thermal = []\n",
    "    duration = []\n",
    "    "
   ]
  }
 ],
 "metadata": {
  "kernelspec": {
   "display_name": "Python 3",
   "language": "python",
   "name": "python3"
  },
  "language_info": {
   "codemirror_mode": {
    "name": "ipython",
    "version": 3
   },
   "file_extension": ".py",
   "mimetype": "text/x-python",
   "name": "python",
   "nbconvert_exporter": "python",
   "pygments_lexer": "ipython3",
   "version": "3.7.4"
  }
 },
 "nbformat": 4,
 "nbformat_minor": 4
}
